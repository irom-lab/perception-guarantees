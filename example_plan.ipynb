{
 "cells": [
  {
   "cell_type": "code",
   "execution_count": 1,
   "metadata": {},
   "outputs": [
    {
     "name": "stderr",
     "output_type": "stream",
     "text": [
      "/Users/emilyzhou/miniforge3/envs/irom/lib/python3.11/site-packages/tqdm/auto.py:21: TqdmWarning: IProgress not found. Please update jupyter and ipywidgets. See https://ipywidgets.readthedocs.io/en/stable/user_install.html\n",
      "  from .autonotebook import tqdm as notebook_tqdm\n",
      "2024-10-13 20:49:05,008\tINFO util.py:154 -- Missing packages: ['ipywidgets']. Run `pip install -U ipywidgets`, then restart the notebook server for rich notebook output.\n"
     ]
    }
   ],
   "source": [
    "from planning.Safe_Planner import Safe_Planner\n",
    "import numpy as np\n",
    "import pickle\n",
    "import matplotlib.pyplot as plt"
   ]
  },
  {
   "cell_type": "markdown",
   "metadata": {},
   "source": [
    "Sample states and pre-compute reachability"
   ]
  },
  {
   "cell_type": "code",
   "execution_count": 2,
   "metadata": {},
   "outputs": [
    {
     "name": "stderr",
     "output_type": "stream",
     "text": [
      "2024-10-13 20:49:07,595\tINFO worker.py:1786 -- Started a local Ray instance.\n"
     ]
    },
    {
     "name": "stdout",
     "output_type": "stream",
     "text": [
      "\u001b[36m(compute_reachable pid=71119)\u001b[0m rip 285\n",
      "\u001b[36m(compute_reachable pid=71124)\u001b[0m rip 294\u001b[32m [repeated 7x across cluster] (Ray deduplicates logs by default. Set RAY_DEDUP_LOGS=0 to disable log deduplication, or see https://docs.ray.io/en/master/ray-observability/user-guides/configure-logging.html#log-deduplication for more options.)\u001b[0m\n"
     ]
    },
    {
     "name": "stderr",
     "output_type": "stream",
     "text": [
      "(pid=71131)  0:   1%|          | 10.0/1.05k [00:28<03:16, 5.30it/s]"
     ]
    },
    {
     "name": "stdout",
     "output_type": "stream",
     "text": [
      "\u001b[36m(compute_reachable pid=71123)\u001b[0m rip 275\u001b[32m [repeated 17x across cluster]\u001b[0m\n"
     ]
    },
    {
     "name": "stderr",
     "output_type": "stream",
     "text": [
      "(pid=71131)  0:   1%|          | 10.0/1.05k [00:33<03:16, 5.30it/s]"
     ]
    },
    {
     "name": "stdout",
     "output_type": "stream",
     "text": [
      "\u001b[36m(compute_reachable pid=71125)\u001b[0m rip 304\u001b[32m [repeated 11x across cluster]\u001b[0m\n"
     ]
    },
    {
     "name": "stderr",
     "output_type": "stream",
     "text": [
      "(pid=71131)  0:   1%|          | 13.0/1.05k [00:40<1:08:29, 3.96s/it]"
     ]
    },
    {
     "name": "stdout",
     "output_type": "stream",
     "text": [
      "\u001b[36m(compute_reachable pid=71128)\u001b[0m rip 101\n"
     ]
    },
    {
     "name": "stderr",
     "output_type": "stream",
     "text": [
      "(pid=71131)  0:   1%|          | 13.0/1.05k [00:40<1:08:29, 3.96s/it]"
     ]
    },
    {
     "name": "stdout",
     "output_type": "stream",
     "text": [
      "\u001b[36m(compute_reachable pid=71120)\u001b[0m rip 134\n"
     ]
    },
    {
     "name": "stderr",
     "output_type": "stream",
     "text": [
      "(pid=71131)  0:   2%|▏         | 24.0/1.05k [01:01<25:13, 1.47s/it]  "
     ]
    },
    {
     "name": "stdout",
     "output_type": "stream",
     "text": [
      "\u001b[36m(compute_reachable pid=71129)\u001b[0m rip 225\u001b[32m [repeated 11x across cluster]\u001b[0m\n"
     ]
    },
    {
     "name": "stderr",
     "output_type": "stream",
     "text": [
      "(pid=71131)  0:   2%|▏         | 25.0/1.05k [01:18<1:17:29, 4.53s/it]"
     ]
    },
    {
     "name": "stdout",
     "output_type": "stream",
     "text": [
      "\u001b[36m(compute_reachable pid=71122)\u001b[0m rip 226\u001b[32m [repeated 12x across cluster]\u001b[0m\n"
     ]
    },
    {
     "name": "stderr",
     "output_type": "stream",
     "text": [
      "(pid=71131)  0:   3%|▎         | 36.0/1.05k [01:34<27:31, 1.63s/it]  "
     ]
    },
    {
     "name": "stdout",
     "output_type": "stream",
     "text": [
      "\u001b[36m(compute_reachable pid=71126)\u001b[0m rip 168\u001b[32m [repeated 12x across cluster]\u001b[0m\n"
     ]
    },
    {
     "name": "stderr",
     "output_type": "stream",
     "text": [
      "(pid=71131)  0:   4%|▎         | 37.0/1.05k [01:57<1:25:45, 5.07s/it]"
     ]
    },
    {
     "name": "stdout",
     "output_type": "stream",
     "text": [
      "\u001b[36m(compute_reachable pid=71122)\u001b[0m rip 287\u001b[32m [repeated 12x across cluster]\u001b[0m\n"
     ]
    },
    {
     "name": "stderr",
     "output_type": "stream",
     "text": [
      "(pid=71131)  0:   5%|▍         | 48.0/1.05k [02:02<28:26, 1.70s/it]  "
     ]
    },
    {
     "name": "stdout",
     "output_type": "stream",
     "text": [
      "\u001b[36m(compute_reachable pid=71129)\u001b[0m rip 324\u001b[32m [repeated 11x across cluster]\u001b[0m\n"
     ]
    },
    {
     "name": "stderr",
     "output_type": "stream",
     "text": [
      "(pid=71131)  0:   5%|▍         | 48.0/1.05k [02:08<28:26, 1.70s/it]"
     ]
    },
    {
     "name": "stdout",
     "output_type": "stream",
     "text": [
      "\u001b[36m(compute_reachable pid=71119)\u001b[0m rip 101\n",
      "\u001b[36m(compute_reachable pid=71121)\u001b[0m rip 106\n"
     ]
    },
    {
     "name": "stderr",
     "output_type": "stream",
     "text": [
      "(pid=71131)  0:   5%|▍         | 49.0/1.05k [02:37<1:44:20, 6.25s/it]"
     ]
    },
    {
     "name": "stdout",
     "output_type": "stream",
     "text": [
      "\u001b[36m(compute_reachable pid=71122)\u001b[0m rip 306\u001b[32m [repeated 11x across cluster]\u001b[0m\n"
     ]
    },
    {
     "name": "stderr",
     "output_type": "stream",
     "text": [
      "(pid=71131)  0:   6%|▌         | 58.0/1.05k [02:42<29:20, 1.77s/it]  "
     ]
    },
    {
     "name": "stdout",
     "output_type": "stream",
     "text": [
      "\u001b[36m(compute_reachable pid=71127)\u001b[0m rip 306\u001b[32m [repeated 10x across cluster]\u001b[0m\n"
     ]
    },
    {
     "name": "stderr",
     "output_type": "stream",
     "text": [
      "(pid=71131)  0:   6%|▌         | 61.0/1.05k [03:18<1:55:09, 6.98s/it]"
     ]
    },
    {
     "name": "stdout",
     "output_type": "stream",
     "text": [
      "\u001b[36m(compute_reachable pid=71122)\u001b[0m rip 300\u001b[32m [repeated 12x across cluster]\u001b[0m\n"
     ]
    },
    {
     "name": "stderr",
     "output_type": "stream",
     "text": [
      "(pid=71131)  0:   7%|▋         | 69.0/1.05k [03:24<34:07, 2.09s/it]  "
     ]
    },
    {
     "name": "stdout",
     "output_type": "stream",
     "text": [
      "\u001b[36m(compute_reachable pid=71119)\u001b[0m rip 324\u001b[32m [repeated 10x across cluster]\u001b[0m\n"
     ]
    },
    {
     "name": "stderr",
     "output_type": "stream",
     "text": [
      "(pid=71131)  0:   7%|▋         | 72.0/1.05k [03:56<23:35, 1.45s/it]"
     ]
    },
    {
     "name": "stdout",
     "output_type": "stream",
     "text": [
      "\u001b[36m(compute_reachable pid=71128)\u001b[0m rip 323\u001b[32m [repeated 4x across cluster]\u001b[0m\n"
     ]
    },
    {
     "name": "stderr",
     "output_type": "stream",
     "text": [
      "(pid=71131)  0:   7%|▋         | 77.0/1.05k [04:02<54:11, 3.34s/it]  "
     ]
    },
    {
     "name": "stdout",
     "output_type": "stream",
     "text": [
      "\u001b[36m(compute_reachable pid=71130)\u001b[0m rip 85\u001b[32m [repeated 16x across cluster]\u001b[0m\n"
     ]
    },
    {
     "name": "stderr",
     "output_type": "stream",
     "text": [
      "(pid=71131)  0:   8%|▊         | 83.0/1.05k [04:29<27:55, 1.73s/it]"
     ]
    },
    {
     "name": "stdout",
     "output_type": "stream",
     "text": [
      "\u001b[36m(compute_reachable pid=71121)\u001b[0m rip 323\u001b[32m [repeated 8x across cluster]\u001b[0m\n"
     ]
    },
    {
     "name": "stderr",
     "output_type": "stream",
     "text": [
      "(pid=71131)  0:   8%|▊         | 85.0/1.05k [04:38<1:29:05, 5.53s/it]"
     ]
    },
    {
     "name": "stdout",
     "output_type": "stream",
     "text": [
      "\u001b[36m(compute_reachable pid=71122)\u001b[0m rip 116\u001b[32m [repeated 12x across cluster]\u001b[0m\n"
     ]
    },
    {
     "name": "stderr",
     "output_type": "stream",
     "text": [
      "(pid=71131)  0:   9%|▉         | 95.0/1.05k [04:44<26:51, 1.69s/it]  "
     ]
    },
    {
     "name": "stdout",
     "output_type": "stream",
     "text": [
      "\u001b[36m(compute_reachable pid=71127)\u001b[0m rip 191\u001b[32m [repeated 10x across cluster]\u001b[0m\n"
     ]
    },
    {
     "name": "stderr",
     "output_type": "stream",
     "text": [
      "(pid=71131)  0:   9%|▉         | 95.0/1.05k [05:01<26:51, 1.69s/it]"
     ]
    },
    {
     "name": "stdout",
     "output_type": "stream",
     "text": [
      "\u001b[36m(compute_reachable pid=71126)\u001b[0m rip 260\u001b[32m [repeated 2x across cluster]\u001b[0m\n"
     ]
    },
    {
     "name": "stderr",
     "output_type": "stream",
     "text": [
      "(pid=71131)  0:   9%|▉         | 97.0/1.05k [05:16<1:34:11, 5.92s/it]"
     ]
    },
    {
     "name": "stdout",
     "output_type": "stream",
     "text": [
      "\u001b[36m(compute_reachable pid=71122)\u001b[0m rip 256\u001b[32m [repeated 12x across cluster]\u001b[0m\n"
     ]
    },
    {
     "name": "stderr",
     "output_type": "stream",
     "text": [
      "(pid=71131)  0:  10%|▉         | 104/1.05k [05:21<32:52, 2.08s/it]   "
     ]
    },
    {
     "name": "stdout",
     "output_type": "stream",
     "text": [
      "\u001b[36m(compute_reachable pid=71126)\u001b[0m rip 318\u001b[32m [repeated 9x across cluster]\u001b[0m\n"
     ]
    },
    {
     "name": "stderr",
     "output_type": "stream",
     "text": [
      "(pid=71131)  0:  10%|█         | 107/1.05k [05:33<25:27, 1.62s/it]"
     ]
    },
    {
     "name": "stdout",
     "output_type": "stream",
     "text": [
      "\u001b[36m(compute_reachable pid=71124)\u001b[0m rip 199\u001b[32m [repeated 3x across cluster]\u001b[0m\n"
     ]
    },
    {
     "name": "stderr",
     "output_type": "stream",
     "text": [
      "(pid=71131)  0:  10%|█         | 109/1.05k [05:54<1:19:36, 5.07s/it]"
     ]
    },
    {
     "name": "stdout",
     "output_type": "stream",
     "text": [
      "\u001b[36m(compute_reachable pid=71122)\u001b[0m rip 311\u001b[32m [repeated 12x across cluster]\u001b[0m\n"
     ]
    },
    {
     "name": "stderr",
     "output_type": "stream",
     "text": [
      "(pid=71131)  0:  11%|█         | 115/1.05k [06:00<35:37, 2.28s/it]  "
     ]
    },
    {
     "name": "stdout",
     "output_type": "stream",
     "text": [
      "\u001b[36m(compute_reachable pid=71119)\u001b[0m rip 345\u001b[32m [repeated 7x across cluster]\u001b[0m\n"
     ]
    },
    {
     "name": "stderr",
     "output_type": "stream",
     "text": [
      "(pid=71131)  0:  11%|█▏        | 119/1.05k [06:06<25:58, 1.67s/it]"
     ]
    },
    {
     "name": "stdout",
     "output_type": "stream",
     "text": [
      "\u001b[36m(compute_reachable pid=71120)\u001b[0m rip 116\u001b[32m [repeated 6x across cluster]\u001b[0m\n"
     ]
    },
    {
     "name": "stderr",
     "output_type": "stream",
     "text": [
      "(pid=71131)  0:  12%|█▏        | 121/1.05k [06:33<1:25:00, 5.48s/it]"
     ]
    },
    {
     "name": "stdout",
     "output_type": "stream",
     "text": [
      "\u001b[36m(compute_reachable pid=71122)\u001b[0m rip 345\u001b[32m [repeated 11x across cluster]\u001b[0m\n"
     ]
    },
    {
     "name": "stderr",
     "output_type": "stream",
     "text": [
      "(pid=71131)  0:  12%|█▏        | 125/1.05k [06:38<46:57, 3.04s/it]  "
     ]
    },
    {
     "name": "stdout",
     "output_type": "stream",
     "text": [
      "\u001b[36m(compute_reachable pid=71125)\u001b[0m rip 309\u001b[32m [repeated 5x across cluster]\u001b[0m\n"
     ]
    },
    {
     "name": "stderr",
     "output_type": "stream",
     "text": [
      "(pid=71131)  0:  12%|█▏        | 131/1.05k [06:44<23:59, 1.56s/it]"
     ]
    },
    {
     "name": "stdout",
     "output_type": "stream",
     "text": [
      "\u001b[36m(compute_reachable pid=71127)\u001b[0m rip 345\u001b[32m [repeated 13x across cluster]\u001b[0m\n"
     ]
    },
    {
     "name": "stderr",
     "output_type": "stream",
     "text": [
      "(pid=71131)  0:  13%|█▎        | 133/1.05k [07:14<1:25:27, 5.59s/it]"
     ]
    },
    {
     "name": "stdout",
     "output_type": "stream",
     "text": [
      "\u001b[36m(compute_reachable pid=71122)\u001b[0m rip 374\u001b[32m [repeated 2x across cluster]\u001b[0m\n"
     ]
    },
    {
     "name": "stderr",
     "output_type": "stream",
     "text": [
      "(pid=71131)  0:  13%|█▎        | 135/1.05k [07:19<1:05:37, 4.30s/it]"
     ]
    },
    {
     "name": "stdout",
     "output_type": "stream",
     "text": [
      "\u001b[36m(compute_reachable pid=71119)\u001b[0m rip 381\u001b[32m [repeated 4x across cluster]\u001b[0m\n"
     ]
    },
    {
     "name": "stderr",
     "output_type": "stream",
     "text": [
      "(pid=71131)  0:  14%|█▎        | 143/1.05k [07:26<25:39, 1.70s/it]  "
     ]
    },
    {
     "name": "stdout",
     "output_type": "stream",
     "text": [
      "\u001b[36m(compute_reachable pid=71129)\u001b[0m rip 45\u001b[32m [repeated 10x across cluster]\u001b[0m\n"
     ]
    },
    {
     "name": "stderr",
     "output_type": "stream",
     "text": [
      "(pid=71131)  0:  14%|█▎        | 143/1.05k [07:51<25:39, 1.70s/it]"
     ]
    },
    {
     "name": "stdout",
     "output_type": "stream",
     "text": [
      "\u001b[36m(compute_reachable pid=71122)\u001b[0m rip 405\u001b[32m [repeated 2x across cluster]\u001b[0m\n"
     ]
    },
    {
     "name": "stderr",
     "output_type": "stream",
     "text": [
      "(pid=71131)  0:  14%|█▍        | 146/1.05k [07:57<1:22:10, 5.45s/it]"
     ]
    },
    {
     "name": "stdout",
     "output_type": "stream",
     "text": [
      "\u001b[36m(compute_reachable pid=71129)\u001b[0m rip 405\u001b[32m [repeated 13x across cluster]\u001b[0m\n"
     ]
    },
    {
     "name": "stderr",
     "output_type": "stream",
     "text": [
      "(pid=71131)  0:  15%|█▍        | 153/1.05k [08:02<25:03, 1.67s/it]  "
     ]
    },
    {
     "name": "stdout",
     "output_type": "stream",
     "text": [
      "\u001b[36m(compute_reachable pid=71126)\u001b[0m rip 139\u001b[32m [repeated 8x across cluster]\u001b[0m\n"
     ]
    },
    {
     "name": "stderr",
     "output_type": "stream",
     "text": [
      "(pid=71131)  0:  15%|█▍        | 155/1.05k [08:22<23:43, 1.59s/it]"
     ]
    },
    {
     "name": "stdout",
     "output_type": "stream",
     "text": [
      "\u001b[36m(compute_reachable pid=71122)\u001b[0m rip 381\u001b[32m [repeated 3x across cluster]\u001b[0m\n"
     ]
    },
    {
     "name": "stderr",
     "output_type": "stream",
     "text": [
      "(pid=71131)  0:  15%|█▍        | 155/1.05k [08:28<23:43, 1.59s/it]"
     ]
    },
    {
     "name": "stdout",
     "output_type": "stream",
     "text": [
      "\u001b[36m(compute_reachable pid=71124)\u001b[0m rip 405\u001b[32m [repeated 9x across cluster]\u001b[0m\n"
     ]
    },
    {
     "name": "stderr",
     "output_type": "stream",
     "text": [
      "(pid=71131)  0:  15%|█▌        | 158/1.05k [08:35<1:14:03, 4.98s/it]"
     ]
    },
    {
     "name": "stdout",
     "output_type": "stream",
     "text": [
      "\u001b[36m(compute_reachable pid=71128)\u001b[0m rip 191\u001b[32m [repeated 4x across cluster]\u001b[0m\n"
     ]
    },
    {
     "name": "stderr",
     "output_type": "stream",
     "text": [
      "(pid=71131)  0:  16%|█▌        | 163/1.05k [08:40<31:46, 2.15s/it]  "
     ]
    },
    {
     "name": "stdout",
     "output_type": "stream",
     "text": [
      "\u001b[36m(compute_reachable pid=71119)\u001b[0m rip 230\u001b[32m [repeated 6x across cluster]\u001b[0m\n"
     ]
    },
    {
     "name": "stderr",
     "output_type": "stream",
     "text": [
      "(pid=71131)  0:  16%|█▌        | 168/1.05k [08:54<22:02, 1.50s/it]"
     ]
    },
    {
     "name": "stdout",
     "output_type": "stream",
     "text": [
      "\u001b[36m(compute_reachable pid=71122)\u001b[0m rip 386\u001b[32m [repeated 5x across cluster]\u001b[0m\n"
     ]
    },
    {
     "name": "stderr",
     "output_type": "stream",
     "text": [
      "(pid=71131)  0:  16%|█▌        | 168/1.05k [09:00<22:02, 1.50s/it]"
     ]
    },
    {
     "name": "stdout",
     "output_type": "stream",
     "text": [
      "\u001b[36m(compute_reachable pid=71129)\u001b[0m rip 319\u001b[32m [repeated 10x across cluster]\u001b[0m\n"
     ]
    },
    {
     "name": "stderr",
     "output_type": "stream",
     "text": [
      "(pid=71131)  0:  16%|█▌        | 169/1.05k [09:09<1:33:57, 6.39s/it]"
     ]
    },
    {
     "name": "stdout",
     "output_type": "stream",
     "text": [
      "\u001b[36m(compute_reachable pid=71122)\u001b[0m rip 273\u001b[32m [repeated 2x across cluster]\u001b[0m\n"
     ]
    },
    {
     "name": "stderr",
     "output_type": "stream",
     "text": [
      "(pid=71131)  0:  16%|█▋        | 173/1.05k [09:15<48:08, 3.29s/it]  "
     ]
    },
    {
     "name": "stdout",
     "output_type": "stream",
     "text": [
      "\u001b[36m(compute_reachable pid=71120)\u001b[0m rip 325\u001b[32m [repeated 4x across cluster]\u001b[0m\n"
     ]
    },
    {
     "name": "stderr",
     "output_type": "stream",
     "text": [
      "(pid=71131)  0:  17%|█▋        | 179/1.05k [09:21<25:09, 1.73s/it]"
     ]
    },
    {
     "name": "stdout",
     "output_type": "stream",
     "text": [
      "\u001b[36m(compute_reachable pid=71129)\u001b[0m rip 351\u001b[32m [repeated 6x across cluster]\u001b[0m\n"
     ]
    },
    {
     "name": "stderr",
     "output_type": "stream",
     "text": [
      "(pid=71131)  0:  17%|█▋        | 179/1.05k [09:27<25:09, 1.73s/it]"
     ]
    },
    {
     "name": "stdout",
     "output_type": "stream",
     "text": [
      "\u001b[36m(compute_reachable pid=71128)\u001b[0m rip 266\u001b[32m [repeated 3x across cluster]\u001b[0m\n"
     ]
    },
    {
     "name": "stderr",
     "output_type": "stream",
     "text": [
      "(pid=71131)  0:  17%|█▋        | 181/1.05k [09:45<1:17:39, 5.36s/it]"
     ]
    },
    {
     "name": "stdout",
     "output_type": "stream",
     "text": [
      "\u001b[36m(compute_reachable pid=71122)\u001b[0m rip 390\u001b[32m [repeated 11x across cluster]\u001b[0m\n"
     ]
    },
    {
     "name": "stderr",
     "output_type": "stream",
     "text": [
      "(pid=71131)  0:  17%|█▋        | 183/1.05k [09:51<1:02:39, 4.33s/it]"
     ]
    },
    {
     "name": "stdout",
     "output_type": "stream",
     "text": [
      "\u001b[36m(compute_reachable pid=71123)\u001b[0m rip 398\u001b[32m [repeated 2x across cluster]\u001b[0m\n"
     ]
    },
    {
     "name": "stderr",
     "output_type": "stream",
     "text": [
      "(pid=71131)  0:  18%|█▊        | 188/1.05k [09:58<28:37, 1.99s/it]  "
     ]
    },
    {
     "name": "stdout",
     "output_type": "stream",
     "text": [
      "\u001b[36m(compute_reachable pid=71128)\u001b[0m rip 192\u001b[32m [repeated 9x across cluster]\u001b[0m\n"
     ]
    },
    {
     "name": "stderr",
     "output_type": "stream",
     "text": [
      "(pid=71131)  0:  18%|█▊        | 191/1.05k [10:04<23:49, 1.66s/it]"
     ]
    },
    {
     "name": "stdout",
     "output_type": "stream",
     "text": [
      "\u001b[36m(compute_reachable pid=71129)\u001b[0m rip 95\u001b[32m [repeated 11x across cluster]\u001b[0m\n"
     ]
    },
    {
     "name": "stderr",
     "output_type": "stream",
     "text": [
      "(pid=71131)  0:  18%|█▊        | 193/1.05k [10:23<1:09:20, 4.85s/it]"
     ]
    },
    {
     "name": "stdout",
     "output_type": "stream",
     "text": [
      "\u001b[36m(compute_reachable pid=71122)\u001b[0m rip 423\u001b[32m [repeated 2x across cluster]\u001b[0m\n"
     ]
    },
    {
     "name": "stderr",
     "output_type": "stream",
     "text": [
      "(pid=71131)  0:  19%|█▊        | 195/1.05k [10:28<58:32, 4.10s/it]  "
     ]
    },
    {
     "name": "stdout",
     "output_type": "stream",
     "text": [
      "\u001b[36m(compute_reachable pid=71123)\u001b[0m rip 354\u001b[32m [repeated 3x across cluster]\u001b[0m\n"
     ]
    },
    {
     "name": "stderr",
     "output_type": "stream",
     "text": [
      "(pid=71131)  0:  19%|█▉        | 200/1.05k [10:34<28:31, 2.01s/it]"
     ]
    },
    {
     "name": "stdout",
     "output_type": "stream",
     "text": [
      "\u001b[36m(compute_reachable pid=71125)\u001b[0m rip 48\u001b[32m [repeated 11x across cluster]\u001b[0m\n"
     ]
    },
    {
     "name": "stderr",
     "output_type": "stream",
     "text": [
      "(pid=71131)  0:  19%|█▉        | 203/1.05k [10:39<28:00, 1.98s/it]"
     ]
    },
    {
     "name": "stdout",
     "output_type": "stream",
     "text": [
      "\u001b[36m(compute_reachable pid=71127)\u001b[0m rip 404\u001b[32m [repeated 3x across cluster]\u001b[0m\n"
     ]
    },
    {
     "name": "stderr",
     "output_type": "stream",
     "text": [
      "(pid=71131)  0:  20%|█▉        | 205/1.05k [11:01<1:12:40, 5.15s/it]"
     ]
    },
    {
     "name": "stdout",
     "output_type": "stream",
     "text": [
      "\u001b[36m(compute_reachable pid=71122)\u001b[0m rip 354\n"
     ]
    },
    {
     "name": "stderr",
     "output_type": "stream",
     "text": [
      "(pid=71131)  0:  20%|█▉        | 206/1.05k [11:06<1:11:32, 5.08s/it]"
     ]
    },
    {
     "name": "stdout",
     "output_type": "stream",
     "text": [
      "\u001b[36m(compute_reachable pid=71128)\u001b[0m rip 390\n"
     ]
    },
    {
     "name": "stderr",
     "output_type": "stream",
     "text": [
      "(pid=71131)  0:  20%|█▉        | 209/1.05k [11:11<45:41, 3.26s/it]  "
     ]
    },
    {
     "name": "stdout",
     "output_type": "stream",
     "text": [
      "\u001b[36m(compute_reachable pid=71121)\u001b[0m rip 52\u001b[32m [repeated 8x across cluster]\u001b[0m\n"
     ]
    },
    {
     "name": "stderr",
     "output_type": "stream",
     "text": [
      "(pid=71131)  0:  20%|██        | 215/1.05k [11:17<26:18, 1.89s/it]"
     ]
    },
    {
     "name": "stdout",
     "output_type": "stream",
     "text": [
      "\u001b[36m(compute_reachable pid=71129)\u001b[0m rip 48\u001b[32m [repeated 7x across cluster]\u001b[0m\n"
     ]
    },
    {
     "name": "stderr",
     "output_type": "stream",
     "text": [
      "(pid=71131)  0:  20%|██        | 215/1.05k [11:34<26:18, 1.89s/it]"
     ]
    },
    {
     "name": "stdout",
     "output_type": "stream",
     "text": [
      "\u001b[36m(compute_reachable pid=71122)\u001b[0m rip 426\u001b[32m [repeated 2x across cluster]\u001b[0m\n"
     ]
    },
    {
     "name": "stderr",
     "output_type": "stream",
     "text": [
      "(pid=71131)  0:  21%|██        | 217/1.05k [11:40<1:07:29, 4.86s/it]"
     ]
    },
    {
     "name": "stdout",
     "output_type": "stream",
     "text": [
      "\u001b[36m(compute_reachable pid=71128)\u001b[0m rip 434\u001b[32m [repeated 2x across cluster]\u001b[0m\n"
     ]
    },
    {
     "name": "stderr",
     "output_type": "stream",
     "text": [
      "(pid=71131)  0:  21%|██        | 219/1.05k [11:45<58:49, 4.24s/it]  "
     ]
    },
    {
     "name": "stdout",
     "output_type": "stream",
     "text": [
      "\u001b[36m(compute_reachable pid=71127)\u001b[0m rip 434\u001b[32m [repeated 11x across cluster]\u001b[0m\n"
     ]
    },
    {
     "name": "stderr",
     "output_type": "stream",
     "text": [
      "(pid=71131)  0:  22%|██▏       | 226/1.05k [11:51<23:19, 1.70s/it]"
     ]
    },
    {
     "name": "stdout",
     "output_type": "stream",
     "text": [
      "\u001b[36m(compute_reachable pid=71119)\u001b[0m rip 210\u001b[32m [repeated 8x across cluster]\u001b[0m\n"
     ]
    },
    {
     "name": "stderr",
     "output_type": "stream",
     "text": [
      "(pid=71131)  0:  22%|██▏       | 228/1.05k [12:05<23:21, 1.70s/it]"
     ]
    },
    {
     "name": "stdout",
     "output_type": "stream",
     "text": [
      "\u001b[36m(compute_reachable pid=71122)\u001b[0m rip 443\u001b[32m [repeated 3x across cluster]\u001b[0m\n"
     ]
    },
    {
     "name": "stderr",
     "output_type": "stream",
     "text": [
      "(pid=71131)  0:  22%|██▏       | 228/1.05k [12:10<23:21, 1.70s/it]"
     ]
    },
    {
     "name": "stdout",
     "output_type": "stream",
     "text": [
      "\u001b[36m(compute_reachable pid=71123)\u001b[0m rip 418\n"
     ]
    },
    {
     "name": "stderr",
     "output_type": "stream",
     "text": [
      "(pid=71131)  0:  22%|██▏       | 228/1.05k [12:11<23:21, 1.70s/it]"
     ]
    },
    {
     "name": "stdout",
     "output_type": "stream",
     "text": [
      "\u001b[36m(compute_reachable pid=71130)\u001b[0m rip 426\n"
     ]
    },
    {
     "name": "stderr",
     "output_type": "stream",
     "text": [
      "(pid=71131)  0:  22%|██▏       | 229/1.05k [12:16<1:17:34, 5.66s/it]"
     ]
    },
    {
     "name": "stdout",
     "output_type": "stream",
     "text": [
      "\u001b[36m(compute_reachable pid=71127)\u001b[0m rip 437\u001b[32m [repeated 10x across cluster]\u001b[0m\n"
     ]
    },
    {
     "name": "stderr",
     "output_type": "stream",
     "text": [
      "(pid=71131)  0:  22%|██▏       | 232/1.05k [12:22<50:43, 3.72s/it]  "
     ]
    },
    {
     "name": "stdout",
     "output_type": "stream",
     "text": [
      "\u001b[36m(compute_reachable pid=71130)\u001b[0m rip 266\u001b[32m [repeated 3x across cluster]\u001b[0m\n"
     ]
    },
    {
     "name": "stderr",
     "output_type": "stream",
     "text": [
      "(pid=71131)  0:  23%|██▎       | 239/1.05k [12:29<24:00, 1.77s/it]"
     ]
    },
    {
     "name": "stdout",
     "output_type": "stream",
     "text": [
      "\u001b[36m(compute_reachable pid=71129)\u001b[0m rip 303\u001b[32m [repeated 7x across cluster]\u001b[0m\n"
     ]
    },
    {
     "name": "stderr",
     "output_type": "stream",
     "text": [
      "(pid=71131)  0:  23%|██▎       | 240/1.05k [12:39<21:44, 1.61s/it]"
     ]
    },
    {
     "name": "stdout",
     "output_type": "stream",
     "text": [
      "\u001b[36m(compute_reachable pid=71123)\u001b[0m rip 387\u001b[32m [repeated 3x across cluster]\u001b[0m\n"
     ]
    },
    {
     "name": "stderr",
     "output_type": "stream",
     "text": [
      "(pid=71131)  0:  23%|██▎       | 241/1.05k [12:48<1:14:42, 5.53s/it]"
     ]
    },
    {
     "name": "stdout",
     "output_type": "stream",
     "text": [
      "\u001b[36m(compute_reachable pid=71122)\u001b[0m rip 356\u001b[32m [repeated 11x across cluster]\u001b[0m\n"
     ]
    },
    {
     "name": "stderr",
     "output_type": "stream",
     "text": [
      "(pid=71131)  0:  23%|██▎       | 242/1.05k [12:55<1:18:57, 5.86s/it]"
     ]
    },
    {
     "name": "stdout",
     "output_type": "stream",
     "text": [
      "\u001b[36m(compute_reachable pid=71128)\u001b[0m rip 363\n",
      "\u001b[36m(compute_reachable pid=71123)\u001b[0m rip 360\n"
     ]
    },
    {
     "name": "stderr",
     "output_type": "stream",
     "text": [
      "(pid=71131)  0:  24%|██▍       | 250/1.05k [13:02<20:38, 1.55s/it]  "
     ]
    },
    {
     "name": "stdout",
     "output_type": "stream",
     "text": [
      "\u001b[36m(compute_reachable pid=71119)\u001b[0m rip 366\u001b[32m [repeated 7x across cluster]\u001b[0m\n"
     ]
    },
    {
     "name": "stderr",
     "output_type": "stream",
     "text": [
      "(pid=71131)  0:  24%|██▍       | 252/1.05k [13:08<23:25, 1.76s/it]"
     ]
    },
    {
     "name": "stdout",
     "output_type": "stream",
     "text": [
      "\u001b[36m(compute_reachable pid=71130)\u001b[0m rip 243\u001b[32m [repeated 4x across cluster]\u001b[0m\n"
     ]
    },
    {
     "name": "stderr",
     "output_type": "stream",
     "text": [
      "(pid=71131)  0:  24%|██▍       | 252/1.05k [13:15<23:25, 1.76s/it]"
     ]
    },
    {
     "name": "stdout",
     "output_type": "stream",
     "text": [
      "\u001b[36m(compute_reachable pid=71127)\u001b[0m rip 212\u001b[32m [repeated 10x across cluster]\u001b[0m\n"
     ]
    },
    {
     "name": "stderr",
     "output_type": "stream",
     "text": [
      "(pid=71131)  0:  24%|██▍       | 253/1.05k [13:24<1:18:09, 5.88s/it]"
     ]
    },
    {
     "name": "stdout",
     "output_type": "stream",
     "text": [
      "\u001b[36m(compute_reachable pid=71122)\u001b[0m rip 443\n"
     ]
    },
    {
     "name": "stderr",
     "output_type": "stream",
     "text": [
      "(pid=71131)  0:  24%|██▍       | 254/1.05k [13:30<1:20:35, 6.07s/it]"
     ]
    },
    {
     "name": "stdout",
     "output_type": "stream",
     "text": [
      "\u001b[36m(compute_reachable pid=71128)\u001b[0m rip 428\n"
     ]
    },
    {
     "name": "stderr",
     "output_type": "stream",
     "text": [
      "(pid=71131)  0:  25%|██▍       | 261/1.05k [13:36<23:02, 1.75s/it]  "
     ]
    },
    {
     "name": "stdout",
     "output_type": "stream",
     "text": [
      "\u001b[36m(compute_reachable pid=71124)\u001b[0m rip 430\u001b[32m [repeated 8x across cluster]\u001b[0m\n"
     ]
    },
    {
     "name": "stderr",
     "output_type": "stream",
     "text": [
      "(pid=71131)  0:  25%|██▌       | 264/1.05k [13:42<24:15, 1.85s/it]"
     ]
    },
    {
     "name": "stdout",
     "output_type": "stream",
     "text": [
      "\u001b[36m(compute_reachable pid=71127)\u001b[0m rip 449\u001b[32m [repeated 11x across cluster]\u001b[0m\n"
     ]
    },
    {
     "name": "stderr",
     "output_type": "stream",
     "text": [
      "(pid=71131)  0:  25%|██▌       | 265/1.05k [14:00<1:20:22, 6.14s/it]"
     ]
    },
    {
     "name": "stdout",
     "output_type": "stream",
     "text": [
      "\u001b[36m(compute_reachable pid=71122)\u001b[0m rip 399\u001b[32m [repeated 4x across cluster]\u001b[0m\n"
     ]
    },
    {
     "name": "stderr",
     "output_type": "stream",
     "text": [
      "(pid=71131)  0:  25%|██▌       | 266/1.05k [14:06<1:20:41, 6.17s/it]"
     ]
    },
    {
     "name": "stdout",
     "output_type": "stream",
     "text": [
      "\u001b[36m(compute_reachable pid=71128)\u001b[0m rip 430\u001b[32m [repeated 2x across cluster]\u001b[0m\n"
     ]
    },
    {
     "name": "stderr",
     "output_type": "stream",
     "text": [
      "(pid=71131)  0:  26%|██▌       | 270/1.05k [14:12<37:54, 2.91s/it]  "
     ]
    },
    {
     "name": "stdout",
     "output_type": "stream",
     "text": [
      "\u001b[36m(compute_reachable pid=71120)\u001b[0m rip 399\u001b[32m [repeated 7x across cluster]\u001b[0m\n"
     ]
    },
    {
     "name": "stderr",
     "output_type": "stream",
     "text": [
      "(pid=71131)  0:  26%|██▌       | 275/1.05k [14:19<25:43, 1.99s/it]"
     ]
    },
    {
     "name": "stdout",
     "output_type": "stream",
     "text": [
      "\u001b[36m(compute_reachable pid=71129)\u001b[0m rip 399\u001b[32m [repeated 5x across cluster]\u001b[0m\n"
     ]
    },
    {
     "name": "stderr",
     "output_type": "stream",
     "text": [
      "(pid=71131)  0:  26%|██▋       | 277/1.05k [14:38<1:21:18, 6.30s/it]"
     ]
    },
    {
     "name": "stdout",
     "output_type": "stream",
     "text": [
      "\u001b[36m(compute_reachable pid=71122)\u001b[0m rip 466\u001b[32m [repeated 2x across cluster]\u001b[0m\n"
     ]
    },
    {
     "name": "stderr",
     "output_type": "stream",
     "text": [
      "(pid=71131)  0:  26%|██▋       | 278/1.05k [14:46<1:24:53, 6.59s/it]"
     ]
    },
    {
     "name": "stdout",
     "output_type": "stream",
     "text": [
      "\u001b[36m(compute_reachable pid=71128)\u001b[0m rip 468\n"
     ]
    },
    {
     "name": "stderr",
     "output_type": "stream",
     "text": [
      "(pid=71131)  0:  26%|██▋       | 278/1.05k [14:46<1:24:53, 6.59s/it]"
     ]
    },
    {
     "name": "stdout",
     "output_type": "stream",
     "text": [
      "\u001b[36m(compute_reachable pid=71123)\u001b[0m rip 449\n"
     ]
    },
    {
     "name": "stderr",
     "output_type": "stream",
     "text": [
      "(pid=71131)  0:  27%|██▋       | 283/1.05k [14:53<30:15, 2.36s/it]  "
     ]
    },
    {
     "name": "stdout",
     "output_type": "stream",
     "text": [
      "\u001b[36m(compute_reachable pid=71129)\u001b[0m rip 470\u001b[32m [repeated 12x across cluster]\u001b[0m\n"
     ]
    },
    {
     "name": "stderr",
     "output_type": "stream",
     "text": [
      "(pid=71131)  0:  27%|██▋       | 288/1.05k [14:59<25:02, 1.97s/it]"
     ]
    },
    {
     "name": "stdout",
     "output_type": "stream",
     "text": [
      "\u001b[36m(compute_reachable pid=71127)\u001b[0m rip 115\u001b[32m [repeated 5x across cluster]\u001b[0m\n"
     ]
    },
    {
     "name": "stderr",
     "output_type": "stream",
     "text": [
      "(pid=71131)  0:  27%|██▋       | 288/1.05k [15:11<25:02, 1.97s/it]"
     ]
    },
    {
     "name": "stdout",
     "output_type": "stream",
     "text": [
      "\u001b[36m(compute_reachable pid=71122)\u001b[0m rip 484\n"
     ]
    },
    {
     "name": "stderr",
     "output_type": "stream",
     "text": [
      "(pid=71131)  0:  27%|██▋       | 289/1.05k [15:15<1:12:00, 5.67s/it]"
     ]
    },
    {
     "name": "stdout",
     "output_type": "stream",
     "text": [
      "\u001b[36m(compute_reachable pid=71122)\u001b[0m rip 112\n"
     ]
    },
    {
     "name": "stderr",
     "output_type": "stream",
     "text": [
      "(pid=71131)  0:  27%|██▋       | 289/1.05k [15:20<1:12:00, 5.67s/it]"
     ]
    },
    {
     "name": "stdout",
     "output_type": "stream",
     "text": [
      "\u001b[36m(compute_reachable pid=71124)\u001b[0m rip 470\u001b[32m [repeated 7x across cluster]\u001b[0m\n"
     ]
    },
    {
     "name": "stderr",
     "output_type": "stream",
     "text": [
      "(pid=71131)  0:  28%|██▊       | 293/1.05k [15:26<43:17, 3.43s/it]  "
     ]
    },
    {
     "name": "stdout",
     "output_type": "stream",
     "text": [
      "\u001b[36m(compute_reachable pid=71125)\u001b[0m rip 173\u001b[32m [repeated 7x across cluster]\u001b[0m\n"
     ]
    },
    {
     "name": "stderr",
     "output_type": "stream",
     "text": [
      "(pid=71131)  0:  28%|██▊       | 298/1.05k [15:31<25:27, 2.03s/it]"
     ]
    },
    {
     "name": "stdout",
     "output_type": "stream",
     "text": [
      "\u001b[36m(compute_reachable pid=71119)\u001b[0m rip 231\u001b[32m [repeated 6x across cluster]\u001b[0m\n"
     ]
    },
    {
     "name": "stderr",
     "output_type": "stream",
     "text": [
      "(pid=71131)  0:  29%|██▊       | 300/1.05k [15:39<25:15, 2.02s/it]"
     ]
    },
    {
     "name": "stdout",
     "output_type": "stream",
     "text": [
      "\u001b[36m(compute_reachable pid=71122)\u001b[0m rip 462\u001b[32m [repeated 3x across cluster]\u001b[0m\n"
     ]
    },
    {
     "name": "stderr",
     "output_type": "stream",
     "text": [
      "(pid=71131)  0:  29%|██▊       | 300/1.05k [15:47<25:15, 2.02s/it]"
     ]
    },
    {
     "name": "stdout",
     "output_type": "stream",
     "text": [
      "\u001b[36m(compute_reachable pid=71128)\u001b[0m rip 470\n",
      "\u001b[36m(compute_reachable pid=71123)\u001b[0m rip 476\n"
     ]
    },
    {
     "name": "stderr",
     "output_type": "stream",
     "text": [
      "(pid=71131)  0:  29%|██▊       | 301/1.05k [15:53<1:06:34, 5.33s/it]"
     ]
    },
    {
     "name": "stdout",
     "output_type": "stream",
     "text": [
      "\u001b[36m(compute_reachable pid=71129)\u001b[0m rip 409\u001b[32m [repeated 8x across cluster]\u001b[0m\n"
     ]
    },
    {
     "name": "stderr",
     "output_type": "stream",
     "text": [
      "(pid=71131)  0:  29%|██▊       | 302/1.05k [15:58<1:12:21, 5.80s/it]"
     ]
    },
    {
     "name": "stdout",
     "output_type": "stream",
     "text": [
      "\u001b[36m(compute_reachable pid=71128)\u001b[0m rip 291\u001b[32m [repeated 3x across cluster]\u001b[0m\n"
     ]
    },
    {
     "name": "stderr",
     "output_type": "stream",
     "text": [
      "(pid=71131)  0:  29%|██▉       | 307/1.05k [16:03<30:25, 2.45s/it]  "
     ]
    },
    {
     "name": "stdout",
     "output_type": "stream",
     "text": [
      "\u001b[36m(compute_reachable pid=71121)\u001b[0m rip 343\u001b[32m [repeated 6x across cluster]\u001b[0m\n"
     ]
    },
    {
     "name": "stderr",
     "output_type": "stream",
     "text": [
      "(pid=71131)  0:  30%|██▉       | 311/1.05k [16:09<25:27, 2.06s/it]"
     ]
    },
    {
     "name": "stdout",
     "output_type": "stream",
     "text": [
      "\u001b[36m(compute_reachable pid=71129)\u001b[0m rip 391\u001b[32m [repeated 3x across cluster]\u001b[0m\n"
     ]
    },
    {
     "name": "stderr",
     "output_type": "stream",
     "text": [
      "(pid=71131)  0:  30%|██▉       | 312/1.05k [16:15<23:24, 1.90s/it]"
     ]
    },
    {
     "name": "stdout",
     "output_type": "stream",
     "text": [
      "\u001b[36m(compute_reachable pid=71130)\u001b[0m rip 365\u001b[32m [repeated 3x across cluster]\u001b[0m\n"
     ]
    },
    {
     "name": "stderr",
     "output_type": "stream",
     "text": [
      "(pid=71131)  0:  30%|██▉       | 312/1.05k [16:21<23:24, 1.90s/it]"
     ]
    },
    {
     "name": "stdout",
     "output_type": "stream",
     "text": [
      "\u001b[36m(compute_reachable pid=71119)\u001b[0m rip 326\u001b[32m [repeated 8x across cluster]\u001b[0m\n"
     ]
    },
    {
     "name": "stderr",
     "output_type": "stream",
     "text": [
      "(pid=71131)  0:  30%|██▉       | 314/1.05k [16:33<1:11:06, 5.79s/it]"
     ]
    },
    {
     "name": "stdout",
     "output_type": "stream",
     "text": [
      "\u001b[36m(compute_reachable pid=71128)\u001b[0m rip 384\u001b[32m [repeated 4x across cluster]\u001b[0m\n"
     ]
    },
    {
     "name": "stderr",
     "output_type": "stream",
     "text": [
      "(pid=71131)  0:  30%|███       | 320/1.05k [16:38<26:29, 2.17s/it]  "
     ]
    },
    {
     "name": "stdout",
     "output_type": "stream",
     "text": [
      "\u001b[36m(compute_reachable pid=71121)\u001b[0m rip 406\u001b[32m [repeated 6x across cluster]\u001b[0m\n"
     ]
    },
    {
     "name": "stderr",
     "output_type": "stream",
     "text": [
      "(pid=71131)  0:  31%|███       | 322/1.05k [16:44<26:24, 2.17s/it]"
     ]
    },
    {
     "name": "stdout",
     "output_type": "stream",
     "text": [
      "\u001b[36m(compute_reachable pid=71130)\u001b[0m rip 282\u001b[32m [repeated 4x across cluster]\u001b[0m\n"
     ]
    },
    {
     "name": "stderr",
     "output_type": "stream",
     "text": [
      "(pid=71131)  0:  31%|███       | 324/1.05k [16:50<24:18, 2.01s/it]"
     ]
    },
    {
     "name": "stdout",
     "output_type": "stream",
     "text": [
      "\u001b[36m(compute_reachable pid=71124)\u001b[0m rip 228\u001b[32m [repeated 9x across cluster]\u001b[0m\n"
     ]
    },
    {
     "name": "stderr",
     "output_type": "stream",
     "text": [
      "(pid=71131)  0:  31%|███       | 325/1.05k [16:59<57:26, 4.75s/it]"
     ]
    },
    {
     "name": "stdout",
     "output_type": "stream",
     "text": [
      "\u001b[36m(compute_reachable pid=71122)\u001b[0m rip 438\u001b[32m [repeated 4x across cluster]\u001b[0m\n"
     ]
    },
    {
     "name": "stderr",
     "output_type": "stream",
     "text": [
      "(pid=71131)  0:  31%|███       | 325/1.05k [17:05<57:26, 4.75s/it]"
     ]
    },
    {
     "name": "stdout",
     "output_type": "stream",
     "text": [
      "\u001b[36m(compute_reachable pid=71122)\u001b[0m rip 167\n"
     ]
    },
    {
     "name": "stderr",
     "output_type": "stream",
     "text": [
      "(pid=71131)  0:  31%|███       | 326/1.05k [17:08<1:10:23, 5.83s/it]"
     ]
    },
    {
     "name": "stdout",
     "output_type": "stream",
     "text": [
      "\u001b[36m(compute_reachable pid=71128)\u001b[0m rip 466\n"
     ]
    },
    {
     "name": "stderr",
     "output_type": "stream",
     "text": [
      "(pid=71131)  0:  31%|███▏      | 329/1.05k [17:14<39:07, 3.25s/it]  "
     ]
    },
    {
     "name": "stdout",
     "output_type": "stream",
     "text": [
      "\u001b[36m(compute_reachable pid=71128)\u001b[0m rip 173\u001b[32m [repeated 6x across cluster]\u001b[0m\n"
     ]
    },
    {
     "name": "stderr",
     "output_type": "stream",
     "text": [
      "(pid=71131)  0:  32%|███▏      | 334/1.05k [17:21<27:52, 2.33s/it]"
     ]
    },
    {
     "name": "stdout",
     "output_type": "stream",
     "text": [
      "\u001b[36m(compute_reachable pid=71124)\u001b[0m rip 118\u001b[32m [repeated 10x across cluster]\u001b[0m\n"
     ]
    },
    {
     "name": "stderr",
     "output_type": "stream",
     "text": [
      "(pid=71131)  0:  32%|███▏      | 337/1.05k [17:34<53:56, 4.53s/it]"
     ]
    },
    {
     "name": "stdout",
     "output_type": "stream",
     "text": [
      "\u001b[36m(compute_reachable pid=71122)\u001b[0m rip 506\u001b[32m [repeated 6x across cluster]\u001b[0m\n"
     ]
    },
    {
     "name": "stderr",
     "output_type": "stream",
     "text": [
      "(pid=71131)  0:  32%|███▏      | 338/1.05k [17:44<1:10:01, 5.89s/it]"
     ]
    },
    {
     "name": "stdout",
     "output_type": "stream",
     "text": [
      "\u001b[36m(compute_reachable pid=71128)\u001b[0m rip 510\u001b[32m [repeated 2x across cluster]\u001b[0m\n"
     ]
    },
    {
     "name": "stderr",
     "output_type": "stream",
     "text": [
      "(pid=71131)  0:  33%|███▎      | 342/1.05k [17:49<34:50, 2.95s/it]  "
     ]
    },
    {
     "name": "stdout",
     "output_type": "stream",
     "text": [
      "\u001b[36m(compute_reachable pid=71126)\u001b[0m rip 510\u001b[32m [repeated 6x across cluster]\u001b[0m\n"
     ]
    },
    {
     "name": "stderr",
     "output_type": "stream",
     "text": [
      "(pid=71131)  0:  33%|███▎      | 345/1.05k [17:55<30:19, 2.58s/it]"
     ]
    },
    {
     "name": "stdout",
     "output_type": "stream",
     "text": [
      "\u001b[36m(compute_reachable pid=71124)\u001b[0m rip 439\u001b[32m [repeated 2x across cluster]\u001b[0m\n"
     ]
    },
    {
     "name": "stderr",
     "output_type": "stream",
     "text": [
      "(pid=71131)  0:  33%|███▎      | 348/1.05k [18:02<29:24, 2.51s/it]"
     ]
    },
    {
     "name": "stdout",
     "output_type": "stream",
     "text": [
      "\u001b[36m(compute_reachable pid=71127)\u001b[0m rip 511\u001b[32m [repeated 3x across cluster]\u001b[0m\n"
     ]
    },
    {
     "name": "stderr",
     "output_type": "stream",
     "text": [
      "(pid=71131)  0:  33%|███▎      | 349/1.05k [18:11<51:29, 4.40s/it]"
     ]
    },
    {
     "name": "stdout",
     "output_type": "stream",
     "text": [
      "\u001b[36m(compute_reachable pid=71122)\u001b[0m rip 491\n"
     ]
    },
    {
     "name": "stderr",
     "output_type": "stream",
     "text": [
      "(pid=71131)  0:  33%|███▎      | 349/1.05k [18:19<51:29, 4.40s/it]"
     ]
    },
    {
     "name": "stdout",
     "output_type": "stream",
     "text": [
      "\u001b[36m(compute_reachable pid=71130)\u001b[0m rip 501\n"
     ]
    },
    {
     "name": "stderr",
     "output_type": "stream",
     "text": [
      "(pid=71131)  0:  33%|███▎      | 352/1.05k [18:24<40:48, 3.50s/it]  "
     ]
    },
    {
     "name": "stdout",
     "output_type": "stream",
     "text": [
      "\u001b[36m(compute_reachable pid=71120)\u001b[0m rip 520\u001b[32m [repeated 8x across cluster]\u001b[0m\n"
     ]
    },
    {
     "name": "stderr",
     "output_type": "stream",
     "text": [
      "(pid=71131)  0:  34%|███▍      | 356/1.05k [18:30<23:58, 2.07s/it]"
     ]
    },
    {
     "name": "stdout",
     "output_type": "stream",
     "text": [
      "\u001b[36m(compute_reachable pid=71119)\u001b[0m rip 512\u001b[32m [repeated 6x across cluster]\u001b[0m\n"
     ]
    },
    {
     "name": "stderr",
     "output_type": "stream",
     "text": [
      "(pid=71131)  0:  34%|███▍      | 358/1.05k [18:35<28:26, 2.46s/it]"
     ]
    },
    {
     "name": "stdout",
     "output_type": "stream",
     "text": [
      "\u001b[36m(compute_reachable pid=71127)\u001b[0m rip 522\u001b[32m [repeated 4x across cluster]\u001b[0m\n"
     ]
    },
    {
     "name": "stderr",
     "output_type": "stream",
     "text": [
      "(pid=71131)  0:  34%|███▍      | 360/1.05k [18:40<28:44, 2.50s/it]"
     ]
    },
    {
     "name": "stdout",
     "output_type": "stream",
     "text": [
      "\u001b[36m(compute_reachable pid=71122)\u001b[0m rip 501\u001b[32m [repeated 3x across cluster]\u001b[0m\n"
     ]
    },
    {
     "name": "stderr",
     "output_type": "stream",
     "text": [
      "(pid=71131)  0:  34%|███▍      | 361/1.05k [18:47<45:26, 3.95s/it]"
     ]
    },
    {
     "name": "stdout",
     "output_type": "stream",
     "text": [
      "\u001b[36m(compute_reachable pid=71122)\u001b[0m rip 188\n"
     ]
    },
    {
     "name": "stderr",
     "output_type": "stream",
     "text": [
      "(pid=71131)  0:  34%|███▍      | 361/1.05k [18:50<45:26, 3.95s/it]"
     ]
    },
    {
     "name": "stdout",
     "output_type": "stream",
     "text": [
      "\u001b[36m(compute_reachable pid=71130)\u001b[0m rip 509\n"
     ]
    },
    {
     "name": "stderr",
     "output_type": "stream",
     "text": [
      "(pid=71131)  0:  34%|███▍      | 362/1.05k [18:57<1:05:49, 5.73s/it]"
     ]
    },
    {
     "name": "stdout",
     "output_type": "stream",
     "text": [
      "\u001b[36m(compute_reachable pid=71130)\u001b[0m rip 191\u001b[32m [repeated 7x across cluster]\u001b[0m\n"
     ]
    },
    {
     "name": "stderr",
     "output_type": "stream",
     "text": [
      "(pid=71131)  0:  35%|███▌      | 368/1.05k [19:03<24:16, 2.13s/it]  "
     ]
    },
    {
     "name": "stdout",
     "output_type": "stream",
     "text": [
      "\u001b[36m(compute_reachable pid=71121)\u001b[0m rip 251\u001b[32m [repeated 9x across cluster]\u001b[0m\n"
     ]
    },
    {
     "name": "stderr",
     "output_type": "stream",
     "text": [
      "(pid=71131)  0:  35%|███▌      | 370/1.05k [19:09<26:59, 2.38s/it]"
     ]
    },
    {
     "name": "stdout",
     "output_type": "stream",
     "text": [
      "\u001b[36m(compute_reachable pid=71119)\u001b[0m rip 234\u001b[32m [repeated 3x across cluster]\u001b[0m\n"
     ]
    },
    {
     "name": "stderr",
     "output_type": "stream",
     "text": [
      "(pid=71131)  0:  35%|███▌      | 372/1.05k [19:15<29:32, 2.61s/it]"
     ]
    },
    {
     "name": "stdout",
     "output_type": "stream",
     "text": [
      "\u001b[36m(compute_reachable pid=71127)\u001b[0m rip 316\u001b[32m [repeated 3x across cluster]\u001b[0m\n"
     ]
    },
    {
     "name": "stderr",
     "output_type": "stream",
     "text": [
      "(pid=71131)  0:  35%|███▌      | 372/1.05k [19:21<29:32, 2.61s/it]"
     ]
    },
    {
     "name": "stdout",
     "output_type": "stream",
     "text": [
      "\u001b[36m(compute_reachable pid=71130)\u001b[0m rip 520\u001b[32m [repeated 2x across cluster]\u001b[0m\n"
     ]
    },
    {
     "name": "stderr",
     "output_type": "stream",
     "text": [
      "(pid=71131)  0:  35%|███▌      | 373/1.05k [19:27<41:50, 3.70s/it]"
     ]
    },
    {
     "name": "stdout",
     "output_type": "stream",
     "text": [
      "\u001b[36m(compute_reachable pid=71119)\u001b[0m rip 458\u001b[32m [repeated 8x across cluster]\u001b[0m\n"
     ]
    },
    {
     "name": "stderr",
     "output_type": "stream",
     "text": [
      "(pid=71131)  0:  36%|███▌      | 376/1.05k [19:33<37:25, 3.33s/it]  "
     ]
    },
    {
     "name": "stdout",
     "output_type": "stream",
     "text": [
      "\u001b[36m(compute_reachable pid=71123)\u001b[0m rip 369\u001b[32m [repeated 4x across cluster]\u001b[0m\n"
     ]
    },
    {
     "name": "stderr",
     "output_type": "stream",
     "text": [
      "(pid=71131)  0:  36%|███▌      | 379/1.05k [19:39<23:27, 2.09s/it]"
     ]
    },
    {
     "name": "stdout",
     "output_type": "stream",
     "text": [
      "\u001b[36m(compute_reachable pid=71122)\u001b[0m rip 476\u001b[32m [repeated 6x across cluster]\u001b[0m\n"
     ]
    },
    {
     "name": "stderr",
     "output_type": "stream",
     "text": [
      "(pid=71131)  0:  36%|███▋      | 383/1.05k [19:46<26:42, 2.40s/it]"
     ]
    },
    {
     "name": "stdout",
     "output_type": "stream",
     "text": [
      "\u001b[36m(compute_reachable pid=71129)\u001b[0m rip 430\u001b[32m [repeated 3x across cluster]\u001b[0m\n"
     ]
    },
    {
     "name": "stderr",
     "output_type": "stream",
     "text": [
      "(pid=71131)  0:  37%|███▋      | 385/1.05k [19:54<35:41, 3.22s/it]"
     ]
    },
    {
     "name": "stdout",
     "output_type": "stream",
     "text": [
      "\u001b[36m(compute_reachable pid=71122)\u001b[0m rip 398\u001b[32m [repeated 9x across cluster]\u001b[0m\n"
     ]
    },
    {
     "name": "stderr",
     "output_type": "stream",
     "text": [
      "(pid=71131)  0:  37%|███▋      | 385/1.05k [19:59<35:41, 3.22s/it]"
     ]
    },
    {
     "name": "stdout",
     "output_type": "stream",
     "text": [
      "\u001b[36m(compute_reachable pid=71129)\u001b[0m rip 375\u001b[32m [repeated 3x across cluster]\u001b[0m\n"
     ]
    },
    {
     "name": "stderr",
     "output_type": "stream",
     "text": [
      "(pid=71131)  0:  37%|███▋      | 385/1.05k [20:05<35:41, 3.22s/it]"
     ]
    },
    {
     "name": "stdout",
     "output_type": "stream",
     "text": [
      "\u001b[36m(compute_reachable pid=71122)\u001b[0m rip 300\u001b[32m [repeated 2x across cluster]\u001b[0m\n"
     ]
    },
    {
     "name": "stderr",
     "output_type": "stream",
     "text": [
      "(pid=71131)  0:  37%|███▋      | 391/1.05k [20:11<23:15, 2.11s/it]"
     ]
    },
    {
     "name": "stdout",
     "output_type": "stream",
     "text": [
      "\u001b[36m(compute_reachable pid=71120)\u001b[0m rip 496\u001b[32m [repeated 6x across cluster]\u001b[0m\n"
     ]
    },
    {
     "name": "stderr",
     "output_type": "stream",
     "text": [
      "(pid=71131)  0:  37%|███▋      | 393/1.05k [20:16<26:28, 2.41s/it]"
     ]
    },
    {
     "name": "stdout",
     "output_type": "stream",
     "text": [
      "\u001b[36m(compute_reachable pid=71124)\u001b[0m rip 522\u001b[32m [repeated 2x across cluster]\u001b[0m\n"
     ]
    },
    {
     "name": "stderr",
     "output_type": "stream",
     "text": [
      "(pid=71131)  0:  38%|███▊      | 395/1.05k [20:24<25:48, 2.36s/it]"
     ]
    },
    {
     "name": "stdout",
     "output_type": "stream",
     "text": [
      "\u001b[36m(compute_reachable pid=71119)\u001b[0m rip 177\u001b[32m [repeated 10x across cluster]\u001b[0m\n"
     ]
    },
    {
     "name": "stderr",
     "output_type": "stream",
     "text": [
      "(pid=71131)  0:  38%|███▊      | 397/1.05k [20:30<34:30, 3.17s/it]"
     ]
    },
    {
     "name": "stdout",
     "output_type": "stream",
     "text": [
      "\u001b[36m(compute_reachable pid=71127)\u001b[0m rip 188\u001b[32m [repeated 5x across cluster]\u001b[0m\n"
     ]
    },
    {
     "name": "stderr",
     "output_type": "stream",
     "text": [
      "(pid=71131)  0:  38%|███▊      | 398/1.05k [20:40<1:00:24, 5.55s/it]"
     ]
    },
    {
     "name": "stdout",
     "output_type": "stream",
     "text": [
      "\u001b[36m(compute_reachable pid=71130)\u001b[0m rip 547\u001b[32m [repeated 2x across cluster]\u001b[0m\n"
     ]
    },
    {
     "name": "stderr",
     "output_type": "stream",
     "text": [
      "(pid=71131)  0:  38%|███▊      | 401/1.05k [20:45<33:43, 3.11s/it]  "
     ]
    },
    {
     "name": "stdout",
     "output_type": "stream",
     "text": [
      "\u001b[36m(compute_reachable pid=71123)\u001b[0m rip 122\u001b[32m [repeated 6x across cluster]\u001b[0m\n"
     ]
    },
    {
     "name": "stderr",
     "output_type": "stream",
     "text": [
      "(pid=71131)  0:  39%|███▊      | 405/1.05k [20:51<25:00, 2.32s/it]"
     ]
    },
    {
     "name": "stdout",
     "output_type": "stream",
     "text": [
      "\u001b[36m(compute_reachable pid=71124)\u001b[0m rip 474\u001b[32m [repeated 7x across cluster]\u001b[0m\n"
     ]
    },
    {
     "name": "stderr",
     "output_type": "stream",
     "text": [
      "(pid=71131)  0:  39%|███▊      | 407/1.05k [20:57<28:00, 2.61s/it]"
     ]
    },
    {
     "name": "stdout",
     "output_type": "stream",
     "text": [
      "\u001b[36m(compute_reachable pid=71129)\u001b[0m rip 540\u001b[32m [repeated 5x across cluster]\u001b[0m\n"
     ]
    },
    {
     "name": "stderr",
     "output_type": "stream",
     "text": [
      "(pid=71131)  0:  39%|███▉      | 408/1.05k [21:02<30:48, 2.87s/it]"
     ]
    },
    {
     "name": "stdout",
     "output_type": "stream",
     "text": [
      "\u001b[36m(compute_reachable pid=71127)\u001b[0m rip 63\u001b[32m [repeated 3x across cluster]\u001b[0m\n"
     ]
    },
    {
     "name": "stderr",
     "output_type": "stream",
     "text": [
      "(pid=71131)  0:  39%|███▉      | 410/1.05k [21:16<58:17, 5.46s/it]"
     ]
    },
    {
     "name": "stdout",
     "output_type": "stream",
     "text": [
      "\u001b[36m(compute_reachable pid=71130)\u001b[0m rip 474\u001b[32m [repeated 2x across cluster]\u001b[0m\n"
     ]
    },
    {
     "name": "stderr",
     "output_type": "stream",
     "text": [
      "(pid=71131)  0:  39%|███▉      | 413/1.05k [21:21<36:59, 3.48s/it]"
     ]
    },
    {
     "name": "stdout",
     "output_type": "stream",
     "text": [
      "\u001b[36m(compute_reachable pid=71126)\u001b[0m rip 528\u001b[32m [repeated 3x across cluster]\u001b[0m\n"
     ]
    },
    {
     "name": "stderr",
     "output_type": "stream",
     "text": [
      "(pid=71131)  0:  40%|███▉      | 417/1.05k [21:29<29:30, 2.79s/it]"
     ]
    },
    {
     "name": "stdout",
     "output_type": "stream",
     "text": [
      "\u001b[36m(compute_reachable pid=71124)\u001b[0m rip 541\u001b[32m [repeated 4x across cluster]\u001b[0m\n"
     ]
    },
    {
     "name": "stderr",
     "output_type": "stream",
     "text": [
      "(pid=71131)  0:  40%|███▉      | 419/1.05k [21:35<30:00, 2.85s/it]"
     ]
    },
    {
     "name": "stdout",
     "output_type": "stream",
     "text": [
      "\u001b[36m(compute_reachable pid=71129)\u001b[0m rip 529\u001b[32m [repeated 2x across cluster]\u001b[0m\n"
     ]
    },
    {
     "name": "stderr",
     "output_type": "stream",
     "text": [
      "(pid=71131)  0:  40%|████      | 421/1.05k [21:41<30:40, 2.92s/it]"
     ]
    },
    {
     "name": "stdout",
     "output_type": "stream",
     "text": [
      "\u001b[36m(compute_reachable pid=71122)\u001b[0m rip 66\u001b[32m [repeated 3x across cluster]\u001b[0m\n"
     ]
    },
    {
     "name": "stderr",
     "output_type": "stream",
     "text": [
      "(pid=71131)  0:  40%|████      | 421/1.05k [21:51<30:40, 2.92s/it]"
     ]
    },
    {
     "name": "stdout",
     "output_type": "stream",
     "text": [
      "\u001b[36m(compute_reachable pid=71130)\u001b[0m rip 540\n"
     ]
    },
    {
     "name": "stderr",
     "output_type": "stream",
     "text": [
      "(pid=71131)  0:  40%|████      | 421/1.05k [21:52<30:40, 2.92s/it]"
     ]
    },
    {
     "name": "stdout",
     "output_type": "stream",
     "text": [
      "\u001b[36m(compute_reachable pid=71128)\u001b[0m rip 540\n"
     ]
    },
    {
     "name": "stderr",
     "output_type": "stream",
     "text": [
      "(pid=71131)  0:  40%|████      | 425/1.05k [21:58<34:53, 3.34s/it]"
     ]
    },
    {
     "name": "stdout",
     "output_type": "stream",
     "text": [
      "\u001b[36m(compute_reachable pid=71125)\u001b[0m rip 133\u001b[32m [repeated 8x across cluster]\u001b[0m\n"
     ]
    },
    {
     "name": "stderr",
     "output_type": "stream",
     "text": [
      "(pid=71131)  0:  41%|████      | 428/1.05k [22:04<26:02, 2.51s/it]"
     ]
    },
    {
     "name": "stdout",
     "output_type": "stream",
     "text": [
      "\u001b[36m(compute_reachable pid=71119)\u001b[0m rip 544\u001b[32m [repeated 6x across cluster]\u001b[0m\n"
     ]
    },
    {
     "name": "stderr",
     "output_type": "stream",
     "text": [
      "(pid=71131)  0:  41%|████      | 430/1.05k [22:09<27:18, 2.64s/it]"
     ]
    },
    {
     "name": "stdout",
     "output_type": "stream",
     "text": [
      "\u001b[36m(compute_reachable pid=71122)\u001b[0m rip 540\u001b[32m [repeated 5x across cluster]\u001b[0m\n"
     ]
    },
    {
     "name": "stderr",
     "output_type": "stream",
     "text": [
      "(pid=71131)  0:  41%|████      | 433/1.05k [22:15<25:18, 2.46s/it]"
     ]
    },
    {
     "name": "stdout",
     "output_type": "stream",
     "text": [
      "\u001b[36m(compute_reachable pid=71122)\u001b[0m rip 203\u001b[32m [repeated 3x across cluster]\u001b[0m\n"
     ]
    },
    {
     "name": "stderr",
     "output_type": "stream",
     "text": [
      "(pid=71131)  0:  41%|████      | 433/1.05k [22:22<25:18, 2.46s/it]"
     ]
    },
    {
     "name": "stdout",
     "output_type": "stream",
     "text": [
      "\u001b[36m(compute_reachable pid=71130)\u001b[0m rip 546\u001b[32m [repeated 2x across cluster]\u001b[0m\n"
     ]
    },
    {
     "name": "stderr",
     "output_type": "stream",
     "text": [
      "(pid=71131)  0:  41%|████      | 433/1.05k [22:28<25:18, 2.46s/it]"
     ]
    },
    {
     "name": "stdout",
     "output_type": "stream",
     "text": [
      "\u001b[36m(compute_reachable pid=71121)\u001b[0m rip 544\u001b[32m [repeated 5x across cluster]\u001b[0m\n"
     ]
    },
    {
     "name": "stderr",
     "output_type": "stream",
     "text": [
      "(pid=71131)  0:  42%|████▏     | 437/1.05k [22:34<31:12, 3.05s/it]"
     ]
    },
    {
     "name": "stdout",
     "output_type": "stream",
     "text": [
      "\u001b[36m(compute_reachable pid=71129)\u001b[0m rip 540\u001b[32m [repeated 8x across cluster]\u001b[0m\n"
     ]
    },
    {
     "name": "stderr",
     "output_type": "stream",
     "text": [
      "(pid=71131)  0:  42%|████▏     | 440/1.05k [22:39<25:09, 2.47s/it]"
     ]
    },
    {
     "name": "stdout",
     "output_type": "stream",
     "text": [
      "\u001b[36m(compute_reachable pid=71122)\u001b[0m rip 544\u001b[32m [repeated 4x across cluster]\u001b[0m\n"
     ]
    },
    {
     "name": "stderr",
     "output_type": "stream",
     "text": [
      "(pid=71131)  0:  42%|████▏     | 443/1.05k [22:45<24:58, 2.47s/it]"
     ]
    },
    {
     "name": "stdout",
     "output_type": "stream",
     "text": [
      "\u001b[36m(compute_reachable pid=71129)\u001b[0m rip 338\u001b[32m [repeated 3x across cluster]\u001b[0m\n"
     ]
    },
    {
     "name": "stderr",
     "output_type": "stream",
     "text": [
      "(pid=71131)  0:  42%|████▏     | 444/1.05k [22:50<30:01, 2.97s/it]"
     ]
    },
    {
     "name": "stdout",
     "output_type": "stream",
     "text": [
      "\u001b[36m(compute_reachable pid=71128)\u001b[0m rip 527\u001b[32m [repeated 5x across cluster]\u001b[0m\n"
     ]
    },
    {
     "name": "stderr",
     "output_type": "stream",
     "text": [
      "(pid=71131)  0:  42%|████▏     | 444/1.05k [22:55<30:01, 2.97s/it]"
     ]
    },
    {
     "name": "stdout",
     "output_type": "stream",
     "text": [
      "\u001b[36m(compute_reachable pid=71121)\u001b[0m rip 490\u001b[32m [repeated 4x across cluster]\u001b[0m\n"
     ]
    },
    {
     "name": "stderr",
     "output_type": "stream",
     "text": [
      "(pid=71131)  0:  42%|████▏     | 444/1.05k [23:01<30:01, 2.97s/it]"
     ]
    },
    {
     "name": "stdout",
     "output_type": "stream",
     "text": [
      "\u001b[36m(compute_reachable pid=71119)\u001b[0m rip 497\u001b[32m [repeated 2x across cluster]\u001b[0m\n"
     ]
    },
    {
     "name": "stderr",
     "output_type": "stream",
     "text": [
      "(pid=71131)  0:  43%|████▎     | 449/1.05k [23:06<29:30, 2.94s/it]"
     ]
    },
    {
     "name": "stdout",
     "output_type": "stream",
     "text": [
      "\u001b[36m(compute_reachable pid=71126)\u001b[0m rip 392\u001b[32m [repeated 8x across cluster]\u001b[0m\n"
     ]
    },
    {
     "name": "stderr",
     "output_type": "stream",
     "text": [
      "(pid=71131)  0:  43%|████▎     | 453/1.05k [23:15<27:05, 2.72s/it]"
     ]
    },
    {
     "name": "stdout",
     "output_type": "stream",
     "text": [
      "\u001b[36m(compute_reachable pid=71124)\u001b[0m rip 459\u001b[32m [repeated 3x across cluster]\u001b[0m\n"
     ]
    },
    {
     "name": "stderr",
     "output_type": "stream",
     "text": [
      "(pid=71131)  0:  43%|████▎     | 455/1.05k [23:22<24:54, 2.51s/it]"
     ]
    },
    {
     "name": "stdout",
     "output_type": "stream",
     "text": [
      "\u001b[36m(compute_reachable pid=71120)\u001b[0m rip 393\u001b[32m [repeated 8x across cluster]\u001b[0m\n"
     ]
    },
    {
     "name": "stderr",
     "output_type": "stream",
     "text": [
      "(pid=71131)  0:  43%|████▎     | 456/1.05k [23:28<29:23, 2.96s/it]"
     ]
    },
    {
     "name": "stdout",
     "output_type": "stream",
     "text": [
      "\u001b[36m(compute_reachable pid=71124)\u001b[0m rip 397\u001b[32m [repeated 4x across cluster]\u001b[0m\n"
     ]
    },
    {
     "name": "stderr",
     "output_type": "stream",
     "text": [
      "(pid=71131)  0:  43%|████▎     | 456/1.05k [23:34<29:23, 2.96s/it]"
     ]
    },
    {
     "name": "stdout",
     "output_type": "stream",
     "text": [
      "\u001b[36m(compute_reachable pid=71122)\u001b[0m rip 331\u001b[32m [repeated 3x across cluster]\u001b[0m\n"
     ]
    },
    {
     "name": "stderr",
     "output_type": "stream",
     "text": [
      "(pid=71131)  0:  44%|████▍     | 461/1.05k [23:40<28:05, 2.86s/it]"
     ]
    },
    {
     "name": "stdout",
     "output_type": "stream",
     "text": [
      "\u001b[36m(compute_reachable pid=71125)\u001b[0m rip 512\u001b[32m [repeated 5x across cluster]\u001b[0m\n"
     ]
    },
    {
     "name": "stderr",
     "output_type": "stream",
     "text": [
      "(pid=71131)  0:  44%|████▍     | 464/1.05k [23:45<23:21, 2.39s/it]"
     ]
    },
    {
     "name": "stdout",
     "output_type": "stream",
     "text": [
      "\u001b[36m(compute_reachable pid=71130)\u001b[0m rip 256\u001b[32m [repeated 3x across cluster]\u001b[0m\n"
     ]
    },
    {
     "name": "stderr",
     "output_type": "stream",
     "text": [
      "(pid=71131)  0:  44%|████▍     | 465/1.05k [23:51<26:13, 2.69s/it]"
     ]
    },
    {
     "name": "stdout",
     "output_type": "stream",
     "text": [
      "\u001b[36m(compute_reachable pid=71120)\u001b[0m rip 271\u001b[32m [repeated 7x across cluster]\u001b[0m\n"
     ]
    },
    {
     "name": "stderr",
     "output_type": "stream",
     "text": [
      "(pid=71131)  0:  44%|████▍     | 467/1.05k [23:58<26:29, 2.72s/it]"
     ]
    },
    {
     "name": "stdout",
     "output_type": "stream",
     "text": [
      "\u001b[36m(compute_reachable pid=71119)\u001b[0m rip 203\u001b[32m [repeated 5x across cluster]\u001b[0m\n"
     ]
    },
    {
     "name": "stderr",
     "output_type": "stream",
     "text": [
      "(pid=71131)  0:  45%|████▍     | 468/1.05k [24:03<29:11, 3.00s/it]"
     ]
    },
    {
     "name": "stdout",
     "output_type": "stream",
     "text": [
      "\u001b[36m(compute_reachable pid=71127)\u001b[0m rip 128\u001b[32m [repeated 4x across cluster]\u001b[0m\n"
     ]
    },
    {
     "name": "stderr",
     "output_type": "stream",
     "text": [
      "(pid=71131)  0:  45%|████▍     | 470/1.05k [24:10<41:54, 4.33s/it]"
     ]
    },
    {
     "name": "stdout",
     "output_type": "stream",
     "text": [
      "\u001b[36m(compute_reachable pid=71123)\u001b[0m rip 502\u001b[32m [repeated 2x across cluster]\u001b[0m\n"
     ]
    },
    {
     "name": "stderr",
     "output_type": "stream",
     "text": [
      "(pid=71131)  0:  45%|████▌     | 473/1.05k [24:15<27:32, 2.86s/it]"
     ]
    },
    {
     "name": "stdout",
     "output_type": "stream",
     "text": [
      "\u001b[36m(compute_reachable pid=71128)\u001b[0m rip 138\u001b[32m [repeated 7x across cluster]\u001b[0m\n"
     ]
    },
    {
     "name": "stderr",
     "output_type": "stream",
     "text": [
      "(pid=71131)  0:  45%|████▌     | 476/1.05k [24:22<23:57, 2.50s/it]"
     ]
    },
    {
     "name": "stdout",
     "output_type": "stream",
     "text": [
      "\u001b[36m(compute_reachable pid=71121)\u001b[0m rip 67\u001b[32m [repeated 6x across cluster]\u001b[0m\n"
     ]
    },
    {
     "name": "stderr",
     "output_type": "stream",
     "text": [
      "(pid=71131)  0:  45%|████▌     | 478/1.05k [24:29<26:18, 2.76s/it]"
     ]
    },
    {
     "name": "stdout",
     "output_type": "stream",
     "text": [
      "\u001b[36m(compute_reachable pid=71119)\u001b[0m rip 67\u001b[32m [repeated 4x across cluster]\u001b[0m\n"
     ]
    },
    {
     "name": "stderr",
     "output_type": "stream",
     "text": [
      "(pid=71131)  0:  46%|████▌     | 481/1.05k [24:35<25:58, 2.73s/it]"
     ]
    },
    {
     "name": "stdout",
     "output_type": "stream",
     "text": [
      "\u001b[36m(compute_reachable pid=71127)\u001b[0m rip 512\u001b[32m [repeated 3x across cluster]\u001b[0m\n"
     ]
    },
    {
     "name": "stderr",
     "output_type": "stream",
     "text": [
      "(pid=71131)  0:  46%|████▌     | 482/1.05k [24:46<47:12, 4.98s/it]"
     ]
    },
    {
     "name": "stdout",
     "output_type": "stream",
     "text": [
      "\u001b[36m(compute_reachable pid=71130)\u001b[0m rip 576\n"
     ]
    },
    {
     "name": "stderr",
     "output_type": "stream",
     "text": [
      "(pid=71131)  0:  46%|████▌     | 482/1.05k [24:46<47:12, 4.98s/it]"
     ]
    },
    {
     "name": "stdout",
     "output_type": "stream",
     "text": [
      "\u001b[36m(compute_reachable pid=71128)\u001b[0m rip 558\n"
     ]
    },
    {
     "name": "stderr",
     "output_type": "stream",
     "text": [
      "(pid=71131)  0:  46%|████▋     | 487/1.05k [24:54<25:26, 2.71s/it]"
     ]
    },
    {
     "name": "stdout",
     "output_type": "stream",
     "text": [
      "\u001b[36m(compute_reachable pid=71120)\u001b[0m rip 567\u001b[32m [repeated 4x across cluster]\u001b[0m\n"
     ]
    },
    {
     "name": "stderr",
     "output_type": "stream",
     "text": [
      "(pid=71131)  0:  47%|████▋     | 489/1.05k [25:02<32:00, 3.42s/it]"
     ]
    },
    {
     "name": "stdout",
     "output_type": "stream",
     "text": [
      "\u001b[36m(compute_reachable pid=71124)\u001b[0m rip 559\u001b[32m [repeated 2x across cluster]\u001b[0m\n"
     ]
    },
    {
     "name": "stderr",
     "output_type": "stream",
     "text": [
      "(pid=71131)  0:  47%|████▋     | 491/1.05k [25:08<29:48, 3.19s/it]"
     ]
    },
    {
     "name": "stdout",
     "output_type": "stream",
     "text": [
      "\u001b[36m(compute_reachable pid=71129)\u001b[0m rip 66\u001b[32m [repeated 3x across cluster]\u001b[0m\n"
     ]
    },
    {
     "name": "stderr",
     "output_type": "stream",
     "text": [
      "(pid=71131)  0:  47%|████▋     | 493/1.05k [25:14<28:07, 3.02s/it]"
     ]
    },
    {
     "name": "stdout",
     "output_type": "stream",
     "text": [
      "\u001b[36m(compute_reachable pid=71127)\u001b[0m rip 70\u001b[32m [repeated 4x across cluster]\u001b[0m\n"
     ]
    },
    {
     "name": "stderr",
     "output_type": "stream",
     "text": [
      "(pid=71131)  0:  47%|████▋     | 493/1.05k [25:19<28:07, 3.02s/it]"
     ]
    },
    {
     "name": "stdout",
     "output_type": "stream",
     "text": [
      "\u001b[36m(compute_reachable pid=71123)\u001b[0m rip 553\n"
     ]
    },
    {
     "name": "stderr",
     "output_type": "stream",
     "text": [
      "(pid=71131)  0:  47%|████▋     | 493/1.05k [25:21<28:07, 3.02s/it]"
     ]
    },
    {
     "name": "stdout",
     "output_type": "stream",
     "text": [
      "\u001b[36m(compute_reachable pid=71130)\u001b[0m rip 549\n"
     ]
    },
    {
     "name": "stderr",
     "output_type": "stream",
     "text": [
      "(pid=71131)  0:  47%|████▋     | 494/1.05k [25:27<45:37, 4.92s/it]"
     ]
    },
    {
     "name": "stdout",
     "output_type": "stream",
     "text": [
      "\u001b[36m(compute_reachable pid=71120)\u001b[0m rip 549\u001b[32m [repeated 7x across cluster]\u001b[0m\n"
     ]
    },
    {
     "name": "stderr",
     "output_type": "stream",
     "text": [
      "(pid=71131)  0:  47%|████▋     | 499/1.05k [25:33<23:35, 2.56s/it]"
     ]
    },
    {
     "name": "stdout",
     "output_type": "stream",
     "text": [
      "\u001b[36m(compute_reachable pid=71124)\u001b[0m rip 553\u001b[32m [repeated 5x across cluster]\u001b[0m\n"
     ]
    },
    {
     "name": "stderr",
     "output_type": "stream",
     "text": [
      "(pid=71131)  0:  48%|████▊     | 501/1.05k [25:39<28:48, 3.14s/it]"
     ]
    },
    {
     "name": "stdout",
     "output_type": "stream",
     "text": [
      "\u001b[36m(compute_reachable pid=71124)\u001b[0m rip 200\u001b[32m [repeated 4x across cluster]\u001b[0m\n"
     ]
    },
    {
     "name": "stderr",
     "output_type": "stream",
     "text": [
      "(pid=71131)  0:  48%|████▊     | 504/1.05k [25:46<25:44, 2.82s/it]"
     ]
    },
    {
     "name": "stdout",
     "output_type": "stream",
     "text": [
      "\u001b[36m(compute_reachable pid=71122)\u001b[0m rip 210\u001b[32m [repeated 5x across cluster]\u001b[0m\n"
     ]
    },
    {
     "name": "stderr",
     "output_type": "stream",
     "text": [
      "(pid=71131)  0:  48%|████▊     | 505/1.05k [25:53<28:26, 3.13s/it]"
     ]
    },
    {
     "name": "stdout",
     "output_type": "stream",
     "text": [
      "\u001b[36m(compute_reachable pid=71125)\u001b[0m rip 549\u001b[32m [repeated 5x across cluster]\u001b[0m\n"
     ]
    },
    {
     "name": "stderr",
     "output_type": "stream",
     "text": [
      "(pid=71131)  0:  48%|████▊     | 506/1.05k [25:58<40:45, 4.49s/it]"
     ]
    },
    {
     "name": "stdout",
     "output_type": "stream",
     "text": [
      "\u001b[36m(compute_reachable pid=71128)\u001b[0m rip 282\u001b[32m [repeated 5x across cluster]\u001b[0m\n"
     ]
    },
    {
     "name": "stderr",
     "output_type": "stream",
     "text": [
      "(pid=71131)  0:  49%|████▊     | 510/1.05k [26:04<21:42, 2.41s/it]"
     ]
    },
    {
     "name": "stdout",
     "output_type": "stream",
     "text": [
      "\u001b[36m(compute_reachable pid=71119)\u001b[0m rip 550\u001b[32m [repeated 5x across cluster]\u001b[0m\n"
     ]
    },
    {
     "name": "stderr",
     "output_type": "stream",
     "text": [
      "(pid=71131)  0:  49%|████▊     | 512/1.05k [26:11<21:14, 2.36s/it]"
     ]
    },
    {
     "name": "stdout",
     "output_type": "stream",
     "text": [
      "\u001b[36m(compute_reachable pid=71127)\u001b[0m rip 544\u001b[32m [repeated 5x across cluster]\u001b[0m\n"
     ]
    },
    {
     "name": "stderr",
     "output_type": "stream",
     "text": [
      "(pid=71131)  0:  49%|████▉     | 515/1.05k [26:18<27:12, 3.05s/it]"
     ]
    },
    {
     "name": "stdout",
     "output_type": "stream",
     "text": [
      "\u001b[36m(compute_reachable pid=71129)\u001b[0m rip 325\u001b[32m [repeated 3x across cluster]\u001b[0m\n"
     ]
    },
    {
     "name": "stderr",
     "output_type": "stream",
     "text": [
      "(pid=71131)  0:  49%|████▉     | 516/1.05k [26:24<22:35, 2.53s/it]"
     ]
    },
    {
     "name": "stdout",
     "output_type": "stream",
     "text": [
      "\u001b[36m(compute_reachable pid=71120)\u001b[0m rip 503\u001b[32m [repeated 7x across cluster]\u001b[0m\n"
     ]
    },
    {
     "name": "stderr",
     "output_type": "stream",
     "text": [
      "(pid=71131)  0:  49%|████▉     | 517/1.05k [26:30<29:59, 3.37s/it]"
     ]
    },
    {
     "name": "stdout",
     "output_type": "stream",
     "text": [
      "\u001b[36m(compute_reachable pid=71119)\u001b[0m rip 453\u001b[32m [repeated 3x across cluster]\u001b[0m\n"
     ]
    },
    {
     "name": "stderr",
     "output_type": "stream",
     "text": [
      "(pid=71131)  0:  49%|████▉     | 518/1.05k [26:35<38:20, 4.32s/it]"
     ]
    },
    {
     "name": "stdout",
     "output_type": "stream",
     "text": [
      "\u001b[36m(compute_reachable pid=71122)\u001b[0m rip 457\u001b[32m [repeated 6x across cluster]\u001b[0m\n"
     ]
    },
    {
     "name": "stderr",
     "output_type": "stream",
     "text": [
      "(pid=71131)  0:  50%|████▉     | 523/1.05k [26:41<20:19, 2.31s/it]"
     ]
    },
    {
     "name": "stdout",
     "output_type": "stream",
     "text": [
      "\u001b[36m(compute_reachable pid=71127)\u001b[0m rip 453\u001b[32m [repeated 4x across cluster]\u001b[0m\n"
     ]
    },
    {
     "name": "stderr",
     "output_type": "stream",
     "text": [
      "(pid=71131)  0:  50%|████▉     | 525/1.05k [26:46<25:45, 2.94s/it]"
     ]
    },
    {
     "name": "stdout",
     "output_type": "stream",
     "text": [
      "\u001b[36m(compute_reachable pid=71124)\u001b[0m rip 435\u001b[32m [repeated 4x across cluster]\u001b[0m\n"
     ]
    },
    {
     "name": "stderr",
     "output_type": "stream",
     "text": [
      "(pid=71131)  0:  50%|█████     | 526/1.05k [26:52<22:16, 2.55s/it]"
     ]
    },
    {
     "name": "stdout",
     "output_type": "stream",
     "text": [
      "\u001b[36m(compute_reachable pid=71120)\u001b[0m rip 397\u001b[32m [repeated 5x across cluster]\u001b[0m\n"
     ]
    },
    {
     "name": "stderr",
     "output_type": "stream",
     "text": [
      "(pid=71131)  0:  50%|█████     | 528/1.05k [26:57<23:20, 2.68s/it]"
     ]
    },
    {
     "name": "stdout",
     "output_type": "stream",
     "text": [
      "\u001b[36m(compute_reachable pid=71124)\u001b[0m rip 341\u001b[32m [repeated 4x across cluster]\u001b[0m\n"
     ]
    },
    {
     "name": "stderr",
     "output_type": "stream",
     "text": [
      "(pid=71131)  0:  50%|█████     | 529/1.05k [27:03<30:42, 3.53s/it]"
     ]
    },
    {
     "name": "stdout",
     "output_type": "stream",
     "text": [
      "\u001b[36m(compute_reachable pid=71129)\u001b[0m rip 338\u001b[32m [repeated 3x across cluster]\u001b[0m\n"
     ]
    },
    {
     "name": "stderr",
     "output_type": "stream",
     "text": [
      "(pid=71131)  0:  50%|█████     | 530/1.05k [27:08<35:40, 4.11s/it]"
     ]
    },
    {
     "name": "stdout",
     "output_type": "stream",
     "text": [
      "\u001b[36m(compute_reachable pid=71127)\u001b[0m rip 272\u001b[32m [repeated 5x across cluster]\u001b[0m\n"
     ]
    },
    {
     "name": "stderr",
     "output_type": "stream",
     "text": [
      "(pid=71131)  0:  51%|█████     | 535/1.05k [27:14<18:54, 2.20s/it]"
     ]
    },
    {
     "name": "stdout",
     "output_type": "stream",
     "text": [
      "\u001b[36m(compute_reachable pid=71123)\u001b[0m rip 279\u001b[32m [repeated 4x across cluster]\u001b[0m\n"
     ]
    },
    {
     "name": "stderr",
     "output_type": "stream",
     "text": [
      "(pid=71131)  0:  51%|█████     | 536/1.05k [27:19<26:11, 3.05s/it]"
     ]
    },
    {
     "name": "stdout",
     "output_type": "stream",
     "text": [
      "\u001b[36m(compute_reachable pid=71120)\u001b[0m rip 208\u001b[32m [repeated 6x across cluster]\u001b[0m\n"
     ]
    },
    {
     "name": "stderr",
     "output_type": "stream",
     "text": [
      "(pid=71131)  0:  51%|█████     | 538/1.05k [27:24<22:06, 2.59s/it]"
     ]
    },
    {
     "name": "stdout",
     "output_type": "stream",
     "text": [
      "\u001b[36m(compute_reachable pid=71121)\u001b[0m rip 212\u001b[32m [repeated 3x across cluster]\u001b[0m\n"
     ]
    },
    {
     "name": "stderr",
     "output_type": "stream",
     "text": [
      "(pid=71131)  0:  51%|█████▏    | 539/1.05k [27:31<25:36, 3.00s/it]"
     ]
    },
    {
     "name": "stdout",
     "output_type": "stream",
     "text": [
      "\u001b[36m(compute_reachable pid=71129)\u001b[0m rip 136\u001b[32m [repeated 5x across cluster]\u001b[0m\n"
     ]
    },
    {
     "name": "stderr",
     "output_type": "stream",
     "text": [
      "(pid=71131)  0:  51%|█████▏    | 541/1.05k [27:39<29:49, 3.51s/it]"
     ]
    },
    {
     "name": "stdout",
     "output_type": "stream",
     "text": [
      "\u001b[36m(compute_reachable pid=71127)\u001b[0m rip 142\u001b[32m [repeated 3x across cluster]\u001b[0m\n"
     ]
    },
    {
     "name": "stderr",
     "output_type": "stream",
     "text": [
      "(pid=71131)  0:  52%|█████▏    | 545/1.05k [27:44<21:47, 2.58s/it]"
     ]
    },
    {
     "name": "stdout",
     "output_type": "stream",
     "text": [
      "\u001b[36m(compute_reachable pid=71123)\u001b[0m rip 136\u001b[32m [repeated 6x across cluster]\u001b[0m\n"
     ]
    },
    {
     "name": "stderr",
     "output_type": "stream",
     "text": [
      "(pid=71131)  0:  52%|█████▏    | 547/1.05k [27:50<20:41, 2.46s/it]"
     ]
    },
    {
     "name": "stdout",
     "output_type": "stream",
     "text": [
      "\u001b[36m(compute_reachable pid=71120)\u001b[0m rip 69\u001b[32m [repeated 6x across cluster]\u001b[0m\n"
     ]
    },
    {
     "name": "stderr",
     "output_type": "stream",
     "text": [
      "(pid=71131)  0:  52%|█████▏    | 548/1.05k [27:56<26:54, 3.21s/it]"
     ]
    },
    {
     "name": "stdout",
     "output_type": "stream",
     "text": [
      "\u001b[36m(compute_reachable pid=71121)\u001b[0m rip 67\u001b[32m [repeated 2x across cluster]\u001b[0m\n"
     ]
    },
    {
     "name": "stderr",
     "output_type": "stream",
     "text": [
      "(pid=71131)  0:  52%|█████▏    | 551/1.05k [28:04<28:40, 3.44s/it]"
     ]
    },
    {
     "name": "stdout",
     "output_type": "stream",
     "text": [
      "\u001b[36m(compute_reachable pid=71129)\u001b[0m rip 512\u001b[32m [repeated 3x across cluster]\u001b[0m\n"
     ]
    },
    {
     "name": "stderr",
     "output_type": "stream",
     "text": [
      "(pid=71131)  0:  53%|█████▎    | 553/1.05k [28:12<32:07, 3.87s/it]"
     ]
    },
    {
     "name": "stdout",
     "output_type": "stream",
     "text": [
      "\u001b[36m(compute_reachable pid=71127)\u001b[0m rip 587\u001b[32m [repeated 2x across cluster]\u001b[0m\n"
     ]
    },
    {
     "name": "stderr",
     "output_type": "stream",
     "text": [
      "(pid=71131)  0:  53%|█████▎    | 556/1.05k [28:18<21:51, 2.65s/it]"
     ]
    },
    {
     "name": "stdout",
     "output_type": "stream",
     "text": [
      "\u001b[36m(compute_reachable pid=71128)\u001b[0m rip 513\u001b[32m [repeated 3x across cluster]\u001b[0m\n"
     ]
    },
    {
     "name": "stderr",
     "output_type": "stream",
     "text": [
      "(pid=71131)  0:  53%|█████▎    | 558/1.05k [28:23<21:51, 2.66s/it]"
     ]
    },
    {
     "name": "stdout",
     "output_type": "stream",
     "text": [
      "\u001b[36m(compute_reachable pid=71126)\u001b[0m rip 588\u001b[32m [repeated 2x across cluster]\u001b[0m\n"
     ]
    },
    {
     "name": "stderr",
     "output_type": "stream",
     "text": [
      "(pid=71131)  0:  53%|█████▎    | 560/1.05k [28:31<26:29, 3.24s/it]"
     ]
    },
    {
     "name": "stdout",
     "output_type": "stream",
     "text": [
      "\u001b[36m(compute_reachable pid=71121)\u001b[0m rip 512\u001b[32m [repeated 2x across cluster]\u001b[0m\n"
     ]
    },
    {
     "name": "stderr",
     "output_type": "stream",
     "text": [
      "(pid=71131)  0:  53%|█████▎    | 562/1.05k [28:39<23:02, 2.83s/it]"
     ]
    },
    {
     "name": "stdout",
     "output_type": "stream",
     "text": [
      "\u001b[36m(compute_reachable pid=71122)\u001b[0m rip 536\u001b[32m [repeated 5x across cluster]\u001b[0m\n"
     ]
    },
    {
     "name": "stderr",
     "output_type": "stream",
     "text": [
      "(pid=71131)  0:  54%|█████▎    | 563/1.05k [28:48<28:23, 3.49s/it]"
     ]
    },
    {
     "name": "stdout",
     "output_type": "stream",
     "text": [
      "\u001b[36m(compute_reachable pid=71123)\u001b[0m rip 553\u001b[32m [repeated 4x across cluster]\u001b[0m\n"
     ]
    },
    {
     "name": "stderr",
     "output_type": "stream",
     "text": [
      "(pid=71131)  0:  54%|█████▍    | 566/1.05k [28:53<27:51, 3.45s/it]"
     ]
    },
    {
     "name": "stdout",
     "output_type": "stream",
     "text": [
      "\u001b[36m(compute_reachable pid=71125)\u001b[0m rip 536\u001b[32m [repeated 7x across cluster]\u001b[0m\n"
     ]
    },
    {
     "name": "stderr",
     "output_type": "stream",
     "text": [
      "(pid=71131)  0:  54%|█████▍    | 570/1.05k [28:59<19:49, 2.47s/it]"
     ]
    },
    {
     "name": "stdout",
     "output_type": "stream",
     "text": [
      "\u001b[36m(compute_reachable pid=71126)\u001b[0m rip 133\u001b[32m [repeated 5x across cluster]\u001b[0m\n"
     ]
    },
    {
     "name": "stderr",
     "output_type": "stream",
     "text": [
      "(pid=71131)  0:  54%|█████▍    | 571/1.05k [29:05<19:03, 2.38s/it]"
     ]
    },
    {
     "name": "stdout",
     "output_type": "stream",
     "text": [
      "\u001b[36m(compute_reachable pid=71119)\u001b[0m rip 536\u001b[32m [repeated 4x across cluster]\u001b[0m\n"
     ]
    },
    {
     "name": "stderr",
     "output_type": "stream",
     "text": [
      "(pid=71131)  0:  55%|█████▍    | 573/1.05k [29:10<24:46, 3.11s/it]"
     ]
    },
    {
     "name": "stdout",
     "output_type": "stream",
     "text": [
      "\u001b[36m(compute_reachable pid=71124)\u001b[0m rip 203\u001b[32m [repeated 4x across cluster]\u001b[0m\n"
     ]
    },
    {
     "name": "stderr",
     "output_type": "stream",
     "text": [
      "(pid=71131)  0:  55%|█████▍    | 575/1.05k [29:16<25:31, 3.22s/it]"
     ]
    },
    {
     "name": "stdout",
     "output_type": "stream",
     "text": [
      "\u001b[36m(compute_reachable pid=71122)\u001b[0m rip 199\u001b[32m [repeated 2x across cluster]\u001b[0m\n"
     ]
    },
    {
     "name": "stderr",
     "output_type": "stream",
     "text": [
      "(pid=71131)  0:  55%|█████▍    | 575/1.05k [29:21<25:31, 3.22s/it]"
     ]
    },
    {
     "name": "stdout",
     "output_type": "stream",
     "text": [
      "\u001b[36m(compute_reachable pid=71125)\u001b[0m rip 554\u001b[32m [repeated 6x across cluster]\u001b[0m\n"
     ]
    },
    {
     "name": "stderr",
     "output_type": "stream",
     "text": [
      "(pid=71131)  0:  55%|█████▍    | 577/1.05k [29:27<32:21, 4.10s/it]"
     ]
    },
    {
     "name": "stdout",
     "output_type": "stream",
     "text": [
      "\u001b[36m(compute_reachable pid=71123)\u001b[0m rip 270\u001b[32m [repeated 4x across cluster]\u001b[0m\n"
     ]
    },
    {
     "name": "stderr",
     "output_type": "stream",
     "text": [
      "(pid=71131)  0:  55%|█████▌    | 579/1.05k [29:32<21:33, 2.74s/it]"
     ]
    },
    {
     "name": "stdout",
     "output_type": "stream",
     "text": [
      "\u001b[36m(compute_reachable pid=71119)\u001b[0m rip 539\u001b[32m [repeated 4x across cluster]\u001b[0m\n"
     ]
    },
    {
     "name": "stderr",
     "output_type": "stream",
     "text": [
      "(pid=71131)  0:  55%|█████▌    | 583/1.05k [29:38<19:22, 2.48s/it]"
     ]
    },
    {
     "name": "stdout",
     "output_type": "stream",
     "text": [
      "\u001b[36m(compute_reachable pid=71129)\u001b[0m rip 530\u001b[32m [repeated 6x across cluster]\u001b[0m\n"
     ]
    },
    {
     "name": "stderr",
     "output_type": "stream",
     "text": [
      "(pid=71131)  0:  56%|█████▌    | 585/1.05k [29:44<22:23, 2.88s/it]"
     ]
    },
    {
     "name": "stdout",
     "output_type": "stream",
     "text": [
      "\u001b[36m(compute_reachable pid=71124)\u001b[0m rip 325\u001b[32m [repeated 2x across cluster]\u001b[0m\n"
     ]
    },
    {
     "name": "stderr",
     "output_type": "stream",
     "text": [
      "(pid=71131)  0:  56%|█████▌    | 587/1.05k [29:50<21:48, 2.82s/it]"
     ]
    },
    {
     "name": "stdout",
     "output_type": "stream",
     "text": [
      "\u001b[36m(compute_reachable pid=71122)\u001b[0m rip 390\u001b[32m [repeated 6x across cluster]\u001b[0m\n"
     ]
    },
    {
     "name": "stderr",
     "output_type": "stream",
     "text": [
      "(pid=71131)  0:  56%|█████▌    | 588/1.05k [29:55<19:12, 2.49s/it]"
     ]
    },
    {
     "name": "stdout",
     "output_type": "stream",
     "text": [
      "\u001b[36m(compute_reachable pid=71120)\u001b[0m rip 482\u001b[32m [repeated 4x across cluster]\u001b[0m\n"
     ]
    },
    {
     "name": "stderr",
     "output_type": "stream",
     "text": [
      "(pid=71131)  0:  56%|█████▌    | 589/1.05k [30:00<31:26, 4.08s/it]"
     ]
    },
    {
     "name": "stdout",
     "output_type": "stream",
     "text": [
      "\u001b[36m(compute_reachable pid=71123)\u001b[0m rip 383\u001b[32m [repeated 3x across cluster]\u001b[0m\n"
     ]
    },
    {
     "name": "stderr",
     "output_type": "stream",
     "text": [
      "(pid=71131)  0:  56%|█████▌    | 591/1.05k [30:06<20:20, 2.65s/it]"
     ]
    },
    {
     "name": "stdout",
     "output_type": "stream",
     "text": [
      "\u001b[36m(compute_reachable pid=71122)\u001b[0m rip 440\u001b[32m [repeated 5x across cluster]\u001b[0m\n"
     ]
    },
    {
     "name": "stderr",
     "output_type": "stream",
     "text": [
      "(pid=71131)  0:  57%|█████▋    | 595/1.05k [30:11<18:26, 2.43s/it]"
     ]
    },
    {
     "name": "stdout",
     "output_type": "stream",
     "text": [
      "\u001b[36m(compute_reachable pid=71120)\u001b[0m rip 435\u001b[32m [repeated 4x across cluster]\u001b[0m\n"
     ]
    },
    {
     "name": "stderr",
     "output_type": "stream",
     "text": [
      "(pid=71131)  0:  57%|█████▋    | 596/1.05k [30:17<23:53, 3.15s/it]"
     ]
    },
    {
     "name": "stdout",
     "output_type": "stream",
     "text": [
      "\u001b[36m(compute_reachable pid=71121)\u001b[0m rip 468\u001b[32m [repeated 5x across cluster]\u001b[0m\n"
     ]
    },
    {
     "name": "stderr",
     "output_type": "stream",
     "text": [
      "(pid=71131)  0:  57%|█████▋    | 599/1.05k [30:24<20:35, 2.73s/it]"
     ]
    },
    {
     "name": "stdout",
     "output_type": "stream",
     "text": [
      "\u001b[36m(compute_reachable pid=71122)\u001b[0m rip 506\u001b[32m [repeated 6x across cluster]\u001b[0m\n"
     ]
    },
    {
     "name": "stderr",
     "output_type": "stream",
     "text": [
      "(pid=71131)  0:  57%|█████▋    | 600/1.05k [30:29<18:34, 2.47s/it]"
     ]
    },
    {
     "name": "stdout",
     "output_type": "stream",
     "text": [
      "\u001b[36m(compute_reachable pid=71124)\u001b[0m rip 325\u001b[32m [repeated 3x across cluster]\u001b[0m\n"
     ]
    },
    {
     "name": "stderr",
     "output_type": "stream",
     "text": [
      "(pid=71131)  0:  57%|█████▋    | 601/1.05k [30:35<30:58, 4.13s/it]"
     ]
    },
    {
     "name": "stdout",
     "output_type": "stream",
     "text": [
      "\u001b[36m(compute_reachable pid=71123)\u001b[0m rip 500\u001b[32m [repeated 4x across cluster]\u001b[0m\n"
     ]
    },
    {
     "name": "stderr",
     "output_type": "stream",
     "text": [
      "(pid=71131)  0:  58%|█████▊    | 605/1.05k [30:40<19:52, 2.67s/it]"
     ]
    },
    {
     "name": "stdout",
     "output_type": "stream",
     "text": [
      "\u001b[36m(compute_reachable pid=71125)\u001b[0m rip 500\u001b[32m [repeated 4x across cluster]\u001b[0m\n"
     ]
    },
    {
     "name": "stderr",
     "output_type": "stream",
     "text": [
      "(pid=71131)  0:  58%|█████▊    | 607/1.05k [30:47<18:19, 2.48s/it]"
     ]
    },
    {
     "name": "stdout",
     "output_type": "stream",
     "text": [
      "\u001b[36m(compute_reachable pid=71125)\u001b[0m rip 206\u001b[32m [repeated 7x across cluster]\u001b[0m\n"
     ]
    },
    {
     "name": "stderr",
     "output_type": "stream",
     "text": [
      "(pid=71131)  0:  58%|█████▊    | 609/1.05k [30:53<21:48, 2.96s/it]"
     ]
    },
    {
     "name": "stdout",
     "output_type": "stream",
     "text": [
      "\u001b[36m(compute_reachable pid=71124)\u001b[0m rip 566\u001b[32m [repeated 4x across cluster]\u001b[0m\n"
     ]
    },
    {
     "name": "stderr",
     "output_type": "stream",
     "text": [
      "(pid=71131)  0:  58%|█████▊    | 611/1.05k [30:58<20:06, 2.74s/it]"
     ]
    },
    {
     "name": "stdout",
     "output_type": "stream",
     "text": [
      "\u001b[36m(compute_reachable pid=71119)\u001b[0m rip 137\u001b[32m [repeated 5x across cluster]\u001b[0m\n"
     ]
    },
    {
     "name": "stderr",
     "output_type": "stream",
     "text": [
      "(pid=71131)  0:  58%|█████▊    | 612/1.05k [31:05<19:57, 2.73s/it]"
     ]
    },
    {
     "name": "stdout",
     "output_type": "stream",
     "text": [
      "\u001b[36m(compute_reachable pid=71129)\u001b[0m rip 132\u001b[32m [repeated 3x across cluster]\u001b[0m\n"
     ]
    },
    {
     "name": "stderr",
     "output_type": "stream",
     "text": [
      "(pid=71131)  0:  58%|█████▊    | 613/1.05k [31:10<30:29, 4.18s/it]"
     ]
    },
    {
     "name": "stdout",
     "output_type": "stream",
     "text": [
      "\u001b[36m(compute_reachable pid=71128)\u001b[0m rip 511\u001b[32m [repeated 2x across cluster]\u001b[0m\n"
     ]
    },
    {
     "name": "stderr",
     "output_type": "stream",
     "text": [
      "(pid=71131)  0:  59%|█████▊    | 617/1.05k [31:16<19:21, 2.68s/it]"
     ]
    },
    {
     "name": "stdout",
     "output_type": "stream",
     "text": [
      "\u001b[36m(compute_reachable pid=71125)\u001b[0m rip 554\u001b[32m [repeated 7x across cluster]\u001b[0m\n"
     ]
    },
    {
     "name": "stderr",
     "output_type": "stream",
     "text": [
      "(pid=71131)  0:  59%|█████▉    | 620/1.05k [31:27<24:21, 3.39s/it]"
     ]
    },
    {
     "name": "stdout",
     "output_type": "stream",
     "text": [
      "\u001b[36m(compute_reachable pid=71121)\u001b[0m rip 511\u001b[32m [repeated 5x across cluster]\u001b[0m\n"
     ]
    },
    {
     "name": "stderr",
     "output_type": "stream",
     "text": [
      "(pid=71131)  0:  59%|█████▉    | 623/1.05k [31:34<19:43, 2.77s/it]"
     ]
    },
    {
     "name": "stdout",
     "output_type": "stream",
     "text": [
      "\u001b[36m(compute_reachable pid=71122)\u001b[0m rip 573\u001b[32m [repeated 3x across cluster]\u001b[0m\n"
     ]
    },
    {
     "name": "stderr",
     "output_type": "stream",
     "text": [
      "(pid=71131)  0:  59%|█████▉    | 625/1.05k [31:45<29:07, 4.10s/it]"
     ]
    },
    {
     "name": "stdout",
     "output_type": "stream",
     "text": [
      "\u001b[36m(compute_reachable pid=71123)\u001b[0m rip 511\u001b[32m [repeated 2x across cluster]\u001b[0m\n"
     ]
    },
    {
     "name": "stderr",
     "output_type": "stream",
     "text": [
      "(pid=71131)  0:  60%|█████▉    | 629/1.05k [31:53<18:07, 2.58s/it]"
     ]
    },
    {
     "name": "stdout",
     "output_type": "stream",
     "text": [
      "\u001b[36m(compute_reachable pid=71125)\u001b[0m rip 567\u001b[32m [repeated 4x across cluster]\u001b[0m\n"
     ]
    },
    {
     "name": "stderr",
     "output_type": "stream",
     "text": [
      "(pid=71131)  0:  60%|██████    | 631/1.05k [32:02<16:24, 2.34s/it]"
     ]
    },
    {
     "name": "stdout",
     "output_type": "stream",
     "text": [
      "\u001b[36m(compute_reachable pid=71121)\u001b[0m rip 529\u001b[32m [repeated 4x across cluster]\u001b[0m\n"
     ]
    },
    {
     "name": "stderr",
     "output_type": "stream",
     "text": [
      "(pid=71131)  0:  60%|██████    | 633/1.05k [32:08<26:06, 3.75s/it]"
     ]
    },
    {
     "name": "stdout",
     "output_type": "stream",
     "text": [
      "\u001b[36m(compute_reachable pid=71124)\u001b[0m rip 62\u001b[32m [repeated 4x across cluster]\u001b[0m\n"
     ]
    },
    {
     "name": "stderr",
     "output_type": "stream",
     "text": [
      "(pid=71131)  0:  61%|██████    | 636/1.05k [32:15<20:34, 2.98s/it]"
     ]
    },
    {
     "name": "stdout",
     "output_type": "stream",
     "text": [
      "\u001b[36m(compute_reachable pid=71129)\u001b[0m rip 117\u001b[32m [repeated 5x across cluster]\u001b[0m\n"
     ]
    },
    {
     "name": "stderr",
     "output_type": "stream",
     "text": [
      "(pid=71131)  0:  61%|██████    | 636/1.05k [32:20<20:34, 2.98s/it]"
     ]
    },
    {
     "name": "stdout",
     "output_type": "stream",
     "text": [
      "\u001b[36m(compute_reachable pid=71128)\u001b[0m rip 516\u001b[32m [repeated 2x across cluster]\u001b[0m\n"
     ]
    },
    {
     "name": "stderr",
     "output_type": "stream",
     "text": [
      "(pid=71131)  0:  61%|██████    | 639/1.05k [32:26<20:15, 2.95s/it]"
     ]
    },
    {
     "name": "stdout",
     "output_type": "stream",
     "text": [
      "\u001b[36m(compute_reachable pid=71120)\u001b[0m rip 516\u001b[32m [repeated 7x across cluster]\u001b[0m\n"
     ]
    },
    {
     "name": "stderr",
     "output_type": "stream",
     "text": [
      "(pid=71131)  0:  61%|██████    | 643/1.05k [32:32<13:39, 2.01s/it]"
     ]
    },
    {
     "name": "stdout",
     "output_type": "stream",
     "text": [
      "\u001b[36m(compute_reachable pid=71120)\u001b[0m rip 188\u001b[32m [repeated 5x across cluster]\u001b[0m\n"
     ]
    },
    {
     "name": "stderr",
     "output_type": "stream",
     "text": [
      "(pid=71131)  0:  61%|██████    | 643/1.05k [32:38<13:39, 2.01s/it]"
     ]
    },
    {
     "name": "stdout",
     "output_type": "stream",
     "text": [
      "\u001b[36m(compute_reachable pid=71122)\u001b[0m rip 530\u001b[32m [repeated 3x across cluster]\u001b[0m\n"
     ]
    },
    {
     "name": "stderr",
     "output_type": "stream",
     "text": [
      "(pid=71131)  0:  61%|██████▏   | 645/1.05k [32:44<25:22, 3.75s/it]"
     ]
    },
    {
     "name": "stdout",
     "output_type": "stream",
     "text": [
      "\u001b[36m(compute_reachable pid=71119)\u001b[0m rip 234\u001b[32m [repeated 4x across cluster]\u001b[0m\n"
     ]
    },
    {
     "name": "stderr",
     "output_type": "stream",
     "text": [
      "(pid=71131)  0:  62%|██████▏   | 648/1.05k [32:50<19:20, 2.88s/it]"
     ]
    },
    {
     "name": "stdout",
     "output_type": "stream",
     "text": [
      "\u001b[36m(compute_reachable pid=71129)\u001b[0m rip 250\u001b[32m [repeated 5x across cluster]\u001b[0m\n"
     ]
    },
    {
     "name": "stderr",
     "output_type": "stream",
     "text": [
      "(pid=71131)  0:  62%|██████▏   | 648/1.05k [32:56<19:20, 2.88s/it]"
     ]
    },
    {
     "name": "stdout",
     "output_type": "stream",
     "text": [
      "\u001b[36m(compute_reachable pid=71120)\u001b[0m rip 499\u001b[32m [repeated 5x across cluster]\u001b[0m\n"
     ]
    },
    {
     "name": "stderr",
     "output_type": "stream",
     "text": [
      "(pid=71131)  0:  62%|██████▏   | 652/1.05k [33:02<15:53, 2.39s/it]"
     ]
    },
    {
     "name": "stdout",
     "output_type": "stream",
     "text": [
      "\u001b[36m(compute_reachable pid=71127)\u001b[0m rip 303\u001b[32m [repeated 4x across cluster]\u001b[0m\n"
     ]
    },
    {
     "name": "stderr",
     "output_type": "stream",
     "text": [
      "(pid=71131)  0:  62%|██████▏   | 655/1.05k [33:07<13:20, 2.02s/it]"
     ]
    },
    {
     "name": "stdout",
     "output_type": "stream",
     "text": [
      "\u001b[36m(compute_reachable pid=71120)\u001b[0m rip 308\u001b[32m [repeated 6x across cluster]\u001b[0m\n"
     ]
    },
    {
     "name": "stderr",
     "output_type": "stream",
     "text": [
      "(pid=71131)  0:  62%|██████▏   | 655/1.05k [33:12<13:20, 2.02s/it]"
     ]
    },
    {
     "name": "stdout",
     "output_type": "stream",
     "text": [
      "\u001b[36m(compute_reachable pid=71129)\u001b[0m rip 487\u001b[32m [repeated 2x across cluster]\u001b[0m\n"
     ]
    },
    {
     "name": "stderr",
     "output_type": "stream",
     "text": [
      "(pid=71131)  0:  63%|██████▎   | 657/1.05k [33:19<24:38, 3.75s/it]"
     ]
    },
    {
     "name": "stdout",
     "output_type": "stream",
     "text": [
      "\u001b[36m(compute_reachable pid=71130)\u001b[0m rip 468\u001b[32m [repeated 4x across cluster]\u001b[0m\n"
     ]
    },
    {
     "name": "stderr",
     "output_type": "stream",
     "text": [
      "(pid=71131)  0:  63%|██████▎   | 660/1.05k [33:25<20:11, 3.10s/it]"
     ]
    },
    {
     "name": "stdout",
     "output_type": "stream",
     "text": [
      "\u001b[36m(compute_reachable pid=71129)\u001b[0m rip 366\u001b[32m [repeated 8x across cluster]\u001b[0m\n"
     ]
    },
    {
     "name": "stderr",
     "output_type": "stream",
     "text": [
      "(pid=71131)  0:  63%|██████▎   | 661/1.05k [33:31<24:33, 3.78s/it]"
     ]
    },
    {
     "name": "stdout",
     "output_type": "stream",
     "text": [
      "\u001b[36m(compute_reachable pid=71123)\u001b[0m rip 395\n"
     ]
    },
    {
     "name": "stderr",
     "output_type": "stream",
     "text": [
      "(pid=71131)  0:  63%|██████▎   | 661/1.05k [33:32<24:33, 3.78s/it]"
     ]
    },
    {
     "name": "stdout",
     "output_type": "stream",
     "text": [
      "\u001b[36m(compute_reachable pid=71121)\u001b[0m rip 422\n"
     ]
    },
    {
     "name": "stderr",
     "output_type": "stream",
     "text": [
      "(pid=71131)  0:  63%|██████▎   | 666/1.05k [33:39<12:53, 2.01s/it]"
     ]
    },
    {
     "name": "stdout",
     "output_type": "stream",
     "text": [
      "\u001b[36m(compute_reachable pid=71126)\u001b[0m rip 438\u001b[32m [repeated 8x across cluster]\u001b[0m\n"
     ]
    },
    {
     "name": "stderr",
     "output_type": "stream",
     "text": [
      "(pid=71131)  0:  63%|██████▎   | 667/1.05k [33:44<12:47, 2.00s/it]"
     ]
    },
    {
     "name": "stdout",
     "output_type": "stream",
     "text": [
      "\u001b[36m(compute_reachable pid=71123)\u001b[0m rip 369\u001b[32m [repeated 3x across cluster]\u001b[0m\n"
     ]
    },
    {
     "name": "stderr",
     "output_type": "stream",
     "text": [
      "(pid=71131)  0:  63%|██████▎   | 667/1.05k [33:50<12:47, 2.00s/it]"
     ]
    },
    {
     "name": "stdout",
     "output_type": "stream",
     "text": [
      "\u001b[36m(compute_reachable pid=71126)\u001b[0m rip 310\u001b[32m [repeated 5x across cluster]\u001b[0m\n"
     ]
    },
    {
     "name": "stderr",
     "output_type": "stream",
     "text": [
      "(pid=71131)  0:  64%|██████▍   | 672/1.05k [34:00<18:56, 3.00s/it]"
     ]
    },
    {
     "name": "stdout",
     "output_type": "stream",
     "text": [
      "\u001b[36m(compute_reachable pid=71129)\u001b[0m rip 502\u001b[32m [repeated 6x across cluster]\u001b[0m\n"
     ]
    },
    {
     "name": "stderr",
     "output_type": "stream",
     "text": [
      "(pid=71131)  0:  64%|██████▍   | 674/1.05k [34:07<18:48, 2.99s/it]"
     ]
    },
    {
     "name": "stdout",
     "output_type": "stream",
     "text": [
      "\u001b[36m(compute_reachable pid=71128)\u001b[0m rip 516\u001b[32m [repeated 6x across cluster]\u001b[0m\n"
     ]
    },
    {
     "name": "stderr",
     "output_type": "stream",
     "text": [
      "(pid=71131)  0:  64%|██████▍   | 677/1.05k [34:12<14:00, 2.25s/it]"
     ]
    },
    {
     "name": "stdout",
     "output_type": "stream",
     "text": [
      "\u001b[36m(compute_reachable pid=71127)\u001b[0m rip 470\u001b[32m [repeated 4x across cluster]\u001b[0m\n"
     ]
    },
    {
     "name": "stderr",
     "output_type": "stream",
     "text": [
      "(pid=71131)  0:  65%|██████▍   | 679/1.05k [34:17<11:39, 1.88s/it]"
     ]
    },
    {
     "name": "stdout",
     "output_type": "stream",
     "text": [
      "\u001b[36m(compute_reachable pid=71125)\u001b[0m rip 189\u001b[32m [repeated 6x across cluster]\u001b[0m\n"
     ]
    },
    {
     "name": "stderr",
     "output_type": "stream",
     "text": [
      "(pid=71131)  0:  65%|██████▍   | 680/1.05k [34:25<25:02, 4.05s/it]"
     ]
    },
    {
     "name": "stdout",
     "output_type": "stream",
     "text": [
      "\u001b[36m(compute_reachable pid=71121)\u001b[0m rip 494\u001b[32m [repeated 4x across cluster]\u001b[0m\n"
     ]
    },
    {
     "name": "stderr",
     "output_type": "stream",
     "text": [
      "(pid=71131)  0:  65%|██████▍   | 683/1.05k [34:30<15:17, 2.49s/it]"
     ]
    },
    {
     "name": "stdout",
     "output_type": "stream",
     "text": [
      "\u001b[36m(compute_reachable pid=71122)\u001b[0m rip 541\u001b[32m [repeated 4x across cluster]\u001b[0m\n"
     ]
    },
    {
     "name": "stderr",
     "output_type": "stream",
     "text": [
      "(pid=71131)  0:  65%|██████▌   | 684/1.05k [34:37<21:49, 3.57s/it]"
     ]
    },
    {
     "name": "stdout",
     "output_type": "stream",
     "text": [
      "\u001b[36m(compute_reachable pid=71129)\u001b[0m rip 537\u001b[32m [repeated 4x across cluster]\u001b[0m\n"
     ]
    },
    {
     "name": "stderr",
     "output_type": "stream",
     "text": [
      "(pid=71131)  0:  65%|██████▌   | 685/1.05k [34:42<21:16, 3.49s/it]"
     ]
    },
    {
     "name": "stdout",
     "output_type": "stream",
     "text": [
      "\u001b[36m(compute_reachable pid=71123)\u001b[0m rip 62\u001b[32m [repeated 3x across cluster]\u001b[0m\n"
     ]
    },
    {
     "name": "stderr",
     "output_type": "stream",
     "text": [
      "(pid=71131)  0:  66%|██████▌   | 689/1.05k [34:48<14:24, 2.39s/it]"
     ]
    },
    {
     "name": "stdout",
     "output_type": "stream",
     "text": [
      "\u001b[36m(compute_reachable pid=71127)\u001b[0m rip 537\u001b[32m [repeated 6x across cluster]\u001b[0m\n"
     ]
    },
    {
     "name": "stderr",
     "output_type": "stream",
     "text": [
      "(pid=71131)  0:  66%|██████▌   | 692/1.05k [35:02<27:00, 4.51s/it]"
     ]
    },
    {
     "name": "stdout",
     "output_type": "stream",
     "text": [
      "\u001b[36m(compute_reachable pid=71121)\u001b[0m rip 522\u001b[32m [repeated 4x across cluster]\u001b[0m\n"
     ]
    },
    {
     "name": "stderr",
     "output_type": "stream",
     "text": [
      "(pid=71131)  0:  66%|██████▌   | 696/1.05k [35:15<23:57, 4.05s/it]"
     ]
    },
    {
     "name": "stdout",
     "output_type": "stream",
     "text": [
      "\u001b[36m(compute_reachable pid=71129)\u001b[0m rip 471\u001b[32m [repeated 4x across cluster]\u001b[0m\n"
     ]
    },
    {
     "name": "stderr",
     "output_type": "stream",
     "text": [
      "(pid=71131)  0:  66%|██████▋   | 698/1.05k [35:21<21:35, 3.67s/it]"
     ]
    },
    {
     "name": "stdout",
     "output_type": "stream",
     "text": [
      "\u001b[36m(compute_reachable pid=71128)\u001b[0m rip 542\u001b[32m [repeated 2x across cluster]\u001b[0m\n"
     ]
    },
    {
     "name": "stderr",
     "output_type": "stream",
     "text": [
      "(pid=71131)  0:  67%|██████▋   | 700/1.05k [35:26<15:16, 2.61s/it]"
     ]
    },
    {
     "name": "stdout",
     "output_type": "stream",
     "text": [
      "\u001b[36m(compute_reachable pid=71126)\u001b[0m rip 495\u001b[32m [repeated 4x across cluster]\u001b[0m\n"
     ]
    },
    {
     "name": "stderr",
     "output_type": "stream",
     "text": [
      "(pid=71131)  0:  67%|██████▋   | 703/1.05k [35:38<13:21, 2.30s/it]"
     ]
    },
    {
     "name": "stdout",
     "output_type": "stream",
     "text": [
      "\u001b[36m(compute_reachable pid=71122)\u001b[0m rip 495\u001b[32m [repeated 5x across cluster]\u001b[0m\n"
     ]
    },
    {
     "name": "stderr",
     "output_type": "stream",
     "text": [
      "(pid=71131)  0:  67%|██████▋   | 707/1.05k [35:44<13:37, 2.38s/it]"
     ]
    },
    {
     "name": "stdout",
     "output_type": "stream",
     "text": [
      "\u001b[36m(compute_reachable pid=71119)\u001b[0m rip 107\u001b[32m [repeated 7x across cluster]\u001b[0m\n"
     ]
    },
    {
     "name": "stderr",
     "output_type": "stream",
     "text": [
      "(pid=71131)  0:  67%|██████▋   | 707/1.05k [35:49<13:37, 2.38s/it]"
     ]
    },
    {
     "name": "stdout",
     "output_type": "stream",
     "text": [
      "\u001b[36m(compute_reachable pid=71129)\u001b[0m rip 482\n"
     ]
    },
    {
     "name": "stderr",
     "output_type": "stream",
     "text": [
      "(pid=71131)  0:  67%|██████▋   | 707/1.05k [35:51<13:37, 2.38s/it]"
     ]
    },
    {
     "name": "stdout",
     "output_type": "stream",
     "text": [
      "\u001b[36m(compute_reachable pid=71123)\u001b[0m rip 472\n"
     ]
    },
    {
     "name": "stderr",
     "output_type": "stream",
     "text": [
      "(pid=71131)  0:  67%|██████▋   | 709/1.05k [35:58<19:10, 3.36s/it]"
     ]
    },
    {
     "name": "stdout",
     "output_type": "stream",
     "text": [
      "\u001b[36m(compute_reachable pid=71127)\u001b[0m rip 482\u001b[32m [repeated 6x across cluster]\u001b[0m\n"
     ]
    },
    {
     "name": "stderr",
     "output_type": "stream",
     "text": [
      "(pid=71131)  0:  68%|██████▊   | 713/1.05k [36:04<14:51, 2.64s/it]"
     ]
    },
    {
     "name": "stdout",
     "output_type": "stream",
     "text": [
      "\u001b[36m(compute_reachable pid=71127)\u001b[0m rip 173\u001b[32m [repeated 6x across cluster]\u001b[0m\n"
     ]
    },
    {
     "name": "stderr",
     "output_type": "stream",
     "text": [
      "(pid=71131)  0:  68%|██████▊   | 715/1.05k [36:10<12:25, 2.22s/it]"
     ]
    },
    {
     "name": "stdout",
     "output_type": "stream",
     "text": [
      "\u001b[36m(compute_reachable pid=71124)\u001b[0m rip 483\u001b[32m [repeated 5x across cluster]\u001b[0m\n"
     ]
    },
    {
     "name": "stderr",
     "output_type": "stream",
     "text": [
      "(pid=71131)  0:  68%|██████▊   | 716/1.05k [36:17<21:23, 3.83s/it]"
     ]
    },
    {
     "name": "stdout",
     "output_type": "stream",
     "text": [
      "\u001b[36m(compute_reachable pid=71122)\u001b[0m rip 224\u001b[32m [repeated 2x across cluster]\u001b[0m\n"
     ]
    },
    {
     "name": "stderr",
     "output_type": "stream",
     "text": [
      "(pid=71131)  0:  68%|██████▊   | 718/1.05k [36:22<15:42, 2.83s/it]"
     ]
    },
    {
     "name": "stdout",
     "output_type": "stream",
     "text": [
      "\u001b[36m(compute_reachable pid=71128)\u001b[0m rip 496\u001b[32m [repeated 6x across cluster]\u001b[0m\n"
     ]
    },
    {
     "name": "stderr",
     "output_type": "stream",
     "text": [
      "(pid=71131)  0:  68%|██████▊   | 718/1.05k [36:28<15:42, 2.83s/it]"
     ]
    },
    {
     "name": "stdout",
     "output_type": "stream",
     "text": [
      "\u001b[36m(compute_reachable pid=71120)\u001b[0m rip 483\u001b[32m [repeated 4x across cluster]\u001b[0m\n"
     ]
    },
    {
     "name": "stderr",
     "output_type": "stream",
     "text": [
      "(pid=71131)  0:  69%|██████▊   | 722/1.05k [36:33<16:23, 2.99s/it]"
     ]
    },
    {
     "name": "stdout",
     "output_type": "stream",
     "text": [
      "\u001b[36m(compute_reachable pid=71128)\u001b[0m rip 278\u001b[32m [repeated 4x across cluster]\u001b[0m\n"
     ]
    },
    {
     "name": "stderr",
     "output_type": "stream",
     "text": [
      "(pid=71131)  0:  69%|██████▉   | 724/1.05k [36:38<12:59, 2.38s/it]"
     ]
    },
    {
     "name": "stdout",
     "output_type": "stream",
     "text": [
      "\u001b[36m(compute_reachable pid=71121)\u001b[0m rip 460\u001b[32m [repeated 4x across cluster]\u001b[0m\n"
     ]
    },
    {
     "name": "stderr",
     "output_type": "stream",
     "text": [
      "(pid=71131)  0:  69%|██████▉   | 727/1.05k [36:48<10:40, 1.98s/it]"
     ]
    },
    {
     "name": "stdout",
     "output_type": "stream",
     "text": [
      "\u001b[36m(compute_reachable pid=71129)\u001b[0m rip 445\u001b[32m [repeated 6x across cluster]\u001b[0m\n"
     ]
    },
    {
     "name": "stderr",
     "output_type": "stream",
     "text": [
      "(pid=71131)  0:  69%|██████▉   | 730/1.05k [36:54<14:53, 2.78s/it]"
     ]
    },
    {
     "name": "stdout",
     "output_type": "stream",
     "text": [
      "\u001b[36m(compute_reachable pid=71124)\u001b[0m rip 336\u001b[32m [repeated 7x across cluster]\u001b[0m\n"
     ]
    },
    {
     "name": "stderr",
     "output_type": "stream",
     "text": [
      "(pid=71131)  0:  70%|██████▉   | 732/1.05k [37:04<19:39, 3.70s/it]"
     ]
    },
    {
     "name": "stdout",
     "output_type": "stream",
     "text": [
      "\u001b[36m(compute_reachable pid=71123)\u001b[0m rip 389\u001b[32m [repeated 5x across cluster]\u001b[0m\n"
     ]
    },
    {
     "name": "stderr",
     "output_type": "stream",
     "text": [
      "(pid=71131)  0:  70%|███████   | 736/1.05k [37:10<12:28, 2.37s/it]"
     ]
    },
    {
     "name": "stdout",
     "output_type": "stream",
     "text": [
      "\u001b[36m(compute_reachable pid=71125)\u001b[0m rip 401\u001b[32m [repeated 8x across cluster]\u001b[0m\n"
     ]
    },
    {
     "name": "stderr",
     "output_type": "stream",
     "text": [
      "(pid=71131)  0:  70%|███████   | 737/1.05k [37:15<15:04, 2.88s/it]"
     ]
    },
    {
     "name": "stdout",
     "output_type": "stream",
     "text": [
      "\u001b[36m(compute_reachable pid=71126)\u001b[0m rip 424\n"
     ]
    },
    {
     "name": "stderr",
     "output_type": "stream",
     "text": [
      "(pid=71131)  0:  70%|███████   | 739/1.05k [37:16<10:37, 2.04s/it]"
     ]
    },
    {
     "name": "stdout",
     "output_type": "stream",
     "text": [
      "\u001b[36m(compute_reachable pid=71127)\u001b[0m rip 436\n"
     ]
    },
    {
     "name": "stderr",
     "output_type": "stream",
     "text": [
      "(pid=71131)  0:  70%|███████   | 739/1.05k [37:21<10:37, 2.04s/it]"
     ]
    },
    {
     "name": "stdout",
     "output_type": "stream",
     "text": [
      "\u001b[36m(compute_reachable pid=71125)\u001b[0m rip 285\u001b[32m [repeated 6x across cluster]\u001b[0m\n"
     ]
    },
    {
     "name": "stderr",
     "output_type": "stream",
     "text": [
      "(pid=71131)  0:  70%|███████   | 740/1.05k [37:26<18:06, 3.49s/it]"
     ]
    },
    {
     "name": "stdout",
     "output_type": "stream",
     "text": [
      "\u001b[36m(compute_reachable pid=71126)\u001b[0m rip 276\u001b[32m [repeated 3x across cluster]\u001b[0m\n"
     ]
    },
    {
     "name": "stderr",
     "output_type": "stream",
     "text": [
      "(pid=71131)  0:  71%|███████   | 742/1.05k [37:34<15:02, 2.92s/it]"
     ]
    },
    {
     "name": "stdout",
     "output_type": "stream",
     "text": [
      "\u001b[36m(compute_reachable pid=71122)\u001b[0m rip 234\u001b[32m [repeated 5x across cluster]\u001b[0m\n"
     ]
    },
    {
     "name": "stderr",
     "output_type": "stream",
     "text": [
      "(pid=71131)  0:  71%|███████   | 742/1.05k [37:39<15:02, 2.92s/it]"
     ]
    },
    {
     "name": "stdout",
     "output_type": "stream",
     "text": [
      "\u001b[36m(compute_reachable pid=71119)\u001b[0m rip 216\u001b[32m [repeated 3x across cluster]\u001b[0m\n"
     ]
    },
    {
     "name": "stderr",
     "output_type": "stream",
     "text": [
      "(pid=71131)  0:  71%|███████   | 748/1.05k [37:45<12:01, 2.38s/it]"
     ]
    },
    {
     "name": "stdout",
     "output_type": "stream",
     "text": [
      "\u001b[36m(compute_reachable pid=71125)\u001b[0m rip 502\u001b[32m [repeated 5x across cluster]\u001b[0m\n"
     ]
    },
    {
     "name": "stderr",
     "output_type": "stream",
     "text": [
      "(pid=71131)  0:  71%|███████▏  | 749/1.05k [37:50<14:41, 2.92s/it]"
     ]
    },
    {
     "name": "stdout",
     "output_type": "stream",
     "text": [
      "\u001b[36m(compute_reachable pid=71126)\u001b[0m rip 500\u001b[32m [repeated 5x across cluster]\u001b[0m\n"
     ]
    },
    {
     "name": "stderr",
     "output_type": "stream",
     "text": [
      "(pid=71131)  0:  71%|███████▏  | 751/1.05k [37:57<11:26, 2.29s/it]"
     ]
    },
    {
     "name": "stdout",
     "output_type": "stream",
     "text": [
      "\u001b[36m(compute_reachable pid=71127)\u001b[0m rip 116\u001b[32m [repeated 6x across cluster]\u001b[0m\n"
     ]
    },
    {
     "name": "stderr",
     "output_type": "stream",
     "text": [
      "(pid=71131)  0:  72%|███████▏  | 753/1.05k [38:03<15:53, 3.20s/it]"
     ]
    },
    {
     "name": "stdout",
     "output_type": "stream",
     "text": [
      "\u001b[36m(compute_reachable pid=71121)\u001b[0m rip 502\u001b[32m [repeated 2x across cluster]\u001b[0m\n"
     ]
    },
    {
     "name": "stderr",
     "output_type": "stream",
     "text": [
      "(pid=71131)  0:  72%|███████▏  | 756/1.05k [38:16<19:31, 3.97s/it]"
     ]
    },
    {
     "name": "stdout",
     "output_type": "stream",
     "text": [
      "\u001b[36m(compute_reachable pid=71123)\u001b[0m rip 433\u001b[32m [repeated 7x across cluster]\u001b[0m\n"
     ]
    },
    {
     "name": "stderr",
     "output_type": "stream",
     "text": [
      "(pid=71131)  0:  72%|███████▏  | 760/1.05k [38:21<11:01, 2.27s/it]"
     ]
    },
    {
     "name": "stdout",
     "output_type": "stream",
     "text": [
      "\u001b[36m(compute_reachable pid=71130)\u001b[0m rip 53\u001b[32m [repeated 7x across cluster]\u001b[0m\n"
     ]
    },
    {
     "name": "stderr",
     "output_type": "stream",
     "text": [
      "(pid=71131)  0:  72%|███████▏  | 761/1.05k [38:28<15:24, 3.19s/it]"
     ]
    },
    {
     "name": "stdout",
     "output_type": "stream",
     "text": [
      "\u001b[36m(compute_reachable pid=71126)\u001b[0m rip 433\n"
     ]
    },
    {
     "name": "stderr",
     "output_type": "stream",
     "text": [
      "(pid=71131)  0:  72%|███████▏  | 761/1.05k [38:28<15:24, 3.19s/it]"
     ]
    },
    {
     "name": "stdout",
     "output_type": "stream",
     "text": [
      "\u001b[36m(compute_reachable pid=71120)\u001b[0m rip 483\n"
     ]
    },
    {
     "name": "stderr",
     "output_type": "stream",
     "text": [
      "(pid=71131)  0:  73%|███████▎  | 764/1.05k [38:38<16:43, 3.50s/it]"
     ]
    },
    {
     "name": "stdout",
     "output_type": "stream",
     "text": [
      "\u001b[36m(compute_reachable pid=71122)\u001b[0m rip 500\u001b[32m [repeated 2x across cluster]\u001b[0m\n"
     ]
    },
    {
     "name": "stderr",
     "output_type": "stream",
     "text": [
      "(pid=71131)  0:  73%|███████▎  | 766/1.05k [38:44<16:25, 3.46s/it]"
     ]
    },
    {
     "name": "stdout",
     "output_type": "stream",
     "text": [
      "\u001b[36m(compute_reachable pid=71119)\u001b[0m rip 434\u001b[32m [repeated 2x across cluster]\u001b[0m\n"
     ]
    },
    {
     "name": "stderr",
     "output_type": "stream",
     "text": [
      "(pid=71131)  0:  73%|███████▎  | 768/1.05k [38:54<19:02, 4.04s/it]"
     ]
    },
    {
     "name": "stdout",
     "output_type": "stream",
     "text": [
      "\u001b[36m(compute_reachable pid=71123)\u001b[0m rip 503\u001b[32m [repeated 2x across cluster]\u001b[0m\n"
     ]
    },
    {
     "name": "stderr",
     "output_type": "stream",
     "text": [
      "(pid=71131)  0:  73%|███████▎  | 772/1.05k [38:59<11:13, 2.42s/it]"
     ]
    },
    {
     "name": "stdout",
     "output_type": "stream",
     "text": [
      "\u001b[36m(compute_reachable pid=71125)\u001b[0m rip 51\u001b[32m [repeated 6x across cluster]\u001b[0m\n"
     ]
    },
    {
     "name": "stderr",
     "output_type": "stream",
     "text": [
      "(pid=71131)  0:  73%|███████▎  | 772/1.05k [39:05<11:13, 2.42s/it]"
     ]
    },
    {
     "name": "stdout",
     "output_type": "stream",
     "text": [
      "\u001b[36m(compute_reachable pid=71120)\u001b[0m rip 431\u001b[32m [repeated 2x across cluster]\u001b[0m\n"
     ]
    },
    {
     "name": "stderr",
     "output_type": "stream",
     "text": [
      "(pid=71131)  0:  74%|███████▎  | 775/1.05k [39:10<12:47, 2.78s/it]"
     ]
    },
    {
     "name": "stdout",
     "output_type": "stream",
     "text": [
      "\u001b[36m(compute_reachable pid=71122)\u001b[0m rip 463\u001b[32m [repeated 5x across cluster]\u001b[0m\n"
     ]
    },
    {
     "name": "stderr",
     "output_type": "stream",
     "text": [
      "(pid=71131)  0:  74%|███████▍  | 776/1.05k [39:18<15:55, 3.47s/it]"
     ]
    },
    {
     "name": "stdout",
     "output_type": "stream",
     "text": [
      "\u001b[36m(compute_reachable pid=71119)\u001b[0m rip 443\u001b[32m [repeated 3x across cluster]\u001b[0m\n"
     ]
    },
    {
     "name": "stderr",
     "output_type": "stream",
     "text": [
      "(pid=71131)  0:  74%|███████▍  | 779/1.05k [39:24<13:15, 2.92s/it]"
     ]
    },
    {
     "name": "stdout",
     "output_type": "stream",
     "text": [
      "\u001b[36m(compute_reachable pid=71124)\u001b[0m rip 107\u001b[32m [repeated 4x across cluster]\u001b[0m\n"
     ]
    },
    {
     "name": "stderr",
     "output_type": "stream",
     "text": [
      "(pid=71131)  0:  74%|███████▍  | 779/1.05k [39:29<13:15, 2.92s/it]"
     ]
    },
    {
     "name": "stdout",
     "output_type": "stream",
     "text": [
      "\u001b[36m(compute_reachable pid=71125)\u001b[0m rip 431\u001b[32m [repeated 5x across cluster]\u001b[0m\n"
     ]
    },
    {
     "name": "stderr",
     "output_type": "stream",
     "text": [
      "(pid=71131)  0:  75%|███████▍  | 784/1.05k [39:36<09:52, 2.22s/it]"
     ]
    },
    {
     "name": "stdout",
     "output_type": "stream",
     "text": [
      "\u001b[36m(compute_reachable pid=71126)\u001b[0m rip 419\u001b[32m [repeated 6x across cluster]\u001b[0m\n"
     ]
    },
    {
     "name": "stderr",
     "output_type": "stream",
     "text": [
      "(pid=71131)  0:  75%|███████▍  | 784/1.05k [39:42<09:52, 2.22s/it]"
     ]
    },
    {
     "name": "stdout",
     "output_type": "stream",
     "text": [
      "\u001b[36m(compute_reachable pid=71122)\u001b[0m rip 444\u001b[32m [repeated 3x across cluster]\u001b[0m\n"
     ]
    },
    {
     "name": "stderr",
     "output_type": "stream",
     "text": [
      "(pid=71131)  0:  75%|███████▍  | 787/1.05k [39:48<12:04, 2.74s/it]"
     ]
    },
    {
     "name": "stdout",
     "output_type": "stream",
     "text": [
      "\u001b[36m(compute_reachable pid=71124)\u001b[0m rip 464\u001b[32m [repeated 5x across cluster]\u001b[0m\n"
     ]
    },
    {
     "name": "stderr",
     "output_type": "stream",
     "text": [
      "(pid=71131)  0:  75%|███████▌  | 789/1.05k [39:55<15:18, 3.50s/it]"
     ]
    },
    {
     "name": "stdout",
     "output_type": "stream",
     "text": [
      "\u001b[36m(compute_reachable pid=71121)\u001b[0m rip 212\u001b[32m [repeated 3x across cluster]\u001b[0m\n"
     ]
    },
    {
     "name": "stderr",
     "output_type": "stream",
     "text": [
      "(pid=71131)  0:  75%|███████▌  | 790/1.05k [40:00<16:02, 3.69s/it]"
     ]
    },
    {
     "name": "stdout",
     "output_type": "stream",
     "text": [
      "\u001b[36m(compute_reachable pid=71124)\u001b[0m rip 240\u001b[32m [repeated 7x across cluster]\u001b[0m\n"
     ]
    },
    {
     "name": "stderr",
     "output_type": "stream",
     "text": [
      "(pid=71131)  0:  75%|███████▌  | 790/1.05k [40:06<16:02, 3.69s/it]"
     ]
    },
    {
     "name": "stdout",
     "output_type": "stream",
     "text": [
      "\u001b[36m(compute_reachable pid=71120)\u001b[0m rip 430\u001b[32m [repeated 2x across cluster]\u001b[0m\n"
     ]
    },
    {
     "name": "stderr",
     "output_type": "stream",
     "text": [
      "(pid=71131)  0:  76%|███████▌  | 796/1.05k [40:12<08:55, 2.10s/it]"
     ]
    },
    {
     "name": "stdout",
     "output_type": "stream",
     "text": [
      "\u001b[36m(compute_reachable pid=71125)\u001b[0m rip 284\u001b[32m [repeated 6x across cluster]\u001b[0m\n"
     ]
    },
    {
     "name": "stderr",
     "output_type": "stream",
     "text": [
      "(pid=71131)  0:  76%|███████▌  | 797/1.05k [40:18<12:12, 2.88s/it]"
     ]
    },
    {
     "name": "stdout",
     "output_type": "stream",
     "text": [
      "\u001b[36m(compute_reachable pid=71126)\u001b[0m rip 300\u001b[32m [repeated 3x across cluster]\u001b[0m\n"
     ]
    },
    {
     "name": "stderr",
     "output_type": "stream",
     "text": [
      "(pid=71131)  0:  76%|███████▌  | 799/1.05k [40:23<12:18, 2.93s/it]"
     ]
    },
    {
     "name": "stdout",
     "output_type": "stream",
     "text": [
      "\u001b[36m(compute_reachable pid=71127)\u001b[0m rip 312\u001b[32m [repeated 4x across cluster]\u001b[0m\n"
     ]
    },
    {
     "name": "stderr",
     "output_type": "stream",
     "text": [
      "(pid=71131)  0:  76%|███████▌  | 801/1.05k [40:31<14:27, 3.47s/it]"
     ]
    },
    {
     "name": "stdout",
     "output_type": "stream",
     "text": [
      "\u001b[36m(compute_reachable pid=71121)\u001b[0m rip 325\u001b[32m [repeated 7x across cluster]\u001b[0m\n"
     ]
    },
    {
     "name": "stderr",
     "output_type": "stream",
     "text": [
      "(pid=71131)  0:  76%|███████▋  | 802/1.05k [40:37<15:14, 3.67s/it]"
     ]
    },
    {
     "name": "stdout",
     "output_type": "stream",
     "text": [
      "\u001b[36m(compute_reachable pid=71127)\u001b[0m rip 318\u001b[32m [repeated 5x across cluster]\u001b[0m\n"
     ]
    },
    {
     "name": "stderr",
     "output_type": "stream",
     "text": [
      "(pid=71131)  0:  76%|███████▋  | 804/1.05k [40:43<15:28, 3.76s/it]"
     ]
    },
    {
     "name": "stdout",
     "output_type": "stream",
     "text": [
      "\u001b[36m(compute_reachable pid=71123)\u001b[0m rip 358\u001b[32m [repeated 2x across cluster]\u001b[0m\n"
     ]
    },
    {
     "name": "stderr",
     "output_type": "stream",
     "text": [
      "(pid=71131)  0:  77%|███████▋  | 808/1.05k [40:49<08:18, 2.05s/it]"
     ]
    },
    {
     "name": "stdout",
     "output_type": "stream",
     "text": [
      "\u001b[36m(compute_reachable pid=71124)\u001b[0m rip 292\u001b[32m [repeated 6x across cluster]\u001b[0m\n"
     ]
    },
    {
     "name": "stderr",
     "output_type": "stream",
     "text": [
      "(pid=71131)  0:  77%|███████▋  | 810/1.05k [40:55<10:19, 2.57s/it]"
     ]
    },
    {
     "name": "stdout",
     "output_type": "stream",
     "text": [
      "\u001b[36m(compute_reachable pid=71120)\u001b[0m rip 391\u001b[32m [repeated 4x across cluster]\u001b[0m\n"
     ]
    },
    {
     "name": "stderr",
     "output_type": "stream",
     "text": [
      "(pid=71131)  0:  77%|███████▋  | 811/1.05k [41:00<13:36, 3.40s/it]"
     ]
    },
    {
     "name": "stdout",
     "output_type": "stream",
     "text": [
      "\u001b[36m(compute_reachable pid=71127)\u001b[0m rip 391\u001b[32m [repeated 5x across cluster]\u001b[0m\n"
     ]
    },
    {
     "name": "stderr",
     "output_type": "stream",
     "text": [
      "(pid=71131)  0:  77%|███████▋  | 813/1.05k [41:06<12:56, 3.26s/it]"
     ]
    },
    {
     "name": "stdout",
     "output_type": "stream",
     "text": [
      "\u001b[36m(compute_reachable pid=71121)\u001b[0m rip 433\u001b[32m [repeated 4x across cluster]\u001b[0m\n"
     ]
    },
    {
     "name": "stderr",
     "output_type": "stream",
     "text": [
      "(pid=71131)  0:  77%|███████▋  | 814/1.05k [41:12<14:00, 3.55s/it]"
     ]
    },
    {
     "name": "stdout",
     "output_type": "stream",
     "text": [
      "\u001b[36m(compute_reachable pid=71119)\u001b[0m rip 437\u001b[32m [repeated 4x across cluster]\u001b[0m\n"
     ]
    },
    {
     "name": "stderr",
     "output_type": "stream",
     "text": [
      "(pid=71131)  0:  77%|███████▋  | 814/1.05k [41:17<14:00, 3.55s/it]"
     ]
    },
    {
     "name": "stdout",
     "output_type": "stream",
     "text": [
      "\u001b[36m(compute_reachable pid=71124)\u001b[0m rip 162\u001b[32m [repeated 2x across cluster]\u001b[0m\n"
     ]
    },
    {
     "name": "stderr",
     "output_type": "stream",
     "text": [
      "(pid=71131)  0:  78%|███████▊  | 817/1.05k [41:23<13:37, 3.49s/it]"
     ]
    },
    {
     "name": "stdout",
     "output_type": "stream",
     "text": [
      "\u001b[36m(compute_reachable pid=71130)\u001b[0m rip 458\u001b[32m [repeated 5x across cluster]\u001b[0m\n"
     ]
    },
    {
     "name": "stderr",
     "output_type": "stream",
     "text": [
      "(pid=71131)  0:  78%|███████▊  | 820/1.05k [41:28<08:01, 2.09s/it]"
     ]
    },
    {
     "name": "stdout",
     "output_type": "stream",
     "text": [
      "\u001b[36m(compute_reachable pid=71125)\u001b[0m rip 107\u001b[32m [repeated 4x across cluster]\u001b[0m\n"
     ]
    },
    {
     "name": "stderr",
     "output_type": "stream",
     "text": [
      "(pid=71131)  0:  78%|███████▊  | 822/1.05k [41:35<09:45, 2.56s/it]"
     ]
    },
    {
     "name": "stdout",
     "output_type": "stream",
     "text": [
      "\u001b[36m(compute_reachable pid=71126)\u001b[0m rip 106\u001b[32m [repeated 5x across cluster]\u001b[0m\n"
     ]
    },
    {
     "name": "stderr",
     "output_type": "stream",
     "text": [
      "(pid=71131)  0:  78%|███████▊  | 823/1.05k [41:40<12:22, 3.26s/it]"
     ]
    },
    {
     "name": "stdout",
     "output_type": "stream",
     "text": [
      "\u001b[36m(compute_reachable pid=71127)\u001b[0m rip 53\u001b[32m [repeated 4x across cluster]\u001b[0m\n"
     ]
    },
    {
     "name": "stderr",
     "output_type": "stream",
     "text": [
      "(pid=71131)  0:  79%|███████▊  | 826/1.05k [41:48<13:53, 3.70s/it]"
     ]
    },
    {
     "name": "stdout",
     "output_type": "stream",
     "text": [
      "\u001b[36m(compute_reachable pid=71124)\u001b[0m rip 391\u001b[32m [repeated 4x across cluster]\u001b[0m\n"
     ]
    },
    {
     "name": "stderr",
     "output_type": "stream",
     "text": [
      "(pid=71131)  0:  79%|███████▉  | 828/1.05k [41:57<14:19, 3.85s/it]"
     ]
    },
    {
     "name": "stdout",
     "output_type": "stream",
     "text": [
      "\u001b[36m(compute_reachable pid=71123)\u001b[0m rip 458\u001b[32m [repeated 4x across cluster]\u001b[0m\n"
     ]
    },
    {
     "name": "stderr",
     "output_type": "stream",
     "text": [
      "(pid=71131)  0:  79%|███████▉  | 831/1.05k [42:02<10:04, 2.75s/it]"
     ]
    },
    {
     "name": "stdout",
     "output_type": "stream",
     "text": [
      "\u001b[36m(compute_reachable pid=71130)\u001b[0m rip 391\u001b[32m [repeated 4x across cluster]\u001b[0m\n"
     ]
    },
    {
     "name": "stderr",
     "output_type": "stream",
     "text": [
      "(pid=71131)  0:  79%|███████▉  | 833/1.05k [42:08<10:30, 2.89s/it]"
     ]
    },
    {
     "name": "stdout",
     "output_type": "stream",
     "text": [
      "\u001b[36m(compute_reachable pid=71126)\u001b[0m rip 458\u001b[32m [repeated 2x across cluster]\u001b[0m\n"
     ]
    },
    {
     "name": "stderr",
     "output_type": "stream",
     "text": [
      "(pid=71131)  0:  79%|███████▉  | 835/1.05k [42:14<10:59, 3.05s/it]"
     ]
    },
    {
     "name": "stdout",
     "output_type": "stream",
     "text": [
      "\u001b[36m(compute_reachable pid=71122)\u001b[0m rip 424\u001b[32m [repeated 2x across cluster]\u001b[0m\n"
     ]
    },
    {
     "name": "stderr",
     "output_type": "stream",
     "text": [
      "(pid=71131)  0:  80%|███████▉  | 837/1.05k [42:22<11:53, 3.33s/it]"
     ]
    },
    {
     "name": "stdout",
     "output_type": "stream",
     "text": [
      "\u001b[36m(compute_reachable pid=71121)\u001b[0m rip 440\u001b[32m [repeated 2x across cluster]\u001b[0m\n"
     ]
    },
    {
     "name": "stderr",
     "output_type": "stream",
     "text": [
      "(pid=71131)  0:  80%|███████▉  | 838/1.05k [42:27<14:09, 3.99s/it]"
     ]
    },
    {
     "name": "stdout",
     "output_type": "stream",
     "text": [
      "\u001b[36m(compute_reachable pid=71124)\u001b[0m rip 459\n"
     ]
    },
    {
     "name": "stderr",
     "output_type": "stream",
     "text": [
      "(pid=71131)  0:  80%|███████▉  | 839/1.05k [42:29<11:21, 3.21s/it]"
     ]
    },
    {
     "name": "stdout",
     "output_type": "stream",
     "text": [
      "\u001b[36m(compute_reachable pid=71119)\u001b[0m rip 459\n"
     ]
    },
    {
     "name": "stderr",
     "output_type": "stream",
     "text": [
      "(pid=71131)  0:  80%|███████▉  | 840/1.05k [42:35<13:55, 3.96s/it]"
     ]
    },
    {
     "name": "stdout",
     "output_type": "stream",
     "text": [
      "\u001b[36m(compute_reachable pid=71123)\u001b[0m rip 425\n"
     ]
    },
    {
     "name": "stderr",
     "output_type": "stream",
     "text": [
      "(pid=71131)  0:  80%|███████▉  | 840/1.05k [42:35<13:55, 3.96s/it]"
     ]
    },
    {
     "name": "stdout",
     "output_type": "stream",
     "text": [
      "\u001b[36m(compute_reachable pid=71128)\u001b[0m rip 419\n"
     ]
    },
    {
     "name": "stderr",
     "output_type": "stream",
     "text": [
      "(pid=71131)  0:  80%|████████  | 843/1.05k [42:42<09:50, 2.84s/it]"
     ]
    },
    {
     "name": "stdout",
     "output_type": "stream",
     "text": [
      "\u001b[36m(compute_reachable pid=71130)\u001b[0m rip 47\u001b[32m [repeated 6x across cluster]\u001b[0m\n"
     ]
    },
    {
     "name": "stderr",
     "output_type": "stream",
     "text": [
      "(pid=71131)  0:  80%|████████  | 845/1.05k [42:48<11:04, 3.23s/it]"
     ]
    },
    {
     "name": "stdout",
     "output_type": "stream",
     "text": [
      "\u001b[36m(compute_reachable pid=71122)\u001b[0m rip 412\u001b[32m [repeated 4x across cluster]\u001b[0m\n"
     ]
    },
    {
     "name": "stderr",
     "output_type": "stream",
     "text": [
      "(pid=71131)  0:  81%|████████  | 847/1.05k [42:53<09:29, 2.79s/it]"
     ]
    },
    {
     "name": "stdout",
     "output_type": "stream",
     "text": [
      "\u001b[36m(compute_reachable pid=71127)\u001b[0m rip 399\u001b[32m [repeated 4x across cluster]\u001b[0m\n"
     ]
    },
    {
     "name": "stderr",
     "output_type": "stream",
     "text": [
      "(pid=71131)  0:  81%|████████  | 848/1.05k [42:59<11:45, 3.47s/it]"
     ]
    },
    {
     "name": "stdout",
     "output_type": "stream",
     "text": [
      "\u001b[36m(compute_reachable pid=71119)\u001b[0m rip 419\u001b[32m [repeated 3x across cluster]\u001b[0m\n"
     ]
    },
    {
     "name": "stderr",
     "output_type": "stream",
     "text": [
      "(pid=71131)  0:  81%|████████  | 850/1.05k [43:06<13:21, 3.99s/it]"
     ]
    },
    {
     "name": "stdout",
     "output_type": "stream",
     "text": [
      "\u001b[36m(compute_reachable pid=71124)\u001b[0m rip 95\u001b[32m [repeated 3x across cluster]\u001b[0m\n"
     ]
    },
    {
     "name": "stderr",
     "output_type": "stream",
     "text": [
      "(pid=71131)  0:  81%|████████  | 850/1.05k [43:12<13:21, 3.99s/it]"
     ]
    },
    {
     "name": "stdout",
     "output_type": "stream",
     "text": [
      "\u001b[36m(compute_reachable pid=71129)\u001b[0m rip 387\u001b[32m [repeated 5x across cluster]\u001b[0m\n"
     ]
    },
    {
     "name": "stderr",
     "output_type": "stream",
     "text": [
      "(pid=71131)  0:  81%|████████  | 853/1.05k [43:18<11:18, 3.43s/it]"
     ]
    },
    {
     "name": "stdout",
     "output_type": "stream",
     "text": [
      "\u001b[36m(compute_reachable pid=71120)\u001b[0m rip 400\u001b[32m [repeated 5x across cluster]\u001b[0m\n"
     ]
    },
    {
     "name": "stderr",
     "output_type": "stream",
     "text": [
      "(pid=71131)  0:  82%|████████▏ | 857/1.05k [43:25<08:37, 2.67s/it]"
     ]
    },
    {
     "name": "stdout",
     "output_type": "stream",
     "text": [
      "\u001b[36m(compute_reachable pid=71126)\u001b[0m rip 184\u001b[32m [repeated 5x across cluster]\u001b[0m\n"
     ]
    },
    {
     "name": "stderr",
     "output_type": "stream",
     "text": [
      "(pid=71131)  0:  82%|████████▏ | 859/1.05k [43:32<08:26, 2.64s/it]"
     ]
    },
    {
     "name": "stdout",
     "output_type": "stream",
     "text": [
      "\u001b[36m(compute_reachable pid=71119)\u001b[0m rip 400\u001b[32m [repeated 5x across cluster]\u001b[0m\n"
     ]
    },
    {
     "name": "stderr",
     "output_type": "stream",
     "text": [
      "(pid=71131)  0:  82%|████████▏ | 861/1.05k [43:39<10:41, 3.37s/it]"
     ]
    },
    {
     "name": "stdout",
     "output_type": "stream",
     "text": [
      "\u001b[36m(compute_reachable pid=71121)\u001b[0m rip 215\u001b[32m [repeated 3x across cluster]\u001b[0m\n"
     ]
    },
    {
     "name": "stderr",
     "output_type": "stream",
     "text": [
      "(pid=71131)  0:  82%|████████▏ | 862/1.05k [43:48<11:40, 3.71s/it]"
     ]
    },
    {
     "name": "stdout",
     "output_type": "stream",
     "text": [
      "\u001b[36m(compute_reachable pid=71126)\u001b[0m rip 375\u001b[32m [repeated 8x across cluster]\u001b[0m\n"
     ]
    },
    {
     "name": "stderr",
     "output_type": "stream",
     "text": [
      "(pid=71131)  0:  82%|████████▏ | 865/1.05k [43:53<10:08, 3.27s/it]"
     ]
    },
    {
     "name": "stdout",
     "output_type": "stream",
     "text": [
      "\u001b[36m(compute_reachable pid=71128)\u001b[0m rip 233\u001b[32m [repeated 4x across cluster]\u001b[0m\n"
     ]
    },
    {
     "name": "stderr",
     "output_type": "stream",
     "text": [
      "(pid=71131)  0:  83%|████████▎ | 868/1.05k [43:58<06:49, 2.24s/it]"
     ]
    },
    {
     "name": "stdout",
     "output_type": "stream",
     "text": [
      "\u001b[36m(compute_reachable pid=71125)\u001b[0m rip 279\u001b[32m [repeated 4x across cluster]\u001b[0m\n"
     ]
    },
    {
     "name": "stderr",
     "output_type": "stream",
     "text": [
      "(pid=71131)  0:  83%|████████▎ | 869/1.05k [44:03<07:59, 2.64s/it]"
     ]
    },
    {
     "name": "stdout",
     "output_type": "stream",
     "text": [
      "\u001b[36m(compute_reachable pid=71119)\u001b[0m rip 344\u001b[32m [repeated 3x across cluster]\u001b[0m\n"
     ]
    },
    {
     "name": "stderr",
     "output_type": "stream",
     "text": [
      "(pid=71131)  0:  83%|████████▎ | 871/1.05k [44:09<07:43, 2.58s/it]"
     ]
    },
    {
     "name": "stdout",
     "output_type": "stream",
     "text": [
      "\u001b[36m(compute_reachable pid=71123)\u001b[0m rip 332\u001b[32m [repeated 4x across cluster]\u001b[0m\n"
     ]
    },
    {
     "name": "stderr",
     "output_type": "stream",
     "text": [
      "(pid=71131)  0:  83%|████████▎ | 872/1.05k [44:14<11:09, 3.74s/it]"
     ]
    },
    {
     "name": "stdout",
     "output_type": "stream",
     "text": [
      "\u001b[36m(compute_reachable pid=71127)\u001b[0m rip 309\u001b[32m [repeated 2x across cluster]\u001b[0m\n"
     ]
    },
    {
     "name": "stderr",
     "output_type": "stream",
     "text": [
      "(pid=71131)  0:  83%|████████▎ | 874/1.05k [44:21<10:43, 3.64s/it]"
     ]
    },
    {
     "name": "stdout",
     "output_type": "stream",
     "text": [
      "\u001b[36m(compute_reachable pid=71119)\u001b[0m rip 323\u001b[32m [repeated 7x across cluster]\u001b[0m\n"
     ]
    },
    {
     "name": "stderr",
     "output_type": "stream",
     "text": [
      "(pid=71131)  0:  83%|████████▎ | 876/1.05k [44:29<11:19, 3.89s/it]"
     ]
    },
    {
     "name": "stdout",
     "output_type": "stream",
     "text": [
      "\u001b[36m(compute_reachable pid=71127)\u001b[0m rip 269\u001b[32m [repeated 3x across cluster]\u001b[0m\n"
     ]
    },
    {
     "name": "stderr",
     "output_type": "stream",
     "text": [
      "(pid=71131)  0:  84%|████████▎ | 878/1.05k [44:35<09:50, 3.41s/it]"
     ]
    },
    {
     "name": "stdout",
     "output_type": "stream",
     "text": [
      "\u001b[36m(compute_reachable pid=71129)\u001b[0m rip 356\u001b[32m [repeated 6x across cluster]\u001b[0m\n"
     ]
    },
    {
     "name": "stderr",
     "output_type": "stream",
     "text": [
      "(pid=71131)  0:  84%|████████▍ | 881/1.05k [44:41<07:51, 2.77s/it]"
     ]
    },
    {
     "name": "stdout",
     "output_type": "stream",
     "text": [
      "\u001b[36m(compute_reachable pid=71126)\u001b[0m rip 346\u001b[32m [repeated 3x across cluster]\u001b[0m\n"
     ]
    },
    {
     "name": "stderr",
     "output_type": "stream",
     "text": [
      "(pid=71131)  0:  84%|████████▍ | 883/1.05k [44:47<07:12, 2.57s/it]"
     ]
    },
    {
     "name": "stdout",
     "output_type": "stream",
     "text": [
      "\u001b[36m(compute_reachable pid=71129)\u001b[0m rip 220\u001b[32m [repeated 7x across cluster]\u001b[0m\n"
     ]
    },
    {
     "name": "stderr",
     "output_type": "stream",
     "text": [
      "(pid=71131)  0:  84%|████████▍ | 884/1.05k [44:52<09:25, 3.39s/it]"
     ]
    },
    {
     "name": "stdout",
     "output_type": "stream",
     "text": [
      "\u001b[36m(compute_reachable pid=71127)\u001b[0m rip 392\u001b[32m [repeated 3x across cluster]\u001b[0m\n"
     ]
    },
    {
     "name": "stderr",
     "output_type": "stream",
     "text": [
      "(pid=71131)  0:  84%|████████▍ | 886/1.05k [44:59<09:48, 3.57s/it]"
     ]
    },
    {
     "name": "stdout",
     "output_type": "stream",
     "text": [
      "\u001b[36m(compute_reachable pid=71127)\u001b[0m rip 147\u001b[32m [repeated 3x across cluster]\u001b[0m\n"
     ]
    },
    {
     "name": "stderr",
     "output_type": "stream",
     "text": [
      "(pid=71131)  0:  84%|████████▍ | 886/1.05k [45:07<09:48, 3.57s/it]"
     ]
    },
    {
     "name": "stdout",
     "output_type": "stream",
     "text": [
      "\u001b[36m(compute_reachable pid=71119)\u001b[0m rip 144\u001b[32m [repeated 4x across cluster]\u001b[0m\n"
     ]
    },
    {
     "name": "stderr",
     "output_type": "stream",
     "text": [
      "(pid=71131)  0:  85%|████████▍ | 890/1.05k [45:12<08:49, 3.29s/it]"
     ]
    },
    {
     "name": "stdout",
     "output_type": "stream",
     "text": [
      "\u001b[36m(compute_reachable pid=71129)\u001b[0m rip 382\u001b[32m [repeated 4x across cluster]\u001b[0m\n"
     ]
    },
    {
     "name": "stderr",
     "output_type": "stream",
     "text": [
      "(pid=71131)  0:  85%|████████▍ | 891/1.05k [45:18<07:39, 2.87s/it]"
     ]
    },
    {
     "name": "stdout",
     "output_type": "stream",
     "text": [
      "\u001b[36m(compute_reachable pid=71130)\u001b[0m rip 96\u001b[32m [repeated 6x across cluster]\u001b[0m\n"
     ]
    },
    {
     "name": "stderr",
     "output_type": "stream",
     "text": [
      "(pid=71131)  0:  85%|████████▌ | 895/1.05k [45:24<06:31, 2.51s/it]"
     ]
    },
    {
     "name": "stdout",
     "output_type": "stream",
     "text": [
      "\u001b[36m(compute_reachable pid=71126)\u001b[0m rip 88\u001b[32m [repeated 6x across cluster]\u001b[0m\n"
     ]
    },
    {
     "name": "stderr",
     "output_type": "stream",
     "text": [
      "(pid=71131)  0:  85%|████████▌ | 896/1.05k [45:33<10:15, 3.97s/it]"
     ]
    },
    {
     "name": "stdout",
     "output_type": "stream",
     "text": [
      "\u001b[36m(compute_reachable pid=71127)\u001b[0m rip 346\u001b[32m [repeated 2x across cluster]\u001b[0m\n"
     ]
    },
    {
     "name": "stderr",
     "output_type": "stream",
     "text": [
      "(pid=71131)  0:  85%|████████▌ | 898/1.05k [45:39<09:34, 3.75s/it]"
     ]
    },
    {
     "name": "stdout",
     "output_type": "stream",
     "text": [
      "\u001b[36m(compute_reachable pid=71119)\u001b[0m rip 412\u001b[32m [repeated 4x across cluster]\u001b[0m\n"
     ]
    },
    {
     "name": "stderr",
     "output_type": "stream",
     "text": [
      "(pid=71131)  0:  86%|████████▌ | 900/1.05k [45:46<09:03, 3.60s/it]"
     ]
    },
    {
     "name": "stdout",
     "output_type": "stream",
     "text": [
      "\u001b[36m(compute_reachable pid=71123)\u001b[0m rip 382\u001b[32m [repeated 3x across cluster]\u001b[0m\n"
     ]
    },
    {
     "name": "stderr",
     "output_type": "stream",
     "text": [
      "(pid=71131)  0:  86%|████████▌ | 902/1.05k [45:53<08:58, 3.61s/it]"
     ]
    },
    {
     "name": "stdout",
     "output_type": "stream",
     "text": [
      "\u001b[36m(compute_reachable pid=71129)\u001b[0m rip 393\u001b[32m [repeated 2x across cluster]\u001b[0m\n"
     ]
    },
    {
     "name": "stderr",
     "output_type": "stream",
     "text": [
      "(pid=71131)  0:  86%|████████▌ | 906/1.05k [46:01<06:43, 2.78s/it]"
     ]
    },
    {
     "name": "stdout",
     "output_type": "stream",
     "text": [
      "\u001b[36m(compute_reachable pid=71120)\u001b[0m rip 347\u001b[32m [repeated 4x across cluster]\u001b[0m\n"
     ]
    },
    {
     "name": "stderr",
     "output_type": "stream",
     "text": [
      "(pid=71131)  0:  86%|████████▋ | 908/1.05k [46:14<11:33, 4.85s/it]"
     ]
    },
    {
     "name": "stdout",
     "output_type": "stream",
     "text": [
      "\u001b[36m(compute_reachable pid=71127)\u001b[0m rip 413\u001b[32m [repeated 2x across cluster]\u001b[0m\n"
     ]
    },
    {
     "name": "stderr",
     "output_type": "stream",
     "text": [
      "(pid=71131)  0:  87%|████████▋ | 910/1.05k [46:19<09:01, 3.84s/it]"
     ]
    },
    {
     "name": "stdout",
     "output_type": "stream",
     "text": [
      "\u001b[36m(compute_reachable pid=71119)\u001b[0m rip 383\u001b[32m [repeated 3x across cluster]\u001b[0m\n"
     ]
    },
    {
     "name": "stderr",
     "output_type": "stream",
     "text": [
      "(pid=71131)  0:  87%|████████▋ | 911/1.05k [46:24<07:25, 3.18s/it]"
     ]
    },
    {
     "name": "stdout",
     "output_type": "stream",
     "text": [
      "\u001b[36m(compute_reachable pid=71123)\u001b[0m rip 366\u001b[32m [repeated 2x across cluster]\u001b[0m\n"
     ]
    },
    {
     "name": "stderr",
     "output_type": "stream",
     "text": [
      "(pid=71131)  0:  87%|████████▋ | 913/1.05k [46:30<09:01, 3.92s/it]"
     ]
    },
    {
     "name": "stdout",
     "output_type": "stream",
     "text": [
      "\u001b[36m(compute_reachable pid=71128)\u001b[0m rip 42\u001b[32m [repeated 4x across cluster]\u001b[0m\n"
     ]
    },
    {
     "name": "stderr",
     "output_type": "stream",
     "text": [
      "(pid=71131)  0:  87%|████████▋ | 914/1.05k [46:36<08:52, 3.89s/it]"
     ]
    },
    {
     "name": "stdout",
     "output_type": "stream",
     "text": [
      "\u001b[36m(compute_reachable pid=71120)\u001b[0m rip 352\u001b[32m [repeated 7x across cluster]\u001b[0m\n"
     ]
    },
    {
     "name": "stderr",
     "output_type": "stream",
     "text": [
      "(pid=71131)  0:  87%|████████▋ | 919/1.05k [46:44<05:45, 2.61s/it]"
     ]
    },
    {
     "name": "stdout",
     "output_type": "stream",
     "text": [
      "\u001b[36m(compute_reachable pid=71122)\u001b[0m rip 87\u001b[32m [repeated 4x across cluster]\u001b[0m\n"
     ]
    },
    {
     "name": "stderr",
     "output_type": "stream",
     "text": [
      "(pid=71131)  0:  87%|████████▋ | 919/1.05k [46:51<05:45, 2.61s/it]"
     ]
    },
    {
     "name": "stdout",
     "output_type": "stream",
     "text": [
      "\u001b[36m(compute_reachable pid=71127)\u001b[0m rip 328\u001b[32m [repeated 2x across cluster]\u001b[0m\n"
     ]
    },
    {
     "name": "stderr",
     "output_type": "stream",
     "text": [
      "(pid=71131)  0:  88%|████████▊ | 922/1.05k [46:59<07:51, 3.65s/it]"
     ]
    },
    {
     "name": "stdout",
     "output_type": "stream",
     "text": [
      "\u001b[36m(compute_reachable pid=71119)\u001b[0m rip 124\u001b[32m [repeated 5x across cluster]\u001b[0m\n"
     ]
    },
    {
     "name": "stderr",
     "output_type": "stream",
     "text": [
      "(pid=71131)  0:  88%|████████▊ | 923/1.05k [47:04<06:26, 3.02s/it]"
     ]
    },
    {
     "name": "stdout",
     "output_type": "stream",
     "text": [
      "\u001b[36m(compute_reachable pid=71129)\u001b[0m rip 353\u001b[32m [repeated 6x across cluster]\u001b[0m\n"
     ]
    },
    {
     "name": "stderr",
     "output_type": "stream",
     "text": [
      "(pid=71131)  0:  88%|████████▊ | 925/1.05k [47:09<07:25, 3.53s/it]"
     ]
    },
    {
     "name": "stdout",
     "output_type": "stream",
     "text": [
      "\u001b[36m(compute_reachable pid=71122)\u001b[0m rip 375\u001b[32m [repeated 4x across cluster]\u001b[0m\n"
     ]
    },
    {
     "name": "stderr",
     "output_type": "stream",
     "text": [
      "(pid=71131)  0:  88%|████████▊ | 929/1.05k [47:18<05:05, 2.51s/it]"
     ]
    },
    {
     "name": "stdout",
     "output_type": "stream",
     "text": [
      "\u001b[36m(compute_reachable pid=71126)\u001b[0m rip 172\u001b[32m [repeated 5x across cluster]\u001b[0m\n"
     ]
    },
    {
     "name": "stderr",
     "output_type": "stream",
     "text": [
      "(pid=71131)  0:  89%|████████▊ | 931/1.05k [47:25<04:47, 2.40s/it]"
     ]
    },
    {
     "name": "stdout",
     "output_type": "stream",
     "text": [
      "\u001b[36m(compute_reachable pid=71119)\u001b[0m rip 341\u001b[32m [repeated 5x across cluster]\u001b[0m\n"
     ]
    },
    {
     "name": "stderr",
     "output_type": "stream",
     "text": [
      "(pid=71131)  0:  89%|████████▊ | 931/1.05k [47:32<04:47, 2.40s/it]"
     ]
    },
    {
     "name": "stdout",
     "output_type": "stream",
     "text": [
      "\u001b[36m(compute_reachable pid=71128)\u001b[0m rip 355\u001b[32m [repeated 3x across cluster]\u001b[0m\n"
     ]
    },
    {
     "name": "stderr",
     "output_type": "stream",
     "text": [
      "(pid=71131)  0:  89%|████████▉ | 934/1.05k [47:38<07:01, 3.60s/it]"
     ]
    },
    {
     "name": "stdout",
     "output_type": "stream",
     "text": [
      "\u001b[36m(compute_reachable pid=71119)\u001b[0m rip 213\u001b[32m [repeated 5x across cluster]\u001b[0m\n"
     ]
    },
    {
     "name": "stderr",
     "output_type": "stream",
     "text": [
      "(pid=71131)  0:  89%|████████▉ | 936/1.05k [47:45<07:26, 3.89s/it]"
     ]
    },
    {
     "name": "stdout",
     "output_type": "stream",
     "text": [
      "\u001b[36m(compute_reachable pid=71123)\u001b[0m rip 224\u001b[32m [repeated 6x across cluster]\u001b[0m\n"
     ]
    },
    {
     "name": "stderr",
     "output_type": "stream",
     "text": [
      "(pid=71131)  0:  89%|████████▉ | 938/1.05k [47:51<06:40, 3.54s/it]"
     ]
    },
    {
     "name": "stdout",
     "output_type": "stream",
     "text": [
      "\u001b[36m(compute_reachable pid=71125)\u001b[0m rip 249\u001b[32m [repeated 2x across cluster]\u001b[0m\n"
     ]
    },
    {
     "name": "stderr",
     "output_type": "stream",
     "text": [
      "(pid=71131)  0:  90%|████████▉ | 941/1.05k [47:56<04:38, 2.53s/it]"
     ]
    },
    {
     "name": "stdout",
     "output_type": "stream",
     "text": [
      "\u001b[36m(compute_reachable pid=71126)\u001b[0m rip 255\u001b[32m [repeated 6x across cluster]\u001b[0m\n"
     ]
    },
    {
     "name": "stderr",
     "output_type": "stream",
     "text": [
      "(pid=71131)  0:  90%|████████▉ | 943/1.05k [48:03<03:34, 1.99s/it]"
     ]
    },
    {
     "name": "stdout",
     "output_type": "stream",
     "text": [
      "\u001b[36m(compute_reachable pid=71123)\u001b[0m rip 283\u001b[32m [repeated 4x across cluster]\u001b[0m\n"
     ]
    },
    {
     "name": "stderr",
     "output_type": "stream",
     "text": [
      "(pid=71131)  0:  90%|████████▉ | 943/1.05k [48:09<03:34, 1.99s/it]"
     ]
    },
    {
     "name": "stdout",
     "output_type": "stream",
     "text": [
      "\u001b[36m(compute_reachable pid=71129)\u001b[0m rip 255\u001b[32m [repeated 3x across cluster]\u001b[0m\n"
     ]
    },
    {
     "name": "stderr",
     "output_type": "stream",
     "text": [
      "(pid=71131)  0:  90%|████████▉ | 945/1.05k [48:14<07:18, 4.13s/it]"
     ]
    },
    {
     "name": "stdout",
     "output_type": "stream",
     "text": [
      "\u001b[36m(compute_reachable pid=71122)\u001b[0m rip 232\u001b[32m [repeated 6x across cluster]\u001b[0m\n"
     ]
    },
    {
     "name": "stderr",
     "output_type": "stream",
     "text": [
      "(pid=71131)  0:  90%|█████████ | 947/1.05k [48:23<05:16, 3.05s/it]"
     ]
    },
    {
     "name": "stdout",
     "output_type": "stream",
     "text": [
      "\u001b[36m(compute_reachable pid=71121)\u001b[0m rip 219\u001b[32m [repeated 3x across cluster]\u001b[0m\n"
     ]
    },
    {
     "name": "stderr",
     "output_type": "stream",
     "text": [
      "(pid=71131)  0:  90%|█████████ | 950/1.05k [48:29<05:32, 3.29s/it]"
     ]
    },
    {
     "name": "stdout",
     "output_type": "stream",
     "text": [
      "\u001b[36m(compute_reachable pid=71119)\u001b[0m rip 210\u001b[32m [repeated 4x across cluster]\u001b[0m\n"
     ]
    },
    {
     "name": "stderr",
     "output_type": "stream",
     "text": [
      "(pid=71131)  0:  91%|█████████ | 953/1.05k [48:35<04:00, 2.46s/it]"
     ]
    },
    {
     "name": "stdout",
     "output_type": "stream",
     "text": [
      "\u001b[36m(compute_reachable pid=71126)\u001b[0m rip 343\u001b[32m [repeated 5x across cluster]\u001b[0m\n"
     ]
    },
    {
     "name": "stderr",
     "output_type": "stream",
     "text": [
      "(pid=71131)  0:  91%|█████████ | 954/1.05k [48:40<03:39, 2.26s/it]"
     ]
    },
    {
     "name": "stdout",
     "output_type": "stream",
     "text": [
      "\u001b[36m(compute_reachable pid=71130)\u001b[0m rip 171\u001b[32m [repeated 6x across cluster]\u001b[0m\n"
     ]
    },
    {
     "name": "stderr",
     "output_type": "stream",
     "text": [
      "(pid=71131)  0:  91%|█████████ | 956/1.05k [48:50<06:53, 4.35s/it]"
     ]
    },
    {
     "name": "stdout",
     "output_type": "stream",
     "text": [
      "\u001b[36m(compute_reachable pid=71121)\u001b[0m rip 301\u001b[32m [repeated 5x across cluster]\u001b[0m\n"
     ]
    },
    {
     "name": "stderr",
     "output_type": "stream",
     "text": [
      "(pid=71131)  0:  91%|█████████ | 958/1.05k [48:55<05:33, 3.59s/it]"
     ]
    },
    {
     "name": "stdout",
     "output_type": "stream",
     "text": [
      "\u001b[36m(compute_reachable pid=71119)\u001b[0m rip 362\u001b[32m [repeated 2x across cluster]\u001b[0m\n"
     ]
    },
    {
     "name": "stderr",
     "output_type": "stream",
     "text": [
      "(pid=71131)  0:  91%|█████████ | 959/1.05k [49:01<04:40, 3.05s/it]"
     ]
    },
    {
     "name": "stdout",
     "output_type": "stream",
     "text": [
      "\u001b[36m(compute_reachable pid=71127)\u001b[0m rip 123\u001b[32m [repeated 3x across cluster]\u001b[0m\n"
     ]
    },
    {
     "name": "stderr",
     "output_type": "stream",
     "text": [
      "(pid=71131)  0:  91%|█████████▏| 961/1.05k [49:06<05:32, 3.70s/it]"
     ]
    },
    {
     "name": "stdout",
     "output_type": "stream",
     "text": [
      "\u001b[36m(compute_reachable pid=71128)\u001b[0m rip 301\u001b[32m [repeated 4x across cluster]\u001b[0m\n"
     ]
    },
    {
     "name": "stderr",
     "output_type": "stream",
     "text": [
      "(pid=71131)  0:  92%|█████████▏| 964/1.05k [49:12<04:08, 2.85s/it]"
     ]
    },
    {
     "name": "stdout",
     "output_type": "stream",
     "text": [
      "\u001b[36m(compute_reachable pid=71129)\u001b[0m rip 365\u001b[32m [repeated 5x across cluster]\u001b[0m\n"
     ]
    },
    {
     "name": "stderr",
     "output_type": "stream",
     "text": [
      "(pid=71131)  0:  92%|█████████▏| 966/1.05k [49:19<03:31, 2.49s/it]"
     ]
    },
    {
     "name": "stdout",
     "output_type": "stream",
     "text": [
      "\u001b[36m(compute_reachable pid=71122)\u001b[0m rip 42\u001b[32m [repeated 8x across cluster]\u001b[0m\n"
     ]
    },
    {
     "name": "stderr",
     "output_type": "stream",
     "text": [
      "(pid=71131)  0:  92%|█████████▏| 968/1.05k [49:30<06:11, 4.48s/it]"
     ]
    },
    {
     "name": "stdout",
     "output_type": "stream",
     "text": [
      "\u001b[36m(compute_reachable pid=71121)\u001b[0m rip 362\u001b[32m [repeated 2x across cluster]\u001b[0m\n"
     ]
    },
    {
     "name": "stderr",
     "output_type": "stream",
     "text": [
      "(pid=71131)  0:  92%|█████████▏| 971/1.05k [49:38<04:32, 3.41s/it]"
     ]
    },
    {
     "name": "stdout",
     "output_type": "stream",
     "text": [
      "\u001b[36m(compute_reachable pid=71124)\u001b[0m rip 301\u001b[32m [repeated 4x across cluster]\u001b[0m\n"
     ]
    },
    {
     "name": "stderr",
     "output_type": "stream",
     "text": [
      "(pid=71131)  0:  93%|█████████▎| 973/1.05k [49:47<05:06, 3.92s/it]"
     ]
    },
    {
     "name": "stdout",
     "output_type": "stream",
     "text": [
      "\u001b[36m(compute_reachable pid=71128)\u001b[0m rip 362\u001b[32m [repeated 2x across cluster]\u001b[0m\n"
     ]
    },
    {
     "name": "stderr",
     "output_type": "stream",
     "text": [
      "(pid=71131)  0:  93%|█████████▎| 976/1.05k [49:56<04:21, 3.48s/it]"
     ]
    },
    {
     "name": "stdout",
     "output_type": "stream",
     "text": [
      "\u001b[36m(compute_reachable pid=71126)\u001b[0m rip 345\u001b[32m [repeated 3x across cluster]\u001b[0m\n"
     ]
    },
    {
     "name": "stderr",
     "output_type": "stream",
     "text": [
      "(pid=71131)  0:  93%|█████████▎| 980/1.05k [50:10<04:39, 3.93s/it]"
     ]
    },
    {
     "name": "stdout",
     "output_type": "stream",
     "text": [
      "\u001b[36m(compute_reachable pid=71121)\u001b[0m rip 338\u001b[32m [repeated 4x across cluster]\u001b[0m\n"
     ]
    },
    {
     "name": "stderr",
     "output_type": "stream",
     "text": [
      "(pid=71131)  0:  93%|█████████▎| 981/1.05k [50:16<05:05, 4.36s/it]"
     ]
    },
    {
     "name": "stdout",
     "output_type": "stream",
     "text": [
      "\u001b[36m(compute_reachable pid=71127)\u001b[0m rip 33\u001b[32m [repeated 3x across cluster]\u001b[0m\n"
     ]
    },
    {
     "name": "stderr",
     "output_type": "stream",
     "text": [
      "(pid=71131)  0:  94%|█████████▎| 983/1.05k [50:22<03:55, 3.46s/it]"
     ]
    },
    {
     "name": "stdout",
     "output_type": "stream",
     "text": [
      "\u001b[36m(compute_reachable pid=71123)\u001b[0m rip 292\u001b[32m [repeated 4x across cluster]\u001b[0m\n"
     ]
    },
    {
     "name": "stderr",
     "output_type": "stream",
     "text": [
      "(pid=71131)  0:  94%|█████████▎| 985/1.05k [50:29<04:17, 3.90s/it]"
     ]
    },
    {
     "name": "stdout",
     "output_type": "stream",
     "text": [
      "\u001b[36m(compute_reachable pid=71128)\u001b[0m rip 37\u001b[32m [repeated 5x across cluster]\u001b[0m\n"
     ]
    },
    {
     "name": "stderr",
     "output_type": "stream",
     "text": [
      "(pid=71131)  0:  94%|█████████▍| 988/1.05k [50:37<03:39, 3.48s/it]"
     ]
    },
    {
     "name": "stdout",
     "output_type": "stream",
     "text": [
      "\u001b[36m(compute_reachable pid=71126)\u001b[0m rip 75\u001b[32m [repeated 7x across cluster]\u001b[0m\n"
     ]
    },
    {
     "name": "stderr",
     "output_type": "stream",
     "text": [
      "(pid=71131)  0:  94%|█████████▍| 989/1.05k [50:45<03:02, 2.95s/it]"
     ]
    },
    {
     "name": "stdout",
     "output_type": "stream",
     "text": [
      "\u001b[36m(compute_reachable pid=71121)\u001b[0m rip 318\u001b[32m [repeated 4x across cluster]\u001b[0m\n"
     ]
    },
    {
     "name": "stderr",
     "output_type": "stream",
     "text": [
      "(pid=71131)  0:  94%|█████████▍| 989/1.05k [50:51<03:02, 2.95s/it]"
     ]
    },
    {
     "name": "stdout",
     "output_type": "stream",
     "text": [
      "\u001b[36m(compute_reachable pid=71127)\u001b[0m rip 304\n"
     ]
    },
    {
     "name": "stderr",
     "output_type": "stream",
     "text": [
      "(pid=71131)  0:  94%|█████████▍| 989/1.05k [50:52<03:02, 2.95s/it]"
     ]
    },
    {
     "name": "stdout",
     "output_type": "stream",
     "text": [
      "\u001b[36m(compute_reachable pid=71119)\u001b[0m rip 292\n"
     ]
    },
    {
     "name": "stderr",
     "output_type": "stream",
     "text": [
      "(pid=71131)  0:  94%|█████████▍| 993/1.05k [50:58<04:03, 4.20s/it]"
     ]
    },
    {
     "name": "stdout",
     "output_type": "stream",
     "text": [
      "\u001b[36m(compute_reachable pid=71127)\u001b[0m rip 113\u001b[32m [repeated 4x across cluster]\u001b[0m\n"
     ]
    },
    {
     "name": "stderr",
     "output_type": "stream",
     "text": [
      "(pid=71131)  0:  95%|█████████▍| 996/1.05k [51:05<02:58, 3.25s/it]"
     ]
    },
    {
     "name": "stdout",
     "output_type": "stream",
     "text": [
      "\u001b[36m(compute_reachable pid=71123)\u001b[0m rip 134\u001b[32m [repeated 6x across cluster]\u001b[0m\n"
     ]
    },
    {
     "name": "stderr",
     "output_type": "stream",
     "text": [
      "(pid=71131)  0:  95%|█████████▍| 997/1.05k [51:11<03:28, 3.86s/it]"
     ]
    },
    {
     "name": "stdout",
     "output_type": "stream",
     "text": [
      "\u001b[36m(compute_reachable pid=71128)\u001b[0m rip 144\u001b[32m [repeated 5x across cluster]\u001b[0m\n"
     ]
    },
    {
     "name": "stderr",
     "output_type": "stream",
     "text": [
      "(pid=71131)  0:  95%|█████████▌| 1.00k/1.05k [51:18<02:48, 3.30s/it]"
     ]
    },
    {
     "name": "stdout",
     "output_type": "stream",
     "text": [
      "\u001b[36m(compute_reachable pid=71126)\u001b[0m rip 148\u001b[32m [repeated 3x across cluster]\u001b[0m\n"
     ]
    },
    {
     "name": "stderr",
     "output_type": "stream",
     "text": [
      "(pid=71131)  0:  95%|█████████▌| 1.00k/1.05k [51:23<01:33, 1.95s/it]"
     ]
    },
    {
     "name": "stdout",
     "output_type": "stream",
     "text": [
      "\u001b[36m(compute_reachable pid=71119)\u001b[0m rip 315\u001b[32m [repeated 5x across cluster]\u001b[0m\n"
     ]
    },
    {
     "name": "stderr",
     "output_type": "stream",
     "text": [
      "(pid=71131)  0:  95%|█████████▌| 1.00k/1.05k [51:29<01:33, 1.95s/it]"
     ]
    },
    {
     "name": "stdout",
     "output_type": "stream",
     "text": [
      "\u001b[36m(compute_reachable pid=71123)\u001b[0m rip 296\u001b[32m [repeated 3x across cluster]\u001b[0m\n"
     ]
    },
    {
     "name": "stderr",
     "output_type": "stream",
     "text": [
      "(pid=71131)  0:  96%|█████████▌| 1.00k/1.05k [51:35<03:38, 4.65s/it]"
     ]
    },
    {
     "name": "stdout",
     "output_type": "stream",
     "text": [
      "\u001b[36m(compute_reachable pid=71125)\u001b[0m rip 274\u001b[32m [repeated 3x across cluster]\u001b[0m\n"
     ]
    },
    {
     "name": "stderr",
     "output_type": "stream",
     "text": [
      "(pid=71131)  0:  96%|█████████▌| 1.00k/1.05k [51:40<03:40, 4.80s/it]"
     ]
    },
    {
     "name": "stdout",
     "output_type": "stream",
     "text": [
      "\u001b[36m(compute_reachable pid=71120)\u001b[0m rip 264\u001b[32m [repeated 4x across cluster]\u001b[0m\n"
     ]
    },
    {
     "name": "stderr",
     "output_type": "stream",
     "text": [
      "(pid=71131)  0:  96%|█████████▌| 1.01k/1.05k [51:50<02:39, 3.79s/it]"
     ]
    },
    {
     "name": "stdout",
     "output_type": "stream",
     "text": [
      "\u001b[36m(compute_reachable pid=71125)\u001b[0m rip 216\u001b[32m [repeated 6x across cluster]\u001b[0m\n"
     ]
    },
    {
     "name": "stderr",
     "output_type": "stream",
     "text": [
      "(pid=71131)  0:  96%|█████████▋| 1.01k/1.05k [51:57<02:01, 3.10s/it]"
     ]
    },
    {
     "name": "stdout",
     "output_type": "stream",
     "text": [
      "\u001b[36m(compute_reachable pid=71126)\u001b[0m rip 239\u001b[32m [repeated 4x across cluster]\u001b[0m\n"
     ]
    },
    {
     "name": "stderr",
     "output_type": "stream",
     "text": [
      "(pid=71131)  0:  97%|█████████▋| 1.01k/1.05k [52:04<01:19, 2.20s/it]"
     ]
    },
    {
     "name": "stdout",
     "output_type": "stream",
     "text": [
      "\u001b[36m(compute_reachable pid=71123)\u001b[0m rip 231\u001b[32m [repeated 7x across cluster]\u001b[0m\n"
     ]
    },
    {
     "name": "stderr",
     "output_type": "stream",
     "text": [
      "(pid=71131)  0:  97%|█████████▋| 1.01k/1.05k [52:12<01:19, 2.20s/it]"
     ]
    },
    {
     "name": "stdout",
     "output_type": "stream",
     "text": [
      "\u001b[36m(compute_reachable pid=71122)\u001b[0m rip 194\u001b[32m [repeated 4x across cluster]\u001b[0m\n"
     ]
    },
    {
     "name": "stderr",
     "output_type": "stream",
     "text": [
      "(pid=71131)  0:  97%|█████████▋| 1.02k/1.05k [52:19<02:42, 4.79s/it]"
     ]
    },
    {
     "name": "stdout",
     "output_type": "stream",
     "text": [
      "\u001b[36m(compute_reachable pid=71127)\u001b[0m rip 264\u001b[32m [repeated 5x across cluster]\u001b[0m\n"
     ]
    },
    {
     "name": "stderr",
     "output_type": "stream",
     "text": [
      "(pid=71131)  0:  97%|█████████▋| 1.02k/1.05k [52:25<01:36, 3.11s/it]"
     ]
    },
    {
     "name": "stdout",
     "output_type": "stream",
     "text": [
      "\u001b[36m(compute_reachable pid=71123)\u001b[0m rip 271\u001b[32m [repeated 3x across cluster]\u001b[0m\n"
     ]
    },
    {
     "name": "stderr",
     "output_type": "stream",
     "text": [
      "(pid=71131)  0:  97%|█████████▋| 1.02k/1.05k [52:31<01:54, 3.81s/it]"
     ]
    },
    {
     "name": "stdout",
     "output_type": "stream",
     "text": [
      "\u001b[36m(compute_reachable pid=71125)\u001b[0m rip 256\u001b[32m [repeated 2x across cluster]\u001b[0m\n"
     ]
    },
    {
     "name": "stderr",
     "output_type": "stream",
     "text": [
      "(pid=71131)  0:  97%|█████████▋| 1.02k/1.05k [52:37<01:22, 3.07s/it]"
     ]
    },
    {
     "name": "stdout",
     "output_type": "stream",
     "text": [
      "\u001b[36m(compute_reachable pid=71126)\u001b[0m rip 302\u001b[32m [repeated 7x across cluster]\u001b[0m\n"
     ]
    },
    {
     "name": "stderr",
     "output_type": "stream",
     "text": [
      "(pid=71131)  0:  98%|█████████▊| 1.03k/1.05k [52:42<00:59, 2.46s/it]"
     ]
    },
    {
     "name": "stdout",
     "output_type": "stream",
     "text": [
      "\u001b[36m(compute_reachable pid=71129)\u001b[0m rip 294\u001b[32m [repeated 5x across cluster]\u001b[0m\n"
     ]
    },
    {
     "name": "stderr",
     "output_type": "stream",
     "text": [
      "(pid=71131)  0:  98%|█████████▊| 1.03k/1.05k [52:51<00:59, 2.46s/it]"
     ]
    },
    {
     "name": "stdout",
     "output_type": "stream",
     "text": [
      "\u001b[36m(compute_reachable pid=71129)\u001b[0m rip 108\u001b[32m [repeated 5x across cluster]\u001b[0m\n"
     ]
    },
    {
     "name": "stderr",
     "output_type": "stream",
     "text": [
      "(pid=71131)  0:  98%|█████████▊| 1.03k/1.05k [53:00<01:48, 4.95s/it]"
     ]
    },
    {
     "name": "stdout",
     "output_type": "stream",
     "text": [
      "\u001b[36m(compute_reachable pid=71127)\u001b[0m rip 315\u001b[32m [repeated 2x across cluster]\u001b[0m\n"
     ]
    },
    {
     "name": "stderr",
     "output_type": "stream",
     "text": [
      "(pid=71131)  0:  98%|█████████▊| 1.03k/1.05k [53:05<01:12, 3.64s/it]"
     ]
    },
    {
     "name": "stdout",
     "output_type": "stream",
     "text": [
      "\u001b[36m(compute_reachable pid=71127)\u001b[0m rip 78\u001b[32m [repeated 4x across cluster]\u001b[0m\n"
     ]
    },
    {
     "name": "stderr",
     "output_type": "stream",
     "text": [
      "(pid=71131)  0:  98%|█████████▊| 1.03k/1.05k [53:11<01:01, 3.26s/it]"
     ]
    },
    {
     "name": "stdout",
     "output_type": "stream",
     "text": [
      "\u001b[36m(compute_reachable pid=71123)\u001b[0m rip 72\u001b[32m [repeated 4x across cluster]\u001b[0m\n"
     ]
    },
    {
     "name": "stderr",
     "output_type": "stream",
     "text": [
      "(pid=71131)  0:  98%|█████████▊| 1.03k/1.05k [53:18<01:11, 3.96s/it]"
     ]
    },
    {
     "name": "stdout",
     "output_type": "stream",
     "text": [
      "\u001b[36m(compute_reachable pid=71128)\u001b[0m rip 68\u001b[32m [repeated 6x across cluster]\u001b[0m\n"
     ]
    },
    {
     "name": "stderr",
     "output_type": "stream",
     "text": [
      "(pid=71131)  0:  99%|█████████▉| 1.04k/1.05k [53:23<00:30, 2.31s/it]"
     ]
    },
    {
     "name": "stdout",
     "output_type": "stream",
     "text": [
      "\u001b[36m(compute_reachable pid=71122)\u001b[0m rip 33\u001b[32m [repeated 6x across cluster]\u001b[0m\n"
     ]
    },
    {
     "name": "stderr",
     "output_type": "stream",
     "text": [
      "(pid=71131)  0:  99%|█████████▉| 1.04k/1.05k [53:36<00:50, 4.62s/it]"
     ]
    },
    {
     "name": "stdout",
     "output_type": "stream",
     "text": [
      "\u001b[36m(compute_reachable pid=71121)\u001b[0m rip 292\u001b[32m [repeated 3x across cluster]\u001b[0m\n"
     ]
    },
    {
     "name": "stderr",
     "output_type": "stream",
     "text": [
      "(pid=71131)  0:  99%|█████████▉| 1.04k/1.05k [53:43<00:51, 5.11s/it]"
     ]
    },
    {
     "name": "stdout",
     "output_type": "stream",
     "text": [
      "\u001b[36m(compute_reachable pid=71127)\u001b[0m rip 256\n"
     ]
    },
    {
     "name": "stderr",
     "output_type": "stream",
     "text": [
      "(pid=71131)  0:  99%|█████████▉| 1.04k/1.05k [53:43<00:51, 5.11s/it]"
     ]
    },
    {
     "name": "stdout",
     "output_type": "stream",
     "text": [
      "\u001b[36m(compute_reachable pid=71119)\u001b[0m rip 294\n"
     ]
    },
    {
     "name": "stderr",
     "output_type": "stream",
     "text": [
      "(pid=71131)  0:  99%|█████████▉| 1.04k/1.05k [53:51<00:19, 3.27s/it]"
     ]
    },
    {
     "name": "stdout",
     "output_type": "stream",
     "text": [
      "\u001b[36m(compute_reachable pid=71128)\u001b[0m rip 292\u001b[32m [repeated 3x across cluster]\u001b[0m\n"
     ]
    },
    {
     "name": "stderr",
     "output_type": "stream",
     "text": [
      "(pid=71131)  0: 100%|█████████▉| 1.05k/1.05k [53:57<00:04, 2.30s/it]"
     ]
    },
    {
     "name": "stdout",
     "output_type": "stream",
     "text": [
      "\u001b[36m(compute_reachable pid=71120)\u001b[0m rip 313\u001b[32m [repeated 4x across cluster]\u001b[0m\n"
     ]
    },
    {
     "ename": "TypeError",
     "evalue": "Actor methods cannot be called directly. Instead of running 'object.close()', try 'object.close.remote()'.",
     "output_type": "error",
     "traceback": [
      "\u001b[0;31m---------------------------------------------------------------------------\u001b[0m",
      "\u001b[0;31mTypeError\u001b[0m                                 Traceback (most recent call last)",
      "Cell \u001b[0;32mIn[2], line 3\u001b[0m\n\u001b[1;32m      1\u001b[0m \u001b[38;5;66;03m# sample states and compute reachability\u001b[39;00m\n\u001b[1;32m      2\u001b[0m sp \u001b[38;5;241m=\u001b[39m Safe_Planner(r\u001b[38;5;241m=\u001b[39m\u001b[38;5;241m20\u001b[39m, n_samples \u001b[38;5;241m=\u001b[39m \u001b[38;5;241m1000\u001b[39m, speed \u001b[38;5;241m=\u001b[39m \u001b[38;5;241m1\u001b[39m, goal_f \u001b[38;5;241m=\u001b[39m [\u001b[38;5;241m7\u001b[39m,\u001b[38;5;241m-\u001b[39m\u001b[38;5;241m2\u001b[39m,\u001b[38;5;241m0.5\u001b[39m,\u001b[38;5;241m0\u001b[39m], world_box\u001b[38;5;241m=\u001b[39mnp\u001b[38;5;241m.\u001b[39marray([[\u001b[38;5;241m0\u001b[39m,\u001b[38;5;241m0\u001b[39m],[\u001b[38;5;241m8\u001b[39m,\u001b[38;5;241m8\u001b[39m]]))\n\u001b[0;32m----> 3\u001b[0m \u001b[43msp\u001b[49m\u001b[38;5;241;43m.\u001b[39;49m\u001b[43mfind_all_reachable\u001b[49m\u001b[43m(\u001b[49m\u001b[43m)\u001b[49m\n",
      "File \u001b[0;32m~/Documents/Research/IROM/perception-guarantees/planning/Safe_Planner.py:208\u001b[0m, in \u001b[0;36mSafe_Planner.find_all_reachable\u001b[0;34m(self)\u001b[0m\n\u001b[1;32m    206\u001b[0m futures \u001b[38;5;241m=\u001b[39m [compute_reachable\u001b[38;5;241m.\u001b[39mremote(node_idx, bar) \u001b[38;5;28;01mfor\u001b[39;00m node_idx \u001b[38;5;129;01min\u001b[39;00m \u001b[38;5;28mrange\u001b[39m(\u001b[38;5;28mlen\u001b[39m(\u001b[38;5;28mself\u001b[39m\u001b[38;5;241m.\u001b[39mPset))]\n\u001b[1;32m    207\u001b[0m \u001b[38;5;28mself\u001b[39m\u001b[38;5;241m.\u001b[39mreachable \u001b[38;5;241m=\u001b[39m ray\u001b[38;5;241m.\u001b[39mget(futures)\n\u001b[0;32m--> 208\u001b[0m \u001b[43mbar\u001b[49m\u001b[38;5;241;43m.\u001b[39;49m\u001b[43mclose\u001b[49m\u001b[43m(\u001b[49m\u001b[43m)\u001b[49m\n\u001b[1;32m    209\u001b[0m ray\u001b[38;5;241m.\u001b[39mshutdown()\n",
      "File \u001b[0;32m~/miniforge3/envs/irom/lib/python3.11/site-packages/ray/actor.py:191\u001b[0m, in \u001b[0;36mActorMethod.__call__\u001b[0;34m(self, *args, **kwargs)\u001b[0m\n\u001b[1;32m    190\u001b[0m \u001b[38;5;28;01mdef\u001b[39;00m \u001b[38;5;21m__call__\u001b[39m(\u001b[38;5;28mself\u001b[39m, \u001b[38;5;241m*\u001b[39margs, \u001b[38;5;241m*\u001b[39m\u001b[38;5;241m*\u001b[39mkwargs):\n\u001b[0;32m--> 191\u001b[0m     \u001b[38;5;28;01mraise\u001b[39;00m \u001b[38;5;167;01mTypeError\u001b[39;00m(\n\u001b[1;32m    192\u001b[0m         \u001b[38;5;124m\"\u001b[39m\u001b[38;5;124mActor methods cannot be called directly. Instead \u001b[39m\u001b[38;5;124m\"\u001b[39m\n\u001b[1;32m    193\u001b[0m         \u001b[38;5;124mf\u001b[39m\u001b[38;5;124m\"\u001b[39m\u001b[38;5;124mof running \u001b[39m\u001b[38;5;124m'\u001b[39m\u001b[38;5;124mobject.\u001b[39m\u001b[38;5;132;01m{\u001b[39;00m\u001b[38;5;28mself\u001b[39m\u001b[38;5;241m.\u001b[39m_method_name\u001b[38;5;132;01m}\u001b[39;00m\u001b[38;5;124m()\u001b[39m\u001b[38;5;124m'\u001b[39m\u001b[38;5;124m, try \u001b[39m\u001b[38;5;124m\"\u001b[39m\n\u001b[1;32m    194\u001b[0m         \u001b[38;5;124mf\u001b[39m\u001b[38;5;124m\"\u001b[39m\u001b[38;5;124m'\u001b[39m\u001b[38;5;124mobject.\u001b[39m\u001b[38;5;132;01m{\u001b[39;00m\u001b[38;5;28mself\u001b[39m\u001b[38;5;241m.\u001b[39m_method_name\u001b[38;5;132;01m}\u001b[39;00m\u001b[38;5;124m.remote()\u001b[39m\u001b[38;5;124m'\u001b[39m\u001b[38;5;124m.\u001b[39m\u001b[38;5;124m\"\u001b[39m\n\u001b[1;32m    195\u001b[0m     )\n",
      "\u001b[0;31mTypeError\u001b[0m: Actor methods cannot be called directly. Instead of running 'object.close()', try 'object.close.remote()'."
     ]
    }
   ],
   "source": [
    "# sample states and compute reachability\n",
    "sp = Safe_Planner(r=5, n_samples = 1000, speed = 0.5, goal_f = [7,-2,0.5,0], world_box=np.array([[0,0],[8,8]]))\n",
    "#sp.find_all_reachable()"
   ]
  },
  {
   "cell_type": "code",
   "execution_count": 3,
   "metadata": {},
   "outputs": [],
   "source": [
    "# save pre-computed data\n",
    "f = open('planning/pre_compute/reachable_1_40.pkl', 'ab')\n",
    "pickle.dump(sp.reachable, f)\n",
    "f = open('planning/pre_compute/Pset_1_40.pkl', 'ab')\n",
    "pickle.dump(sp.Pset, f)"
   ]
  },
  {
   "cell_type": "markdown",
   "metadata": {},
   "source": [
    "Load pre-computed data"
   ]
  },
  {
   "cell_type": "code",
   "execution_count": 6,
   "metadata": {},
   "outputs": [],
   "source": [
    "# load pre-computed data from file\n",
    "f = open('planning/pre_compute/Pset_1_40.pkl', 'rb')\n",
    "Pset = pickle.load(f)\n",
    "f = open('planning/pre_compute/reachable_1_40.pkl', 'rb')\n",
    "reachable = pickle.load(f)\n",
    "\n",
    "# initialize planner\n",
    "init_state = [4.8,0.8,0,0]\n",
    "sp = Safe_Planner(init_state=init_state,radius = 1,n_samples=len(Pset)-1,world_box=np.array([[0,0],[8,8]]), max_search_iter=500)\n",
    "\n",
    "# load pre-computed data to planner\n",
    "sp.load_reachable(Pset, reachable)"
   ]
  },
  {
   "cell_type": "markdown",
   "metadata": {},
   "source": [
    "Sample planning"
   ]
  },
  {
   "cell_type": "code",
   "execution_count": 7,
   "metadata": {},
   "outputs": [],
   "source": [
    "boxes = np.array([[[1,4],[3.5,6]],\n",
    "                  [[2,3],[2.5,3.5]],\n",
    "                  [[5.3,2.5],[6,3]]])\n",
    "state = np.array([init_state])\n",
    "res = sp.plan(state, boxes)\n",
    "# res[0] = idx of nodes in the path\n",
    "# res[1] = [x_trajectory]\n",
    "# res[2] = [u_trajectory]"
   ]
  },
  {
   "cell_type": "markdown",
   "metadata": {},
   "source": [
    "Plotting"
   ]
  },
  {
   "cell_type": "code",
   "execution_count": 8,
   "metadata": {},
   "outputs": [
    {
     "data": {
      "image/png": "[encoded data removed]",
      "text/plain": [
       "<Figure size 640x480 with 1 Axes>"
      ]
     },
     "metadata": {},
     "output_type": "display_data"
    }
   ],
   "source": [
    "# plots\n",
    "def plot_reachable(self, direction):\n",
    "    '''Plot reachability connections'''\n",
    "    _, ax = plt.subplots()\n",
    "    ax.set_xlim([0,self.world.w])\n",
    "    ax.set_ylim([0,self.world.h])\n",
    "    for i in range(self.n_samples):\n",
    "        ax.scatter(self.Pset[i][0],self.Pset[i][1],color = 'k',marker = '.')\n",
    "        if direction == 'F':\n",
    "            fset = self.reachable[i][1]\n",
    "            for j in range(len(fset[0])):\n",
    "                # show_trajectory(ax, self.Pset[i],\n",
    "                #                 self.Pset[fset[0][j]],fset[1][j],self.dt)\n",
    "                traj = self.reachable[i][1][3][j][0]\n",
    "                ax.plot(traj[:,0], traj[:,1], c='gray', linewidth=0.5)\n",
    "\n",
    "        elif direction == 'B':\n",
    "            bset = self.reachable[i][2]\n",
    "            for j in range(len(bset[0])):\n",
    "                # show_trajectory(ax, self.Pset[bset[0][j]],\n",
    "                #                 self.Pset[i],bset[1][j],self.dt)\n",
    "                traj = self.reachable[i][2][3][j][0]\n",
    "                ax.plot(traj[:,0], traj[:,1], c='gray', linewidth=0.5)\n",
    "    plt.show()\n",
    "\n",
    "plot_reachable(sp, \"F\")"
   ]
  }
 ],
 "metadata": {
  "kernelspec": {
   "display_name": "emily",
   "language": "python",
   "name": "python3"
  },
  "language_info": {
   "codemirror_mode": {
    "name": "ipython",
    "version": 3
   },
   "file_extension": ".py",
   "mimetype": "text/x-python",
   "name": "python",
   "nbconvert_exporter": "python",
   "pygments_lexer": "ipython3",
   "version": "3.13.0"
  }
 },
 "nbformat": 4,
 "nbformat_minor": 2
}
