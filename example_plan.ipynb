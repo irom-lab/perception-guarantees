{
 "cells": [
  {
   "cell_type": "code",
   "execution_count": 2,
   "metadata": {},
   "outputs": [],
   "source": [
    "from planning.Safe_Planner import Safe_Planner\n",
    "import numpy as np\n",
    "import pickle\n",
    "import matplotlib.pyplot as plt"
   ]
  },
  {
   "cell_type": "markdown",
   "metadata": {},
   "source": [
    "Sample states and pre-compute reachability"
   ]
  },
  {
   "cell_type": "code",
   "execution_count": 8,
   "metadata": {},
   "outputs": [
    {
     "name": "stderr",
     "output_type": "stream",
     "text": [
      "2024-10-16 22:07:05,765\tINFO worker.py:1786 -- Started a local Ray instance.\n",
      "\u001b[33m(raylet)\u001b[0m [2024-10-16 22:07:14,642 E 1160808 1160842] (raylet) file_system_monitor.cc:111: /tmp/ray/session_2024-10-16_22-07-03_931002_1158973 is over 95% full, available space: 5988429824; capacity: 185064833024. Object creation will fail if spilling is required.\n",
      "\u001b[33m(raylet)\u001b[0m [2024-10-16 22:07:24,648 E 1160808 1160842] (raylet) file_system_monitor.cc:111: /tmp/ray/session_2024-10-16_22-07-03_931002_1158973 is over 95% full, available space: 5988413440; capacity: 185064833024. Object creation will fail if spilling is required.\n",
      "\u001b[33m(raylet)\u001b[0m [2024-10-16 22:07:34,654 E 1160808 1160842] (raylet) file_system_monitor.cc:111: /tmp/ray/session_2024-10-16_22-07-03_931002_1158973 is over 95% full, available space: 5988413440; capacity: 185064833024. Object creation will fail if spilling is required.\n",
      "\u001b[33m(raylet)\u001b[0m [2024-10-16 22:07:44,660 E 1160808 1160842] (raylet) file_system_monitor.cc:111: /tmp/ray/session_2024-10-16_22-07-03_931002_1158973 is over 95% full, available space: 5988409344; capacity: 185064833024. Object creation will fail if spilling is required.\n"
     ]
    },
    {
     "name": "stdout",
     "output_type": "stream",
     "text": [
      "\u001b[36m(compute_reachable pid=1160918)\u001b[0m rip 33\n",
      "\u001b[36m(compute_reachable pid=1160924)\u001b[0m rip 27\u001b[32m [repeated 6x across cluster]\u001b[0m\n"
     ]
    },
    {
     "name": "stderr",
     "output_type": "stream",
     "text": [
      "\u001b[33m(raylet)\u001b[0m [2024-10-16 22:07:54,667 E 1160808 1160842] (raylet) file_system_monitor.cc:111: /tmp/ray/session_2024-10-16_22-07-03_931002_1158973 is over 95% full, available space: 5988405248; capacity: 185064833024. Object creation will fail if spilling is required.\n"
     ]
    },
    {
     "name": "stdout",
     "output_type": "stream",
     "text": [
      "\u001b[36m(compute_reachable pid=1160925)\u001b[0m rip 28\u001b[32m [repeated 5x across cluster]\u001b[0m\n",
      "\u001b[36m(compute_reachable pid=1160929)\u001b[0m rip 12\u001b[32m [repeated 17x across cluster]\u001b[0m\n"
     ]
    },
    {
     "name": "stderr",
     "output_type": "stream",
     "text": [
      "\u001b[33m(raylet)\u001b[0m [2024-10-16 22:08:04,674 E 1160808 1160842] (raylet) file_system_monitor.cc:111: /tmp/ray/session_2024-10-16_22-07-03_931002_1158973 is over 95% full, available space: 5988388864; capacity: 185064833024. Object creation will fail if spilling is required.\n"
     ]
    },
    {
     "name": "stdout",
     "output_type": "stream",
     "text": [
      "\u001b[36m(compute_reachable pid=1160922)\u001b[0m rip 10\u001b[32m [repeated 11x across cluster]\u001b[0m\n"
     ]
    },
    {
     "name": "stderr",
     "output_type": "stream",
     "text": [
      "\u001b[33m(raylet)\u001b[0m [2024-10-16 22:08:14,682 E 1160808 1160842] (raylet) file_system_monitor.cc:111: /tmp/ray/session_2024-10-16_22-07-03_931002_1158973 is over 95% full, available space: 5988274176; capacity: 185064833024. Object creation will fail if spilling is required.\n",
      "\u001b[33m(raylet)\u001b[0m [2024-10-16 22:08:24,689 E 1160808 1160842] (raylet) file_system_monitor.cc:111: /tmp/ray/session_2024-10-16_22-07-03_931002_1158973 is over 95% full, available space: 5988270080; capacity: 185064833024. Object creation will fail if spilling is required.\n"
     ]
    },
    {
     "name": "stdout",
     "output_type": "stream",
     "text": [
      "\u001b[36m(compute_reachable pid=1160927)\u001b[0m rip 24\n",
      "\u001b[36m(compute_reachable pid=1160934)\u001b[0m rip 28\n",
      "\u001b[36m(compute_reachable pid=1160918)\u001b[0m rip 24\u001b[32m [repeated 14x across cluster]\u001b[0m\n"
     ]
    },
    {
     "name": "stderr",
     "output_type": "stream",
     "text": [
      "\u001b[33m(raylet)\u001b[0m [2024-10-16 22:08:34,705 E 1160808 1160842] (raylet) file_system_monitor.cc:111: /tmp/ray/session_2024-10-16_22-07-03_931002_1158973 is over 95% full, available space: 5988270080; capacity: 185064833024. Object creation will fail if spilling is required.\n",
      "\u001b[33m(raylet)\u001b[0m [2024-10-16 22:08:44,711 E 1160808 1160842] (raylet) file_system_monitor.cc:111: /tmp/ray/session_2024-10-16_22-07-03_931002_1158973 is over 95% full, available space: 5988265984; capacity: 185064833024. Object creation will fail if spilling is required.\n"
     ]
    },
    {
     "name": "stdout",
     "output_type": "stream",
     "text": [
      "\u001b[36m(compute_reachable pid=1160918)\u001b[0m rip 25\u001b[32m [repeated 5x across cluster]\u001b[0m\n",
      "\u001b[36m(compute_reachable pid=1160930)\u001b[0m rip 40\u001b[32m [repeated 17x across cluster]\u001b[0m\n"
     ]
    },
    {
     "name": "stderr",
     "output_type": "stream",
     "text": [
      "\u001b[33m(raylet)\u001b[0m [2024-10-16 22:08:54,717 E 1160808 1160842] (raylet) file_system_monitor.cc:111: /tmp/ray/session_2024-10-16_22-07-03_931002_1158973 is over 95% full, available space: 5988261888; capacity: 185064833024. Object creation will fail if spilling is required.\n"
     ]
    },
    {
     "name": "stdout",
     "output_type": "stream",
     "text": [
      "\u001b[36m(compute_reachable pid=1160922)\u001b[0m rip 18\u001b[32m [repeated 2x across cluster]\u001b[0m\n",
      "\u001b[36m(compute_reachable pid=1160933)\u001b[0m rip 28\u001b[32m [repeated 9x across cluster]\u001b[0m\n"
     ]
    },
    {
     "name": "stderr",
     "output_type": "stream",
     "text": [
      "\u001b[33m(raylet)\u001b[0m [2024-10-16 22:09:04,723 E 1160808 1160842] (raylet) file_system_monitor.cc:111: /tmp/ray/session_2024-10-16_22-07-03_931002_1158973 is over 95% full, available space: 5988249600; capacity: 185064833024. Object creation will fail if spilling is required.\n",
      "\u001b[33m(raylet)\u001b[0m [2024-10-16 22:09:14,729 E 1160808 1160842] (raylet) file_system_monitor.cc:111: /tmp/ray/session_2024-10-16_22-07-03_931002_1158973 is over 95% full, available space: 5988061184; capacity: 185064833024. Object creation will fail if spilling is required.\n",
      "\u001b[33m(raylet)\u001b[0m [2024-10-16 22:09:24,735 E 1160808 1160842] (raylet) file_system_monitor.cc:111: /tmp/ray/session_2024-10-16_22-07-03_931002_1158973 is over 95% full, available space: 5988061184; capacity: 185064833024. Object creation will fail if spilling is required.\n",
      "\u001b[33m(raylet)\u001b[0m [2024-10-16 22:09:34,742 E 1160808 1160842] (raylet) file_system_monitor.cc:111: /tmp/ray/session_2024-10-16_22-07-03_931002_1158973 is over 95% full, available space: 5988057088; capacity: 185064833024. Object creation will fail if spilling is required.\n"
     ]
    },
    {
     "name": "stdout",
     "output_type": "stream",
     "text": [
      "\u001b[36m(compute_reachable pid=1160918)\u001b[0m rip 25\u001b[32m [repeated 12x across cluster]\u001b[0m\n",
      "\u001b[36m(compute_reachable pid=1160916)\u001b[0m rip 40\u001b[32m [repeated 13x across cluster]\u001b[0m\n"
     ]
    },
    {
     "name": "stderr",
     "output_type": "stream",
     "text": [
      "\u001b[33m(raylet)\u001b[0m [2024-10-16 22:09:44,749 E 1160808 1160842] (raylet) file_system_monitor.cc:111: /tmp/ray/session_2024-10-16_22-07-03_931002_1158973 is over 95% full, available space: 5988057088; capacity: 185064833024. Object creation will fail if spilling is required.\n"
     ]
    },
    {
     "name": "stdout",
     "output_type": "stream",
     "text": [
      "\u001b[36m(compute_reachable pid=1160931)\u001b[0m rip 29\u001b[32m [repeated 15x across cluster]\u001b[0m\n",
      "\u001b[36m(compute_reachable pid=1160922)\u001b[0m rip 18\n"
     ]
    },
    {
     "name": "stderr",
     "output_type": "stream",
     "text": [
      "\u001b[33m(raylet)\u001b[0m [2024-10-16 22:09:54,755 E 1160808 1160842] (raylet) file_system_monitor.cc:111: /tmp/ray/session_2024-10-16_22-07-03_931002_1158973 is over 95% full, available space: 5988048896; capacity: 185064833024. Object creation will fail if spilling is required.\n",
      "\u001b[33m(raylet)\u001b[0m [2024-10-16 22:10:04,762 E 1160808 1160842] (raylet) file_system_monitor.cc:111: /tmp/ray/session_2024-10-16_22-07-03_931002_1158973 is over 95% full, available space: 5988028416; capacity: 185064833024. Object creation will fail if spilling is required.\n",
      "\u001b[33m(raylet)\u001b[0m [2024-10-16 22:10:14,782 E 1160808 1160842] (raylet) file_system_monitor.cc:111: /tmp/ray/session_2024-10-16_22-07-03_931002_1158973 is over 95% full, available space: 5987905536; capacity: 185064833024. Object creation will fail if spilling is required.\n",
      "\u001b[33m(raylet)\u001b[0m [2024-10-16 22:10:24,788 E 1160808 1160842] (raylet) file_system_monitor.cc:111: /tmp/ray/session_2024-10-16_22-07-03_931002_1158973 is over 95% full, available space: 5987901440; capacity: 185064833024. Object creation will fail if spilling is required.\n"
     ]
    },
    {
     "name": "stdout",
     "output_type": "stream",
     "text": [
      "\u001b[36m(compute_reachable pid=1160918)\u001b[0m rip 25\n",
      "\u001b[36m(compute_reachable pid=1160929)\u001b[0m rip 33\u001b[32m [repeated 6x across cluster]\u001b[0m\n"
     ]
    },
    {
     "name": "stderr",
     "output_type": "stream",
     "text": [
      "\u001b[33m(raylet)\u001b[0m [2024-10-16 22:10:34,797 E 1160808 1160842] (raylet) file_system_monitor.cc:111: /tmp/ray/session_2024-10-16_22-07-03_931002_1158973 is over 95% full, available space: 5987897344; capacity: 185064833024. Object creation will fail if spilling is required.\n"
     ]
    },
    {
     "name": "stdout",
     "output_type": "stream",
     "text": [
      "\u001b[36m(compute_reachable pid=1160930)\u001b[0m rip 37\u001b[32m [repeated 6x across cluster]\u001b[0m\n"
     ]
    },
    {
     "name": "stderr",
     "output_type": "stream",
     "text": [
      "\u001b[33m(raylet)\u001b[0m [2024-10-16 22:10:44,803 E 1160808 1160842] (raylet) file_system_monitor.cc:111: /tmp/ray/session_2024-10-16_22-07-03_931002_1158973 is over 95% full, available space: 5987893248; capacity: 185064833024. Object creation will fail if spilling is required.\n"
     ]
    },
    {
     "name": "stdout",
     "output_type": "stream",
     "text": [
      "\u001b[36m(compute_reachable pid=1160930)\u001b[0m rip 32\u001b[32m [repeated 14x across cluster]\u001b[0m\n",
      "\u001b[36m(compute_reachable pid=1160922)\u001b[0m rip 22\u001b[32m [repeated 3x across cluster]\u001b[0m\n"
     ]
    },
    {
     "name": "stderr",
     "output_type": "stream",
     "text": [
      "\u001b[33m(raylet)\u001b[0m [2024-10-16 22:10:54,809 E 1160808 1160842] (raylet) file_system_monitor.cc:111: /tmp/ray/session_2024-10-16_22-07-03_931002_1158973 is over 95% full, available space: 5987889152; capacity: 185064833024. Object creation will fail if spilling is required.\n",
      "\u001b[33m(raylet)\u001b[0m [2024-10-16 22:11:04,815 E 1160808 1160842] (raylet) file_system_monitor.cc:111: /tmp/ray/session_2024-10-16_22-07-03_931002_1158973 is over 95% full, available space: 5987876864; capacity: 185064833024. Object creation will fail if spilling is required.\n",
      "\u001b[33m(raylet)\u001b[0m [2024-10-16 22:11:14,821 E 1160808 1160842] (raylet) file_system_monitor.cc:111: /tmp/ray/session_2024-10-16_22-07-03_931002_1158973 is over 95% full, available space: 5987635200; capacity: 185064833024. Object creation will fail if spilling is required.\n"
     ]
    },
    {
     "name": "stdout",
     "output_type": "stream",
     "text": [
      "\u001b[36m(compute_reachable pid=1160924)\u001b[0m rip 39\n",
      "\u001b[36m(compute_reachable pid=1160918)\u001b[0m rip 39\n",
      "\u001b[36m(compute_reachable pid=1160928)\u001b[0m rip 42\u001b[32m [repeated 15x across cluster]\u001b[0m\n"
     ]
    },
    {
     "name": "stderr",
     "output_type": "stream",
     "text": [
      "\u001b[33m(raylet)\u001b[0m [2024-10-16 22:11:24,827 E 1160808 1160842] (raylet) file_system_monitor.cc:111: /tmp/ray/session_2024-10-16_22-07-03_931002_1158973 is over 95% full, available space: 5987631104; capacity: 185064833024. Object creation will fail if spilling is required.\n"
     ]
    },
    {
     "name": "stdout",
     "output_type": "stream",
     "text": [
      "\u001b[36m(compute_reachable pid=1160917)\u001b[0m rip 41\u001b[32m [repeated 4x across cluster]\u001b[0m\n"
     ]
    },
    {
     "name": "stderr",
     "output_type": "stream",
     "text": [
      "\u001b[33m(raylet)\u001b[0m [2024-10-16 22:11:34,833 E 1160808 1160842] (raylet) file_system_monitor.cc:111: /tmp/ray/session_2024-10-16_22-07-03_931002_1158973 is over 95% full, available space: 5987631104; capacity: 185064833024. Object creation will fail if spilling is required.\n"
     ]
    },
    {
     "name": "stdout",
     "output_type": "stream",
     "text": [
      "\u001b[36m(compute_reachable pid=1160934)\u001b[0m rip 55\u001b[32m [repeated 10x across cluster]\u001b[0m\n"
     ]
    },
    {
     "name": "stderr",
     "output_type": "stream",
     "text": [
      "\u001b[33m(raylet)\u001b[0m [2024-10-16 22:11:44,839 E 1160808 1160842] (raylet) file_system_monitor.cc:111: /tmp/ray/session_2024-10-16_22-07-03_931002_1158973 is over 95% full, available space: 5987627008; capacity: 185064833024. Object creation will fail if spilling is required.\n"
     ]
    },
    {
     "name": "stdout",
     "output_type": "stream",
     "text": [
      "\u001b[36m(compute_reachable pid=1160922)\u001b[0m rip 29\u001b[32m [repeated 9x across cluster]\u001b[0m\n"
     ]
    },
    {
     "name": "stderr",
     "output_type": "stream",
     "text": [
      "\u001b[33m(raylet)\u001b[0m [2024-10-16 22:11:54,845 E 1160808 1160842] (raylet) file_system_monitor.cc:111: /tmp/ray/session_2024-10-16_22-07-03_931002_1158973 is over 95% full, available space: 5987622912; capacity: 185064833024. Object creation will fail if spilling is required.\n"
     ]
    },
    {
     "name": "stdout",
     "output_type": "stream",
     "text": [
      "\u001b[36m(compute_reachable pid=1160924)\u001b[0m rip 42\u001b[32m [repeated 8x across cluster]\u001b[0m\n"
     ]
    },
    {
     "name": "stderr",
     "output_type": "stream",
     "text": [
      "\u001b[33m(raylet)\u001b[0m [2024-10-16 22:12:04,851 E 1160808 1160842] (raylet) file_system_monitor.cc:111: /tmp/ray/session_2024-10-16_22-07-03_931002_1158973 is over 95% full, available space: 5987610624; capacity: 185064833024. Object creation will fail if spilling is required.\n"
     ]
    },
    {
     "name": "stdout",
     "output_type": "stream",
     "text": [
      "\u001b[36m(compute_reachable pid=1160922)\u001b[0m rip 42\u001b[32m [repeated 12x across cluster]\u001b[0m\n"
     ]
    },
    {
     "name": "stderr",
     "output_type": "stream",
     "text": [
      "\u001b[33m(raylet)\u001b[0m [2024-10-16 22:12:14,857 E 1160808 1160842] (raylet) file_system_monitor.cc:111: /tmp/ray/session_2024-10-16_22-07-03_931002_1158973 is over 95% full, available space: 5987450880; capacity: 185064833024. Object creation will fail if spilling is required.\n"
     ]
    },
    {
     "name": "stdout",
     "output_type": "stream",
     "text": [
      "\u001b[36m(compute_reachable pid=1160918)\u001b[0m rip 28\n",
      "\u001b[36m(compute_reachable pid=1160917)\u001b[0m rip 46\n"
     ]
    },
    {
     "name": "stderr",
     "output_type": "stream",
     "text": [
      "\u001b[33m(raylet)\u001b[0m [2024-10-16 22:12:24,863 E 1160808 1160842] (raylet) file_system_monitor.cc:111: /tmp/ray/session_2024-10-16_22-07-03_931002_1158973 is over 95% full, available space: 5987446784; capacity: 185064833024. Object creation will fail if spilling is required.\n"
     ]
    },
    {
     "name": "stdout",
     "output_type": "stream",
     "text": [
      "\u001b[36m(compute_reachable pid=1160920)\u001b[0m rip 29\u001b[32m [repeated 8x across cluster]\u001b[0m\n",
      "\u001b[36m(compute_reachable pid=1160916)\u001b[0m rip 46\u001b[32m [repeated 2x across cluster]\u001b[0m\n"
     ]
    },
    {
     "name": "stderr",
     "output_type": "stream",
     "text": [
      "\u001b[33m(raylet)\u001b[0m [2024-10-16 22:12:34,869 E 1160808 1160842] (raylet) file_system_monitor.cc:111: /tmp/ray/session_2024-10-16_22-07-03_931002_1158973 is over 95% full, available space: 5987442688; capacity: 185064833024. Object creation will fail if spilling is required.\n"
     ]
    },
    {
     "name": "stdout",
     "output_type": "stream",
     "text": [
      "\u001b[36m(compute_reachable pid=1160928)\u001b[0m rip 12\u001b[32m [repeated 18x across cluster]\u001b[0m\n"
     ]
    },
    {
     "name": "stderr",
     "output_type": "stream",
     "text": [
      "\u001b[33m(raylet)\u001b[0m [2024-10-16 22:12:44,875 E 1160808 1160842] (raylet) file_system_monitor.cc:111: /tmp/ray/session_2024-10-16_22-07-03_931002_1158973 is over 95% full, available space: 5987438592; capacity: 185064833024. Object creation will fail if spilling is required.\n"
     ]
    },
    {
     "name": "stdout",
     "output_type": "stream",
     "text": [
      "\u001b[36m(compute_reachable pid=1160922)\u001b[0m rip 29\u001b[32m [repeated 9x across cluster]\u001b[0m\n"
     ]
    },
    {
     "name": "stderr",
     "output_type": "stream",
     "text": [
      "\u001b[33m(raylet)\u001b[0m [2024-10-16 22:12:54,881 E 1160808 1160842] (raylet) file_system_monitor.cc:111: /tmp/ray/session_2024-10-16_22-07-03_931002_1158973 is over 95% full, available space: 5987434496; capacity: 185064833024. Object creation will fail if spilling is required.\n",
      "\u001b[33m(raylet)\u001b[0m [2024-10-16 22:13:04,888 E 1160808 1160842] (raylet) file_system_monitor.cc:111: /tmp/ray/session_2024-10-16_22-07-03_931002_1158973 is over 95% full, available space: 5987418112; capacity: 185064833024. Object creation will fail if spilling is required.\n"
     ]
    },
    {
     "name": "stdout",
     "output_type": "stream",
     "text": [
      "\u001b[36m(compute_reachable pid=1160918)\u001b[0m rip 28\u001b[32m [repeated 2x across cluster]\u001b[0m\n"
     ]
    },
    {
     "name": "stderr",
     "output_type": "stream",
     "text": [
      "\u001b[33m(raylet)\u001b[0m [2024-10-16 22:13:14,894 E 1160808 1160842] (raylet) file_system_monitor.cc:111: /tmp/ray/session_2024-10-16_22-07-03_931002_1158973 is over 95% full, available space: 5987311616; capacity: 185064833024. Object creation will fail if spilling is required.\n"
     ]
    },
    {
     "name": "stdout",
     "output_type": "stream",
     "text": [
      "\u001b[36m(compute_reachable pid=1160929)\u001b[0m rip 28\u001b[32m [repeated 5x across cluster]\u001b[0m\n"
     ]
    },
    {
     "name": "stderr",
     "output_type": "stream",
     "text": [
      "\u001b[33m(raylet)\u001b[0m [2024-10-16 22:13:24,899 E 1160808 1160842] (raylet) file_system_monitor.cc:111: /tmp/ray/session_2024-10-16_22-07-03_931002_1158973 is over 95% full, available space: 5987303424; capacity: 185064833024. Object creation will fail if spilling is required.\n"
     ]
    },
    {
     "name": "stdout",
     "output_type": "stream",
     "text": [
      "\u001b[36m(compute_reachable pid=1160934)\u001b[0m rip 28\u001b[32m [repeated 5x across cluster]\u001b[0m\n"
     ]
    },
    {
     "name": "stderr",
     "output_type": "stream",
     "text": [
      "\u001b[33m(raylet)\u001b[0m [2024-10-16 22:13:34,905 E 1160808 1160842] (raylet) file_system_monitor.cc:111: /tmp/ray/session_2024-10-16_22-07-03_931002_1158973 is over 95% full, available space: 5987299328; capacity: 185064833024. Object creation will fail if spilling is required.\n"
     ]
    },
    {
     "name": "stdout",
     "output_type": "stream",
     "text": [
      "\u001b[36m(compute_reachable pid=1160928)\u001b[0m rip 46\u001b[32m [repeated 6x across cluster]\u001b[0m\n"
     ]
    },
    {
     "name": "stderr",
     "output_type": "stream",
     "text": [
      "\u001b[33m(raylet)\u001b[0m [2024-10-16 22:13:44,911 E 1160808 1160842] (raylet) file_system_monitor.cc:111: /tmp/ray/session_2024-10-16_22-07-03_931002_1158973 is over 95% full, available space: 5987299328; capacity: 185064833024. Object creation will fail if spilling is required.\n"
     ]
    },
    {
     "name": "stdout",
     "output_type": "stream",
     "text": [
      "\u001b[36m(compute_reachable pid=1160922)\u001b[0m rip 29\u001b[32m [repeated 3x across cluster]\u001b[0m\n"
     ]
    },
    {
     "name": "stderr",
     "output_type": "stream",
     "text": [
      "\u001b[33m(raylet)\u001b[0m [2024-10-16 22:13:54,916 E 1160808 1160842] (raylet) file_system_monitor.cc:111: /tmp/ray/session_2024-10-16_22-07-03_931002_1158973 is over 95% full, available space: 5987295232; capacity: 185064833024. Object creation will fail if spilling is required.\n",
      "\u001b[33m(raylet)\u001b[0m [2024-10-16 22:14:04,922 E 1160808 1160842] (raylet) file_system_monitor.cc:111: /tmp/ray/session_2024-10-16_22-07-03_931002_1158973 is over 95% full, available space: 5987278848; capacity: 185064833024. Object creation will fail if spilling is required.\n",
      "\u001b[33m(raylet)\u001b[0m [2024-10-16 22:14:14,928 E 1160808 1160842] (raylet) file_system_monitor.cc:111: /tmp/ray/session_2024-10-16_22-07-03_931002_1158973 is over 95% full, available space: 5987086336; capacity: 185064833024. Object creation will fail if spilling is required.\n"
     ]
    },
    {
     "name": "stdout",
     "output_type": "stream",
     "text": [
      "\u001b[36m(compute_reachable pid=1160929)\u001b[0m rip 46\n",
      "\u001b[36m(compute_reachable pid=1160918)\u001b[0m rip 46\n",
      "\u001b[36m(compute_reachable pid=1160933)\u001b[0m rip 42\u001b[32m [repeated 16x across cluster]\u001b[0m\n"
     ]
    },
    {
     "name": "stderr",
     "output_type": "stream",
     "text": [
      "\u001b[33m(raylet)\u001b[0m [2024-10-16 22:14:24,934 E 1160808 1160842] (raylet) file_system_monitor.cc:111: /tmp/ray/session_2024-10-16_22-07-03_931002_1158973 is over 95% full, available space: 5987082240; capacity: 185064833024. Object creation will fail if spilling is required.\n"
     ]
    },
    {
     "name": "stdout",
     "output_type": "stream",
     "text": [
      "\u001b[36m(compute_reachable pid=1160920)\u001b[0m rip 23\u001b[32m [repeated 11x across cluster]\u001b[0m\n"
     ]
    },
    {
     "name": "stderr",
     "output_type": "stream",
     "text": [
      "\u001b[33m(raylet)\u001b[0m [2024-10-16 22:14:34,940 E 1160808 1160842] (raylet) file_system_monitor.cc:111: /tmp/ray/session_2024-10-16_22-07-03_931002_1158973 is over 95% full, available space: 5987082240; capacity: 185064833024. Object creation will fail if spilling is required.\n"
     ]
    },
    {
     "name": "stdout",
     "output_type": "stream",
     "text": [
      "\u001b[36m(compute_reachable pid=1160933)\u001b[0m rip 30\u001b[32m [repeated 4x across cluster]\u001b[0m\n",
      "\u001b[36m(compute_reachable pid=1160922)\u001b[0m rip 42\u001b[32m [repeated 6x across cluster]\u001b[0m\n"
     ]
    },
    {
     "name": "stderr",
     "output_type": "stream",
     "text": [
      "\u001b[33m(raylet)\u001b[0m [2024-10-16 22:14:44,946 E 1160808 1160842] (raylet) file_system_monitor.cc:111: /tmp/ray/session_2024-10-16_22-07-03_931002_1158973 is over 95% full, available space: 5987082240; capacity: 185064833024. Object creation will fail if spilling is required.\n",
      "\u001b[33m(raylet)\u001b[0m [2024-10-16 22:14:54,952 E 1160808 1160842] (raylet) file_system_monitor.cc:111: /tmp/ray/session_2024-10-16_22-07-03_931002_1158973 is over 95% full, available space: 5987074048; capacity: 185064833024. Object creation will fail if spilling is required.\n"
     ]
    },
    {
     "name": "stdout",
     "output_type": "stream",
     "text": [
      "\u001b[36m(compute_reachable pid=1160922)\u001b[0m rip 30\n",
      "\u001b[36m(compute_reachable pid=1160923)\u001b[0m rip 46\n"
     ]
    },
    {
     "name": "stderr",
     "output_type": "stream",
     "text": [
      "\u001b[33m(raylet)\u001b[0m [2024-10-16 22:15:04,958 E 1160808 1160842] (raylet) file_system_monitor.cc:111: /tmp/ray/session_2024-10-16_22-07-03_931002_1158973 is over 95% full, available space: 5987057664; capacity: 185064833024. Object creation will fail if spilling is required.\n",
      "\u001b[33m(raylet)\u001b[0m [2024-10-16 22:15:14,964 E 1160808 1160842] (raylet) file_system_monitor.cc:111: /tmp/ray/session_2024-10-16_22-07-03_931002_1158973 is over 95% full, available space: 5986934784; capacity: 185064833024. Object creation will fail if spilling is required.\n"
     ]
    },
    {
     "name": "stdout",
     "output_type": "stream",
     "text": [
      "\u001b[36m(compute_reachable pid=1160918)\u001b[0m rip 28\u001b[32m [repeated 19x across cluster]\u001b[0m\n"
     ]
    },
    {
     "name": "stderr",
     "output_type": "stream",
     "text": [
      "\u001b[33m(raylet)\u001b[0m [2024-10-16 22:15:24,970 E 1160808 1160842] (raylet) file_system_monitor.cc:111: /tmp/ray/session_2024-10-16_22-07-03_931002_1158973 is over 95% full, available space: 5986934784; capacity: 185064833024. Object creation will fail if spilling is required.\n"
     ]
    },
    {
     "name": "stdout",
     "output_type": "stream",
     "text": [
      "\u001b[36m(compute_reachable pid=1160920)\u001b[0m rip 30\u001b[32m [repeated 10x across cluster]\u001b[0m\n"
     ]
    },
    {
     "name": "stderr",
     "output_type": "stream",
     "text": [
      "\u001b[33m(raylet)\u001b[0m [2024-10-16 22:15:34,976 E 1160808 1160842] (raylet) file_system_monitor.cc:111: /tmp/ray/session_2024-10-16_22-07-03_931002_1158973 is over 95% full, available space: 5986930688; capacity: 185064833024. Object creation will fail if spilling is required.\n"
     ]
    },
    {
     "name": "stdout",
     "output_type": "stream",
     "text": [
      "\u001b[36m(compute_reachable pid=1160933)\u001b[0m rip 44\u001b[32m [repeated 5x across cluster]\u001b[0m\n"
     ]
    },
    {
     "name": "stderr",
     "output_type": "stream",
     "text": [
      "\u001b[33m(raylet)\u001b[0m [2024-10-16 22:15:44,983 E 1160808 1160842] (raylet) file_system_monitor.cc:111: /tmp/ray/session_2024-10-16_22-07-03_931002_1158973 is over 95% full, available space: 5986926592; capacity: 185064833024. Object creation will fail if spilling is required.\n"
     ]
    },
    {
     "name": "stdout",
     "output_type": "stream",
     "text": [
      "\u001b[36m(compute_reachable pid=1160915)\u001b[0m rip 37\u001b[32m [repeated 5x across cluster]\u001b[0m\n"
     ]
    },
    {
     "name": "stderr",
     "output_type": "stream",
     "text": [
      "\u001b[33m(raylet)\u001b[0m [2024-10-16 22:15:54,989 E 1160808 1160842] (raylet) file_system_monitor.cc:111: /tmp/ray/session_2024-10-16_22-07-03_931002_1158973 is over 95% full, available space: 5986926592; capacity: 185064833024. Object creation will fail if spilling is required.\n"
     ]
    },
    {
     "name": "stdout",
     "output_type": "stream",
     "text": [
      "\u001b[36m(compute_reachable pid=1160922)\u001b[0m rip 30\u001b[32m [repeated 19x across cluster]\u001b[0m\n"
     ]
    },
    {
     "name": "stderr",
     "output_type": "stream",
     "text": [
      "\u001b[33m(raylet)\u001b[0m [2024-10-16 22:16:04,995 E 1160808 1160842] (raylet) file_system_monitor.cc:111: /tmp/ray/session_2024-10-16_22-07-03_931002_1158973 is over 95% full, available space: 5986914304; capacity: 185064833024. Object creation will fail if spilling is required.\n"
     ]
    },
    {
     "name": "stdout",
     "output_type": "stream",
     "text": [
      "\u001b[36m(compute_reachable pid=1160922)\u001b[0m rip 40\n"
     ]
    },
    {
     "name": "stderr",
     "output_type": "stream",
     "text": [
      "\u001b[33m(raylet)\u001b[0m [2024-10-16 22:16:15,001 E 1160808 1160842] (raylet) file_system_monitor.cc:111: /tmp/ray/session_2024-10-16_22-07-03_931002_1158973 is over 95% full, available space: 5986734080; capacity: 185064833024. Object creation will fail if spilling is required.\n"
     ]
    },
    {
     "name": "stdout",
     "output_type": "stream",
     "text": [
      "\u001b[36m(compute_reachable pid=1160924)\u001b[0m rip 46\n"
     ]
    },
    {
     "name": "stderr",
     "output_type": "stream",
     "text": [
      "\u001b[33m(raylet)\u001b[0m [2024-10-16 22:16:25,007 E 1160808 1160842] (raylet) file_system_monitor.cc:111: /tmp/ray/session_2024-10-16_22-07-03_931002_1158973 is over 95% full, available space: 5986729984; capacity: 185064833024. Object creation will fail if spilling is required.\n"
     ]
    },
    {
     "name": "stdout",
     "output_type": "stream",
     "text": [
      "\u001b[36m(compute_reachable pid=1160923)\u001b[0m rip 28\u001b[32m [repeated 6x across cluster]\u001b[0m\n",
      "\u001b[36m(compute_reachable pid=1160926)\u001b[0m rip 30\u001b[32m [repeated 11x across cluster]\u001b[0m\n"
     ]
    },
    {
     "name": "stderr",
     "output_type": "stream",
     "text": [
      "\u001b[33m(raylet)\u001b[0m [2024-10-16 22:16:35,013 E 1160808 1160842] (raylet) file_system_monitor.cc:111: /tmp/ray/session_2024-10-16_22-07-03_931002_1158973 is over 95% full, available space: 5986725888; capacity: 185064833024. Object creation will fail if spilling is required.\n"
     ]
    },
    {
     "name": "stdout",
     "output_type": "stream",
     "text": [
      "\u001b[36m(compute_reachable pid=1160932)\u001b[0m rip 28\u001b[32m [repeated 8x across cluster]\u001b[0m\n"
     ]
    },
    {
     "name": "stderr",
     "output_type": "stream",
     "text": [
      "\u001b[33m(raylet)\u001b[0m [2024-10-16 22:16:45,020 E 1160808 1160842] (raylet) file_system_monitor.cc:111: /tmp/ray/session_2024-10-16_22-07-03_931002_1158973 is over 95% full, available space: 5986725888; capacity: 185064833024. Object creation will fail if spilling is required.\n",
      "\u001b[33m(raylet)\u001b[0m [2024-10-16 22:16:55,026 E 1160808 1160842] (raylet) file_system_monitor.cc:111: /tmp/ray/session_2024-10-16_22-07-03_931002_1158973 is over 95% full, available space: 5986725888; capacity: 185064833024. Object creation will fail if spilling is required.\n"
     ]
    },
    {
     "name": "stdout",
     "output_type": "stream",
     "text": [
      "\u001b[36m(compute_reachable pid=1160922)\u001b[0m rip 30\u001b[32m [repeated 4x across cluster]\u001b[0m\n"
     ]
    },
    {
     "name": "stderr",
     "output_type": "stream",
     "text": [
      "\u001b[33m(raylet)\u001b[0m [2024-10-16 22:17:05,032 E 1160808 1160842] (raylet) file_system_monitor.cc:111: /tmp/ray/session_2024-10-16_22-07-03_931002_1158973 is over 95% full, available space: 5986709504; capacity: 185064833024. Object creation will fail if spilling is required.\n",
      "\u001b[33m(raylet)\u001b[0m [2024-10-16 22:17:15,038 E 1160808 1160842] (raylet) file_system_monitor.cc:111: /tmp/ray/session_2024-10-16_22-07-03_931002_1158973 is over 95% full, available space: 5986578432; capacity: 185064833024. Object creation will fail if spilling is required.\n",
      "\u001b[33m(raylet)\u001b[0m [2024-10-16 22:17:25,044 E 1160808 1160842] (raylet) file_system_monitor.cc:111: /tmp/ray/session_2024-10-16_22-07-03_931002_1158973 is over 95% full, available space: 5986574336; capacity: 185064833024. Object creation will fail if spilling is required.\n"
     ]
    },
    {
     "name": "stdout",
     "output_type": "stream",
     "text": [
      "\u001b[36m(compute_reachable pid=1160924)\u001b[0m rip 28\n",
      "\u001b[36m(compute_reachable pid=1160918)\u001b[0m rip 46\n",
      "\u001b[36m(compute_reachable pid=1160921)\u001b[0m rip 28\u001b[32m [repeated 4x across cluster]\u001b[0m\n"
     ]
    },
    {
     "name": "stderr",
     "output_type": "stream",
     "text": [
      "\u001b[33m(raylet)\u001b[0m [2024-10-16 22:17:35,050 E 1160808 1160842] (raylet) file_system_monitor.cc:111: /tmp/ray/session_2024-10-16_22-07-03_931002_1158973 is over 95% full, available space: 5986574336; capacity: 185064833024. Object creation will fail if spilling is required.\n"
     ]
    },
    {
     "name": "stdout",
     "output_type": "stream",
     "text": [
      "\u001b[36m(compute_reachable pid=1160920)\u001b[0m rip 30\u001b[32m [repeated 4x across cluster]\u001b[0m\n"
     ]
    },
    {
     "name": "stderr",
     "output_type": "stream",
     "text": [
      "\u001b[33m(raylet)\u001b[0m [2024-10-16 22:17:45,056 E 1160808 1160842] (raylet) file_system_monitor.cc:111: /tmp/ray/session_2024-10-16_22-07-03_931002_1158973 is over 95% full, available space: 5986570240; capacity: 185064833024. Object creation will fail if spilling is required.\n"
     ]
    },
    {
     "name": "stdout",
     "output_type": "stream",
     "text": [
      "\u001b[36m(compute_reachable pid=1160927)\u001b[0m rip 42\u001b[32m [repeated 5x across cluster]\u001b[0m\n",
      "\u001b[36m(compute_reachable pid=1160928)\u001b[0m rip 30\u001b[32m [repeated 8x across cluster]\u001b[0m\n"
     ]
    },
    {
     "name": "stderr",
     "output_type": "stream",
     "text": [
      "\u001b[33m(raylet)\u001b[0m [2024-10-16 22:17:55,063 E 1160808 1160842] (raylet) file_system_monitor.cc:111: /tmp/ray/session_2024-10-16_22-07-03_931002_1158973 is over 95% full, available space: 5986557952; capacity: 185064833024. Object creation will fail if spilling is required.\n",
      "\u001b[33m(raylet)\u001b[0m [2024-10-16 22:18:05,069 E 1160808 1160842] (raylet) file_system_monitor.cc:111: /tmp/ray/session_2024-10-16_22-07-03_931002_1158973 is over 95% full, available space: 5986541568; capacity: 185064833024. Object creation will fail if spilling is required.\n"
     ]
    },
    {
     "name": "stdout",
     "output_type": "stream",
     "text": [
      "\u001b[36m(compute_reachable pid=1160922)\u001b[0m rip 42\u001b[32m [repeated 6x across cluster]\u001b[0m\n"
     ]
    },
    {
     "name": "stderr",
     "output_type": "stream",
     "text": [
      "\u001b[33m(raylet)\u001b[0m [2024-10-16 22:18:15,075 E 1160808 1160842] (raylet) file_system_monitor.cc:111: /tmp/ray/session_2024-10-16_22-07-03_931002_1158973 is over 95% full, available space: 5986361344; capacity: 185064833024. Object creation will fail if spilling is required.\n"
     ]
    },
    {
     "name": "stdout",
     "output_type": "stream",
     "text": [
      "\u001b[36m(compute_reachable pid=1160922)\u001b[0m rip 23\n"
     ]
    },
    {
     "name": "stderr",
     "output_type": "stream",
     "text": [
      "\u001b[33m(raylet)\u001b[0m [2024-10-16 22:18:25,081 E 1160808 1160842] (raylet) file_system_monitor.cc:111: /tmp/ray/session_2024-10-16_22-07-03_931002_1158973 is over 95% full, available space: 5986357248; capacity: 185064833024. Object creation will fail if spilling is required.\n"
     ]
    },
    {
     "name": "stdout",
     "output_type": "stream",
     "text": [
      "\u001b[36m(compute_reachable pid=1160924)\u001b[0m rip 46\n",
      "\u001b[36m(compute_reachable pid=1160930)\u001b[0m rip 37\u001b[32m [repeated 9x across cluster]\u001b[0m\n"
     ]
    },
    {
     "name": "stderr",
     "output_type": "stream",
     "text": [
      "\u001b[33m(raylet)\u001b[0m [2024-10-16 22:18:35,087 E 1160808 1160842] (raylet) file_system_monitor.cc:111: /tmp/ray/session_2024-10-16_22-07-03_931002_1158973 is over 95% full, available space: 5986357248; capacity: 185064833024. Object creation will fail if spilling is required.\n"
     ]
    },
    {
     "name": "stdout",
     "output_type": "stream",
     "text": [
      "\u001b[36m(compute_reachable pid=1160928)\u001b[0m rip 38\u001b[32m [repeated 11x across cluster]\u001b[0m\n",
      "\u001b[36m(compute_reachable pid=1160923)\u001b[0m rip 57\u001b[32m [repeated 5x across cluster]\u001b[0m\n"
     ]
    },
    {
     "name": "stderr",
     "output_type": "stream",
     "text": [
      "\u001b[33m(raylet)\u001b[0m [2024-10-16 22:18:45,093 E 1160808 1160842] (raylet) file_system_monitor.cc:111: /tmp/ray/session_2024-10-16_22-07-03_931002_1158973 is over 95% full, available space: 5986353152; capacity: 185064833024. Object creation will fail if spilling is required.\n"
     ]
    },
    {
     "name": "stdout",
     "output_type": "stream",
     "text": [
      "\u001b[36m(compute_reachable pid=1160920)\u001b[0m rip 30\u001b[32m [repeated 3x across cluster]\u001b[0m\n"
     ]
    },
    {
     "name": "stderr",
     "output_type": "stream",
     "text": [
      "\u001b[33m(raylet)\u001b[0m [2024-10-16 22:18:55,099 E 1160808 1160842] (raylet) file_system_monitor.cc:111: /tmp/ray/session_2024-10-16_22-07-03_931002_1158973 is over 95% full, available space: 5986353152; capacity: 185064833024. Object creation will fail if spilling is required.\n"
     ]
    },
    {
     "name": "stdout",
     "output_type": "stream",
     "text": [
      "\u001b[36m(compute_reachable pid=1160934)\u001b[0m rip 28\n",
      "\u001b[36m(compute_reachable pid=1160927)\u001b[0m rip 46\n"
     ]
    },
    {
     "name": "stderr",
     "output_type": "stream",
     "text": [
      "\u001b[33m(raylet)\u001b[0m [2024-10-16 22:19:05,105 E 1160808 1160842] (raylet) file_system_monitor.cc:111: /tmp/ray/session_2024-10-16_22-07-03_931002_1158973 is over 95% full, available space: 5986340864; capacity: 185064833024. Object creation will fail if spilling is required.\n"
     ]
    },
    {
     "name": "stdout",
     "output_type": "stream",
     "text": [
      "\u001b[36m(compute_reachable pid=1160921)\u001b[0m rip 46\u001b[32m [repeated 9x across cluster]\u001b[0m\n"
     ]
    },
    {
     "name": "stderr",
     "output_type": "stream",
     "text": [
      "\u001b[33m(raylet)\u001b[0m [2024-10-16 22:19:15,112 E 1160808 1160842] (raylet) file_system_monitor.cc:111: /tmp/ray/session_2024-10-16_22-07-03_931002_1158973 is over 95% full, available space: 5986209792; capacity: 185064833024. Object creation will fail if spilling is required.\n"
     ]
    },
    {
     "name": "stdout",
     "output_type": "stream",
     "text": [
      "\u001b[36m(compute_reachable pid=1160928)\u001b[0m rip 37\u001b[32m [repeated 9x across cluster]\u001b[0m\n"
     ]
    },
    {
     "name": "stderr",
     "output_type": "stream",
     "text": [
      "\u001b[33m(raylet)\u001b[0m [2024-10-16 22:19:25,118 E 1160808 1160842] (raylet) file_system_monitor.cc:111: /tmp/ray/session_2024-10-16_22-07-03_931002_1158973 is over 95% full, available space: 5986209792; capacity: 185064833024. Object creation will fail if spilling is required.\n"
     ]
    },
    {
     "name": "stdout",
     "output_type": "stream",
     "text": [
      "\u001b[36m(compute_reachable pid=1160922)\u001b[0m rip 30\u001b[32m [repeated 10x across cluster]\u001b[0m\n"
     ]
    },
    {
     "name": "stderr",
     "output_type": "stream",
     "text": [
      "\u001b[33m(raylet)\u001b[0m [2024-10-16 22:19:35,124 E 1160808 1160842] (raylet) file_system_monitor.cc:111: /tmp/ray/session_2024-10-16_22-07-03_931002_1158973 is over 95% full, available space: 5986205696; capacity: 185064833024. Object creation will fail if spilling is required.\n"
     ]
    },
    {
     "name": "stdout",
     "output_type": "stream",
     "text": [
      "\u001b[36m(compute_reachable pid=1160918)\u001b[0m rip 46\n",
      "\u001b[36m(compute_reachable pid=1160924)\u001b[0m rip 28\n"
     ]
    },
    {
     "name": "stderr",
     "output_type": "stream",
     "text": [
      "\u001b[33m(raylet)\u001b[0m [2024-10-16 22:19:45,130 E 1160808 1160842] (raylet) file_system_monitor.cc:111: /tmp/ray/session_2024-10-16_22-07-03_931002_1158973 is over 95% full, available space: 5986201600; capacity: 185064833024. Object creation will fail if spilling is required.\n"
     ]
    },
    {
     "name": "stdout",
     "output_type": "stream",
     "text": [
      "\u001b[36m(compute_reachable pid=1160923)\u001b[0m rip 46\u001b[32m [repeated 5x across cluster]\u001b[0m\n"
     ]
    },
    {
     "name": "stderr",
     "output_type": "stream",
     "text": [
      "\u001b[33m(raylet)\u001b[0m [2024-10-16 22:19:55,136 E 1160808 1160842] (raylet) file_system_monitor.cc:111: /tmp/ray/session_2024-10-16_22-07-03_931002_1158973 is over 95% full, available space: 5986201600; capacity: 185064833024. Object creation will fail if spilling is required.\n"
     ]
    },
    {
     "name": "stdout",
     "output_type": "stream",
     "text": [
      "\u001b[36m(compute_reachable pid=1160920)\u001b[0m rip 30\u001b[32m [repeated 4x across cluster]\u001b[0m\n",
      "\u001b[36m(compute_reachable pid=1160915)\u001b[0m rip 34\u001b[32m [repeated 6x across cluster]\u001b[0m\n"
     ]
    },
    {
     "name": "stderr",
     "output_type": "stream",
     "text": [
      "\u001b[33m(raylet)\u001b[0m [2024-10-16 22:20:05,142 E 1160808 1160842] (raylet) file_system_monitor.cc:111: /tmp/ray/session_2024-10-16_22-07-03_931002_1158973 is over 95% full, available space: 5986181120; capacity: 185064833024. Object creation will fail if spilling is required.\n"
     ]
    },
    {
     "name": "stdout",
     "output_type": "stream",
     "text": [
      "\u001b[36m(compute_reachable pid=1160920)\u001b[0m rip 40\u001b[32m [repeated 12x across cluster]\u001b[0m\n"
     ]
    },
    {
     "name": "stderr",
     "output_type": "stream",
     "text": [
      "\u001b[33m(raylet)\u001b[0m [2024-10-16 22:20:15,147 E 1160808 1160842] (raylet) file_system_monitor.cc:111: /tmp/ray/session_2024-10-16_22-07-03_931002_1158973 is over 95% full, available space: 5986009088; capacity: 185064833024. Object creation will fail if spilling is required.\n",
      "\u001b[33m(raylet)\u001b[0m [2024-10-16 22:20:25,153 E 1160808 1160842] (raylet) file_system_monitor.cc:111: /tmp/ray/session_2024-10-16_22-07-03_931002_1158973 is over 95% full, available space: 5986004992; capacity: 185064833024. Object creation will fail if spilling is required.\n",
      "\u001b[33m(raylet)\u001b[0m [2024-10-16 22:20:35,159 E 1160808 1160842] (raylet) file_system_monitor.cc:111: /tmp/ray/session_2024-10-16_22-07-03_931002_1158973 is over 95% full, available space: 5985996800; capacity: 185064833024. Object creation will fail if spilling is required.\n"
     ]
    },
    {
     "name": "stdout",
     "output_type": "stream",
     "text": [
      "\u001b[36m(compute_reachable pid=1160922)\u001b[0m rip 30\u001b[32m [repeated 11x across cluster]\u001b[0m\n"
     ]
    },
    {
     "name": "stderr",
     "output_type": "stream",
     "text": [
      "\u001b[33m(raylet)\u001b[0m [2024-10-16 22:20:45,165 E 1160808 1160842] (raylet) file_system_monitor.cc:111: /tmp/ray/session_2024-10-16_22-07-03_931002_1158973 is over 95% full, available space: 5985996800; capacity: 185064833024. Object creation will fail if spilling is required.\n"
     ]
    },
    {
     "name": "stdout",
     "output_type": "stream",
     "text": [
      "\u001b[36m(compute_reachable pid=1160918)\u001b[0m rip 28\u001b[32m [repeated 2x across cluster]\u001b[0m\n"
     ]
    },
    {
     "name": "stderr",
     "output_type": "stream",
     "text": [
      "\u001b[33m(raylet)\u001b[0m [2024-10-16 22:20:55,171 E 1160808 1160842] (raylet) file_system_monitor.cc:111: /tmp/ray/session_2024-10-16_22-07-03_931002_1158973 is over 95% full, available space: 5985992704; capacity: 185064833024. Object creation will fail if spilling is required.\n"
     ]
    },
    {
     "name": "stdout",
     "output_type": "stream",
     "text": [
      "\u001b[36m(compute_reachable pid=1160921)\u001b[0m rip 28\u001b[32m [repeated 5x across cluster]\u001b[0m\n"
     ]
    },
    {
     "name": "stderr",
     "output_type": "stream",
     "text": [
      "\u001b[33m(raylet)\u001b[0m [2024-10-16 22:21:05,177 E 1160808 1160842] (raylet) file_system_monitor.cc:111: /tmp/ray/session_2024-10-16_22-07-03_931002_1158973 is over 95% full, available space: 5985972224; capacity: 185064833024. Object creation will fail if spilling is required.\n"
     ]
    },
    {
     "name": "stdout",
     "output_type": "stream",
     "text": [
      "\u001b[36m(compute_reachable pid=1160920)\u001b[0m rip 30\u001b[32m [repeated 4x across cluster]\u001b[0m\n",
      "\u001b[36m(compute_reachable pid=1160927)\u001b[0m rip 28\n",
      "\u001b[36m(compute_reachable pid=1160934)\u001b[0m rip 46\n"
     ]
    },
    {
     "name": "stderr",
     "output_type": "stream",
     "text": [
      "\u001b[33m(raylet)\u001b[0m [2024-10-16 22:21:15,183 E 1160808 1160842] (raylet) file_system_monitor.cc:111: /tmp/ray/session_2024-10-16_22-07-03_931002_1158973 is over 95% full, available space: 5985837056; capacity: 185064833024. Object creation will fail if spilling is required.\n"
     ]
    },
    {
     "name": "stdout",
     "output_type": "stream",
     "text": [
      "\u001b[36m(compute_reachable pid=1160932)\u001b[0m rip 46\u001b[32m [repeated 5x across cluster]\u001b[0m\n"
     ]
    },
    {
     "name": "stderr",
     "output_type": "stream",
     "text": [
      "\u001b[33m(raylet)\u001b[0m [2024-10-16 22:21:25,189 E 1160808 1160842] (raylet) file_system_monitor.cc:111: /tmp/ray/session_2024-10-16_22-07-03_931002_1158973 is over 95% full, available space: 5985832960; capacity: 185064833024. Object creation will fail if spilling is required.\n",
      "\u001b[33m(raylet)\u001b[0m [2024-10-16 22:21:35,196 E 1160808 1160842] (raylet) file_system_monitor.cc:111: /tmp/ray/session_2024-10-16_22-07-03_931002_1158973 is over 95% full, available space: 5985832960; capacity: 185064833024. Object creation will fail if spilling is required.\n",
      "\u001b[33m(raylet)\u001b[0m [2024-10-16 22:21:45,202 E 1160808 1160842] (raylet) file_system_monitor.cc:111: /tmp/ray/session_2024-10-16_22-07-03_931002_1158973 is over 95% full, available space: 5985832960; capacity: 185064833024. Object creation will fail if spilling is required.\n"
     ]
    },
    {
     "name": "stdout",
     "output_type": "stream",
     "text": [
      "\u001b[36m(compute_reachable pid=1160922)\u001b[0m rip 30\u001b[32m [repeated 3x across cluster]\u001b[0m\n"
     ]
    },
    {
     "name": "stderr",
     "output_type": "stream",
     "text": [
      "\u001b[33m(raylet)\u001b[0m [2024-10-16 22:21:55,209 E 1160808 1160842] (raylet) file_system_monitor.cc:111: /tmp/ray/session_2024-10-16_22-07-03_931002_1158973 is over 95% full, available space: 5985828864; capacity: 185064833024. Object creation will fail if spilling is required.\n",
      "\u001b[33m(raylet)\u001b[0m [2024-10-16 22:22:05,215 E 1160808 1160842] (raylet) file_system_monitor.cc:111: /tmp/ray/session_2024-10-16_22-07-03_931002_1158973 is over 95% full, available space: 5985812480; capacity: 185064833024. Object creation will fail if spilling is required.\n"
     ]
    },
    {
     "name": "stdout",
     "output_type": "stream",
     "text": [
      "\u001b[36m(compute_reachable pid=1160918)\u001b[0m rip 42\n",
      "\u001b[36m(compute_reachable pid=1160924)\u001b[0m rip 46\n",
      "\u001b[36m(compute_reachable pid=1160917)\u001b[0m rip 16\u001b[32m [repeated 10x across cluster]\u001b[0m\n"
     ]
    },
    {
     "name": "stderr",
     "output_type": "stream",
     "text": [
      "\u001b[33m(raylet)\u001b[0m [2024-10-16 22:22:15,221 E 1160808 1160842] (raylet) file_system_monitor.cc:111: /tmp/ray/session_2024-10-16_22-07-03_931002_1158973 is over 95% full, available space: 5985648640; capacity: 185064833024. Object creation will fail if spilling is required.\n"
     ]
    },
    {
     "name": "stdout",
     "output_type": "stream",
     "text": [
      "\u001b[36m(compute_reachable pid=1160930)\u001b[0m rip 42\u001b[32m [repeated 14x across cluster]\u001b[0m\n"
     ]
    },
    {
     "name": "stderr",
     "output_type": "stream",
     "text": [
      "\u001b[33m(raylet)\u001b[0m [2024-10-16 22:22:25,228 E 1160808 1160842] (raylet) file_system_monitor.cc:111: /tmp/ray/session_2024-10-16_22-07-03_931002_1158973 is over 95% full, available space: 5985648640; capacity: 185064833024. Object creation will fail if spilling is required.\n"
     ]
    },
    {
     "name": "stdout",
     "output_type": "stream",
     "text": [
      "\u001b[36m(compute_reachable pid=1160920)\u001b[0m rip 23\u001b[32m [repeated 3x across cluster]\u001b[0m\n",
      "\u001b[36m(compute_reachable pid=1160928)\u001b[0m rip 28\u001b[32m [repeated 6x across cluster]\u001b[0m\n"
     ]
    },
    {
     "name": "stderr",
     "output_type": "stream",
     "text": [
      "\u001b[33m(raylet)\u001b[0m [2024-10-16 22:22:35,234 E 1160808 1160842] (raylet) file_system_monitor.cc:111: /tmp/ray/session_2024-10-16_22-07-03_931002_1158973 is over 95% full, available space: 5985644544; capacity: 185064833024. Object creation will fail if spilling is required.\n",
      "\u001b[33m(raylet)\u001b[0m [2024-10-16 22:22:45,241 E 1160808 1160842] (raylet) file_system_monitor.cc:111: /tmp/ray/session_2024-10-16_22-07-03_931002_1158973 is over 95% full, available space: 5985636352; capacity: 185064833024. Object creation will fail if spilling is required.\n"
     ]
    },
    {
     "name": "stdout",
     "output_type": "stream",
     "text": [
      "\u001b[36m(compute_reachable pid=1160922)\u001b[0m rip 42\u001b[32m [repeated 4x across cluster]\u001b[0m\n"
     ]
    },
    {
     "name": "stderr",
     "output_type": "stream",
     "text": [
      "\u001b[33m(raylet)\u001b[0m [2024-10-16 22:22:55,247 E 1160808 1160842] (raylet) file_system_monitor.cc:111: /tmp/ray/session_2024-10-16_22-07-03_931002_1158973 is over 95% full, available space: 5985636352; capacity: 185064833024. Object creation will fail if spilling is required.\n"
     ]
    },
    {
     "name": "stdout",
     "output_type": "stream",
     "text": [
      "\u001b[36m(compute_reachable pid=1160921)\u001b[0m rip 42\n",
      "\u001b[36m(compute_reachable pid=1160918)\u001b[0m rip 46\n"
     ]
    },
    {
     "name": "stderr",
     "output_type": "stream",
     "text": [
      "\u001b[33m(raylet)\u001b[0m [2024-10-16 22:23:05,253 E 1160808 1160842] (raylet) file_system_monitor.cc:111: /tmp/ray/session_2024-10-16_22-07-03_931002_1158973 is over 95% full, available space: 5985624064; capacity: 185064833024. Object creation will fail if spilling is required.\n"
     ]
    },
    {
     "name": "stdout",
     "output_type": "stream",
     "text": [
      "\u001b[36m(compute_reachable pid=1160932)\u001b[0m rip 42\u001b[32m [repeated 8x across cluster]\u001b[0m\n"
     ]
    },
    {
     "name": "stderr",
     "output_type": "stream",
     "text": [
      "\u001b[33m(raylet)\u001b[0m [2024-10-16 22:23:15,259 E 1160808 1160842] (raylet) file_system_monitor.cc:111: /tmp/ray/session_2024-10-16_22-07-03_931002_1158973 is over 95% full, available space: 5985472512; capacity: 185064833024. Object creation will fail if spilling is required.\n"
     ]
    },
    {
     "name": "stdout",
     "output_type": "stream",
     "text": [
      "\u001b[36m(compute_reachable pid=1160918)\u001b[0m rip 28\u001b[32m [repeated 11x across cluster]\u001b[0m\n"
     ]
    },
    {
     "name": "stderr",
     "output_type": "stream",
     "text": [
      "\u001b[33m(raylet)\u001b[0m [2024-10-16 22:23:25,265 E 1160808 1160842] (raylet) file_system_monitor.cc:111: /tmp/ray/session_2024-10-16_22-07-03_931002_1158973 is over 95% full, available space: 5985472512; capacity: 185064833024. Object creation will fail if spilling is required.\n"
     ]
    },
    {
     "name": "stdout",
     "output_type": "stream",
     "text": [
      "\u001b[36m(compute_reachable pid=1160923)\u001b[0m rip 28\u001b[32m [repeated 6x across cluster]\u001b[0m\n"
     ]
    },
    {
     "name": "stderr",
     "output_type": "stream",
     "text": [
      "\u001b[33m(raylet)\u001b[0m [2024-10-16 22:23:35,272 E 1160808 1160842] (raylet) file_system_monitor.cc:111: /tmp/ray/session_2024-10-16_22-07-03_931002_1158973 is over 95% full, available space: 5985468416; capacity: 185064833024. Object creation will fail if spilling is required.\n"
     ]
    },
    {
     "name": "stdout",
     "output_type": "stream",
     "text": [
      "\u001b[36m(compute_reachable pid=1160920)\u001b[0m rip 30\u001b[32m [repeated 3x across cluster]\u001b[0m\n"
     ]
    },
    {
     "name": "stderr",
     "output_type": "stream",
     "text": [
      "\u001b[33m(raylet)\u001b[0m [2024-10-16 22:23:45,278 E 1160808 1160842] (raylet) file_system_monitor.cc:111: /tmp/ray/session_2024-10-16_22-07-03_931002_1158973 is over 95% full, available space: 5985468416; capacity: 185064833024. Object creation will fail if spilling is required.\n"
     ]
    },
    {
     "name": "stdout",
     "output_type": "stream",
     "text": [
      "\u001b[36m(compute_reachable pid=1160932)\u001b[0m rip 46\u001b[32m [repeated 6x across cluster]\u001b[0m\n",
      "\u001b[36m(compute_reachable pid=1160923)\u001b[0m rip 42\u001b[32m [repeated 5x across cluster]\u001b[0m\n"
     ]
    },
    {
     "name": "stderr",
     "output_type": "stream",
     "text": [
      "\u001b[33m(raylet)\u001b[0m [2024-10-16 22:23:55,284 E 1160808 1160842] (raylet) file_system_monitor.cc:111: /tmp/ray/session_2024-10-16_22-07-03_931002_1158973 is over 95% full, available space: 5985468416; capacity: 185064833024. Object creation will fail if spilling is required.\n"
     ]
    },
    {
     "name": "stdout",
     "output_type": "stream",
     "text": [
      "\u001b[36m(compute_reachable pid=1160933)\u001b[0m rip 38\u001b[32m [repeated 9x across cluster]\u001b[0m\n"
     ]
    },
    {
     "name": "stderr",
     "output_type": "stream",
     "text": [
      "\u001b[33m(raylet)\u001b[0m [2024-10-16 22:24:05,290 E 1160808 1160842] (raylet) file_system_monitor.cc:111: /tmp/ray/session_2024-10-16_22-07-03_931002_1158973 is over 95% full, available space: 5985447936; capacity: 185064833024. Object creation will fail if spilling is required.\n",
      "\u001b[33m(raylet)\u001b[0m [2024-10-16 22:24:15,297 E 1160808 1160842] (raylet) file_system_monitor.cc:111: /tmp/ray/session_2024-10-16_22-07-03_931002_1158973 is over 95% full, available space: 5985292288; capacity: 185064833024. Object creation will fail if spilling is required.\n",
      "\u001b[33m(raylet)\u001b[0m [2024-10-16 22:24:25,303 E 1160808 1160842] (raylet) file_system_monitor.cc:111: /tmp/ray/session_2024-10-16_22-07-03_931002_1158973 is over 95% full, available space: 5985288192; capacity: 185064833024. Object creation will fail if spilling is required.\n"
     ]
    },
    {
     "name": "stdout",
     "output_type": "stream",
     "text": [
      "\u001b[36m(compute_reachable pid=1160922)\u001b[0m rip 30\u001b[32m [repeated 10x across cluster]\u001b[0m\n"
     ]
    },
    {
     "name": "stderr",
     "output_type": "stream",
     "text": [
      "\u001b[33m(raylet)\u001b[0m [2024-10-16 22:24:35,309 E 1160808 1160842] (raylet) file_system_monitor.cc:111: /tmp/ray/session_2024-10-16_22-07-03_931002_1158973 is over 95% full, available space: 5985288192; capacity: 185064833024. Object creation will fail if spilling is required.\n"
     ]
    },
    {
     "name": "stdout",
     "output_type": "stream",
     "text": [
      "\u001b[36m(compute_reachable pid=1160924)\u001b[0m rip 46\n",
      "\u001b[36m(compute_reachable pid=1160918)\u001b[0m rip 28\n",
      "\u001b[36m(compute_reachable pid=1160921)\u001b[0m rip 28\u001b[32m [repeated 6x across cluster]\u001b[0m\n"
     ]
    },
    {
     "name": "stderr",
     "output_type": "stream",
     "text": [
      "\u001b[33m(raylet)\u001b[0m [2024-10-16 22:24:45,315 E 1160808 1160842] (raylet) file_system_monitor.cc:111: /tmp/ray/session_2024-10-16_22-07-03_931002_1158973 is over 95% full, available space: 5985288192; capacity: 185064833024. Object creation will fail if spilling is required.\n"
     ]
    },
    {
     "name": "stdout",
     "output_type": "stream",
     "text": [
      "\u001b[36m(compute_reachable pid=1160926)\u001b[0m rip 27\u001b[32m [repeated 8x across cluster]\u001b[0m\n",
      "\u001b[36m(compute_reachable pid=1160920)\u001b[0m rip 30\u001b[32m [repeated 4x across cluster]\u001b[0m\n"
     ]
    },
    {
     "name": "stderr",
     "output_type": "stream",
     "text": [
      "\u001b[33m(raylet)\u001b[0m [2024-10-16 22:24:55,321 E 1160808 1160842] (raylet) file_system_monitor.cc:111: /tmp/ray/session_2024-10-16_22-07-03_931002_1158973 is over 95% full, available space: 5985280000; capacity: 185064833024. Object creation will fail if spilling is required.\n"
     ]
    },
    {
     "name": "stdout",
     "output_type": "stream",
     "text": [
      "\u001b[36m(compute_reachable pid=1160930)\u001b[0m rip 30\u001b[32m [repeated 6x across cluster]\u001b[0m\n",
      "\u001b[36m(compute_reachable pid=1160933)\u001b[0m rip 46\n",
      "\u001b[36m(compute_reachable pid=1160932)\u001b[0m rip 28\n"
     ]
    },
    {
     "name": "stderr",
     "output_type": "stream",
     "text": [
      "\u001b[33m(raylet)\u001b[0m [2024-10-16 22:25:05,327 E 1160808 1160842] (raylet) file_system_monitor.cc:111: /tmp/ray/session_2024-10-16_22-07-03_931002_1158973 is over 95% full, available space: 5985267712; capacity: 185064833024. Object creation will fail if spilling is required.\n",
      "\u001b[33m(raylet)\u001b[0m [2024-10-16 22:25:15,333 E 1160808 1160842] (raylet) file_system_monitor.cc:111: /tmp/ray/session_2024-10-16_22-07-03_931002_1158973 is over 95% full, available space: 5985116160; capacity: 185064833024. Object creation will fail if spilling is required.\n",
      "\u001b[33m(raylet)\u001b[0m [2024-10-16 22:25:25,339 E 1160808 1160842] (raylet) file_system_monitor.cc:111: /tmp/ray/session_2024-10-16_22-07-03_931002_1158973 is over 95% full, available space: 5985107968; capacity: 185064833024. Object creation will fail if spilling is required.\n",
      "\u001b[33m(raylet)\u001b[0m [2024-10-16 22:25:35,345 E 1160808 1160842] (raylet) file_system_monitor.cc:111: /tmp/ray/session_2024-10-16_22-07-03_931002_1158973 is over 95% full, available space: 5985103872; capacity: 185064833024. Object creation will fail if spilling is required.\n",
      "\u001b[33m(raylet)\u001b[0m [2024-10-16 22:25:45,351 E 1160808 1160842] (raylet) file_system_monitor.cc:111: /tmp/ray/session_2024-10-16_22-07-03_931002_1158973 is over 95% full, available space: 5985099776; capacity: 185064833024. Object creation will fail if spilling is required.\n"
     ]
    },
    {
     "name": "stdout",
     "output_type": "stream",
     "text": [
      "\u001b[36m(compute_reachable pid=1160922)\u001b[0m rip 30\u001b[32m [repeated 3x across cluster]\u001b[0m\n",
      "\u001b[36m(compute_reachable pid=1160924)\u001b[0m rip 28\n"
     ]
    },
    {
     "name": "stderr",
     "output_type": "stream",
     "text": [
      "\u001b[33m(raylet)\u001b[0m [2024-10-16 22:25:55,358 E 1160808 1160842] (raylet) file_system_monitor.cc:111: /tmp/ray/session_2024-10-16_22-07-03_931002_1158973 is over 95% full, available space: 5985095680; capacity: 185064833024. Object creation will fail if spilling is required.\n"
     ]
    },
    {
     "name": "stdout",
     "output_type": "stream",
     "text": [
      "\u001b[36m(compute_reachable pid=1160918)\u001b[0m rip 46\n",
      "\u001b[36m(compute_reachable pid=1160923)\u001b[0m rip 28\u001b[32m [repeated 4x across cluster]\u001b[0m\n"
     ]
    },
    {
     "name": "stderr",
     "output_type": "stream",
     "text": [
      "\u001b[33m(raylet)\u001b[0m [2024-10-16 22:26:05,364 E 1160808 1160842] (raylet) file_system_monitor.cc:111: /tmp/ray/session_2024-10-16_22-07-03_931002_1158973 is over 95% full, available space: 5985083392; capacity: 185064833024. Object creation will fail if spilling is required.\n",
      "\u001b[33m(raylet)\u001b[0m [2024-10-16 22:26:15,370 E 1160808 1160842] (raylet) file_system_monitor.cc:111: /tmp/ray/session_2024-10-16_22-07-03_931002_1158973 is over 95% full, available space: 5984931840; capacity: 185064833024. Object creation will fail if spilling is required.\n"
     ]
    },
    {
     "name": "stdout",
     "output_type": "stream",
     "text": [
      "\u001b[36m(compute_reachable pid=1160920)\u001b[0m rip 30\u001b[32m [repeated 4x across cluster]\u001b[0m\n",
      "\u001b[36m(compute_reachable pid=1160927)\u001b[0m rip 42\n",
      "\u001b[36m(compute_reachable pid=1160932)\u001b[0m rip 42\n"
     ]
    },
    {
     "name": "stderr",
     "output_type": "stream",
     "text": [
      "\u001b[33m(raylet)\u001b[0m [2024-10-16 22:26:25,376 E 1160808 1160842] (raylet) file_system_monitor.cc:111: /tmp/ray/session_2024-10-16_22-07-03_931002_1158973 is over 95% full, available space: 5984931840; capacity: 185064833024. Object creation will fail if spilling is required.\n"
     ]
    },
    {
     "name": "stdout",
     "output_type": "stream",
     "text": [
      "\u001b[36m(compute_reachable pid=1160925)\u001b[0m rip 16\u001b[32m [repeated 9x across cluster]\u001b[0m\n",
      "\u001b[36m(compute_reachable pid=1160931)\u001b[0m rip 30\u001b[32m [repeated 7x across cluster]\u001b[0m\n"
     ]
    },
    {
     "name": "stderr",
     "output_type": "stream",
     "text": [
      "\u001b[33m(raylet)\u001b[0m [2024-10-16 22:26:35,382 E 1160808 1160842] (raylet) file_system_monitor.cc:111: /tmp/ray/session_2024-10-16_22-07-03_931002_1158973 is over 95% full, available space: 5984931840; capacity: 185064833024. Object creation will fail if spilling is required.\n",
      "\u001b[33m(raylet)\u001b[0m [2024-10-16 22:26:45,388 E 1160808 1160842] (raylet) file_system_monitor.cc:111: /tmp/ray/session_2024-10-16_22-07-03_931002_1158973 is over 95% full, available space: 5984927744; capacity: 185064833024. Object creation will fail if spilling is required.\n",
      "\u001b[33m(raylet)\u001b[0m [2024-10-16 22:26:55,394 E 1160808 1160842] (raylet) file_system_monitor.cc:111: /tmp/ray/session_2024-10-16_22-07-03_931002_1158973 is over 95% full, available space: 5984927744; capacity: 185064833024. Object creation will fail if spilling is required.\n"
     ]
    },
    {
     "name": "stdout",
     "output_type": "stream",
     "text": [
      "\u001b[36m(compute_reachable pid=1160924)\u001b[0m rip 46\n",
      "\u001b[36m(compute_reachable pid=1160918)\u001b[0m rip 42\n"
     ]
    },
    {
     "name": "stderr",
     "output_type": "stream",
     "text": [
      "\u001b[33m(raylet)\u001b[0m [2024-10-16 22:27:05,400 E 1160808 1160842] (raylet) file_system_monitor.cc:111: /tmp/ray/session_2024-10-16_22-07-03_931002_1158973 is over 95% full, available space: 5984903168; capacity: 185064833024. Object creation will fail if spilling is required.\n",
      "\u001b[33m(raylet)\u001b[0m [2024-10-16 22:27:15,407 E 1160808 1160842] (raylet) file_system_monitor.cc:111: /tmp/ray/session_2024-10-16_22-07-03_931002_1158973 is over 95% full, available space: 5984747520; capacity: 185064833024. Object creation will fail if spilling is required.\n"
     ]
    },
    {
     "name": "stdout",
     "output_type": "stream",
     "text": [
      "\u001b[36m(compute_reachable pid=1160922)\u001b[0m rip 23\u001b[32m [repeated 9x across cluster]\u001b[0m\n",
      "\u001b[36m(compute_reachable pid=1160926)\u001b[0m rip 41\u001b[32m [repeated 12x across cluster]\u001b[0m\n"
     ]
    },
    {
     "name": "stderr",
     "output_type": "stream",
     "text": [
      "\u001b[33m(raylet)\u001b[0m [2024-10-16 22:27:25,413 E 1160808 1160842] (raylet) file_system_monitor.cc:111: /tmp/ray/session_2024-10-16_22-07-03_931002_1158973 is over 95% full, available space: 5984747520; capacity: 185064833024. Object creation will fail if spilling is required.\n"
     ]
    },
    {
     "name": "stdout",
     "output_type": "stream",
     "text": [
      "\u001b[36m(compute_reachable pid=1160915)\u001b[0m rip 57\u001b[32m [repeated 6x across cluster]\u001b[0m\n"
     ]
    },
    {
     "name": "stderr",
     "output_type": "stream",
     "text": [
      "\u001b[33m(raylet)\u001b[0m [2024-10-16 22:27:35,419 E 1160808 1160842] (raylet) file_system_monitor.cc:111: /tmp/ray/session_2024-10-16_22-07-03_931002_1158973 is over 95% full, available space: 5984739328; capacity: 185064833024. Object creation will fail if spilling is required.\n"
     ]
    },
    {
     "name": "stdout",
     "output_type": "stream",
     "text": [
      "\u001b[36m(compute_reachable pid=1160920)\u001b[0m rip 30\u001b[32m [repeated 2x across cluster]\u001b[0m\n"
     ]
    },
    {
     "name": "stderr",
     "output_type": "stream",
     "text": [
      "\u001b[33m(raylet)\u001b[0m [2024-10-16 22:27:45,425 E 1160808 1160842] (raylet) file_system_monitor.cc:111: /tmp/ray/session_2024-10-16_22-07-03_931002_1158973 is over 95% full, available space: 5984739328; capacity: 185064833024. Object creation will fail if spilling is required.\n"
     ]
    },
    {
     "name": "stdout",
     "output_type": "stream",
     "text": [
      "\u001b[36m(compute_reachable pid=1160934)\u001b[0m rip 57\n",
      "\u001b[36m(compute_reachable pid=1160925)\u001b[0m rip 46\n",
      "\u001b[36m(compute_reachable pid=1160931)\u001b[0m rip 44\u001b[32m [repeated 7x across cluster]\u001b[0m\n"
     ]
    },
    {
     "name": "stderr",
     "output_type": "stream",
     "text": [
      "\u001b[33m(raylet)\u001b[0m [2024-10-16 22:27:55,432 E 1160808 1160842] (raylet) file_system_monitor.cc:111: /tmp/ray/session_2024-10-16_22-07-03_931002_1158973 is over 95% full, available space: 5984735232; capacity: 185064833024. Object creation will fail if spilling is required.\n"
     ]
    },
    {
     "name": "stdout",
     "output_type": "stream",
     "text": [
      "\u001b[36m(compute_reachable pid=1160918)\u001b[0m rip 42\n",
      "\u001b[36m(compute_reachable pid=1160924)\u001b[0m rip 46\n"
     ]
    },
    {
     "name": "stderr",
     "output_type": "stream",
     "text": [
      "\u001b[33m(raylet)\u001b[0m [2024-10-16 22:28:05,438 E 1160808 1160842] (raylet) file_system_monitor.cc:111: /tmp/ray/session_2024-10-16_22-07-03_931002_1158973 is over 95% full, available space: 5984722944; capacity: 185064833024. Object creation will fail if spilling is required.\n"
     ]
    },
    {
     "name": "stdout",
     "output_type": "stream",
     "text": [
      "\u001b[36m(compute_reachable pid=1160922)\u001b[0m rip 42\u001b[32m [repeated 8x across cluster]\u001b[0m\n",
      "\u001b[36m(compute_reachable pid=1160920)\u001b[0m rip 42\n",
      "\u001b[36m(compute_reachable pid=1160933)\u001b[0m rip 37\n"
     ]
    },
    {
     "name": "stderr",
     "output_type": "stream",
     "text": [
      "\u001b[33m(raylet)\u001b[0m [2024-10-16 22:28:15,443 E 1160808 1160842] (raylet) file_system_monitor.cc:111: /tmp/ray/session_2024-10-16_22-07-03_931002_1158973 is over 95% full, available space: 5984579584; capacity: 185064833024. Object creation will fail if spilling is required.\n",
      "\u001b[33m(raylet)\u001b[0m [2024-10-16 22:28:25,450 E 1160808 1160842] (raylet) file_system_monitor.cc:111: /tmp/ray/session_2024-10-16_22-07-03_931002_1158973 is over 95% full, available space: 5984575488; capacity: 185064833024. Object creation will fail if spilling is required.\n",
      "\u001b[33m(raylet)\u001b[0m [2024-10-16 22:28:35,456 E 1160808 1160842] (raylet) file_system_monitor.cc:111: /tmp/ray/session_2024-10-16_22-07-03_931002_1158973 is over 95% full, available space: 5984571392; capacity: 185064833024. Object creation will fail if spilling is required.\n"
     ]
    },
    {
     "name": "stdout",
     "output_type": "stream",
     "text": [
      "\u001b[36m(compute_reachable pid=1160918)\u001b[0m rip 46\u001b[32m [repeated 9x across cluster]\u001b[0m\n",
      "\u001b[36m(compute_reachable pid=1160923)\u001b[0m rip 28\u001b[32m [repeated 6x across cluster]\u001b[0m\n"
     ]
    },
    {
     "name": "stderr",
     "output_type": "stream",
     "text": [
      "\u001b[33m(raylet)\u001b[0m [2024-10-16 22:28:45,462 E 1160808 1160842] (raylet) file_system_monitor.cc:111: /tmp/ray/session_2024-10-16_22-07-03_931002_1158973 is over 95% full, available space: 5984567296; capacity: 185064833024. Object creation will fail if spilling is required.\n",
      "\u001b[33m(raylet)\u001b[0m [2024-10-16 22:28:55,468 E 1160808 1160842] (raylet) file_system_monitor.cc:111: /tmp/ray/session_2024-10-16_22-07-03_931002_1158973 is over 95% full, available space: 5984563200; capacity: 185064833024. Object creation will fail if spilling is required.\n"
     ]
    },
    {
     "name": "stdout",
     "output_type": "stream",
     "text": [
      "\u001b[36m(compute_reachable pid=1160924)\u001b[0m rip 46\u001b[32m [repeated 4x across cluster]\u001b[0m\n",
      "\u001b[36m(compute_reachable pid=1160919)\u001b[0m rip 36\u001b[32m [repeated 10x across cluster]\u001b[0m\n"
     ]
    },
    {
     "name": "stderr",
     "output_type": "stream",
     "text": [
      "\u001b[33m(raylet)\u001b[0m [2024-10-16 22:29:05,474 E 1160808 1160842] (raylet) file_system_monitor.cc:111: /tmp/ray/session_2024-10-16_22-07-03_931002_1158973 is over 95% full, available space: 5984546816; capacity: 185064833024. Object creation will fail if spilling is required.\n"
     ]
    },
    {
     "name": "stdout",
     "output_type": "stream",
     "text": [
      "\u001b[36m(compute_reachable pid=1160930)\u001b[0m rip 30\u001b[32m [repeated 5x across cluster]\u001b[0m\n",
      "\u001b[36m(compute_reachable pid=1160931)\u001b[0m rip 44\u001b[32m [repeated 5x across cluster]\u001b[0m\n"
     ]
    },
    {
     "name": "stderr",
     "output_type": "stream",
     "text": [
      "\u001b[33m(raylet)\u001b[0m [2024-10-16 22:29:15,480 E 1160808 1160842] (raylet) file_system_monitor.cc:111: /tmp/ray/session_2024-10-16_22-07-03_931002_1158973 is over 95% full, available space: 5984378880; capacity: 185064833024. Object creation will fail if spilling is required.\n",
      "\u001b[33m(raylet)\u001b[0m [2024-10-16 22:29:25,486 E 1160808 1160842] (raylet) file_system_monitor.cc:111: /tmp/ray/session_2024-10-16_22-07-03_931002_1158973 is over 95% full, available space: 5984378880; capacity: 185064833024. Object creation will fail if spilling is required.\n",
      "\u001b[33m(raylet)\u001b[0m [2024-10-16 22:29:35,492 E 1160808 1160842] (raylet) file_system_monitor.cc:111: /tmp/ray/session_2024-10-16_22-07-03_931002_1158973 is over 95% full, available space: 5984378880; capacity: 185064833024. Object creation will fail if spilling is required.\n",
      "\u001b[33m(raylet)\u001b[0m [2024-10-16 22:29:45,498 E 1160808 1160842] (raylet) file_system_monitor.cc:111: /tmp/ray/session_2024-10-16_22-07-03_931002_1158973 is over 95% full, available space: 5984370688; capacity: 185064833024. Object creation will fail if spilling is required.\n"
     ]
    },
    {
     "name": "stdout",
     "output_type": "stream",
     "text": [
      "\u001b[36m(compute_reachable pid=1160918)\u001b[0m rip 30\u001b[32m [repeated 10x across cluster]\u001b[0m\n"
     ]
    },
    {
     "name": "stderr",
     "output_type": "stream",
     "text": [
      "\u001b[33m(raylet)\u001b[0m [2024-10-16 22:29:55,504 E 1160808 1160842] (raylet) file_system_monitor.cc:111: /tmp/ray/session_2024-10-16_22-07-03_931002_1158973 is over 95% full, available space: 5984370688; capacity: 185064833024. Object creation will fail if spilling is required.\n"
     ]
    },
    {
     "name": "stdout",
     "output_type": "stream",
     "text": [
      "\u001b[36m(compute_reachable pid=1160926)\u001b[0m rip 30\u001b[32m [repeated 5x across cluster]\u001b[0m\n"
     ]
    },
    {
     "name": "stderr",
     "output_type": "stream",
     "text": [
      "\u001b[33m(raylet)\u001b[0m [2024-10-16 22:30:05,511 E 1160808 1160842] (raylet) file_system_monitor.cc:111: /tmp/ray/session_2024-10-16_22-07-03_931002_1158973 is over 95% full, available space: 5984358400; capacity: 185064833024. Object creation will fail if spilling is required.\n"
     ]
    },
    {
     "name": "stdout",
     "output_type": "stream",
     "text": [
      "\u001b[36m(compute_reachable pid=1160915)\u001b[0m rip 57\u001b[32m [repeated 4x across cluster]\u001b[0m\n"
     ]
    },
    {
     "name": "stderr",
     "output_type": "stream",
     "text": [
      "\u001b[33m(raylet)\u001b[0m [2024-10-16 22:30:15,517 E 1160808 1160842] (raylet) file_system_monitor.cc:111: /tmp/ray/session_2024-10-16_22-07-03_931002_1158973 is over 95% full, available space: 5984219136; capacity: 185064833024. Object creation will fail if spilling is required.\n"
     ]
    },
    {
     "name": "stdout",
     "output_type": "stream",
     "text": [
      "\u001b[36m(compute_reachable pid=1160920)\u001b[0m rip 30\u001b[32m [repeated 2x across cluster]\u001b[0m\n"
     ]
    },
    {
     "name": "stderr",
     "output_type": "stream",
     "text": [
      "\u001b[33m(raylet)\u001b[0m [2024-10-16 22:30:25,523 E 1160808 1160842] (raylet) file_system_monitor.cc:111: /tmp/ray/session_2024-10-16_22-07-03_931002_1158973 is over 95% full, available space: 5984219136; capacity: 185064833024. Object creation will fail if spilling is required.\n"
     ]
    },
    {
     "name": "stdout",
     "output_type": "stream",
     "text": [
      "\u001b[36m(compute_reachable pid=1160934)\u001b[0m rip 28\n",
      "\u001b[36m(compute_reachable pid=1160925)\u001b[0m rip 57\n"
     ]
    },
    {
     "name": "stderr",
     "output_type": "stream",
     "text": [
      "\u001b[33m(raylet)\u001b[0m [2024-10-16 22:30:35,529 E 1160808 1160842] (raylet) file_system_monitor.cc:111: /tmp/ray/session_2024-10-16_22-07-03_931002_1158973 is over 95% full, available space: 5984215040; capacity: 185064833024. Object creation will fail if spilling is required.\n"
     ]
    },
    {
     "name": "stdout",
     "output_type": "stream",
     "text": [
      "\u001b[36m(compute_reachable pid=1160933)\u001b[0m rip 28\u001b[32m [repeated 4x across cluster]\u001b[0m\n"
     ]
    },
    {
     "name": "stderr",
     "output_type": "stream",
     "text": [
      "\u001b[33m(raylet)\u001b[0m [2024-10-16 22:30:45,535 E 1160808 1160842] (raylet) file_system_monitor.cc:111: /tmp/ray/session_2024-10-16_22-07-03_931002_1158973 is over 95% full, available space: 5984215040; capacity: 185064833024. Object creation will fail if spilling is required.\n",
      "\u001b[33m(raylet)\u001b[0m [2024-10-16 22:30:55,541 E 1160808 1160842] (raylet) file_system_monitor.cc:111: /tmp/ray/session_2024-10-16_22-07-03_931002_1158973 is over 95% full, available space: 5984215040; capacity: 185064833024. Object creation will fail if spilling is required.\n",
      "\u001b[33m(raylet)\u001b[0m [2024-10-16 22:31:05,548 E 1160808 1160842] (raylet) file_system_monitor.cc:111: /tmp/ray/session_2024-10-16_22-07-03_931002_1158973 is over 95% full, available space: 5984198656; capacity: 185064833024. Object creation will fail if spilling is required.\n",
      "\u001b[33m(raylet)\u001b[0m [2024-10-16 22:31:15,554 E 1160808 1160842] (raylet) file_system_monitor.cc:111: /tmp/ray/session_2024-10-16_22-07-03_931002_1158973 is over 95% full, available space: 5984018432; capacity: 185064833024. Object creation will fail if spilling is required.\n"
     ]
    },
    {
     "name": "stdout",
     "output_type": "stream",
     "text": [
      "\u001b[36m(compute_reachable pid=1160918)\u001b[0m rip 30\u001b[32m [repeated 4x across cluster]\u001b[0m\n"
     ]
    },
    {
     "name": "stderr",
     "output_type": "stream",
     "text": [
      "\u001b[33m(raylet)\u001b[0m [2024-10-16 22:31:25,560 E 1160808 1160842] (raylet) file_system_monitor.cc:111: /tmp/ray/session_2024-10-16_22-07-03_931002_1158973 is over 95% full, available space: 5984014336; capacity: 185064833024. Object creation will fail if spilling is required.\n"
     ]
    },
    {
     "name": "stdout",
     "output_type": "stream",
     "text": [
      "\u001b[36m(compute_reachable pid=1160923)\u001b[0m rip 46\u001b[32m [repeated 2x across cluster]\u001b[0m\n"
     ]
    },
    {
     "name": "stderr",
     "output_type": "stream",
     "text": [
      "\u001b[33m(raylet)\u001b[0m [2024-10-16 22:31:35,567 E 1160808 1160842] (raylet) file_system_monitor.cc:111: /tmp/ray/session_2024-10-16_22-07-03_931002_1158973 is over 95% full, available space: 5984014336; capacity: 185064833024. Object creation will fail if spilling is required.\n"
     ]
    },
    {
     "name": "stdout",
     "output_type": "stream",
     "text": [
      "\u001b[36m(compute_reachable pid=1160919)\u001b[0m rip 38\u001b[32m [repeated 7x across cluster]\u001b[0m\n",
      "\u001b[36m(compute_reachable pid=1160922)\u001b[0m rip 42\u001b[32m [repeated 5x across cluster]\u001b[0m\n"
     ]
    },
    {
     "name": "stderr",
     "output_type": "stream",
     "text": [
      "\u001b[33m(raylet)\u001b[0m [2024-10-16 22:31:45,573 E 1160808 1160842] (raylet) file_system_monitor.cc:111: /tmp/ray/session_2024-10-16_22-07-03_931002_1158973 is over 95% full, available space: 5984010240; capacity: 185064833024. Object creation will fail if spilling is required.\n"
     ]
    },
    {
     "name": "stdout",
     "output_type": "stream",
     "text": [
      "\u001b[36m(compute_reachable pid=1160919)\u001b[0m rip 30\u001b[32m [repeated 6x across cluster]\u001b[0m\n"
     ]
    },
    {
     "name": "stderr",
     "output_type": "stream",
     "text": [
      "\u001b[33m(raylet)\u001b[0m [2024-10-16 22:31:55,579 E 1160808 1160842] (raylet) file_system_monitor.cc:111: /tmp/ray/session_2024-10-16_22-07-03_931002_1158973 is over 95% full, available space: 5984002048; capacity: 185064833024. Object creation will fail if spilling is required.\n"
     ]
    },
    {
     "name": "stdout",
     "output_type": "stream",
     "text": [
      "\u001b[36m(compute_reachable pid=1160920)\u001b[0m rip 23\u001b[32m [repeated 9x across cluster]\u001b[0m\n",
      "\u001b[36m(compute_reachable pid=1160927)\u001b[0m rip 50\u001b[32m [repeated 3x across cluster]\u001b[0m\n"
     ]
    },
    {
     "name": "stderr",
     "output_type": "stream",
     "text": [
      "\u001b[33m(raylet)\u001b[0m [2024-10-16 22:32:05,585 E 1160808 1160842] (raylet) file_system_monitor.cc:111: /tmp/ray/session_2024-10-16_22-07-03_931002_1158973 is over 95% full, available space: 5983989760; capacity: 185064833024. Object creation will fail if spilling is required.\n"
     ]
    },
    {
     "name": "stdout",
     "output_type": "stream",
     "text": [
      "\u001b[36m(compute_reachable pid=1160932)\u001b[0m rip 46\u001b[32m [repeated 3x across cluster]\u001b[0m\n"
     ]
    },
    {
     "name": "stderr",
     "output_type": "stream",
     "text": [
      "\u001b[33m(raylet)\u001b[0m [2024-10-16 22:32:15,591 E 1160808 1160842] (raylet) file_system_monitor.cc:111: /tmp/ray/session_2024-10-16_22-07-03_931002_1158973 is over 95% full, available space: 5983862784; capacity: 185064833024. Object creation will fail if spilling is required.\n",
      "\u001b[33m(raylet)\u001b[0m [2024-10-16 22:32:25,597 E 1160808 1160842] (raylet) file_system_monitor.cc:111: /tmp/ray/session_2024-10-16_22-07-03_931002_1158973 is over 95% full, available space: 5983854592; capacity: 185064833024. Object creation will fail if spilling is required.\n"
     ]
    },
    {
     "name": "stdout",
     "output_type": "stream",
     "text": [
      "\u001b[36m(compute_reachable pid=1160918)\u001b[0m rip 42\u001b[32m [repeated 4x across cluster]\u001b[0m\n"
     ]
    },
    {
     "name": "stderr",
     "output_type": "stream",
     "text": [
      "\u001b[33m(raylet)\u001b[0m [2024-10-16 22:32:35,604 E 1160808 1160842] (raylet) file_system_monitor.cc:111: /tmp/ray/session_2024-10-16_22-07-03_931002_1158973 is over 95% full, available space: 5983854592; capacity: 185064833024. Object creation will fail if spilling is required.\n"
     ]
    },
    {
     "name": "stdout",
     "output_type": "stream",
     "text": [
      "\u001b[36m(compute_reachable pid=1160929)\u001b[0m rip 37\u001b[32m [repeated 4x across cluster]\u001b[0m\n",
      "\u001b[36m(compute_reachable pid=1160922)\u001b[0m rip 38\u001b[32m [repeated 5x across cluster]\u001b[0m\n"
     ]
    },
    {
     "name": "stderr",
     "output_type": "stream",
     "text": [
      "\u001b[33m(raylet)\u001b[0m [2024-10-16 22:32:45,610 E 1160808 1160842] (raylet) file_system_monitor.cc:111: /tmp/ray/session_2024-10-16_22-07-03_931002_1158973 is over 95% full, available space: 5983850496; capacity: 185064833024. Object creation will fail if spilling is required.\n"
     ]
    },
    {
     "name": "stdout",
     "output_type": "stream",
     "text": [
      "\u001b[36m(compute_reachable pid=1160927)\u001b[0m rip 37\u001b[32m [repeated 3x across cluster]\u001b[0m\n",
      "\u001b[36m(compute_reachable pid=1160930)\u001b[0m rip 42\u001b[32m [repeated 8x across cluster]\u001b[0m\n"
     ]
    },
    {
     "name": "stderr",
     "output_type": "stream",
     "text": [
      "\u001b[33m(raylet)\u001b[0m [2024-10-16 22:32:55,616 E 1160808 1160842] (raylet) file_system_monitor.cc:111: /tmp/ray/session_2024-10-16_22-07-03_931002_1158973 is over 95% full, available space: 5983850496; capacity: 185064833024. Object creation will fail if spilling is required.\n"
     ]
    },
    {
     "name": "stdout",
     "output_type": "stream",
     "text": [
      "\u001b[36m(compute_reachable pid=1160924)\u001b[0m rip 28\n",
      "\u001b[36m(compute_reachable pid=1160917)\u001b[0m rip 46\n"
     ]
    },
    {
     "name": "stderr",
     "output_type": "stream",
     "text": [
      "\u001b[33m(raylet)\u001b[0m [2024-10-16 22:33:05,621 E 1160808 1160842] (raylet) file_system_monitor.cc:111: /tmp/ray/session_2024-10-16_22-07-03_931002_1158973 is over 95% full, available space: 5983834112; capacity: 185064833024. Object creation will fail if spilling is required.\n"
     ]
    },
    {
     "name": "stdout",
     "output_type": "stream",
     "text": [
      "\u001b[36m(compute_reachable pid=1160926)\u001b[0m rip 44\u001b[32m [repeated 4x across cluster]\u001b[0m\n"
     ]
    },
    {
     "name": "stderr",
     "output_type": "stream",
     "text": [
      "\u001b[33m(raylet)\u001b[0m [2024-10-16 22:33:15,627 E 1160808 1160842] (raylet) file_system_monitor.cc:111: /tmp/ray/session_2024-10-16_22-07-03_931002_1158973 is over 95% full, available space: 5983649792; capacity: 185064833024. Object creation will fail if spilling is required.\n"
     ]
    },
    {
     "name": "stdout",
     "output_type": "stream",
     "text": [
      "\u001b[36m(compute_reachable pid=1160922)\u001b[0m rip 44\u001b[32m [repeated 3x across cluster]\u001b[0m\n",
      "\u001b[36m(compute_reachable pid=1160920)\u001b[0m rip 30\n",
      "\u001b[36m(compute_reachable pid=1160925)\u001b[0m rip 46\n"
     ]
    },
    {
     "name": "stderr",
     "output_type": "stream",
     "text": [
      "\u001b[33m(raylet)\u001b[0m [2024-10-16 22:33:25,633 E 1160808 1160842] (raylet) file_system_monitor.cc:111: /tmp/ray/session_2024-10-16_22-07-03_931002_1158973 is over 95% full, available space: 5983649792; capacity: 185064833024. Object creation will fail if spilling is required.\n"
     ]
    },
    {
     "name": "stdout",
     "output_type": "stream",
     "text": [
      "\u001b[36m(compute_reachable pid=1160918)\u001b[0m rip 42\u001b[32m [repeated 4x across cluster]\u001b[0m\n"
     ]
    },
    {
     "name": "stderr",
     "output_type": "stream",
     "text": [
      "\u001b[33m(raylet)\u001b[0m [2024-10-16 22:33:35,639 E 1160808 1160842] (raylet) file_system_monitor.cc:111: /tmp/ray/session_2024-10-16_22-07-03_931002_1158973 is over 95% full, available space: 5983649792; capacity: 185064833024. Object creation will fail if spilling is required.\n"
     ]
    },
    {
     "name": "stdout",
     "output_type": "stream",
     "text": [
      "\u001b[36m(compute_reachable pid=1160928)\u001b[0m rip 57\u001b[32m [repeated 8x across cluster]\u001b[0m\n",
      "\u001b[36m(compute_reachable pid=1160922)\u001b[0m rip 38\u001b[32m [repeated 6x across cluster]\u001b[0m\n"
     ]
    },
    {
     "name": "stderr",
     "output_type": "stream",
     "text": [
      "\u001b[33m(raylet)\u001b[0m [2024-10-16 22:33:45,645 E 1160808 1160842] (raylet) file_system_monitor.cc:111: /tmp/ray/session_2024-10-16_22-07-03_931002_1158973 is over 95% full, available space: 5983645696; capacity: 185064833024. Object creation will fail if spilling is required.\n"
     ]
    },
    {
     "name": "stdout",
     "output_type": "stream",
     "text": [
      "\u001b[36m(compute_reachable pid=1160920)\u001b[0m rip 42\u001b[32m [repeated 4x across cluster]\u001b[0m\n"
     ]
    },
    {
     "name": "stderr",
     "output_type": "stream",
     "text": [
      "\u001b[33m(raylet)\u001b[0m [2024-10-16 22:33:55,651 E 1160808 1160842] (raylet) file_system_monitor.cc:111: /tmp/ray/session_2024-10-16_22-07-03_931002_1158973 is over 95% full, available space: 5983641600; capacity: 185064833024. Object creation will fail if spilling is required.\n",
      "\u001b[33m(raylet)\u001b[0m [2024-10-16 22:34:05,657 E 1160808 1160842] (raylet) file_system_monitor.cc:111: /tmp/ray/session_2024-10-16_22-07-03_931002_1158973 is over 95% full, available space: 5983621120; capacity: 185064833024. Object creation will fail if spilling is required.\n",
      "\u001b[33m(raylet)\u001b[0m [2024-10-16 22:34:15,663 E 1160808 1160842] (raylet) file_system_monitor.cc:111: /tmp/ray/session_2024-10-16_22-07-03_931002_1158973 is over 95% full, available space: 5983506432; capacity: 185064833024. Object creation will fail if spilling is required.\n"
     ]
    },
    {
     "name": "stdout",
     "output_type": "stream",
     "text": [
      "\u001b[36m(compute_reachable pid=1160918)\u001b[0m rip 30\u001b[32m [repeated 7x across cluster]\u001b[0m\n",
      "\u001b[36m(compute_reachable pid=1160924)\u001b[0m rip 28\n"
     ]
    },
    {
     "name": "stderr",
     "output_type": "stream",
     "text": [
      "\u001b[33m(raylet)\u001b[0m [2024-10-16 22:34:25,669 E 1160808 1160842] (raylet) file_system_monitor.cc:111: /tmp/ray/session_2024-10-16_22-07-03_931002_1158973 is over 95% full, available space: 5983506432; capacity: 185064833024. Object creation will fail if spilling is required.\n"
     ]
    },
    {
     "name": "stdout",
     "output_type": "stream",
     "text": [
      "\u001b[36m(compute_reachable pid=1160917)\u001b[0m rip 46\n",
      "\u001b[36m(compute_reachable pid=1160918)\u001b[0m rip 40\u001b[32m [repeated 4x across cluster]\u001b[0m\n"
     ]
    },
    {
     "name": "stderr",
     "output_type": "stream",
     "text": [
      "\u001b[33m(raylet)\u001b[0m [2024-10-16 22:34:35,675 E 1160808 1160842] (raylet) file_system_monitor.cc:111: /tmp/ray/session_2024-10-16_22-07-03_931002_1158973 is over 95% full, available space: 5983498240; capacity: 185064833024. Object creation will fail if spilling is required.\n"
     ]
    },
    {
     "name": "stdout",
     "output_type": "stream",
     "text": [
      "\u001b[36m(compute_reachable pid=1160917)\u001b[0m rip 28\u001b[32m [repeated 4x across cluster]\u001b[0m\n",
      "\u001b[36m(compute_reachable pid=1160915)\u001b[0m rip 12\u001b[32m [repeated 6x across cluster]\u001b[0m\n"
     ]
    },
    {
     "name": "stderr",
     "output_type": "stream",
     "text": [
      "\u001b[33m(raylet)\u001b[0m [2024-10-16 22:34:45,681 E 1160808 1160842] (raylet) file_system_monitor.cc:111: /tmp/ray/session_2024-10-16_22-07-03_931002_1158973 is over 95% full, available space: 5983494144; capacity: 185064833024. Object creation will fail if spilling is required.\n"
     ]
    },
    {
     "name": "stdout",
     "output_type": "stream",
     "text": [
      "\u001b[36m(compute_reachable pid=1160920)\u001b[0m rip 30\u001b[32m [repeated 3x across cluster]\u001b[0m\n"
     ]
    },
    {
     "name": "stderr",
     "output_type": "stream",
     "text": [
      "\u001b[33m(raylet)\u001b[0m [2024-10-16 22:34:55,687 E 1160808 1160842] (raylet) file_system_monitor.cc:111: /tmp/ray/session_2024-10-16_22-07-03_931002_1158973 is over 95% full, available space: 5983490048; capacity: 185064833024. Object creation will fail if spilling is required.\n"
     ]
    },
    {
     "name": "stdout",
     "output_type": "stream",
     "text": [
      "\u001b[36m(compute_reachable pid=1160920)\u001b[0m rip 14\u001b[32m [repeated 5x across cluster]\u001b[0m\n",
      "\u001b[36m(compute_reachable pid=1160930)\u001b[0m rip 30\u001b[32m [repeated 2x across cluster]\u001b[0m\n"
     ]
    },
    {
     "name": "stderr",
     "output_type": "stream",
     "text": [
      "\u001b[33m(raylet)\u001b[0m [2024-10-16 22:35:05,693 E 1160808 1160842] (raylet) file_system_monitor.cc:111: /tmp/ray/session_2024-10-16_22-07-03_931002_1158973 is over 95% full, available space: 5983477760; capacity: 185064833024. Object creation will fail if spilling is required.\n"
     ]
    },
    {
     "name": "stdout",
     "output_type": "stream",
     "text": [
      "\u001b[36m(compute_reachable pid=1160928)\u001b[0m rip 57\u001b[32m [repeated 3x across cluster]\u001b[0m\n"
     ]
    },
    {
     "name": "stderr",
     "output_type": "stream",
     "text": [
      "\u001b[33m(raylet)\u001b[0m [2024-10-16 22:35:15,699 E 1160808 1160842] (raylet) file_system_monitor.cc:111: /tmp/ray/session_2024-10-16_22-07-03_931002_1158973 is over 95% full, available space: 5983285248; capacity: 185064833024. Object creation will fail if spilling is required.\n",
      "\u001b[33m(raylet)\u001b[0m [2024-10-16 22:35:25,705 E 1160808 1160842] (raylet) file_system_monitor.cc:111: /tmp/ray/session_2024-10-16_22-07-03_931002_1158973 is over 95% full, available space: 5983281152; capacity: 185064833024. Object creation will fail if spilling is required.\n",
      "\u001b[33m(raylet)\u001b[0m [2024-10-16 22:35:35,711 E 1160808 1160842] (raylet) file_system_monitor.cc:111: /tmp/ray/session_2024-10-16_22-07-03_931002_1158973 is over 95% full, available space: 5983281152; capacity: 185064833024. Object creation will fail if spilling is required.\n",
      "\u001b[33m(raylet)\u001b[0m [2024-10-16 22:35:45,717 E 1160808 1160842] (raylet) file_system_monitor.cc:111: /tmp/ray/session_2024-10-16_22-07-03_931002_1158973 is over 95% full, available space: 5983281152; capacity: 185064833024. Object creation will fail if spilling is required.\n"
     ]
    },
    {
     "name": "stdout",
     "output_type": "stream",
     "text": [
      "\u001b[36m(compute_reachable pid=1160918)\u001b[0m rip 30\u001b[32m [repeated 2x across cluster]\u001b[0m\n"
     ]
    },
    {
     "name": "stderr",
     "output_type": "stream",
     "text": [
      "\u001b[33m(raylet)\u001b[0m [2024-10-16 22:35:55,724 E 1160808 1160842] (raylet) file_system_monitor.cc:111: /tmp/ray/session_2024-10-16_22-07-03_931002_1158973 is over 95% full, available space: 5983277056; capacity: 185064833024. Object creation will fail if spilling is required.\n"
     ]
    },
    {
     "name": "stdout",
     "output_type": "stream",
     "text": [
      "\u001b[36m(compute_reachable pid=1160924)\u001b[0m rip 28\n",
      "\u001b[36m(compute_reachable pid=1160917)\u001b[0m rip 46\n"
     ]
    },
    {
     "name": "stderr",
     "output_type": "stream",
     "text": [
      "\u001b[33m(raylet)\u001b[0m [2024-10-16 22:36:05,730 E 1160808 1160842] (raylet) file_system_monitor.cc:111: /tmp/ray/session_2024-10-16_22-07-03_931002_1158973 is over 95% full, available space: 5983240192; capacity: 185064833024. Object creation will fail if spilling is required.\n"
     ]
    },
    {
     "name": "stdout",
     "output_type": "stream",
     "text": [
      "\u001b[36m(compute_reachable pid=1160926)\u001b[0m rip 28\u001b[32m [repeated 4x across cluster]\u001b[0m\n"
     ]
    },
    {
     "name": "stderr",
     "output_type": "stream",
     "text": [
      "\u001b[33m(raylet)\u001b[0m [2024-10-16 22:36:15,736 E 1160808 1160842] (raylet) file_system_monitor.cc:111: /tmp/ray/session_2024-10-16_22-07-03_931002_1158973 is over 95% full, available space: 5983145984; capacity: 185064833024. Object creation will fail if spilling is required.\n"
     ]
    },
    {
     "name": "stdout",
     "output_type": "stream",
     "text": [
      "\u001b[36m(compute_reachable pid=1160919)\u001b[0m rip 57\u001b[32m [repeated 2x across cluster]\u001b[0m\n"
     ]
    },
    {
     "name": "stderr",
     "output_type": "stream",
     "text": [
      "\u001b[33m(raylet)\u001b[0m [2024-10-16 22:36:25,742 E 1160808 1160842] (raylet) file_system_monitor.cc:111: /tmp/ray/session_2024-10-16_22-07-03_931002_1158973 is over 95% full, available space: 5983145984; capacity: 185064833024. Object creation will fail if spilling is required.\n"
     ]
    },
    {
     "name": "stdout",
     "output_type": "stream",
     "text": [
      "\u001b[36m(compute_reachable pid=1160920)\u001b[0m rip 30\n",
      "\u001b[36m(compute_reachable pid=1160922)\u001b[0m rip 44\n",
      "\u001b[36m(compute_reachable pid=1160927)\u001b[0m rip 37\u001b[32m [repeated 2x across cluster]\u001b[0m\n"
     ]
    },
    {
     "name": "stderr",
     "output_type": "stream",
     "text": [
      "\u001b[33m(raylet)\u001b[0m [2024-10-16 22:36:35,748 E 1160808 1160842] (raylet) file_system_monitor.cc:111: /tmp/ray/session_2024-10-16_22-07-03_931002_1158973 is over 95% full, available space: 5983141888; capacity: 185064833024. Object creation will fail if spilling is required.\n"
     ]
    },
    {
     "name": "stdout",
     "output_type": "stream",
     "text": [
      "\u001b[36m(compute_reachable pid=1160931)\u001b[0m rip 38\u001b[32m [repeated 6x across cluster]\u001b[0m\n"
     ]
    },
    {
     "name": "stderr",
     "output_type": "stream",
     "text": [
      "\u001b[33m(raylet)\u001b[0m [2024-10-16 22:36:45,755 E 1160808 1160842] (raylet) file_system_monitor.cc:111: /tmp/ray/session_2024-10-16_22-07-03_931002_1158973 is over 95% full, available space: 5983133696; capacity: 185064833024. Object creation will fail if spilling is required.\n"
     ]
    },
    {
     "name": "stdout",
     "output_type": "stream",
     "text": [
      "\u001b[36m(compute_reachable pid=1160930)\u001b[0m rip 10\u001b[32m [repeated 6x across cluster]\u001b[0m\n"
     ]
    },
    {
     "name": "stderr",
     "output_type": "stream",
     "text": [
      "\u001b[33m(raylet)\u001b[0m [2024-10-16 22:36:55,761 E 1160808 1160842] (raylet) file_system_monitor.cc:111: /tmp/ray/session_2024-10-16_22-07-03_931002_1158973 is over 95% full, available space: 5983133696; capacity: 185064833024. Object creation will fail if spilling is required.\n",
      "\u001b[33m(raylet)\u001b[0m [2024-10-16 22:37:05,767 E 1160808 1160842] (raylet) file_system_monitor.cc:111: /tmp/ray/session_2024-10-16_22-07-03_931002_1158973 is over 95% full, available space: 5983096832; capacity: 185064833024. Object creation will fail if spilling is required.\n",
      "\u001b[33m(raylet)\u001b[0m [2024-10-16 22:37:15,773 E 1160808 1160842] (raylet) file_system_monitor.cc:111: /tmp/ray/session_2024-10-16_22-07-03_931002_1158973 is over 95% full, available space: 5982920704; capacity: 185064833024. Object creation will fail if spilling is required.\n"
     ]
    },
    {
     "name": "stdout",
     "output_type": "stream",
     "text": [
      "\u001b[36m(compute_reachable pid=1160918)\u001b[0m rip 42\u001b[32m [repeated 5x across cluster]\u001b[0m\n",
      "\u001b[36m(compute_reachable pid=1160917)\u001b[0m rip 42\u001b[32m [repeated 2x across cluster]\u001b[0m\n"
     ]
    },
    {
     "name": "stderr",
     "output_type": "stream",
     "text": [
      "\u001b[33m(raylet)\u001b[0m [2024-10-16 22:37:25,779 E 1160808 1160842] (raylet) file_system_monitor.cc:111: /tmp/ray/session_2024-10-16_22-07-03_931002_1158973 is over 95% full, available space: 5982920704; capacity: 185064833024. Object creation will fail if spilling is required.\n"
     ]
    },
    {
     "name": "stdout",
     "output_type": "stream",
     "text": [
      "\u001b[36m(compute_reachable pid=1160921)\u001b[0m rip 42\u001b[32m [repeated 4x across cluster]\u001b[0m\n"
     ]
    },
    {
     "name": "stderr",
     "output_type": "stream",
     "text": [
      "\u001b[33m(raylet)\u001b[0m [2024-10-16 22:37:35,785 E 1160808 1160842] (raylet) file_system_monitor.cc:111: /tmp/ray/session_2024-10-16_22-07-03_931002_1158973 is over 95% full, available space: 5982916608; capacity: 185064833024. Object creation will fail if spilling is required.\n"
     ]
    },
    {
     "name": "stdout",
     "output_type": "stream",
     "text": [
      "\u001b[36m(compute_reachable pid=1160924)\u001b[0m rip 28\u001b[32m [repeated 4x across cluster]\u001b[0m\n",
      "\u001b[36m(compute_reachable pid=1160921)\u001b[0m rip 30\u001b[32m [repeated 6x across cluster]\u001b[0m\n"
     ]
    },
    {
     "name": "stderr",
     "output_type": "stream",
     "text": [
      "\u001b[33m(raylet)\u001b[0m [2024-10-16 22:37:45,791 E 1160808 1160842] (raylet) file_system_monitor.cc:111: /tmp/ray/session_2024-10-16_22-07-03_931002_1158973 is over 95% full, available space: 5982912512; capacity: 185064833024. Object creation will fail if spilling is required.\n"
     ]
    },
    {
     "name": "stdout",
     "output_type": "stream",
     "text": [
      "\u001b[36m(compute_reachable pid=1160930)\u001b[0m rip 42\u001b[32m [repeated 10x across cluster]\u001b[0m\n"
     ]
    },
    {
     "name": "stderr",
     "output_type": "stream",
     "text": [
      "\u001b[33m(raylet)\u001b[0m [2024-10-16 22:37:55,798 E 1160808 1160842] (raylet) file_system_monitor.cc:111: /tmp/ray/session_2024-10-16_22-07-03_931002_1158973 is over 95% full, available space: 5982912512; capacity: 185064833024. Object creation will fail if spilling is required.\n",
      "\u001b[33m(raylet)\u001b[0m [2024-10-16 22:38:05,804 E 1160808 1160842] (raylet) file_system_monitor.cc:111: /tmp/ray/session_2024-10-16_22-07-03_931002_1158973 is over 95% full, available space: 5982871552; capacity: 185064833024. Object creation will fail if spilling is required.\n"
     ]
    },
    {
     "name": "stdout",
     "output_type": "stream",
     "text": [
      "\u001b[36m(compute_reachable pid=1160920)\u001b[0m rip 44\u001b[32m [repeated 3x across cluster]\u001b[0m\n",
      "\u001b[36m(compute_reachable pid=1160925)\u001b[0m rip 28\u001b[32m [repeated 2x across cluster]\u001b[0m\n"
     ]
    },
    {
     "name": "stderr",
     "output_type": "stream",
     "text": [
      "\u001b[33m(raylet)\u001b[0m [2024-10-16 22:38:15,810 E 1160808 1160842] (raylet) file_system_monitor.cc:111: /tmp/ray/session_2024-10-16_22-07-03_931002_1158973 is over 95% full, available space: 5982781440; capacity: 185064833024. Object creation will fail if spilling is required.\n"
     ]
    },
    {
     "name": "stdout",
     "output_type": "stream",
     "text": [
      "\u001b[36m(compute_reachable pid=1160930)\u001b[0m rip 30\u001b[32m [repeated 4x across cluster]\u001b[0m\n"
     ]
    },
    {
     "name": "stderr",
     "output_type": "stream",
     "text": [
      "\u001b[33m(raylet)\u001b[0m [2024-10-16 22:38:25,816 E 1160808 1160842] (raylet) file_system_monitor.cc:111: /tmp/ray/session_2024-10-16_22-07-03_931002_1158973 is over 95% full, available space: 5982777344; capacity: 185064833024. Object creation will fail if spilling is required.\n"
     ]
    },
    {
     "name": "stdout",
     "output_type": "stream",
     "text": [
      "\u001b[36m(compute_reachable pid=1160928)\u001b[0m rip 44\u001b[32m [repeated 5x across cluster]\u001b[0m\n"
     ]
    },
    {
     "name": "stderr",
     "output_type": "stream",
     "text": [
      "\u001b[33m(raylet)\u001b[0m [2024-10-16 22:38:35,822 E 1160808 1160842] (raylet) file_system_monitor.cc:111: /tmp/ray/session_2024-10-16_22-07-03_931002_1158973 is over 95% full, available space: 5982777344; capacity: 185064833024. Object creation will fail if spilling is required.\n"
     ]
    },
    {
     "name": "stdout",
     "output_type": "stream",
     "text": [
      "\u001b[36m(compute_reachable pid=1160921)\u001b[0m rip 42\u001b[32m [repeated 6x across cluster]\u001b[0m\n"
     ]
    },
    {
     "name": "stderr",
     "output_type": "stream",
     "text": [
      "\u001b[33m(raylet)\u001b[0m [2024-10-16 22:38:45,829 E 1160808 1160842] (raylet) file_system_monitor.cc:111: /tmp/ray/session_2024-10-16_22-07-03_931002_1158973 is over 95% full, available space: 5982777344; capacity: 185064833024. Object creation will fail if spilling is required.\n"
     ]
    },
    {
     "name": "stdout",
     "output_type": "stream",
     "text": [
      "\u001b[36m(compute_reachable pid=1160927)\u001b[0m rip 42\u001b[32m [repeated 3x across cluster]\u001b[0m\n"
     ]
    },
    {
     "name": "stderr",
     "output_type": "stream",
     "text": [
      "\u001b[33m(raylet)\u001b[0m [2024-10-16 22:38:55,841 E 1160808 1160842] (raylet) file_system_monitor.cc:111: /tmp/ray/session_2024-10-16_22-07-03_931002_1158973 is over 95% full, available space: 5982773248; capacity: 185064833024. Object creation will fail if spilling is required.\n"
     ]
    },
    {
     "name": "stdout",
     "output_type": "stream",
     "text": [
      "\u001b[36m(compute_reachable pid=1160928)\u001b[0m rip 38\u001b[32m [repeated 9x across cluster]\u001b[0m\n"
     ]
    },
    {
     "name": "stderr",
     "output_type": "stream",
     "text": [
      "\u001b[33m(raylet)\u001b[0m [2024-10-16 22:39:05,848 E 1160808 1160842] (raylet) file_system_monitor.cc:111: /tmp/ray/session_2024-10-16_22-07-03_931002_1158973 is over 95% full, available space: 5982736384; capacity: 185064833024. Object creation will fail if spilling is required.\n"
     ]
    },
    {
     "name": "stdout",
     "output_type": "stream",
     "text": [
      "\u001b[36m(compute_reachable pid=1160917)\u001b[0m rip 46\u001b[32m [repeated 3x across cluster]\u001b[0m\n"
     ]
    },
    {
     "name": "stderr",
     "output_type": "stream",
     "text": [
      "\u001b[33m(raylet)\u001b[0m [2024-10-16 22:39:15,854 E 1160808 1160842] (raylet) file_system_monitor.cc:111: /tmp/ray/session_2024-10-16_22-07-03_931002_1158973 is over 95% full, available space: 5982560256; capacity: 185064833024. Object creation will fail if spilling is required.\n"
     ]
    },
    {
     "name": "stdout",
     "output_type": "stream",
     "text": [
      "\u001b[36m(compute_reachable pid=1160921)\u001b[0m rip 30\u001b[32m [repeated 4x across cluster]\u001b[0m\n"
     ]
    },
    {
     "name": "stderr",
     "output_type": "stream",
     "text": [
      "\u001b[33m(raylet)\u001b[0m [2024-10-16 22:39:25,860 E 1160808 1160842] (raylet) file_system_monitor.cc:111: /tmp/ray/session_2024-10-16_22-07-03_931002_1158973 is over 95% full, available space: 5982547968; capacity: 185064833024. Object creation will fail if spilling is required.\n"
     ]
    },
    {
     "name": "stdout",
     "output_type": "stream",
     "text": [
      "\u001b[36m(compute_reachable pid=1160919)\u001b[0m rip 46\u001b[32m [repeated 2x across cluster]\u001b[0m\n",
      "\u001b[36m(compute_reachable pid=1160918)\u001b[0m rip 42\u001b[32m [repeated 2x across cluster]\u001b[0m\n"
     ]
    },
    {
     "name": "stderr",
     "output_type": "stream",
     "text": [
      "\u001b[33m(raylet)\u001b[0m [2024-10-16 22:39:35,865 E 1160808 1160842] (raylet) file_system_monitor.cc:111: /tmp/ray/session_2024-10-16_22-07-03_931002_1158973 is over 95% full, available space: 5982547968; capacity: 185064833024. Object creation will fail if spilling is required.\n"
     ]
    },
    {
     "name": "stdout",
     "output_type": "stream",
     "text": [
      "\u001b[36m(compute_reachable pid=1160929)\u001b[0m rip 42\n",
      "\u001b[36m(compute_reachable pid=1160917)\u001b[0m rip 46\n",
      "\u001b[36m(compute_reachable pid=1160920)\u001b[0m rip 44\u001b[32m [repeated 4x across cluster]\u001b[0m\n"
     ]
    },
    {
     "name": "stderr",
     "output_type": "stream",
     "text": [
      "\u001b[33m(raylet)\u001b[0m [2024-10-16 22:39:45,871 E 1160808 1160842] (raylet) file_system_monitor.cc:111: /tmp/ray/session_2024-10-16_22-07-03_931002_1158973 is over 95% full, available space: 5982543872; capacity: 185064833024. Object creation will fail if spilling is required.\n"
     ]
    },
    {
     "name": "stdout",
     "output_type": "stream",
     "text": [
      "\u001b[36m(compute_reachable pid=1160922)\u001b[0m rip 30\u001b[32m [repeated 4x across cluster]\u001b[0m\n",
      "\u001b[36m(compute_reachable pid=1160916)\u001b[0m rip 44\u001b[32m [repeated 4x across cluster]\u001b[0m\n"
     ]
    },
    {
     "name": "stderr",
     "output_type": "stream",
     "text": [
      "\u001b[33m(raylet)\u001b[0m [2024-10-16 22:39:55,877 E 1160808 1160842] (raylet) file_system_monitor.cc:111: /tmp/ray/session_2024-10-16_22-07-03_931002_1158973 is over 95% full, available space: 5982543872; capacity: 185064833024. Object creation will fail if spilling is required.\n"
     ]
    },
    {
     "name": "stdout",
     "output_type": "stream",
     "text": [
      "\u001b[36m(compute_reachable pid=1160920)\u001b[0m rip 36\u001b[32m [repeated 4x across cluster]\u001b[0m\n",
      "\u001b[36m(compute_reachable pid=1160916)\u001b[0m rip 27\u001b[32m [repeated 8x across cluster]\u001b[0m\n"
     ]
    },
    {
     "name": "stderr",
     "output_type": "stream",
     "text": [
      "\u001b[33m(raylet)\u001b[0m [2024-10-16 22:40:05,883 E 1160808 1160842] (raylet) file_system_monitor.cc:111: /tmp/ray/session_2024-10-16_22-07-03_931002_1158973 is over 95% full, available space: 5982507008; capacity: 185064833024. Object creation will fail if spilling is required.\n",
      "\u001b[33m(raylet)\u001b[0m [2024-10-16 22:40:15,889 E 1160808 1160842] (raylet) file_system_monitor.cc:111: /tmp/ray/session_2024-10-16_22-07-03_931002_1158973 is over 95% full, available space: 5982416896; capacity: 185064833024. Object creation will fail if spilling is required.\n",
      "\u001b[33m(raylet)\u001b[0m [2024-10-16 22:40:25,895 E 1160808 1160842] (raylet) file_system_monitor.cc:111: /tmp/ray/session_2024-10-16_22-07-03_931002_1158973 is over 95% full, available space: 5982416896; capacity: 185064833024. Object creation will fail if spilling is required.\n"
     ]
    },
    {
     "name": "stdout",
     "output_type": "stream",
     "text": [
      "\u001b[36m(compute_reachable pid=1160918)\u001b[0m rip 30\u001b[32m [repeated 5x across cluster]\u001b[0m\n"
     ]
    },
    {
     "name": "stderr",
     "output_type": "stream",
     "text": [
      "\u001b[33m(raylet)\u001b[0m [2024-10-16 22:40:35,901 E 1160808 1160842] (raylet) file_system_monitor.cc:111: /tmp/ray/session_2024-10-16_22-07-03_931002_1158973 is over 95% full, available space: 5982412800; capacity: 185064833024. Object creation will fail if spilling is required.\n"
     ]
    },
    {
     "name": "stdout",
     "output_type": "stream",
     "text": [
      "\u001b[36m(compute_reachable pid=1160918)\u001b[0m rip 14\n"
     ]
    },
    {
     "name": "stderr",
     "output_type": "stream",
     "text": [
      "\u001b[33m(raylet)\u001b[0m [2024-10-16 22:40:45,907 E 1160808 1160842] (raylet) file_system_monitor.cc:111: /tmp/ray/session_2024-10-16_22-07-03_931002_1158973 is over 95% full, available space: 5982412800; capacity: 185064833024. Object creation will fail if spilling is required.\n"
     ]
    },
    {
     "name": "stdout",
     "output_type": "stream",
     "text": [
      "\u001b[36m(compute_reachable pid=1160929)\u001b[0m rip 46\n"
     ]
    },
    {
     "name": "stderr",
     "output_type": "stream",
     "text": [
      "\u001b[33m(raylet)\u001b[0m [2024-10-16 22:40:55,913 E 1160808 1160842] (raylet) file_system_monitor.cc:111: /tmp/ray/session_2024-10-16_22-07-03_931002_1158973 is over 95% full, available space: 5982408704; capacity: 185064833024. Object creation will fail if spilling is required.\n"
     ]
    },
    {
     "name": "stdout",
     "output_type": "stream",
     "text": [
      "\u001b[36m(compute_reachable pid=1160921)\u001b[0m rip 30\u001b[32m [repeated 4x across cluster]\u001b[0m\n",
      "\u001b[36m(compute_reachable pid=1160919)\u001b[0m rip 46\u001b[32m [repeated 2x across cluster]\u001b[0m\n"
     ]
    },
    {
     "name": "stderr",
     "output_type": "stream",
     "text": [
      "\u001b[33m(raylet)\u001b[0m [2024-10-16 22:41:05,919 E 1160808 1160842] (raylet) file_system_monitor.cc:111: /tmp/ray/session_2024-10-16_22-07-03_931002_1158973 is over 95% full, available space: 5982367744; capacity: 185064833024. Object creation will fail if spilling is required.\n",
      "\u001b[33m(raylet)\u001b[0m [2024-10-16 22:41:15,925 E 1160808 1160842] (raylet) file_system_monitor.cc:111: /tmp/ray/session_2024-10-16_22-07-03_931002_1158973 is over 95% full, available space: 5982195712; capacity: 185064833024. Object creation will fail if spilling is required.\n"
     ]
    },
    {
     "name": "stdout",
     "output_type": "stream",
     "text": [
      "\u001b[36m(compute_reachable pid=1160920)\u001b[0m rip 44\u001b[32m [repeated 2x across cluster]\u001b[0m\n"
     ]
    },
    {
     "name": "stderr",
     "output_type": "stream",
     "text": [
      "\u001b[33m(raylet)\u001b[0m [2024-10-16 22:41:25,931 E 1160808 1160842] (raylet) file_system_monitor.cc:111: /tmp/ray/session_2024-10-16_22-07-03_931002_1158973 is over 95% full, available space: 5982195712; capacity: 185064833024. Object creation will fail if spilling is required.\n"
     ]
    },
    {
     "name": "stdout",
     "output_type": "stream",
     "text": [
      "\u001b[36m(compute_reachable pid=1160922)\u001b[0m rip 30\n",
      "\u001b[36m(compute_reachable pid=1160927)\u001b[0m rip 28\n"
     ]
    },
    {
     "name": "stderr",
     "output_type": "stream",
     "text": [
      "\u001b[33m(raylet)\u001b[0m [2024-10-16 22:41:35,937 E 1160808 1160842] (raylet) file_system_monitor.cc:111: /tmp/ray/session_2024-10-16_22-07-03_931002_1158973 is over 95% full, available space: 5982191616; capacity: 185064833024. Object creation will fail if spilling is required.\n"
     ]
    },
    {
     "name": "stdout",
     "output_type": "stream",
     "text": [
      "\u001b[36m(compute_reachable pid=1160916)\u001b[0m rip 44\u001b[32m [repeated 3x across cluster]\u001b[0m\n",
      "\u001b[36m(compute_reachable pid=1160933)\u001b[0m rip 28\u001b[32m [repeated 2x across cluster]\u001b[0m\n"
     ]
    },
    {
     "name": "stderr",
     "output_type": "stream",
     "text": [
      "\u001b[33m(raylet)\u001b[0m [2024-10-16 22:41:45,944 E 1160808 1160842] (raylet) file_system_monitor.cc:111: /tmp/ray/session_2024-10-16_22-07-03_931002_1158973 is over 95% full, available space: 5982187520; capacity: 185064833024. Object creation will fail if spilling is required.\n",
      "\u001b[33m(raylet)\u001b[0m [2024-10-16 22:41:55,950 E 1160808 1160842] (raylet) file_system_monitor.cc:111: /tmp/ray/session_2024-10-16_22-07-03_931002_1158973 is over 95% full, available space: 5982179328; capacity: 185064833024. Object creation will fail if spilling is required.\n",
      "\u001b[33m(raylet)\u001b[0m [2024-10-16 22:42:05,956 E 1160808 1160842] (raylet) file_system_monitor.cc:111: /tmp/ray/session_2024-10-16_22-07-03_931002_1158973 is over 95% full, available space: 5982142464; capacity: 185064833024. Object creation will fail if spilling is required.\n",
      "\u001b[33m(raylet)\u001b[0m [2024-10-16 22:42:15,962 E 1160808 1160842] (raylet) file_system_monitor.cc:111: /tmp/ray/session_2024-10-16_22-07-03_931002_1158973 is over 95% full, available space: 5982052352; capacity: 185064833024. Object creation will fail if spilling is required.\n"
     ]
    },
    {
     "name": "stdout",
     "output_type": "stream",
     "text": [
      "\u001b[36m(compute_reachable pid=1160918)\u001b[0m rip 30\u001b[32m [repeated 4x across cluster]\u001b[0m\n"
     ]
    },
    {
     "name": "stderr",
     "output_type": "stream",
     "text": [
      "\u001b[33m(raylet)\u001b[0m [2024-10-16 22:42:25,969 E 1160808 1160842] (raylet) file_system_monitor.cc:111: /tmp/ray/session_2024-10-16_22-07-03_931002_1158973 is over 95% full, available space: 5982044160; capacity: 185064833024. Object creation will fail if spilling is required.\n"
     ]
    },
    {
     "name": "stdout",
     "output_type": "stream",
     "text": [
      "\u001b[36m(compute_reachable pid=1160929)\u001b[0m rip 10\u001b[32m [repeated 6x across cluster]\u001b[0m\n",
      "\u001b[36m(compute_reachable pid=1160921)\u001b[0m rip 10\u001b[32m [repeated 7x across cluster]\u001b[0m\n"
     ]
    },
    {
     "name": "stderr",
     "output_type": "stream",
     "text": [
      "\u001b[33m(raylet)\u001b[0m [2024-10-16 22:42:35,975 E 1160808 1160842] (raylet) file_system_monitor.cc:111: /tmp/ray/session_2024-10-16_22-07-03_931002_1158973 is over 95% full, available space: 5982044160; capacity: 185064833024. Object creation will fail if spilling is required.\n"
     ]
    },
    {
     "name": "stdout",
     "output_type": "stream",
     "text": [
      "\u001b[36m(compute_reachable pid=1160915)\u001b[0m rip 34\u001b[32m [repeated 2x across cluster]\u001b[0m\n",
      "\u001b[36m(compute_reachable pid=1160927)\u001b[0m rip 46\u001b[32m [repeated 2x across cluster]\u001b[0m\n"
     ]
    },
    {
     "name": "stderr",
     "output_type": "stream",
     "text": [
      "\u001b[33m(raylet)\u001b[0m [2024-10-16 22:42:45,981 E 1160808 1160842] (raylet) file_system_monitor.cc:111: /tmp/ray/session_2024-10-16_22-07-03_931002_1158973 is over 95% full, available space: 5982044160; capacity: 185064833024. Object creation will fail if spilling is required.\n"
     ]
    },
    {
     "name": "stdout",
     "output_type": "stream",
     "text": [
      "\u001b[36m(compute_reachable pid=1160933)\u001b[0m rip 46\u001b[32m [repeated 4x across cluster]\u001b[0m\n"
     ]
    },
    {
     "name": "stderr",
     "output_type": "stream",
     "text": [
      "\u001b[33m(raylet)\u001b[0m [2024-10-16 22:42:55,987 E 1160808 1160842] (raylet) file_system_monitor.cc:111: /tmp/ray/session_2024-10-16_22-07-03_931002_1158973 is over 95% full, available space: 5982040064; capacity: 185064833024. Object creation will fail if spilling is required.\n"
     ]
    },
    {
     "name": "stdout",
     "output_type": "stream",
     "text": [
      "\u001b[36m(compute_reachable pid=1160931)\u001b[0m rip 38\u001b[32m [repeated 5x across cluster]\u001b[0m\n",
      "\u001b[36m(compute_reachable pid=1160927)\u001b[0m rip 28\u001b[32m [repeated 3x across cluster]\u001b[0m\n"
     ]
    },
    {
     "name": "stderr",
     "output_type": "stream",
     "text": [
      "\u001b[33m(raylet)\u001b[0m [2024-10-16 22:43:05,993 E 1160808 1160842] (raylet) file_system_monitor.cc:111: /tmp/ray/session_2024-10-16_22-07-03_931002_1158973 is over 95% full, available space: 5982003200; capacity: 185064833024. Object creation will fail if spilling is required.\n"
     ]
    },
    {
     "name": "stdout",
     "output_type": "stream",
     "text": [
      "\u001b[36m(compute_reachable pid=1160916)\u001b[0m rip 41\u001b[32m [repeated 3x across cluster]\u001b[0m\n",
      "\u001b[36m(compute_reachable pid=1160932)\u001b[0m rip 46\u001b[32m [repeated 4x across cluster]\u001b[0m\n"
     ]
    },
    {
     "name": "stderr",
     "output_type": "stream",
     "text": [
      "\u001b[33m(raylet)\u001b[0m [2024-10-16 22:43:15,999 E 1160808 1160842] (raylet) file_system_monitor.cc:111: /tmp/ray/session_2024-10-16_22-07-03_931002_1158973 is over 95% full, available space: 5981831168; capacity: 185064833024. Object creation will fail if spilling is required.\n"
     ]
    },
    {
     "name": "stdout",
     "output_type": "stream",
     "text": [
      "\u001b[36m(compute_reachable pid=1160929)\u001b[0m rip 46\u001b[32m [repeated 3x across cluster]\u001b[0m\n"
     ]
    },
    {
     "name": "stderr",
     "output_type": "stream",
     "text": [
      "\u001b[33m(raylet)\u001b[0m [2024-10-16 22:43:26,005 E 1160808 1160842] (raylet) file_system_monitor.cc:111: /tmp/ray/session_2024-10-16_22-07-03_931002_1158973 is over 95% full, available space: 5981831168; capacity: 185064833024. Object creation will fail if spilling is required.\n"
     ]
    },
    {
     "name": "stdout",
     "output_type": "stream",
     "text": [
      "\u001b[36m(compute_reachable pid=1160921)\u001b[0m rip 42\u001b[32m [repeated 6x across cluster]\u001b[0m\n"
     ]
    },
    {
     "name": "stderr",
     "output_type": "stream",
     "text": [
      "\u001b[33m(raylet)\u001b[0m [2024-10-16 22:43:36,011 E 1160808 1160842] (raylet) file_system_monitor.cc:111: /tmp/ray/session_2024-10-16_22-07-03_931002_1158973 is over 95% full, available space: 5981831168; capacity: 185064833024. Object creation will fail if spilling is required.\n",
      "\u001b[33m(raylet)\u001b[0m [2024-10-16 22:43:46,018 E 1160808 1160842] (raylet) file_system_monitor.cc:111: /tmp/ray/session_2024-10-16_22-07-03_931002_1158973 is over 95% full, available space: 5981827072; capacity: 185064833024. Object creation will fail if spilling is required.\n"
     ]
    },
    {
     "name": "stdout",
     "output_type": "stream",
     "text": [
      "\u001b[36m(compute_reachable pid=1160925)\u001b[0m rip 46\u001b[32m [repeated 3x across cluster]\u001b[0m\n",
      "\u001b[36m(compute_reachable pid=1160929)\u001b[0m rip 28\u001b[32m [repeated 5x across cluster]\u001b[0m\n"
     ]
    },
    {
     "name": "stderr",
     "output_type": "stream",
     "text": [
      "\u001b[33m(raylet)\u001b[0m [2024-10-16 22:43:56,024 E 1160808 1160842] (raylet) file_system_monitor.cc:111: /tmp/ray/session_2024-10-16_22-07-03_931002_1158973 is over 95% full, available space: 5981818880; capacity: 185064833024. Object creation will fail if spilling is required.\n"
     ]
    },
    {
     "name": "stdout",
     "output_type": "stream",
     "text": [
      "\u001b[36m(compute_reachable pid=1160921)\u001b[0m rip 30\u001b[32m [repeated 11x across cluster]\u001b[0m\n"
     ]
    },
    {
     "name": "stderr",
     "output_type": "stream",
     "text": [
      "\u001b[33m(raylet)\u001b[0m [2024-10-16 22:44:06,030 E 1160808 1160842] (raylet) file_system_monitor.cc:111: /tmp/ray/session_2024-10-16_22-07-03_931002_1158973 is over 95% full, available space: 5981782016; capacity: 185064833024. Object creation will fail if spilling is required.\n"
     ]
    },
    {
     "name": "stdout",
     "output_type": "stream",
     "text": [
      "\u001b[36m(compute_reachable pid=1160919)\u001b[0m rip 57\u001b[32m [repeated 2x across cluster]\u001b[0m\n"
     ]
    },
    {
     "name": "stderr",
     "output_type": "stream",
     "text": [
      "\u001b[33m(raylet)\u001b[0m [2024-10-16 22:44:16,036 E 1160808 1160842] (raylet) file_system_monitor.cc:111: /tmp/ray/session_2024-10-16_22-07-03_931002_1158973 is over 95% full, available space: 5981691904; capacity: 185064833024. Object creation will fail if spilling is required.\n"
     ]
    },
    {
     "name": "stdout",
     "output_type": "stream",
     "text": [
      "\u001b[36m(compute_reachable pid=1160920)\u001b[0m rip 44\u001b[32m [repeated 2x across cluster]\u001b[0m\n"
     ]
    },
    {
     "name": "stderr",
     "output_type": "stream",
     "text": [
      "\u001b[33m(raylet)\u001b[0m [2024-10-16 22:44:26,042 E 1160808 1160842] (raylet) file_system_monitor.cc:111: /tmp/ray/session_2024-10-16_22-07-03_931002_1158973 is over 95% full, available space: 5981687808; capacity: 185064833024. Object creation will fail if spilling is required.\n"
     ]
    },
    {
     "name": "stdout",
     "output_type": "stream",
     "text": [
      "\u001b[36m(compute_reachable pid=1160921)\u001b[0m rip 42\u001b[32m [repeated 10x across cluster]\u001b[0m\n"
     ]
    },
    {
     "name": "stderr",
     "output_type": "stream",
     "text": [
      "\u001b[33m(raylet)\u001b[0m [2024-10-16 22:44:36,048 E 1160808 1160842] (raylet) file_system_monitor.cc:111: /tmp/ray/session_2024-10-16_22-07-03_931002_1158973 is over 95% full, available space: 5981679616; capacity: 185064833024. Object creation will fail if spilling is required.\n"
     ]
    },
    {
     "name": "stdout",
     "output_type": "stream",
     "text": [
      "\u001b[36m(compute_reachable pid=1160922)\u001b[0m rip 44\u001b[32m [repeated 5x across cluster]\u001b[0m\n",
      "\u001b[36m(compute_reachable pid=1160931)\u001b[0m rip 44\u001b[32m [repeated 4x across cluster]\u001b[0m\n"
     ]
    },
    {
     "name": "stderr",
     "output_type": "stream",
     "text": [
      "\u001b[33m(raylet)\u001b[0m [2024-10-16 22:44:46,054 E 1160808 1160842] (raylet) file_system_monitor.cc:111: /tmp/ray/session_2024-10-16_22-07-03_931002_1158973 is over 95% full, available space: 5981679616; capacity: 185064833024. Object creation will fail if spilling is required.\n"
     ]
    },
    {
     "name": "stdout",
     "output_type": "stream",
     "text": [
      "\u001b[36m(compute_reachable pid=1160920)\u001b[0m rip 38\u001b[32m [repeated 3x across cluster]\u001b[0m\n"
     ]
    },
    {
     "name": "stderr",
     "output_type": "stream",
     "text": [
      "\u001b[33m(raylet)\u001b[0m [2024-10-16 22:44:56,060 E 1160808 1160842] (raylet) file_system_monitor.cc:111: /tmp/ray/session_2024-10-16_22-07-03_931002_1158973 is over 95% full, available space: 5981679616; capacity: 185064833024. Object creation will fail if spilling is required.\n"
     ]
    },
    {
     "name": "stdout",
     "output_type": "stream",
     "text": [
      "\u001b[36m(compute_reachable pid=1160922)\u001b[0m rip 42\u001b[32m [repeated 7x across cluster]\u001b[0m\n"
     ]
    },
    {
     "name": "stderr",
     "output_type": "stream",
     "text": [
      "\u001b[33m(raylet)\u001b[0m [2024-10-16 22:45:06,066 E 1160808 1160842] (raylet) file_system_monitor.cc:111: /tmp/ray/session_2024-10-16_22-07-03_931002_1158973 is over 95% full, available space: 5981634560; capacity: 185064833024. Object creation will fail if spilling is required.\n"
     ]
    },
    {
     "name": "stdout",
     "output_type": "stream",
     "text": [
      "\u001b[36m(compute_reachable pid=1160918)\u001b[0m rip 30\u001b[32m [repeated 2x across cluster]\u001b[0m\n"
     ]
    },
    {
     "name": "stderr",
     "output_type": "stream",
     "text": [
      "\u001b[33m(raylet)\u001b[0m [2024-10-16 22:45:16,073 E 1160808 1160842] (raylet) file_system_monitor.cc:111: /tmp/ray/session_2024-10-16_22-07-03_931002_1158973 is over 95% full, available space: 5981462528; capacity: 185064833024. Object creation will fail if spilling is required.\n"
     ]
    },
    {
     "name": "stdout",
     "output_type": "stream",
     "text": [
      "\u001b[36m(compute_reachable pid=1160929)\u001b[0m rip 28\n",
      "\u001b[36m(compute_reachable pid=1160917)\u001b[0m rip 46\n"
     ]
    },
    {
     "name": "stderr",
     "output_type": "stream",
     "text": [
      "\u001b[33m(raylet)\u001b[0m [2024-10-16 22:45:26,079 E 1160808 1160842] (raylet) file_system_monitor.cc:111: /tmp/ray/session_2024-10-16_22-07-03_931002_1158973 is over 95% full, available space: 5981454336; capacity: 185064833024. Object creation will fail if spilling is required.\n"
     ]
    },
    {
     "name": "stdout",
     "output_type": "stream",
     "text": [
      "\u001b[36m(compute_reachable pid=1160926)\u001b[0m rip 28\u001b[32m [repeated 4x across cluster]\u001b[0m\n",
      "\u001b[36m(compute_reachable pid=1160926)\u001b[0m rip 14\u001b[32m [repeated 6x across cluster]\u001b[0m\n"
     ]
    },
    {
     "name": "stderr",
     "output_type": "stream",
     "text": [
      "\u001b[33m(raylet)\u001b[0m [2024-10-16 22:45:36,085 E 1160808 1160842] (raylet) file_system_monitor.cc:111: /tmp/ray/session_2024-10-16_22-07-03_931002_1158973 is over 95% full, available space: 5981454336; capacity: 185064833024. Object creation will fail if spilling is required.\n"
     ]
    },
    {
     "name": "stdout",
     "output_type": "stream",
     "text": [
      "\u001b[36m(compute_reachable pid=1160919)\u001b[0m rip 12\u001b[32m [repeated 4x across cluster]\u001b[0m\n"
     ]
    },
    {
     "name": "stderr",
     "output_type": "stream",
     "text": [
      "\u001b[33m(raylet)\u001b[0m [2024-10-16 22:45:46,091 E 1160808 1160842] (raylet) file_system_monitor.cc:111: /tmp/ray/session_2024-10-16_22-07-03_931002_1158973 is over 95% full, available space: 5981454336; capacity: 185064833024. Object creation will fail if spilling is required.\n"
     ]
    },
    {
     "name": "stdout",
     "output_type": "stream",
     "text": [
      "\u001b[36m(compute_reachable pid=1160927)\u001b[0m rip 30\u001b[32m [repeated 2x across cluster]\u001b[0m\n"
     ]
    },
    {
     "name": "stderr",
     "output_type": "stream",
     "text": [
      "\u001b[33m(raylet)\u001b[0m [2024-10-16 22:45:56,097 E 1160808 1160842] (raylet) file_system_monitor.cc:111: /tmp/ray/session_2024-10-16_22-07-03_931002_1158973 is over 95% full, available space: 5981450240; capacity: 185064833024. Object creation will fail if spilling is required.\n"
     ]
    },
    {
     "name": "stdout",
     "output_type": "stream",
     "text": [
      "\u001b[36m(compute_reachable pid=1160927)\u001b[0m rip 12\u001b[32m [repeated 4x across cluster]\u001b[0m\n",
      "\u001b[36m(compute_reachable pid=1160930)\u001b[0m rip 44\u001b[32m [repeated 3x across cluster]\u001b[0m\n"
     ]
    },
    {
     "name": "stderr",
     "output_type": "stream",
     "text": [
      "\u001b[33m(raylet)\u001b[0m [2024-10-16 22:46:06,103 E 1160808 1160842] (raylet) file_system_monitor.cc:111: /tmp/ray/session_2024-10-16_22-07-03_931002_1158973 is over 95% full, available space: 5981413376; capacity: 185064833024. Object creation will fail if spilling is required.\n"
     ]
    },
    {
     "name": "stdout",
     "output_type": "stream",
     "text": [
      "\u001b[36m(compute_reachable pid=1160922)\u001b[0m rip 30\n",
      "\u001b[36m(compute_reachable pid=1160933)\u001b[0m rip 28\n",
      "\u001b[36m(compute_reachable pid=1160931)\u001b[0m rip 44\u001b[32m [repeated 3x across cluster]\u001b[0m\n"
     ]
    },
    {
     "name": "stderr",
     "output_type": "stream",
     "text": [
      "\u001b[33m(raylet)\u001b[0m [2024-10-16 22:46:16,109 E 1160808 1160842] (raylet) file_system_monitor.cc:111: /tmp/ray/session_2024-10-16_22-07-03_931002_1158973 is over 95% full, available space: 5981323264; capacity: 185064833024. Object creation will fail if spilling is required.\n",
      "\u001b[33m(raylet)\u001b[0m [2024-10-16 22:46:26,114 E 1160808 1160842] (raylet) file_system_monitor.cc:111: /tmp/ray/session_2024-10-16_22-07-03_931002_1158973 is over 95% full, available space: 5981319168; capacity: 185064833024. Object creation will fail if spilling is required.\n",
      "\u001b[33m(raylet)\u001b[0m [2024-10-16 22:46:36,120 E 1160808 1160842] (raylet) file_system_monitor.cc:111: /tmp/ray/session_2024-10-16_22-07-03_931002_1158973 is over 95% full, available space: 5981315072; capacity: 185064833024. Object creation will fail if spilling is required.\n"
     ]
    },
    {
     "name": "stdout",
     "output_type": "stream",
     "text": [
      "\u001b[36m(compute_reachable pid=1160918)\u001b[0m rip 30\n"
     ]
    },
    {
     "name": "stderr",
     "output_type": "stream",
     "text": [
      "\u001b[33m(raylet)\u001b[0m [2024-10-16 22:46:46,126 E 1160808 1160842] (raylet) file_system_monitor.cc:111: /tmp/ray/session_2024-10-16_22-07-03_931002_1158973 is over 95% full, available space: 5981310976; capacity: 185064833024. Object creation will fail if spilling is required.\n"
     ]
    },
    {
     "name": "stdout",
     "output_type": "stream",
     "text": [
      "\u001b[36m(compute_reachable pid=1160923)\u001b[0m rip 57\n"
     ]
    },
    {
     "name": "stderr",
     "output_type": "stream",
     "text": [
      "\u001b[33m(raylet)\u001b[0m [2024-10-16 22:46:56,131 E 1160808 1160842] (raylet) file_system_monitor.cc:111: /tmp/ray/session_2024-10-16_22-07-03_931002_1158973 is over 95% full, available space: 5981306880; capacity: 185064833024. Object creation will fail if spilling is required.\n"
     ]
    },
    {
     "name": "stdout",
     "output_type": "stream",
     "text": [
      "\u001b[36m(compute_reachable pid=1160926)\u001b[0m rip 28\u001b[32m [repeated 5x across cluster]\u001b[0m\n"
     ]
    },
    {
     "name": "stderr",
     "output_type": "stream",
     "text": [
      "\u001b[33m(raylet)\u001b[0m [2024-10-16 22:47:06,137 E 1160808 1160842] (raylet) file_system_monitor.cc:111: /tmp/ray/session_2024-10-16_22-07-03_931002_1158973 is over 95% full, available space: 5981270016; capacity: 185064833024. Object creation will fail if spilling is required.\n"
     ]
    },
    {
     "name": "stdout",
     "output_type": "stream",
     "text": [
      "\u001b[36m(compute_reachable pid=1160919)\u001b[0m rip 46\n",
      "\u001b[36m(compute_reachable pid=1160915)\u001b[0m rip 57\n"
     ]
    },
    {
     "name": "stderr",
     "output_type": "stream",
     "text": [
      "\u001b[33m(raylet)\u001b[0m [2024-10-16 22:47:16,143 E 1160808 1160842] (raylet) file_system_monitor.cc:111: /tmp/ray/session_2024-10-16_22-07-03_931002_1158973 is over 95% full, available space: 5981093888; capacity: 185064833024. Object creation will fail if spilling is required.\n"
     ]
    },
    {
     "name": "stdout",
     "output_type": "stream",
     "text": [
      "\u001b[36m(compute_reachable pid=1160934)\u001b[0m rip 46\n",
      "\u001b[36m(compute_reachable pid=1160925)\u001b[0m rip 42\n"
     ]
    },
    {
     "name": "stderr",
     "output_type": "stream",
     "text": [
      "\u001b[33m(raylet)\u001b[0m [2024-10-16 22:47:26,149 E 1160808 1160842] (raylet) file_system_monitor.cc:111: /tmp/ray/session_2024-10-16_22-07-03_931002_1158973 is over 95% full, available space: 5981093888; capacity: 185064833024. Object creation will fail if spilling is required.\n"
     ]
    },
    {
     "name": "stdout",
     "output_type": "stream",
     "text": [
      "\u001b[36m(compute_reachable pid=1160916)\u001b[0m rip 37\u001b[32m [repeated 3x across cluster]\u001b[0m\n",
      "\u001b[36m(compute_reachable pid=1160920)\u001b[0m rip 30\u001b[32m [repeated 7x across cluster]\u001b[0m\n"
     ]
    },
    {
     "name": "stderr",
     "output_type": "stream",
     "text": [
      "\u001b[33m(raylet)\u001b[0m [2024-10-16 22:47:36,154 E 1160808 1160842] (raylet) file_system_monitor.cc:111: /tmp/ray/session_2024-10-16_22-07-03_931002_1158973 is over 95% full, available space: 5981089792; capacity: 185064833024. Object creation will fail if spilling is required.\n"
     ]
    },
    {
     "name": "stdout",
     "output_type": "stream",
     "text": [
      "\u001b[36m(compute_reachable pid=1160932)\u001b[0m rip 30\u001b[32m [repeated 4x across cluster]\u001b[0m\n",
      "\u001b[36m(compute_reachable pid=1160922)\u001b[0m rip 10\u001b[32m [repeated 4x across cluster]\u001b[0m\n"
     ]
    },
    {
     "name": "stderr",
     "output_type": "stream",
     "text": [
      "\u001b[33m(raylet)\u001b[0m [2024-10-16 22:47:46,160 E 1160808 1160842] (raylet) file_system_monitor.cc:111: /tmp/ray/session_2024-10-16_22-07-03_931002_1158973 is over 95% full, available space: 5981089792; capacity: 185064833024. Object creation will fail if spilling is required.\n",
      "\u001b[33m(raylet)\u001b[0m [2024-10-16 22:47:56,167 E 1160808 1160842] (raylet) file_system_monitor.cc:111: /tmp/ray/session_2024-10-16_22-07-03_931002_1158973 is over 95% full, available space: 5981089792; capacity: 185064833024. Object creation will fail if spilling is required.\n"
     ]
    },
    {
     "name": "stdout",
     "output_type": "stream",
     "text": [
      "\u001b[36m(compute_reachable pid=1160918)\u001b[0m rip 42\n",
      "\u001b[36m(compute_reachable pid=1160917)\u001b[0m rip 46\n"
     ]
    },
    {
     "name": "stderr",
     "output_type": "stream",
     "text": [
      "\u001b[33m(raylet)\u001b[0m [2024-10-16 22:48:06,173 E 1160808 1160842] (raylet) file_system_monitor.cc:111: /tmp/ray/session_2024-10-16_22-07-03_931002_1158973 is over 95% full, available space: 5981048832; capacity: 185064833024. Object creation will fail if spilling is required.\n"
     ]
    },
    {
     "name": "stdout",
     "output_type": "stream",
     "text": [
      "\u001b[36m(compute_reachable pid=1160918)\u001b[0m rip 23\u001b[32m [repeated 6x across cluster]\u001b[0m\n",
      "\u001b[36m(compute_reachable pid=1160915)\u001b[0m rip 37\u001b[32m [repeated 2x across cluster]\u001b[0m\n"
     ]
    },
    {
     "name": "stderr",
     "output_type": "stream",
     "text": [
      "\u001b[33m(raylet)\u001b[0m [2024-10-16 22:48:16,179 E 1160808 1160842] (raylet) file_system_monitor.cc:111: /tmp/ray/session_2024-10-16_22-07-03_931002_1158973 is over 95% full, available space: 5980958720; capacity: 185064833024. Object creation will fail if spilling is required.\n"
     ]
    },
    {
     "name": "stdout",
     "output_type": "stream",
     "text": [
      "\u001b[36m(compute_reachable pid=1160916)\u001b[0m rip 46\u001b[32m [repeated 6x across cluster]\u001b[0m\n"
     ]
    },
    {
     "name": "stderr",
     "output_type": "stream",
     "text": [
      "\u001b[33m(raylet)\u001b[0m [2024-10-16 22:48:26,185 E 1160808 1160842] (raylet) file_system_monitor.cc:111: /tmp/ray/session_2024-10-16_22-07-03_931002_1158973 is over 95% full, available space: 5980954624; capacity: 185064833024. Object creation will fail if spilling is required.\n"
     ]
    },
    {
     "name": "stdout",
     "output_type": "stream",
     "text": [
      "\u001b[36m(compute_reachable pid=1160931)\u001b[0m rip 37\u001b[32m [repeated 9x across cluster]\u001b[0m\n"
     ]
    },
    {
     "name": "stderr",
     "output_type": "stream",
     "text": [
      "\u001b[33m(raylet)\u001b[0m [2024-10-16 22:48:36,191 E 1160808 1160842] (raylet) file_system_monitor.cc:111: /tmp/ray/session_2024-10-16_22-07-03_931002_1158973 is over 95% full, available space: 5980950528; capacity: 185064833024. Object creation will fail if spilling is required.\n"
     ]
    },
    {
     "name": "stdout",
     "output_type": "stream",
     "text": [
      "\u001b[36m(compute_reachable pid=1160934)\u001b[0m rip 44\u001b[32m [repeated 5x across cluster]\u001b[0m\n"
     ]
    },
    {
     "name": "stderr",
     "output_type": "stream",
     "text": [
      "\u001b[33m(raylet)\u001b[0m [2024-10-16 22:48:46,197 E 1160808 1160842] (raylet) file_system_monitor.cc:111: /tmp/ray/session_2024-10-16_22-07-03_931002_1158973 is over 95% full, available space: 5980946432; capacity: 185064833024. Object creation will fail if spilling is required.\n"
     ]
    },
    {
     "name": "stdout",
     "output_type": "stream",
     "text": [
      "\u001b[36m(compute_reachable pid=1160916)\u001b[0m rip 28\u001b[32m [repeated 2x across cluster]\u001b[0m\n"
     ]
    },
    {
     "name": "stderr",
     "output_type": "stream",
     "text": [
      "\u001b[33m(raylet)\u001b[0m [2024-10-16 22:48:56,203 E 1160808 1160842] (raylet) file_system_monitor.cc:111: /tmp/ray/session_2024-10-16_22-07-03_931002_1158973 is over 95% full, available space: 5980942336; capacity: 185064833024. Object creation will fail if spilling is required.\n"
     ]
    },
    {
     "name": "stdout",
     "output_type": "stream",
     "text": [
      "\u001b[36m(compute_reachable pid=1160932)\u001b[0m rip 28\u001b[32m [repeated 4x across cluster]\u001b[0m\n"
     ]
    },
    {
     "name": "stderr",
     "output_type": "stream",
     "text": [
      "\u001b[33m(raylet)\u001b[0m [2024-10-16 22:49:06,209 E 1160808 1160842] (raylet) file_system_monitor.cc:111: /tmp/ray/session_2024-10-16_22-07-03_931002_1158973 is over 95% full, available space: 5980909568; capacity: 185064833024. Object creation will fail if spilling is required.\n"
     ]
    },
    {
     "name": "stdout",
     "output_type": "stream",
     "text": [
      "\u001b[36m(compute_reachable pid=1160922)\u001b[0m rip 44\u001b[32m [repeated 11x across cluster]\u001b[0m\n"
     ]
    },
    {
     "name": "stderr",
     "output_type": "stream",
     "text": [
      "\u001b[33m(raylet)\u001b[0m [2024-10-16 22:49:16,215 E 1160808 1160842] (raylet) file_system_monitor.cc:111: /tmp/ray/session_2024-10-16_22-07-03_931002_1158973 is over 95% full, available space: 5980737536; capacity: 185064833024. Object creation will fail if spilling is required.\n"
     ]
    },
    {
     "name": "stdout",
     "output_type": "stream",
     "text": [
      "\u001b[36m(compute_reachable pid=1160916)\u001b[0m rip 46\u001b[32m [repeated 3x across cluster]\u001b[0m\n",
      "\u001b[36m(compute_reachable pid=1160931)\u001b[0m rip 37\u001b[32m [repeated 8x across cluster]\u001b[0m\n"
     ]
    },
    {
     "name": "stderr",
     "output_type": "stream",
     "text": [
      "\u001b[33m(raylet)\u001b[0m [2024-10-16 22:49:26,221 E 1160808 1160842] (raylet) file_system_monitor.cc:111: /tmp/ray/session_2024-10-16_22-07-03_931002_1158973 is over 95% full, available space: 5980733440; capacity: 185064833024. Object creation will fail if spilling is required.\n"
     ]
    },
    {
     "name": "stdout",
     "output_type": "stream",
     "text": [
      "\u001b[36m(compute_reachable pid=1160922)\u001b[0m rip 38\u001b[32m [repeated 3x across cluster]\u001b[0m\n"
     ]
    },
    {
     "name": "stderr",
     "output_type": "stream",
     "text": [
      "\u001b[33m(raylet)\u001b[0m [2024-10-16 22:49:36,227 E 1160808 1160842] (raylet) file_system_monitor.cc:111: /tmp/ray/session_2024-10-16_22-07-03_931002_1158973 is over 95% full, available space: 5980733440; capacity: 185064833024. Object creation will fail if spilling is required.\n"
     ]
    },
    {
     "name": "stdout",
     "output_type": "stream",
     "text": [
      "\u001b[36m(compute_reachable pid=1160926)\u001b[0m rip 28\u001b[32m [repeated 6x across cluster]\u001b[0m\n"
     ]
    },
    {
     "name": "stderr",
     "output_type": "stream",
     "text": [
      "\u001b[33m(raylet)\u001b[0m [2024-10-16 22:49:46,233 E 1160808 1160842] (raylet) file_system_monitor.cc:111: /tmp/ray/session_2024-10-16_22-07-03_931002_1158973 is over 95% full, available space: 5980733440; capacity: 185064833024. Object creation will fail if spilling is required.\n"
     ]
    },
    {
     "name": "stdout",
     "output_type": "stream",
     "text": [
      "\u001b[36m(compute_reachable pid=1160919)\u001b[0m rip 46\n",
      "\u001b[36m(compute_reachable pid=1160918)\u001b[0m rip 42\n"
     ]
    },
    {
     "name": "stderr",
     "output_type": "stream",
     "text": [
      "\u001b[33m(raylet)\u001b[0m [2024-10-16 22:49:56,240 E 1160808 1160842] (raylet) file_system_monitor.cc:111: /tmp/ray/session_2024-10-16_22-07-03_931002_1158973 is over 95% full, available space: 5980729344; capacity: 185064833024. Object creation will fail if spilling is required.\n"
     ]
    },
    {
     "name": "stdout",
     "output_type": "stream",
     "text": [
      "\u001b[36m(compute_reachable pid=1160926)\u001b[0m rip 42\u001b[32m [repeated 7x across cluster]\u001b[0m\n",
      "\u001b[36m(compute_reachable pid=1160934)\u001b[0m rip 44\n",
      "\u001b[36m(compute_reachable pid=1160925)\u001b[0m rip 30\n"
     ]
    },
    {
     "name": "stderr",
     "output_type": "stream",
     "text": [
      "\u001b[33m(raylet)\u001b[0m [2024-10-16 22:50:06,246 E 1160808 1160842] (raylet) file_system_monitor.cc:111: /tmp/ray/session_2024-10-16_22-07-03_931002_1158973 is over 95% full, available space: 5980684288; capacity: 185064833024. Object creation will fail if spilling is required.\n"
     ]
    },
    {
     "name": "stdout",
     "output_type": "stream",
     "text": [
      "\u001b[36m(compute_reachable pid=1160916)\u001b[0m rip 28\u001b[32m [repeated 4x across cluster]\u001b[0m\n",
      "\u001b[36m(compute_reachable pid=1160932)\u001b[0m rip 30\u001b[32m [repeated 3x across cluster]\u001b[0m\n"
     ]
    },
    {
     "name": "stderr",
     "output_type": "stream",
     "text": [
      "\u001b[33m(raylet)\u001b[0m [2024-10-16 22:50:16,252 E 1160808 1160842] (raylet) file_system_monitor.cc:111: /tmp/ray/session_2024-10-16_22-07-03_931002_1158973 is over 95% full, available space: 5980590080; capacity: 185064833024. Object creation will fail if spilling is required.\n"
     ]
    },
    {
     "name": "stdout",
     "output_type": "stream",
     "text": [
      "\u001b[36m(compute_reachable pid=1160931)\u001b[0m rip 57\u001b[32m [repeated 7x across cluster]\u001b[0m\n"
     ]
    },
    {
     "name": "stderr",
     "output_type": "stream",
     "text": [
      "\u001b[33m(raylet)\u001b[0m [2024-10-16 22:50:26,258 E 1160808 1160842] (raylet) file_system_monitor.cc:111: /tmp/ray/session_2024-10-16_22-07-03_931002_1158973 is over 95% full, available space: 5980590080; capacity: 185064833024. Object creation will fail if spilling is required.\n"
     ]
    },
    {
     "name": "stdout",
     "output_type": "stream",
     "text": [
      "\u001b[36m(compute_reachable pid=1160922)\u001b[0m rip 44\u001b[32m [repeated 7x across cluster]\u001b[0m\n"
     ]
    },
    {
     "name": "stderr",
     "output_type": "stream",
     "text": [
      "\u001b[33m(raylet)\u001b[0m [2024-10-16 22:50:36,265 E 1160808 1160842] (raylet) file_system_monitor.cc:111: /tmp/ray/session_2024-10-16_22-07-03_931002_1158973 is over 95% full, available space: 5980590080; capacity: 185064833024. Object creation will fail if spilling is required.\n"
     ]
    },
    {
     "name": "stdout",
     "output_type": "stream",
     "text": [
      "\u001b[36m(compute_reachable pid=1160918)\u001b[0m rip 30\u001b[32m [repeated 2x across cluster]\u001b[0m\n"
     ]
    },
    {
     "name": "stderr",
     "output_type": "stream",
     "text": [
      "\u001b[33m(raylet)\u001b[0m [2024-10-16 22:50:46,271 E 1160808 1160842] (raylet) file_system_monitor.cc:111: /tmp/ray/session_2024-10-16_22-07-03_931002_1158973 is over 95% full, available space: 5980585984; capacity: 185064833024. Object creation will fail if spilling is required.\n"
     ]
    },
    {
     "name": "stdout",
     "output_type": "stream",
     "text": [
      "\u001b[36m(compute_reachable pid=1160923)\u001b[0m rip 28\u001b[32m [repeated 2x across cluster]\u001b[0m\n"
     ]
    },
    {
     "name": "stderr",
     "output_type": "stream",
     "text": [
      "\u001b[33m(raylet)\u001b[0m [2024-10-16 22:50:56,278 E 1160808 1160842] (raylet) file_system_monitor.cc:111: /tmp/ray/session_2024-10-16_22-07-03_931002_1158973 is over 95% full, available space: 5980581888; capacity: 185064833024. Object creation will fail if spilling is required.\n",
      "\u001b[33m(raylet)\u001b[0m [2024-10-16 22:51:06,284 E 1160808 1160842] (raylet) file_system_monitor.cc:111: /tmp/ray/session_2024-10-16_22-07-03_931002_1158973 is over 95% full, available space: 5980504064; capacity: 185064833024. Object creation will fail if spilling is required.\n"
     ]
    },
    {
     "name": "stdout",
     "output_type": "stream",
     "text": [
      "\u001b[36m(compute_reachable pid=1160926)\u001b[0m rip 28\u001b[32m [repeated 5x across cluster]\u001b[0m\n",
      "\u001b[36m(compute_reachable pid=1160919)\u001b[0m rip 46\n",
      "\u001b[36m(compute_reachable pid=1160915)\u001b[0m rip 57\n"
     ]
    },
    {
     "name": "stderr",
     "output_type": "stream",
     "text": [
      "\u001b[33m(raylet)\u001b[0m [2024-10-16 22:51:16,290 E 1160808 1160842] (raylet) file_system_monitor.cc:111: /tmp/ray/session_2024-10-16_22-07-03_931002_1158973 is over 95% full, available space: 5980381184; capacity: 185064833024. Object creation will fail if spilling is required.\n",
      "\u001b[33m(raylet)\u001b[0m [2024-10-16 22:51:26,296 E 1160808 1160842] (raylet) file_system_monitor.cc:111: /tmp/ray/session_2024-10-16_22-07-03_931002_1158973 is over 95% full, available space: 5980377088; capacity: 185064833024. Object creation will fail if spilling is required.\n"
     ]
    },
    {
     "name": "stdout",
     "output_type": "stream",
     "text": [
      "\u001b[36m(compute_reachable pid=1160934)\u001b[0m rip 44\n",
      "\u001b[36m(compute_reachable pid=1160925)\u001b[0m rip 30\n",
      "\u001b[36m(compute_reachable pid=1160927)\u001b[0m rip 28\n"
     ]
    },
    {
     "name": "stderr",
     "output_type": "stream",
     "text": [
      "\u001b[33m(raylet)\u001b[0m [2024-10-16 22:51:36,302 E 1160808 1160842] (raylet) file_system_monitor.cc:111: /tmp/ray/session_2024-10-16_22-07-03_931002_1158973 is over 95% full, available space: 5980368896; capacity: 185064833024. Object creation will fail if spilling is required.\n"
     ]
    },
    {
     "name": "stdout",
     "output_type": "stream",
     "text": [
      "\u001b[36m(compute_reachable pid=1160916)\u001b[0m rip 46\n"
     ]
    },
    {
     "name": "stderr",
     "output_type": "stream",
     "text": [
      "\u001b[33m(raylet)\u001b[0m [2024-10-16 22:51:46,308 E 1160808 1160842] (raylet) file_system_monitor.cc:111: /tmp/ray/session_2024-10-16_22-07-03_931002_1158973 is over 95% full, available space: 5980368896; capacity: 185064833024. Object creation will fail if spilling is required.\n"
     ]
    },
    {
     "name": "stdout",
     "output_type": "stream",
     "text": [
      "\u001b[36m(compute_reachable pid=1160928)\u001b[0m rip 28\u001b[32m [repeated 4x across cluster]\u001b[0m\n"
     ]
    },
    {
     "name": "stderr",
     "output_type": "stream",
     "text": [
      "\u001b[33m(raylet)\u001b[0m [2024-10-16 22:51:56,315 E 1160808 1160842] (raylet) file_system_monitor.cc:111: /tmp/ray/session_2024-10-16_22-07-03_931002_1158973 is over 95% full, available space: 5980368896; capacity: 185064833024. Object creation will fail if spilling is required.\n"
     ]
    },
    {
     "name": "stdout",
     "output_type": "stream",
     "text": [
      "\u001b[36m(compute_reachable pid=1160922)\u001b[0m rip 44\u001b[32m [repeated 3x across cluster]\u001b[0m\n"
     ]
    },
    {
     "name": "stderr",
     "output_type": "stream",
     "text": [
      "\u001b[33m(raylet)\u001b[0m [2024-10-16 22:52:06,321 E 1160808 1160842] (raylet) file_system_monitor.cc:111: /tmp/ray/session_2024-10-16_22-07-03_931002_1158973 is over 95% full, available space: 5980258304; capacity: 185064833024. Object creation will fail if spilling is required.\n"
     ]
    },
    {
     "name": "stdout",
     "output_type": "stream",
     "text": [
      "\u001b[36m(compute_reachable pid=1160923)\u001b[0m rip 46\n",
      "\u001b[36m(compute_reachable pid=1160929)\u001b[0m rip 42\n"
     ]
    },
    {
     "name": "stderr",
     "output_type": "stream",
     "text": [
      "\u001b[33m(raylet)\u001b[0m [2024-10-16 22:52:16,327 E 1160808 1160842] (raylet) file_system_monitor.cc:111: /tmp/ray/session_2024-10-16_22-07-03_931002_1158973 is over 95% full, available space: 5980229632; capacity: 185064833024. Object creation will fail if spilling is required.\n"
     ]
    },
    {
     "name": "stdout",
     "output_type": "stream",
     "text": [
      "\u001b[36m(compute_reachable pid=1160917)\u001b[0m rip 16\u001b[32m [repeated 7x across cluster]\u001b[0m\n",
      "\u001b[36m(compute_reachable pid=1160926)\u001b[0m rip 23\u001b[32m [repeated 4x across cluster]\u001b[0m\n"
     ]
    },
    {
     "name": "stderr",
     "output_type": "stream",
     "text": [
      "\u001b[33m(raylet)\u001b[0m [2024-10-16 22:52:26,333 E 1160808 1160842] (raylet) file_system_monitor.cc:111: /tmp/ray/session_2024-10-16_22-07-03_931002_1158973 is over 95% full, available space: 5980225536; capacity: 185064833024. Object creation will fail if spilling is required.\n"
     ]
    },
    {
     "name": "stdout",
     "output_type": "stream",
     "text": [
      "\u001b[36m(compute_reachable pid=1160915)\u001b[0m rip 34\u001b[32m [repeated 3x across cluster]\u001b[0m\n"
     ]
    },
    {
     "name": "stderr",
     "output_type": "stream",
     "text": [
      "\u001b[33m(raylet)\u001b[0m [2024-10-16 22:52:36,339 E 1160808 1160842] (raylet) file_system_monitor.cc:111: /tmp/ray/session_2024-10-16_22-07-03_931002_1158973 is over 95% full, available space: 5980225536; capacity: 185064833024. Object creation will fail if spilling is required.\n"
     ]
    },
    {
     "name": "stdout",
     "output_type": "stream",
     "text": [
      "\u001b[36m(compute_reachable pid=1160916)\u001b[0m rip 42\u001b[32m [repeated 5x across cluster]\u001b[0m\n",
      "\u001b[36m(compute_reachable pid=1160920)\u001b[0m rip 38\u001b[32m [repeated 4x across cluster]\u001b[0m\n"
     ]
    },
    {
     "name": "stderr",
     "output_type": "stream",
     "text": [
      "\u001b[33m(raylet)\u001b[0m [2024-10-16 22:52:46,345 E 1160808 1160842] (raylet) file_system_monitor.cc:111: /tmp/ray/session_2024-10-16_22-07-03_931002_1158973 is over 95% full, available space: 5980221440; capacity: 185064833024. Object creation will fail if spilling is required.\n"
     ]
    },
    {
     "name": "stdout",
     "output_type": "stream",
     "text": [
      "\u001b[36m(compute_reachable pid=1160927)\u001b[0m rip 28\u001b[32m [repeated 5x across cluster]\u001b[0m\n"
     ]
    },
    {
     "name": "stderr",
     "output_type": "stream",
     "text": [
      "\u001b[33m(raylet)\u001b[0m [2024-10-16 22:52:56,351 E 1160808 1160842] (raylet) file_system_monitor.cc:111: /tmp/ray/session_2024-10-16_22-07-03_931002_1158973 is over 95% full, available space: 5980217344; capacity: 185064833024. Object creation will fail if spilling is required.\n"
     ]
    },
    {
     "name": "stdout",
     "output_type": "stream",
     "text": [
      "\u001b[36m(compute_reachable pid=1160920)\u001b[0m rip 41\u001b[32m [repeated 4x across cluster]\u001b[0m\n",
      "\u001b[36m(compute_reachable pid=1160929)\u001b[0m rip 42\u001b[32m [repeated 4x across cluster]\u001b[0m\n"
     ]
    },
    {
     "name": "stderr",
     "output_type": "stream",
     "text": [
      "\u001b[33m(raylet)\u001b[0m [2024-10-16 22:53:06,357 E 1160808 1160842] (raylet) file_system_monitor.cc:111: /tmp/ray/session_2024-10-16_22-07-03_931002_1158973 is over 95% full, available space: 5980041216; capacity: 185064833024. Object creation will fail if spilling is required.\n"
     ]
    },
    {
     "name": "stdout",
     "output_type": "stream",
     "text": [
      "\u001b[36m(compute_reachable pid=1160918)\u001b[0m rip 42\u001b[32m [repeated 7x across cluster]\u001b[0m\n"
     ]
    },
    {
     "name": "stderr",
     "output_type": "stream",
     "text": [
      "\u001b[33m(raylet)\u001b[0m [2024-10-16 22:53:16,363 E 1160808 1160842] (raylet) file_system_monitor.cc:111: /tmp/ray/session_2024-10-16_22-07-03_931002_1158973 is over 95% full, available space: 5980020736; capacity: 185064833024. Object creation will fail if spilling is required.\n"
     ]
    },
    {
     "name": "stdout",
     "output_type": "stream",
     "text": [
      "\u001b[36m(compute_reachable pid=1160915)\u001b[0m rip 42\n",
      "\u001b[36m(compute_reachable pid=1160919)\u001b[0m rip 37\n"
     ]
    },
    {
     "name": "stderr",
     "output_type": "stream",
     "text": [
      "\u001b[33m(raylet)\u001b[0m [2024-10-16 22:53:26,369 E 1160808 1160842] (raylet) file_system_monitor.cc:111: /tmp/ray/session_2024-10-16_22-07-03_931002_1158973 is over 95% full, available space: 5980016640; capacity: 185064833024. Object creation will fail if spilling is required.\n"
     ]
    },
    {
     "name": "stdout",
     "output_type": "stream",
     "text": [
      "\u001b[36m(compute_reachable pid=1160929)\u001b[0m rip 46\u001b[32m [repeated 2x across cluster]\u001b[0m\n",
      "\u001b[36m(compute_reachable pid=1160921)\u001b[0m rip 44\u001b[32m [repeated 9x across cluster]\u001b[0m\n"
     ]
    },
    {
     "name": "stderr",
     "output_type": "stream",
     "text": [
      "\u001b[33m(raylet)\u001b[0m [2024-10-16 22:53:36,378 E 1160808 1160842] (raylet) file_system_monitor.cc:111: /tmp/ray/session_2024-10-16_22-07-03_931002_1158973 is over 95% full, available space: 5980012544; capacity: 185064833024. Object creation will fail if spilling is required.\n"
     ]
    },
    {
     "name": "stdout",
     "output_type": "stream",
     "text": [
      "\u001b[36m(compute_reachable pid=1160931)\u001b[0m rip 37\u001b[32m [repeated 7x across cluster]\u001b[0m\n",
      "\u001b[36m(compute_reachable pid=1160915)\u001b[0m rip 46\n"
     ]
    },
    {
     "name": "stderr",
     "output_type": "stream",
     "text": [
      "\u001b[33m(raylet)\u001b[0m [2024-10-16 22:53:46,384 E 1160808 1160842] (raylet) file_system_monitor.cc:111: /tmp/ray/session_2024-10-16_22-07-03_931002_1158973 is over 95% full, available space: 5980008448; capacity: 185064833024. Object creation will fail if spilling is required.\n"
     ]
    },
    {
     "name": "stdout",
     "output_type": "stream",
     "text": [
      "\u001b[36m(compute_reachable pid=1160919)\u001b[0m rip 57\n",
      "\u001b[36m(compute_reachable pid=1160918)\u001b[0m rip 46\n"
     ]
    },
    {
     "name": "stderr",
     "output_type": "stream",
     "text": [
      "\u001b[33m(raylet)\u001b[0m [2024-10-16 22:53:56,391 E 1160808 1160842] (raylet) file_system_monitor.cc:111: /tmp/ray/session_2024-10-16_22-07-03_931002_1158973 is over 95% full, available space: 5980008448; capacity: 185064833024. Object creation will fail if spilling is required.\n"
     ]
    },
    {
     "name": "stdout",
     "output_type": "stream",
     "text": [
      "\u001b[36m(compute_reachable pid=1160923)\u001b[0m rip 42\n",
      "\u001b[36m(compute_reachable pid=1160927)\u001b[0m rip 28\u001b[32m [repeated 9x across cluster]\u001b[0m\n"
     ]
    },
    {
     "name": "stderr",
     "output_type": "stream",
     "text": [
      "\u001b[33m(raylet)\u001b[0m [2024-10-16 22:54:06,397 E 1160808 1160842] (raylet) file_system_monitor.cc:111: /tmp/ray/session_2024-10-16_22-07-03_931002_1158973 is over 95% full, available space: 5979885568; capacity: 185064833024. Object creation will fail if spilling is required.\n"
     ]
    },
    {
     "name": "stdout",
     "output_type": "stream",
     "text": [
      "\u001b[36m(compute_reachable pid=1160915)\u001b[0m rip 43\u001b[32m [repeated 4x across cluster]\u001b[0m\n",
      "\u001b[36m(compute_reachable pid=1160933)\u001b[0m rip 46\u001b[32m [repeated 3x across cluster]\u001b[0m\n"
     ]
    },
    {
     "name": "stderr",
     "output_type": "stream",
     "text": [
      "\u001b[33m(raylet)\u001b[0m [2024-10-16 22:54:16,403 E 1160808 1160842] (raylet) file_system_monitor.cc:111: /tmp/ray/session_2024-10-16_22-07-03_931002_1158973 is over 95% full, available space: 5979865088; capacity: 185064833024. Object creation will fail if spilling is required.\n"
     ]
    },
    {
     "name": "stdout",
     "output_type": "stream",
     "text": [
      "\u001b[36m(compute_reachable pid=1160925)\u001b[0m rip 39\u001b[32m [repeated 3x across cluster]\u001b[0m\n",
      "\u001b[36m(compute_reachable pid=1160932)\u001b[0m 38\n",
      "\u001b[36m(compute_reachable pid=1160932)\u001b[0m \n",
      "\u001b[36m(compute_reachable pid=1160930)\u001b[0m rip 39\u001b[32m [repeated 5x across cluster]\u001b[0m\n"
     ]
    },
    {
     "name": "stderr",
     "output_type": "stream",
     "text": [
      "\u001b[33m(raylet)\u001b[0m [2024-10-16 22:54:26,409 E 1160808 1160842] (raylet) file_system_monitor.cc:111: /tmp/ray/session_2024-10-16_22-07-03_931002_1158973 is over 95% full, available space: 5979865088; capacity: 185064833024. Object creation will fail if spilling is required.\n"
     ]
    },
    {
     "name": "stdout",
     "output_type": "stream",
     "text": [
      "\u001b[36m(compute_reachable pid=1160931)\u001b[0m rip 35\u001b[32m [repeated 4x across cluster]\u001b[0m\n"
     ]
    },
    {
     "name": "stderr",
     "output_type": "stream",
     "text": [
      "\u001b[33m(raylet)\u001b[0m [2024-10-16 22:54:36,415 E 1160808 1160842] (raylet) file_system_monitor.cc:111: /tmp/ray/session_2024-10-16_22-07-03_931002_1158973 is over 95% full, available space: 5979856896; capacity: 185064833024. Object creation will fail if spilling is required.\n"
     ]
    },
    {
     "name": "stdout",
     "output_type": "stream",
     "text": [
      "\u001b[36m(compute_reachable pid=1160929)\u001b[0m rip 30\u001b[32m [repeated 2x across cluster]\u001b[0m\n",
      "\u001b[36m(compute_reachable pid=1160924)\u001b[0m rip 44\u001b[32m [repeated 4x across cluster]\u001b[0m\n"
     ]
    },
    {
     "name": "stderr",
     "output_type": "stream",
     "text": [
      "\u001b[33m(raylet)\u001b[0m [2024-10-16 22:54:46,421 E 1160808 1160842] (raylet) file_system_monitor.cc:111: /tmp/ray/session_2024-10-16_22-07-03_931002_1158973 is over 95% full, available space: 5979856896; capacity: 185064833024. Object creation will fail if spilling is required.\n"
     ]
    },
    {
     "name": "stdout",
     "output_type": "stream",
     "text": [
      "\u001b[36m(compute_reachable pid=1160923)\u001b[0m rip 29\u001b[32m [repeated 3x across cluster]\u001b[0m\n"
     ]
    },
    {
     "name": "stderr",
     "output_type": "stream",
     "text": [
      "\u001b[33m(raylet)\u001b[0m [2024-10-16 22:54:56,427 E 1160808 1160842] (raylet) file_system_monitor.cc:111: /tmp/ray/session_2024-10-16_22-07-03_931002_1158973 is over 95% full, available space: 5979856896; capacity: 185064833024. Object creation will fail if spilling is required.\n"
     ]
    },
    {
     "name": "stdout",
     "output_type": "stream",
     "text": [
      "\u001b[36m(compute_reachable pid=1160915)\u001b[0m rip 46\u001b[32m [repeated 8x across cluster]\u001b[0m\n",
      "\u001b[36m(compute_reachable pid=1160919)\u001b[0m rip 12\u001b[32m [repeated 3x across cluster]\u001b[0m\n"
     ]
    },
    {
     "name": "stderr",
     "output_type": "stream",
     "text": [
      "\u001b[33m(raylet)\u001b[0m [2024-10-16 22:55:06,433 E 1160808 1160842] (raylet) file_system_monitor.cc:111: /tmp/ray/session_2024-10-16_22-07-03_931002_1158973 is over 95% full, available space: 5979656192; capacity: 185064833024. Object creation will fail if spilling is required.\n"
     ]
    },
    {
     "name": "stdout",
     "output_type": "stream",
     "text": [
      "\u001b[36m(compute_reachable pid=1160925)\u001b[0m rip 44\n",
      "\u001b[36m(compute_reachable pid=1160934)\u001b[0m rip 30\n"
     ]
    },
    {
     "name": "stderr",
     "output_type": "stream",
     "text": [
      "\u001b[33m(raylet)\u001b[0m [2024-10-16 22:55:16,439 E 1160808 1160842] (raylet) file_system_monitor.cc:111: /tmp/ray/session_2024-10-16_22-07-03_931002_1158973 is over 95% full, available space: 5979656192; capacity: 185064833024. Object creation will fail if spilling is required.\n"
     ]
    },
    {
     "name": "stdout",
     "output_type": "stream",
     "text": [
      "\u001b[36m(compute_reachable pid=1160927)\u001b[0m rip 28\u001b[32m [repeated 3x across cluster]\u001b[0m\n",
      "\u001b[36m(compute_reachable pid=1160920)\u001b[0m rip 30\u001b[32m [repeated 4x across cluster]\u001b[0m\n"
     ]
    },
    {
     "name": "stderr",
     "output_type": "stream",
     "text": [
      "\u001b[33m(raylet)\u001b[0m [2024-10-16 22:55:26,445 E 1160808 1160842] (raylet) file_system_monitor.cc:111: /tmp/ray/session_2024-10-16_22-07-03_931002_1158973 is over 95% full, available space: 5979652096; capacity: 185064833024. Object creation will fail if spilling is required.\n"
     ]
    },
    {
     "name": "stdout",
     "output_type": "stream",
     "text": [
      "\u001b[36m(compute_reachable pid=1160933)\u001b[0m rip 28\n",
      "\u001b[36m(compute_reachable pid=1160928)\u001b[0m rip 46\n"
     ]
    },
    {
     "name": "stderr",
     "output_type": "stream",
     "text": [
      "\u001b[33m(raylet)\u001b[0m [2024-10-16 22:55:36,451 E 1160808 1160842] (raylet) file_system_monitor.cc:111: /tmp/ray/session_2024-10-16_22-07-03_931002_1158973 is over 95% full, available space: 5979648000; capacity: 185064833024. Object creation will fail if spilling is required.\n",
      "\u001b[33m(raylet)\u001b[0m [2024-10-16 22:55:46,457 E 1160808 1160842] (raylet) file_system_monitor.cc:111: /tmp/ray/session_2024-10-16_22-07-03_931002_1158973 is over 95% full, available space: 5979643904; capacity: 185064833024. Object creation will fail if spilling is required.\n"
     ]
    },
    {
     "name": "stdout",
     "output_type": "stream",
     "text": [
      "\u001b[36m(compute_reachable pid=1160929)\u001b[0m rip 30\u001b[32m [repeated 2x across cluster]\u001b[0m\n"
     ]
    },
    {
     "name": "stderr",
     "output_type": "stream",
     "text": [
      "\u001b[33m(raylet)\u001b[0m [2024-10-16 22:55:56,463 E 1160808 1160842] (raylet) file_system_monitor.cc:111: /tmp/ray/session_2024-10-16_22-07-03_931002_1158973 is over 95% full, available space: 5979639808; capacity: 185064833024. Object creation will fail if spilling is required.\n"
     ]
    },
    {
     "name": "stdout",
     "output_type": "stream",
     "text": [
      "\u001b[36m(compute_reachable pid=1160917)\u001b[0m rip 57\u001b[32m [repeated 3x across cluster]\u001b[0m\n"
     ]
    },
    {
     "name": "stderr",
     "output_type": "stream",
     "text": [
      "\u001b[33m(raylet)\u001b[0m [2024-10-16 22:56:06,469 E 1160808 1160842] (raylet) file_system_monitor.cc:111: /tmp/ray/session_2024-10-16_22-07-03_931002_1158973 is over 95% full, available space: 5979500544; capacity: 185064833024. Object creation will fail if spilling is required.\n"
     ]
    },
    {
     "name": "stdout",
     "output_type": "stream",
     "text": [
      "\u001b[36m(compute_reachable pid=1160926)\u001b[0m rip 29\u001b[32m [repeated 4x across cluster]\u001b[0m\n"
     ]
    },
    {
     "name": "stderr",
     "output_type": "stream",
     "text": [
      "\u001b[33m(raylet)\u001b[0m [2024-10-16 22:56:16,475 E 1160808 1160842] (raylet) file_system_monitor.cc:111: /tmp/ray/session_2024-10-16_22-07-03_931002_1158973 is over 95% full, available space: 5979496448; capacity: 185064833024. Object creation will fail if spilling is required.\n"
     ]
    },
    {
     "name": "stdout",
     "output_type": "stream",
     "text": [
      "\u001b[36m(compute_reachable pid=1160915)\u001b[0m rip 47\n",
      "\u001b[36m(compute_reachable pid=1160919)\u001b[0m rip 58\n"
     ]
    },
    {
     "name": "stderr",
     "output_type": "stream",
     "text": [
      "\u001b[33m(raylet)\u001b[0m [2024-10-16 22:56:26,481 E 1160808 1160842] (raylet) file_system_monitor.cc:111: /tmp/ray/session_2024-10-16_22-07-03_931002_1158973 is over 95% full, available space: 5979492352; capacity: 185064833024. Object creation will fail if spilling is required.\n"
     ]
    },
    {
     "name": "stdout",
     "output_type": "stream",
     "text": [
      "\u001b[36m(compute_reachable pid=1160927)\u001b[0m rip 46\n",
      "\u001b[36m(compute_reachable pid=1160916)\u001b[0m rip 42\n",
      "\u001b[36m(compute_reachable pid=1160933)\u001b[0m rip 46\u001b[32m [repeated 7x across cluster]\u001b[0m\n"
     ]
    },
    {
     "name": "stderr",
     "output_type": "stream",
     "text": [
      "\u001b[33m(raylet)\u001b[0m [2024-10-16 22:56:36,487 E 1160808 1160842] (raylet) file_system_monitor.cc:111: /tmp/ray/session_2024-10-16_22-07-03_931002_1158973 is over 95% full, available space: 5979492352; capacity: 185064833024. Object creation will fail if spilling is required.\n"
     ]
    },
    {
     "name": "stdout",
     "output_type": "stream",
     "text": [
      "\u001b[36m(compute_reachable pid=1160920)\u001b[0m rip 10\u001b[32m [repeated 6x across cluster]\u001b[0m\n"
     ]
    },
    {
     "name": "stderr",
     "output_type": "stream",
     "text": [
      "\u001b[33m(raylet)\u001b[0m [2024-10-16 22:56:46,493 E 1160808 1160842] (raylet) file_system_monitor.cc:111: /tmp/ray/session_2024-10-16_22-07-03_931002_1158973 is over 95% full, available space: 5979492352; capacity: 185064833024. Object creation will fail if spilling is required.\n"
     ]
    },
    {
     "name": "stdout",
     "output_type": "stream",
     "text": [
      "\u001b[36m(compute_reachable pid=1160931)\u001b[0m rip 34\u001b[32m [repeated 3x across cluster]\u001b[0m\n"
     ]
    },
    {
     "name": "stderr",
     "output_type": "stream",
     "text": [
      "\u001b[33m(raylet)\u001b[0m [2024-10-16 22:56:56,500 E 1160808 1160842] (raylet) file_system_monitor.cc:111: /tmp/ray/session_2024-10-16_22-07-03_931002_1158973 is over 95% full, available space: 5979488256; capacity: 185064833024. Object creation will fail if spilling is required.\n"
     ]
    },
    {
     "name": "stdout",
     "output_type": "stream",
     "text": [
      "\u001b[36m(compute_reachable pid=1160918)\u001b[0m rip 46\n",
      "\u001b[36m(compute_reachable pid=1160917)\u001b[0m rip 42\n",
      "\u001b[36m(compute_reachable pid=1160921)\u001b[0m rip 42\u001b[32m [repeated 4x across cluster]\u001b[0m\n"
     ]
    },
    {
     "name": "stderr",
     "output_type": "stream",
     "text": [
      "\u001b[33m(raylet)\u001b[0m [2024-10-16 22:57:06,506 E 1160808 1160842] (raylet) file_system_monitor.cc:111: /tmp/ray/session_2024-10-16_22-07-03_931002_1158973 is over 95% full, available space: 5979291648; capacity: 185064833024. Object creation will fail if spilling is required.\n"
     ]
    },
    {
     "name": "stdout",
     "output_type": "stream",
     "text": [
      "\u001b[36m(compute_reachable pid=1160917)\u001b[0m rip 41\u001b[32m [repeated 4x across cluster]\u001b[0m\n",
      "\u001b[36m(compute_reachable pid=1160919)\u001b[0m rip 37\u001b[32m [repeated 6x across cluster]\u001b[0m\n"
     ]
    },
    {
     "name": "stderr",
     "output_type": "stream",
     "text": [
      "\u001b[33m(raylet)\u001b[0m [2024-10-16 22:57:16,512 E 1160808 1160842] (raylet) file_system_monitor.cc:111: /tmp/ray/session_2024-10-16_22-07-03_931002_1158973 is over 95% full, available space: 5979287552; capacity: 185064833024. Object creation will fail if spilling is required.\n"
     ]
    },
    {
     "name": "stdout",
     "output_type": "stream",
     "text": [
      "\u001b[36m(compute_reachable pid=1160916)\u001b[0m rip 42\u001b[32m [repeated 2x across cluster]\u001b[0m\n",
      "\u001b[36m(compute_reachable pid=1160928)\u001b[0m rip 42\u001b[32m [repeated 7x across cluster]\u001b[0m\n"
     ]
    },
    {
     "name": "stderr",
     "output_type": "stream",
     "text": [
      "\u001b[33m(raylet)\u001b[0m [2024-10-16 22:57:26,518 E 1160808 1160842] (raylet) file_system_monitor.cc:111: /tmp/ray/session_2024-10-16_22-07-03_931002_1158973 is over 95% full, available space: 5979287552; capacity: 185064833024. Object creation will fail if spilling is required.\n"
     ]
    },
    {
     "name": "stdout",
     "output_type": "stream",
     "text": [
      "\u001b[36m(compute_reachable pid=1160919)\u001b[0m rip 57\u001b[32m [repeated 5x across cluster]\u001b[0m\n"
     ]
    },
    {
     "name": "stderr",
     "output_type": "stream",
     "text": [
      "\u001b[33m(raylet)\u001b[0m [2024-10-16 22:57:36,524 E 1160808 1160842] (raylet) file_system_monitor.cc:111: /tmp/ray/session_2024-10-16_22-07-03_931002_1158973 is over 95% full, available space: 5979283456; capacity: 185064833024. Object creation will fail if spilling is required.\n"
     ]
    },
    {
     "name": "stdout",
     "output_type": "stream",
     "text": [
      "\u001b[36m(compute_reachable pid=1160927)\u001b[0m rip 44\n",
      "\u001b[36m(compute_reachable pid=1160925)\u001b[0m rip 30\n",
      "\u001b[36m(compute_reachable pid=1160930)\u001b[0m rip 44\u001b[32m [repeated 6x across cluster]\u001b[0m\n"
     ]
    },
    {
     "name": "stderr",
     "output_type": "stream",
     "text": [
      "\u001b[33m(raylet)\u001b[0m [2024-10-16 22:57:46,530 E 1160808 1160842] (raylet) file_system_monitor.cc:111: /tmp/ray/session_2024-10-16_22-07-03_931002_1158973 is over 95% full, available space: 5979279360; capacity: 185064833024. Object creation will fail if spilling is required.\n"
     ]
    },
    {
     "name": "stdout",
     "output_type": "stream",
     "text": [
      "\u001b[36m(compute_reachable pid=1160931)\u001b[0m rip 57\u001b[32m [repeated 10x across cluster]\u001b[0m\n"
     ]
    },
    {
     "name": "stderr",
     "output_type": "stream",
     "text": [
      "\u001b[33m(raylet)\u001b[0m [2024-10-16 22:57:56,538 E 1160808 1160842] (raylet) file_system_monitor.cc:111: /tmp/ray/session_2024-10-16_22-07-03_931002_1158973 is over 95% full, available space: 5979279360; capacity: 185064833024. Object creation will fail if spilling is required.\n"
     ]
    },
    {
     "name": "stdout",
     "output_type": "stream",
     "text": [
      "\u001b[36m(compute_reachable pid=1160915)\u001b[0m rip 42\n",
      "\u001b[36m(compute_reachable pid=1160919)\u001b[0m rip 37\n",
      "\u001b[36m(compute_reachable pid=1160916)\u001b[0m rip 46\n",
      "\u001b[36m(compute_reachable pid=1160934)\u001b[0m rip 42\n"
     ]
    },
    {
     "name": "stderr",
     "output_type": "stream",
     "text": [
      "\u001b[33m(raylet)\u001b[0m [2024-10-16 22:58:06,548 E 1160808 1160842] (raylet) file_system_monitor.cc:111: /tmp/ray/session_2024-10-16_22-07-03_931002_1158973 is over 95% full, available space: 5979131904; capacity: 185064833024. Object creation will fail if spilling is required.\n"
     ]
    },
    {
     "name": "stdout",
     "output_type": "stream",
     "text": [
      "\u001b[36m(compute_reachable pid=1160928)\u001b[0m rip 43\u001b[32m [repeated 6x across cluster]\u001b[0m\n"
     ]
    },
    {
     "name": "stderr",
     "output_type": "stream",
     "text": [
      "\u001b[33m(raylet)\u001b[0m [2024-10-16 22:58:16,564 E 1160808 1160842] (raylet) file_system_monitor.cc:111: /tmp/ray/session_2024-10-16_22-07-03_931002_1158973 is over 95% full, available space: 5979131904; capacity: 185064833024. Object creation will fail if spilling is required.\n"
     ]
    },
    {
     "name": "stdout",
     "output_type": "stream",
     "text": [
      "\u001b[36m(compute_reachable pid=1160924)\u001b[0m rip 44\u001b[32m [repeated 7x across cluster]\u001b[0m\n",
      "\u001b[36m(compute_reachable pid=1160926)\u001b[0m rip 28\u001b[32m [repeated 3x across cluster]\u001b[0m\n"
     ]
    },
    {
     "name": "stderr",
     "output_type": "stream",
     "text": [
      "\u001b[33m(raylet)\u001b[0m [2024-10-16 22:58:26,572 E 1160808 1160842] (raylet) file_system_monitor.cc:111: /tmp/ray/session_2024-10-16_22-07-03_931002_1158973 is over 95% full, available space: 5979127808; capacity: 185064833024. Object creation will fail if spilling is required.\n"
     ]
    },
    {
     "name": "stdout",
     "output_type": "stream",
     "text": [
      "\u001b[36m(compute_reachable pid=1160929)\u001b[0m rip 39\u001b[32m [repeated 3x across cluster]\u001b[0m\n"
     ]
    },
    {
     "name": "stderr",
     "output_type": "stream",
     "text": [
      "\u001b[33m(raylet)\u001b[0m [2024-10-16 22:58:36,578 E 1160808 1160842] (raylet) file_system_monitor.cc:111: /tmp/ray/session_2024-10-16_22-07-03_931002_1158973 is over 95% full, available space: 5979123712; capacity: 185064833024. Object creation will fail if spilling is required.\n"
     ]
    },
    {
     "name": "stdout",
     "output_type": "stream",
     "text": [
      "\u001b[36m(compute_reachable pid=1160927)\u001b[0m rip 30\u001b[32m [repeated 8x across cluster]\u001b[0m\n"
     ]
    },
    {
     "name": "stderr",
     "output_type": "stream",
     "text": [
      "\u001b[33m(raylet)\u001b[0m [2024-10-16 22:58:46,585 E 1160808 1160842] (raylet) file_system_monitor.cc:111: /tmp/ray/session_2024-10-16_22-07-03_931002_1158973 is over 95% full, available space: 5979123712; capacity: 185064833024. Object creation will fail if spilling is required.\n"
     ]
    },
    {
     "name": "stdout",
     "output_type": "stream",
     "text": [
      "\u001b[36m(compute_reachable pid=1160930)\u001b[0m rip 44\u001b[32m [repeated 7x across cluster]\u001b[0m\n"
     ]
    },
    {
     "name": "stderr",
     "output_type": "stream",
     "text": [
      "\u001b[33m(raylet)\u001b[0m [2024-10-16 22:58:56,591 E 1160808 1160842] (raylet) file_system_monitor.cc:111: /tmp/ray/session_2024-10-16_22-07-03_931002_1158973 is over 95% full, available space: 5979123712; capacity: 185064833024. Object creation will fail if spilling is required.\n"
     ]
    },
    {
     "name": "stdout",
     "output_type": "stream",
     "text": [
      "\u001b[36m(compute_reachable pid=1160932)\u001b[0m rip 26\u001b[32m [repeated 4x across cluster]\u001b[0m\n",
      "\u001b[36m(compute_reachable pid=1160933)\u001b[0m rip 12\u001b[32m [repeated 8x across cluster]\u001b[0m\n"
     ]
    },
    {
     "name": "stderr",
     "output_type": "stream",
     "text": [
      "\u001b[33m(raylet)\u001b[0m [2024-10-16 22:59:06,597 E 1160808 1160842] (raylet) file_system_monitor.cc:111: /tmp/ray/session_2024-10-16_22-07-03_931002_1158973 is over 95% full, available space: 5978918912; capacity: 185064833024. Object creation will fail if spilling is required.\n",
      "\u001b[33m(raylet)\u001b[0m [2024-10-16 22:59:16,603 E 1160808 1160842] (raylet) file_system_monitor.cc:111: /tmp/ray/session_2024-10-16_22-07-03_931002_1158973 is over 95% full, available space: 5978918912; capacity: 185064833024. Object creation will fail if spilling is required.\n"
     ]
    },
    {
     "name": "stdout",
     "output_type": "stream",
     "text": [
      "\u001b[36m(compute_reachable pid=1160929)\u001b[0m rip 44\u001b[32m [repeated 3x across cluster]\u001b[0m\n"
     ]
    },
    {
     "name": "stderr",
     "output_type": "stream",
     "text": [
      "\u001b[33m(raylet)\u001b[0m [2024-10-16 22:59:26,609 E 1160808 1160842] (raylet) file_system_monitor.cc:111: /tmp/ray/session_2024-10-16_22-07-03_931002_1158973 is over 95% full, available space: 5978914816; capacity: 185064833024. Object creation will fail if spilling is required.\n"
     ]
    },
    {
     "name": "stdout",
     "output_type": "stream",
     "text": [
      "\u001b[36m(compute_reachable pid=1160924)\u001b[0m rip 57\u001b[32m [repeated 6x across cluster]\u001b[0m\n"
     ]
    },
    {
     "name": "stderr",
     "output_type": "stream",
     "text": [
      "\u001b[33m(raylet)\u001b[0m [2024-10-16 22:59:36,616 E 1160808 1160842] (raylet) file_system_monitor.cc:111: /tmp/ray/session_2024-10-16_22-07-03_931002_1158973 is over 95% full, available space: 5978914816; capacity: 185064833024. Object creation will fail if spilling is required.\n"
     ]
    },
    {
     "name": "stdout",
     "output_type": "stream",
     "text": [
      "\u001b[36m(compute_reachable pid=1160926)\u001b[0m rip 28\u001b[32m [repeated 3x across cluster]\u001b[0m\n",
      "\u001b[36m(compute_reachable pid=1160915)\u001b[0m rip 46\n",
      "\u001b[36m(compute_reachable pid=1160919)\u001b[0m rip 57\n"
     ]
    },
    {
     "name": "stderr",
     "output_type": "stream",
     "text": [
      "\u001b[33m(raylet)\u001b[0m [2024-10-16 22:59:46,622 E 1160808 1160842] (raylet) file_system_monitor.cc:111: /tmp/ray/session_2024-10-16_22-07-03_931002_1158973 is over 95% full, available space: 5978914816; capacity: 185064833024. Object creation will fail if spilling is required.\n"
     ]
    },
    {
     "name": "stdout",
     "output_type": "stream",
     "text": [
      "\u001b[36m(compute_reachable pid=1160925)\u001b[0m rip 30\n",
      "\u001b[36m(compute_reachable pid=1160927)\u001b[0m rip 44\n"
     ]
    },
    {
     "name": "stderr",
     "output_type": "stream",
     "text": [
      "\u001b[33m(raylet)\u001b[0m [2024-10-16 22:59:56,628 E 1160808 1160842] (raylet) file_system_monitor.cc:111: /tmp/ray/session_2024-10-16_22-07-03_931002_1158973 is over 95% full, available space: 5978910720; capacity: 185064833024. Object creation will fail if spilling is required.\n"
     ]
    },
    {
     "name": "stdout",
     "output_type": "stream",
     "text": [
      "\u001b[36m(compute_reachable pid=1160916)\u001b[0m rip 46\u001b[32m [repeated 2x across cluster]\u001b[0m\n"
     ]
    },
    {
     "name": "stderr",
     "output_type": "stream",
     "text": [
      "\u001b[33m(raylet)\u001b[0m [2024-10-16 23:00:06,634 E 1160808 1160842] (raylet) file_system_monitor.cc:111: /tmp/ray/session_2024-10-16_22-07-03_931002_1158973 is over 95% full, available space: 5978775552; capacity: 185064833024. Object creation will fail if spilling is required.\n"
     ]
    },
    {
     "name": "stdout",
     "output_type": "stream",
     "text": [
      "\u001b[36m(compute_reachable pid=1160920)\u001b[0m rip 30\u001b[32m [repeated 3x across cluster]\u001b[0m\n",
      "\u001b[36m(compute_reachable pid=1160933)\u001b[0m rip 47\n",
      "\u001b[36m(compute_reachable pid=1160928)\u001b[0m rip 29\n"
     ]
    },
    {
     "name": "stderr",
     "output_type": "stream",
     "text": [
      "\u001b[33m(raylet)\u001b[0m [2024-10-16 23:00:16,640 E 1160808 1160842] (raylet) file_system_monitor.cc:111: /tmp/ray/session_2024-10-16_22-07-03_931002_1158973 is over 95% full, available space: 5978771456; capacity: 185064833024. Object creation will fail if spilling is required.\n",
      "\u001b[33m(raylet)\u001b[0m [2024-10-16 23:00:26,646 E 1160808 1160842] (raylet) file_system_monitor.cc:111: /tmp/ray/session_2024-10-16_22-07-03_931002_1158973 is over 95% full, available space: 5978771456; capacity: 185064833024. Object creation will fail if spilling is required.\n"
     ]
    },
    {
     "name": "stdout",
     "output_type": "stream",
     "text": [
      "\u001b[36m(compute_reachable pid=1160917)\u001b[0m rip 46\u001b[32m [repeated 2x across cluster]\u001b[0m\n",
      "\u001b[36m(compute_reachable pid=1160921)\u001b[0m rip 38\u001b[32m [repeated 5x across cluster]\u001b[0m\n"
     ]
    },
    {
     "name": "stderr",
     "output_type": "stream",
     "text": [
      "\u001b[33m(raylet)\u001b[0m [2024-10-16 23:00:36,652 E 1160808 1160842] (raylet) file_system_monitor.cc:111: /tmp/ray/session_2024-10-16_22-07-03_931002_1158973 is over 95% full, available space: 5978771456; capacity: 185064833024. Object creation will fail if spilling is required.\n"
     ]
    },
    {
     "name": "stdout",
     "output_type": "stream",
     "text": [
      "\u001b[36m(compute_reachable pid=1160922)\u001b[0m rip 42\u001b[32m [repeated 6x across cluster]\u001b[0m\n",
      "\u001b[36m(compute_reachable pid=1160915)\u001b[0m rip 42\u001b[32m [repeated 3x across cluster]\u001b[0m\n"
     ]
    },
    {
     "name": "stderr",
     "output_type": "stream",
     "text": [
      "\u001b[33m(raylet)\u001b[0m [2024-10-16 23:00:46,659 E 1160808 1160842] (raylet) file_system_monitor.cc:111: /tmp/ray/session_2024-10-16_22-07-03_931002_1158973 is over 95% full, available space: 5978755072; capacity: 185064833024. Object creation will fail if spilling is required.\n"
     ]
    },
    {
     "name": "stdout",
     "output_type": "stream",
     "text": [
      "\u001b[36m(compute_reachable pid=1160934)\u001b[0m rip 46\u001b[32m [repeated 2x across cluster]\u001b[0m\n",
      "\u001b[36m(compute_reachable pid=1160930)\u001b[0m rip 38\u001b[32m [repeated 7x across cluster]\u001b[0m\n"
     ]
    },
    {
     "name": "stderr",
     "output_type": "stream",
     "text": [
      "\u001b[33m(raylet)\u001b[0m [2024-10-16 23:00:56,665 E 1160808 1160842] (raylet) file_system_monitor.cc:111: /tmp/ray/session_2024-10-16_22-07-03_931002_1158973 is over 95% full, available space: 5978755072; capacity: 185064833024. Object creation will fail if spilling is required.\n"
     ]
    },
    {
     "name": "stdout",
     "output_type": "stream",
     "text": [
      "\u001b[36m(compute_reachable pid=1160928)\u001b[0m rip 42\u001b[32m [repeated 4x across cluster]\u001b[0m\n",
      "\u001b[36m(compute_reachable pid=1160930)\u001b[0m rip 41\u001b[32m [repeated 6x across cluster]\u001b[0m\n"
     ]
    },
    {
     "name": "stderr",
     "output_type": "stream",
     "text": [
      "\u001b[33m(raylet)\u001b[0m [2024-10-16 23:01:06,671 E 1160808 1160842] (raylet) file_system_monitor.cc:111: /tmp/ray/session_2024-10-16_22-07-03_931002_1158973 is over 95% full, available space: 5978562560; capacity: 185064833024. Object creation will fail if spilling is required.\n"
     ]
    },
    {
     "name": "stdout",
     "output_type": "stream",
     "text": [
      "\u001b[36m(compute_reachable pid=1160920)\u001b[0m rip 30\n",
      "\u001b[36m(compute_reachable pid=1160929)\u001b[0m rip 46\n"
     ]
    },
    {
     "name": "stderr",
     "output_type": "stream",
     "text": [
      "\u001b[33m(raylet)\u001b[0m [2024-10-16 23:01:16,677 E 1160808 1160842] (raylet) file_system_monitor.cc:111: /tmp/ray/session_2024-10-16_22-07-03_931002_1158973 is over 95% full, available space: 5978558464; capacity: 185064833024. Object creation will fail if spilling is required.\n"
     ]
    },
    {
     "name": "stdout",
     "output_type": "stream",
     "text": [
      "\u001b[36m(compute_reachable pid=1160922)\u001b[0m rip 42\u001b[32m [repeated 10x across cluster]\u001b[0m\n"
     ]
    },
    {
     "name": "stderr",
     "output_type": "stream",
     "text": [
      "\u001b[33m(raylet)\u001b[0m [2024-10-16 23:01:26,683 E 1160808 1160842] (raylet) file_system_monitor.cc:111: /tmp/ray/session_2024-10-16_22-07-03_931002_1158973 is over 95% full, available space: 5978558464; capacity: 185064833024. Object creation will fail if spilling is required.\n"
     ]
    },
    {
     "name": "stdout",
     "output_type": "stream",
     "text": [
      "\u001b[36m(compute_reachable pid=1160917)\u001b[0m rip 44\u001b[32m [repeated 3x across cluster]\u001b[0m\n"
     ]
    },
    {
     "name": "stderr",
     "output_type": "stream",
     "text": [
      "\u001b[33m(raylet)\u001b[0m [2024-10-16 23:01:36,689 E 1160808 1160842] (raylet) file_system_monitor.cc:111: /tmp/ray/session_2024-10-16_22-07-03_931002_1158973 is over 95% full, available space: 5978554368; capacity: 185064833024. Object creation will fail if spilling is required.\n"
     ]
    },
    {
     "name": "stdout",
     "output_type": "stream",
     "text": [
      "\u001b[36m(compute_reachable pid=1160925)\u001b[0m rip 42\u001b[32m [repeated 10x across cluster]\u001b[0m\n",
      "\u001b[36m(compute_reachable pid=1160928)\u001b[0m rip 42\u001b[32m [repeated 4x across cluster]\u001b[0m\n"
     ]
    },
    {
     "name": "stderr",
     "output_type": "stream",
     "text": [
      "\u001b[33m(raylet)\u001b[0m [2024-10-16 23:01:46,695 E 1160808 1160842] (raylet) file_system_monitor.cc:111: /tmp/ray/session_2024-10-16_22-07-03_931002_1158973 is over 95% full, available space: 5978554368; capacity: 185064833024. Object creation will fail if spilling is required.\n"
     ]
    },
    {
     "name": "stdout",
     "output_type": "stream",
     "text": [
      "\u001b[36m(compute_reachable pid=1160915)\u001b[0m rip 46\u001b[32m [repeated 4x across cluster]\u001b[0m\n"
     ]
    },
    {
     "name": "stderr",
     "output_type": "stream",
     "text": [
      "\u001b[33m(raylet)\u001b[0m [2024-10-16 23:01:56,702 E 1160808 1160842] (raylet) file_system_monitor.cc:111: /tmp/ray/session_2024-10-16_22-07-03_931002_1158973 is over 95% full, available space: 5978554368; capacity: 185064833024. Object creation will fail if spilling is required.\n"
     ]
    },
    {
     "name": "stdout",
     "output_type": "stream",
     "text": [
      "\u001b[36m(compute_reachable pid=1160918)\u001b[0m rip 42\u001b[32m [repeated 3x across cluster]\u001b[0m\n",
      "\u001b[36m(compute_reachable pid=1160916)\u001b[0m rip 46\u001b[32m [repeated 8x across cluster]\u001b[0m\n"
     ]
    },
    {
     "name": "stderr",
     "output_type": "stream",
     "text": [
      "\u001b[33m(raylet)\u001b[0m [2024-10-16 23:02:06,708 E 1160808 1160842] (raylet) file_system_monitor.cc:111: /tmp/ray/session_2024-10-16_22-07-03_931002_1158973 is over 95% full, available space: 5978406912; capacity: 185064833024. Object creation will fail if spilling is required.\n"
     ]
    },
    {
     "name": "stdout",
     "output_type": "stream",
     "text": [
      "\u001b[36m(compute_reachable pid=1160919)\u001b[0m rip 43\u001b[32m [repeated 5x across cluster]\u001b[0m\n",
      "\u001b[36m(compute_reachable pid=1160934)\u001b[0m rip 47\u001b[32m [repeated 3x across cluster]\u001b[0m\n"
     ]
    },
    {
     "name": "stderr",
     "output_type": "stream",
     "text": [
      "\u001b[33m(raylet)\u001b[0m [2024-10-16 23:02:16,714 E 1160808 1160842] (raylet) file_system_monitor.cc:111: /tmp/ray/session_2024-10-16_22-07-03_931002_1158973 is over 95% full, available space: 5978402816; capacity: 185064833024. Object creation will fail if spilling is required.\n"
     ]
    },
    {
     "name": "stdout",
     "output_type": "stream",
     "text": [
      "\u001b[36m(compute_reachable pid=1160928)\u001b[0m rip 43\u001b[32m [repeated 9x across cluster]\u001b[0m\n"
     ]
    },
    {
     "name": "stderr",
     "output_type": "stream",
     "text": [
      "\u001b[33m(raylet)\u001b[0m [2024-10-16 23:02:26,720 E 1160808 1160842] (raylet) file_system_monitor.cc:111: /tmp/ray/session_2024-10-16_22-07-03_931002_1158973 is over 95% full, available space: 5978402816; capacity: 185064833024. Object creation will fail if spilling is required.\n"
     ]
    },
    {
     "name": "stdout",
     "output_type": "stream",
     "text": [
      "\u001b[36m(compute_reachable pid=1160929)\u001b[0m rip 28\u001b[32m [repeated 6x across cluster]\u001b[0m\n"
     ]
    },
    {
     "name": "stderr",
     "output_type": "stream",
     "text": [
      "\u001b[33m(raylet)\u001b[0m [2024-10-16 23:02:36,726 E 1160808 1160842] (raylet) file_system_monitor.cc:111: /tmp/ray/session_2024-10-16_22-07-03_931002_1158973 is over 95% full, available space: 5978398720; capacity: 185064833024. Object creation will fail if spilling is required.\n"
     ]
    },
    {
     "name": "stdout",
     "output_type": "stream",
     "text": [
      "\u001b[36m(compute_reachable pid=1160929)\u001b[0m rip 31\u001b[32m [repeated 4x across cluster]\u001b[0m\n"
     ]
    },
    {
     "name": "stderr",
     "output_type": "stream",
     "text": [
      "\u001b[33m(raylet)\u001b[0m [2024-10-16 23:02:46,732 E 1160808 1160842] (raylet) file_system_monitor.cc:111: /tmp/ray/session_2024-10-16_22-07-03_931002_1158973 is over 95% full, available space: 5978398720; capacity: 185064833024. Object creation will fail if spilling is required.\n"
     ]
    },
    {
     "name": "stdout",
     "output_type": "stream",
     "text": [
      "\u001b[36m(compute_reachable pid=1160922)\u001b[0m rip 28\u001b[32m [repeated 7x across cluster]\u001b[0m\n",
      "\u001b[36m(compute_reachable pid=1160919)\u001b[0m rip 12\u001b[32m [repeated 5x across cluster]\u001b[0m\n"
     ]
    },
    {
     "name": "stderr",
     "output_type": "stream",
     "text": [
      "\u001b[33m(raylet)\u001b[0m [2024-10-16 23:02:56,738 E 1160808 1160842] (raylet) file_system_monitor.cc:111: /tmp/ray/session_2024-10-16_22-07-03_931002_1158973 is over 95% full, available space: 5978390528; capacity: 185064833024. Object creation will fail if spilling is required.\n"
     ]
    },
    {
     "name": "stdout",
     "output_type": "stream",
     "text": [
      "\u001b[36m(compute_reachable pid=1160925)\u001b[0m rip 30\u001b[32m [repeated 3x across cluster]\u001b[0m\n",
      "\u001b[36m(compute_reachable pid=1160932)\u001b[0m rip 57\u001b[32m [repeated 5x across cluster]\u001b[0m\n"
     ]
    },
    {
     "name": "stderr",
     "output_type": "stream",
     "text": [
      "\u001b[33m(raylet)\u001b[0m [2024-10-16 23:03:06,745 E 1160808 1160842] (raylet) file_system_monitor.cc:111: /tmp/ray/session_2024-10-16_22-07-03_931002_1158973 is over 95% full, available space: 5978206208; capacity: 185064833024. Object creation will fail if spilling is required.\n"
     ]
    },
    {
     "name": "stdout",
     "output_type": "stream",
     "text": [
      "\u001b[36m(compute_reachable pid=1160920)\u001b[0m rip 30\u001b[32m [repeated 2x across cluster]\u001b[0m\n"
     ]
    },
    {
     "name": "stderr",
     "output_type": "stream",
     "text": [
      "\u001b[33m(raylet)\u001b[0m [2024-10-16 23:03:16,751 E 1160808 1160842] (raylet) file_system_monitor.cc:111: /tmp/ray/session_2024-10-16_22-07-03_931002_1158973 is over 95% full, available space: 5978206208; capacity: 185064833024. Object creation will fail if spilling is required.\n"
     ]
    },
    {
     "name": "stdout",
     "output_type": "stream",
     "text": [
      "\u001b[36m(compute_reachable pid=1160933)\u001b[0m rip 46\n",
      "\u001b[36m(compute_reachable pid=1160928)\u001b[0m rip 28\n"
     ]
    },
    {
     "name": "stderr",
     "output_type": "stream",
     "text": [
      "\u001b[33m(raylet)\u001b[0m [2024-10-16 23:03:26,757 E 1160808 1160842] (raylet) file_system_monitor.cc:111: /tmp/ray/session_2024-10-16_22-07-03_931002_1158973 is over 95% full, available space: 5978193920; capacity: 185064833024. Object creation will fail if spilling is required.\n"
     ]
    },
    {
     "name": "stdout",
     "output_type": "stream",
     "text": [
      "\u001b[36m(compute_reachable pid=1160917)\u001b[0m rip 30\u001b[32m [repeated 2x across cluster]\u001b[0m\n"
     ]
    },
    {
     "name": "stderr",
     "output_type": "stream",
     "text": [
      "\u001b[33m(raylet)\u001b[0m [2024-10-16 23:03:36,763 E 1160808 1160842] (raylet) file_system_monitor.cc:111: /tmp/ray/session_2024-10-16_22-07-03_931002_1158973 is over 95% full, available space: 5978193920; capacity: 185064833024. Object creation will fail if spilling is required.\n"
     ]
    },
    {
     "name": "stdout",
     "output_type": "stream",
     "text": [
      "\u001b[36m(compute_reachable pid=1160924)\u001b[0m rip 57\u001b[32m [repeated 2x across cluster]\u001b[0m\n"
     ]
    },
    {
     "name": "stderr",
     "output_type": "stream",
     "text": [
      "\u001b[33m(raylet)\u001b[0m [2024-10-16 23:03:46,769 E 1160808 1160842] (raylet) file_system_monitor.cc:111: /tmp/ray/session_2024-10-16_22-07-03_931002_1158973 is over 95% full, available space: 5978185728; capacity: 185064833024. Object creation will fail if spilling is required.\n"
     ]
    },
    {
     "name": "stdout",
     "output_type": "stream",
     "text": [
      "\u001b[36m(compute_reachable pid=1160926)\u001b[0m rip 30\u001b[32m [repeated 4x across cluster]\u001b[0m\n"
     ]
    },
    {
     "name": "stderr",
     "output_type": "stream",
     "text": [
      "\u001b[33m(raylet)\u001b[0m [2024-10-16 23:03:56,775 E 1160808 1160842] (raylet) file_system_monitor.cc:111: /tmp/ray/session_2024-10-16_22-07-03_931002_1158973 is over 95% full, available space: 5978185728; capacity: 185064833024. Object creation will fail if spilling is required.\n"
     ]
    },
    {
     "name": "stdout",
     "output_type": "stream",
     "text": [
      "\u001b[36m(compute_reachable pid=1160915)\u001b[0m rip 58\n",
      "\u001b[36m(compute_reachable pid=1160934)\u001b[0m rip 46\n"
     ]
    },
    {
     "name": "stderr",
     "output_type": "stream",
     "text": [
      "\u001b[33m(raylet)\u001b[0m [2024-10-16 23:04:06,781 E 1160808 1160842] (raylet) file_system_monitor.cc:111: /tmp/ray/session_2024-10-16_22-07-03_931002_1158973 is over 95% full, available space: 5978042368; capacity: 185064833024. Object creation will fail if spilling is required.\n"
     ]
    },
    {
     "name": "stdout",
     "output_type": "stream",
     "text": [
      "\u001b[36m(compute_reachable pid=1160932)\u001b[0m rip 15\u001b[32m [repeated 8x across cluster]\u001b[0m\n",
      "\u001b[36m(compute_reachable pid=1160928)\u001b[0m rip 42\u001b[32m [repeated 5x across cluster]\u001b[0m\n"
     ]
    },
    {
     "name": "stderr",
     "output_type": "stream",
     "text": [
      "\u001b[33m(raylet)\u001b[0m [2024-10-16 23:04:16,787 E 1160808 1160842] (raylet) file_system_monitor.cc:111: /tmp/ray/session_2024-10-16_22-07-03_931002_1158973 is over 95% full, available space: 5978038272; capacity: 185064833024. Object creation will fail if spilling is required.\n"
     ]
    },
    {
     "name": "stdout",
     "output_type": "stream",
     "text": [
      "\u001b[36m(compute_reachable pid=1160933)\u001b[0m rip 22\u001b[32m [repeated 4x across cluster]\u001b[0m\n",
      "\u001b[36m(compute_reachable pid=1160924)\u001b[0m rip 46\u001b[32m [repeated 3x across cluster]\u001b[0m\n"
     ]
    },
    {
     "name": "stderr",
     "output_type": "stream",
     "text": [
      "\u001b[33m(raylet)\u001b[0m [2024-10-16 23:04:26,795 E 1160808 1160842] (raylet) file_system_monitor.cc:111: /tmp/ray/session_2024-10-16_22-07-03_931002_1158973 is over 95% full, available space: 5978038272; capacity: 185064833024. Object creation will fail if spilling is required.\n"
     ]
    },
    {
     "name": "stdout",
     "output_type": "stream",
     "text": [
      "\u001b[36m(compute_reachable pid=1160917)\u001b[0m rip 30\u001b[32m [repeated 6x across cluster]\u001b[0m\n"
     ]
    },
    {
     "name": "stderr",
     "output_type": "stream",
     "text": [
      "\u001b[33m(raylet)\u001b[0m [2024-10-16 23:04:36,807 E 1160808 1160842] (raylet) file_system_monitor.cc:111: /tmp/ray/session_2024-10-16_22-07-03_931002_1158973 is over 95% full, available space: 5978038272; capacity: 185064833024. Object creation will fail if spilling is required.\n"
     ]
    },
    {
     "name": "stdout",
     "output_type": "stream",
     "text": [
      "\u001b[36m(compute_reachable pid=1160921)\u001b[0m rip 41\u001b[32m [repeated 6x across cluster]\u001b[0m\n",
      "\u001b[36m(compute_reachable pid=1160926)\u001b[0m rip 30\u001b[32m [repeated 3x across cluster]\u001b[0m\n"
     ]
    },
    {
     "name": "stderr",
     "output_type": "stream",
     "text": [
      "\u001b[33m(raylet)\u001b[0m [2024-10-16 23:04:46,814 E 1160808 1160842] (raylet) file_system_monitor.cc:111: /tmp/ray/session_2024-10-16_22-07-03_931002_1158973 is over 95% full, available space: 5978034176; capacity: 185064833024. Object creation will fail if spilling is required.\n"
     ]
    },
    {
     "name": "stdout",
     "output_type": "stream",
     "text": [
      "\u001b[36m(compute_reachable pid=1160933)\u001b[0m rip 46\u001b[32m [repeated 8x across cluster]\u001b[0m\n"
     ]
    },
    {
     "name": "stderr",
     "output_type": "stream",
     "text": [
      "\u001b[33m(raylet)\u001b[0m [2024-10-16 23:04:56,828 E 1160808 1160842] (raylet) file_system_monitor.cc:111: /tmp/ray/session_2024-10-16_22-07-03_931002_1158973 is over 95% full, available space: 5978034176; capacity: 185064833024. Object creation will fail if spilling is required.\n"
     ]
    },
    {
     "name": "stdout",
     "output_type": "stream",
     "text": [
      "\u001b[36m(compute_reachable pid=1160919)\u001b[0m rip 42\u001b[32m [repeated 5x across cluster]\u001b[0m\n",
      "\u001b[36m(compute_reachable pid=1160932)\u001b[0m rip 27\u001b[32m [repeated 5x across cluster]\u001b[0m\n"
     ]
    },
    {
     "name": "stderr",
     "output_type": "stream",
     "text": [
      "\u001b[33m(raylet)\u001b[0m [2024-10-16 23:05:06,837 E 1160808 1160842] (raylet) file_system_monitor.cc:111: /tmp/ray/session_2024-10-16_22-07-03_931002_1158973 is over 95% full, available space: 5977837568; capacity: 185064833024. Object creation will fail if spilling is required.\n"
     ]
    },
    {
     "name": "stdout",
     "output_type": "stream",
     "text": [
      "\u001b[36m(compute_reachable pid=1160921)\u001b[0m rip 37\u001b[32m [repeated 8x across cluster]\u001b[0m\n",
      "\u001b[36m(compute_reachable pid=1160926)\u001b[0m rip 37\u001b[32m [repeated 2x across cluster]\u001b[0m\n"
     ]
    },
    {
     "name": "stderr",
     "output_type": "stream",
     "text": [
      "\u001b[33m(raylet)\u001b[0m [2024-10-16 23:05:16,843 E 1160808 1160842] (raylet) file_system_monitor.cc:111: /tmp/ray/session_2024-10-16_22-07-03_931002_1158973 is over 95% full, available space: 5977833472; capacity: 185064833024. Object creation will fail if spilling is required.\n"
     ]
    },
    {
     "name": "stdout",
     "output_type": "stream",
     "text": [
      "\u001b[36m(compute_reachable pid=1160915)\u001b[0m rip 46\u001b[32m [repeated 4x across cluster]\u001b[0m\n"
     ]
    },
    {
     "name": "stderr",
     "output_type": "stream",
     "text": [
      "\u001b[33m(raylet)\u001b[0m [2024-10-16 23:05:26,849 E 1160808 1160842] (raylet) file_system_monitor.cc:111: /tmp/ray/session_2024-10-16_22-07-03_931002_1158973 is over 95% full, available space: 5977833472; capacity: 185064833024. Object creation will fail if spilling is required.\n"
     ]
    },
    {
     "name": "stdout",
     "output_type": "stream",
     "text": [
      "\u001b[36m(compute_reachable pid=1160927)\u001b[0m rip 37\u001b[32m [repeated 8x across cluster]\u001b[0m\n",
      "\u001b[36m(compute_reachable pid=1160931)\u001b[0m rip 37\u001b[32m [repeated 8x across cluster]\u001b[0m\n"
     ]
    },
    {
     "name": "stderr",
     "output_type": "stream",
     "text": [
      "\u001b[33m(raylet)\u001b[0m [2024-10-16 23:05:36,855 E 1160808 1160842] (raylet) file_system_monitor.cc:111: /tmp/ray/session_2024-10-16_22-07-03_931002_1158973 is over 95% full, available space: 5977825280; capacity: 185064833024. Object creation will fail if spilling is required.\n"
     ]
    },
    {
     "name": "stdout",
     "output_type": "stream",
     "text": [
      "\u001b[36m(compute_reachable pid=1160926)\u001b[0m rip 30\u001b[32m [repeated 3x across cluster]\u001b[0m\n",
      "\u001b[36m(compute_reachable pid=1160924)\u001b[0m rip 47\n",
      "\u001b[36m(compute_reachable pid=1160918)\u001b[0m rip 43\n"
     ]
    },
    {
     "name": "stderr",
     "output_type": "stream",
     "text": [
      "\u001b[33m(raylet)\u001b[0m [2024-10-16 23:05:46,862 E 1160808 1160842] (raylet) file_system_monitor.cc:111: /tmp/ray/session_2024-10-16_22-07-03_931002_1158973 is over 95% full, available space: 5977825280; capacity: 185064833024. Object creation will fail if spilling is required.\n"
     ]
    },
    {
     "name": "stdout",
     "output_type": "stream",
     "text": [
      "\u001b[36m(compute_reachable pid=1160919)\u001b[0m rip 42\u001b[32m [repeated 5x across cluster]\u001b[0m\n",
      "\u001b[36m(compute_reachable pid=1160916)\u001b[0m rip 27\u001b[32m [repeated 6x across cluster]\u001b[0m\n"
     ]
    },
    {
     "name": "stderr",
     "output_type": "stream",
     "text": [
      "\u001b[33m(raylet)\u001b[0m [2024-10-16 23:05:56,868 E 1160808 1160842] (raylet) file_system_monitor.cc:111: /tmp/ray/session_2024-10-16_22-07-03_931002_1158973 is over 95% full, available space: 5977825280; capacity: 185064833024. Object creation will fail if spilling is required.\n"
     ]
    },
    {
     "name": "stdout",
     "output_type": "stream",
     "text": [
      "\u001b[36m(compute_reachable pid=1160915)\u001b[0m rip 39\u001b[32m [repeated 5x across cluster]\u001b[0m\n"
     ]
    },
    {
     "name": "stderr",
     "output_type": "stream",
     "text": [
      "\u001b[33m(raylet)\u001b[0m [2024-10-16 23:06:06,874 E 1160808 1160842] (raylet) file_system_monitor.cc:111: /tmp/ray/session_2024-10-16_22-07-03_931002_1158973 is over 95% full, available space: 5977673728; capacity: 185064833024. Object creation will fail if spilling is required.\n"
     ]
    },
    {
     "name": "stdout",
     "output_type": "stream",
     "text": [
      "\u001b[36m(compute_reachable pid=1160920)\u001b[0m rip 30\u001b[32m [repeated 8x across cluster]\u001b[0m\n",
      "\u001b[36m(compute_reachable pid=1160928)\u001b[0m rip 14\u001b[32m [repeated 4x across cluster]\u001b[0m\n"
     ]
    },
    {
     "name": "stderr",
     "output_type": "stream",
     "text": [
      "\u001b[33m(raylet)\u001b[0m [2024-10-16 23:06:16,880 E 1160808 1160842] (raylet) file_system_monitor.cc:111: /tmp/ray/session_2024-10-16_22-07-03_931002_1158973 is over 95% full, available space: 5977673728; capacity: 185064833024. Object creation will fail if spilling is required.\n"
     ]
    },
    {
     "name": "stdout",
     "output_type": "stream",
     "text": [
      "\u001b[36m(compute_reachable pid=1160917)\u001b[0m rip 44\u001b[32m [repeated 4x across cluster]\u001b[0m\n"
     ]
    },
    {
     "name": "stderr",
     "output_type": "stream",
     "text": [
      "\u001b[33m(raylet)\u001b[0m [2024-10-16 23:06:26,886 E 1160808 1160842] (raylet) file_system_monitor.cc:111: /tmp/ray/session_2024-10-16_22-07-03_931002_1158973 is over 95% full, available space: 5977669632; capacity: 185064833024. Object creation will fail if spilling is required.\n"
     ]
    },
    {
     "name": "stdout",
     "output_type": "stream",
     "text": [
      "\u001b[36m(compute_reachable pid=1160921)\u001b[0m rip 44\u001b[32m [repeated 7x across cluster]\u001b[0m\n"
     ]
    },
    {
     "name": "stderr",
     "output_type": "stream",
     "text": [
      "\u001b[33m(raylet)\u001b[0m [2024-10-16 23:06:36,892 E 1160808 1160842] (raylet) file_system_monitor.cc:111: /tmp/ray/session_2024-10-16_22-07-03_931002_1158973 is over 95% full, available space: 5977669632; capacity: 185064833024. Object creation will fail if spilling is required.\n",
      "\u001b[33m(raylet)\u001b[0m [2024-10-16 23:06:46,898 E 1160808 1160842] (raylet) file_system_monitor.cc:111: /tmp/ray/session_2024-10-16_22-07-03_931002_1158973 is over 95% full, available space: 5977665536; capacity: 185064833024. Object creation will fail if spilling is required.\n"
     ]
    },
    {
     "name": "stdout",
     "output_type": "stream",
     "text": [
      "\u001b[36m(compute_reachable pid=1160915)\u001b[0m rip 42\u001b[32m [repeated 2x across cluster]\u001b[0m\n"
     ]
    },
    {
     "name": "stderr",
     "output_type": "stream",
     "text": [
      "\u001b[33m(raylet)\u001b[0m [2024-10-16 23:06:56,905 E 1160808 1160842] (raylet) file_system_monitor.cc:111: /tmp/ray/session_2024-10-16_22-07-03_931002_1158973 is over 95% full, available space: 5977661440; capacity: 185064833024. Object creation will fail if spilling is required.\n"
     ]
    },
    {
     "name": "stdout",
     "output_type": "stream",
     "text": [
      "\u001b[36m(compute_reachable pid=1160925)\u001b[0m rip 53\u001b[32m [repeated 5x across cluster]\u001b[0m\n"
     ]
    },
    {
     "name": "stderr",
     "output_type": "stream",
     "text": [
      "\u001b[33m(raylet)\u001b[0m [2024-10-16 23:07:06,911 E 1160808 1160842] (raylet) file_system_monitor.cc:111: /tmp/ray/session_2024-10-16_22-07-03_931002_1158973 is over 95% full, available space: 5977473024; capacity: 185064833024. Object creation will fail if spilling is required.\n"
     ]
    },
    {
     "name": "stdout",
     "output_type": "stream",
     "text": [
      "\u001b[36m(compute_reachable pid=1160920)\u001b[0m rip 30\u001b[32m [repeated 4x across cluster]\u001b[0m\n",
      "\u001b[36m(compute_reachable pid=1160928)\u001b[0m rip 27\n",
      "\u001b[36m(compute_reachable pid=1160931)\u001b[0m rip 53\n"
     ]
    },
    {
     "name": "stderr",
     "output_type": "stream",
     "text": [
      "\u001b[33m(raylet)\u001b[0m [2024-10-16 23:07:16,918 E 1160808 1160842] (raylet) file_system_monitor.cc:111: /tmp/ray/session_2024-10-16_22-07-03_931002_1158973 is over 95% full, available space: 5977468928; capacity: 185064833024. Object creation will fail if spilling is required.\n"
     ]
    },
    {
     "name": "stdout",
     "output_type": "stream",
     "text": [
      "\u001b[36m(compute_reachable pid=1160924)\u001b[0m rip 27\u001b[32m [repeated 3x across cluster]\u001b[0m\n",
      "\u001b[36m(compute_reachable pid=1160921)\u001b[0m rip 10\u001b[32m [repeated 8x across cluster]\u001b[0m\n"
     ]
    },
    {
     "name": "stderr",
     "output_type": "stream",
     "text": [
      "\u001b[33m(raylet)\u001b[0m [2024-10-16 23:07:26,924 E 1160808 1160842] (raylet) file_system_monitor.cc:111: /tmp/ray/session_2024-10-16_22-07-03_931002_1158973 is over 95% full, available space: 5977468928; capacity: 185064833024. Object creation will fail if spilling is required.\n"
     ]
    },
    {
     "name": "stdout",
     "output_type": "stream",
     "text": [
      "\u001b[36m(compute_reachable pid=1160926)\u001b[0m rip 9\u001b[32m [repeated 2x across cluster]\u001b[0m\n"
     ]
    },
    {
     "name": "stderr",
     "output_type": "stream",
     "text": [
      "\u001b[33m(raylet)\u001b[0m [2024-10-16 23:07:36,930 E 1160808 1160842] (raylet) file_system_monitor.cc:111: /tmp/ray/session_2024-10-16_22-07-03_931002_1158973 is over 95% full, available space: 5977468928; capacity: 185064833024. Object creation will fail if spilling is required.\n"
     ]
    },
    {
     "name": "stdout",
     "output_type": "stream",
     "text": [
      "\u001b[36m(compute_reachable pid=1160919)\u001b[0m rip 37\n",
      "\u001b[36m(compute_reachable pid=1160915)\u001b[0m rip 31\n",
      "\u001b[36m(compute_reachable pid=1160919)\u001b[0m rip 12\u001b[32m [repeated 7x across cluster]\u001b[0m\n"
     ]
    },
    {
     "name": "stderr",
     "output_type": "stream",
     "text": [
      "\u001b[33m(raylet)\u001b[0m [2024-10-16 23:07:46,936 E 1160808 1160842] (raylet) file_system_monitor.cc:111: /tmp/ray/session_2024-10-16_22-07-03_931002_1158973 is over 95% full, available space: 5977460736; capacity: 185064833024. Object creation will fail if spilling is required.\n"
     ]
    },
    {
     "name": "stdout",
     "output_type": "stream",
     "text": [
      "\u001b[36m(compute_reachable pid=1160932)\u001b[0m rip 31\u001b[32m [repeated 7x across cluster]\u001b[0m\n",
      "\u001b[36m(compute_reachable pid=1160929)\u001b[0m rip 37\u001b[32m [repeated 7x across cluster]\u001b[0m\n"
     ]
    },
    {
     "name": "stderr",
     "output_type": "stream",
     "text": [
      "\u001b[33m(raylet)\u001b[0m [2024-10-16 23:07:56,942 E 1160808 1160842] (raylet) file_system_monitor.cc:111: /tmp/ray/session_2024-10-16_22-07-03_931002_1158973 is over 95% full, available space: 5977460736; capacity: 185064833024. Object creation will fail if spilling is required.\n"
     ]
    },
    {
     "name": "stdout",
     "output_type": "stream",
     "text": [
      "\u001b[36m(compute_reachable pid=1160931)\u001b[0m rip 30\u001b[32m [repeated 7x across cluster]\u001b[0m\n"
     ]
    },
    {
     "name": "stderr",
     "output_type": "stream",
     "text": [
      "\u001b[33m(raylet)\u001b[0m [2024-10-16 23:08:06,949 E 1160808 1160842] (raylet) file_system_monitor.cc:111: /tmp/ray/session_2024-10-16_22-07-03_931002_1158973 is over 95% full, available space: 5977317376; capacity: 185064833024. Object creation will fail if spilling is required.\n"
     ]
    },
    {
     "name": "stdout",
     "output_type": "stream",
     "text": [
      "\u001b[36m(compute_reachable pid=1160918)\u001b[0m rip 31\u001b[32m [repeated 4x across cluster]\u001b[0m\n"
     ]
    },
    {
     "name": "stderr",
     "output_type": "stream",
     "text": [
      "\u001b[33m(raylet)\u001b[0m [2024-10-16 23:08:16,955 E 1160808 1160842] (raylet) file_system_monitor.cc:111: /tmp/ray/session_2024-10-16_22-07-03_931002_1158973 is over 95% full, available space: 5977305088; capacity: 185064833024. Object creation will fail if spilling is required.\n"
     ]
    },
    {
     "name": "stdout",
     "output_type": "stream",
     "text": [
      "\u001b[36m(compute_reachable pid=1160927)\u001b[0m rip 26\u001b[32m [repeated 11x across cluster]\u001b[0m\n",
      "\u001b[36m(compute_reachable pid=1160931)\u001b[0m rip 37\u001b[32m [repeated 5x across cluster]\u001b[0m\n"
     ]
    },
    {
     "name": "stderr",
     "output_type": "stream",
     "text": [
      "\u001b[33m(raylet)\u001b[0m [2024-10-16 23:08:26,961 E 1160808 1160842] (raylet) file_system_monitor.cc:111: /tmp/ray/session_2024-10-16_22-07-03_931002_1158973 is over 95% full, available space: 5977305088; capacity: 185064833024. Object creation will fail if spilling is required.\n"
     ]
    },
    {
     "name": "stdout",
     "output_type": "stream",
     "text": [
      "\u001b[36m(compute_reachable pid=1160924)\u001b[0m rip 37\u001b[32m [repeated 4x across cluster]\u001b[0m\n"
     ]
    },
    {
     "name": "stderr",
     "output_type": "stream",
     "text": [
      "\u001b[33m(raylet)\u001b[0m [2024-10-16 23:08:36,967 E 1160808 1160842] (raylet) file_system_monitor.cc:111: /tmp/ray/session_2024-10-16_22-07-03_931002_1158973 is over 95% full, available space: 5977300992; capacity: 185064833024. Object creation will fail if spilling is required.\n"
     ]
    },
    {
     "name": "stdout",
     "output_type": "stream",
     "text": [
      "\u001b[36m(compute_reachable pid=1160925)\u001b[0m rip 26\u001b[32m [repeated 10x across cluster]\u001b[0m\n",
      "\u001b[36m(compute_reachable pid=1160922)\u001b[0m rip 31\u001b[32m [repeated 5x across cluster]\u001b[0m\n"
     ]
    },
    {
     "name": "stderr",
     "output_type": "stream",
     "text": [
      "\u001b[33m(raylet)\u001b[0m [2024-10-16 23:08:46,973 E 1160808 1160842] (raylet) file_system_monitor.cc:111: /tmp/ray/session_2024-10-16_22-07-03_931002_1158973 is over 95% full, available space: 5977296896; capacity: 185064833024. Object creation will fail if spilling is required.\n"
     ]
    },
    {
     "name": "stdout",
     "output_type": "stream",
     "text": [
      "\u001b[36m(compute_reachable pid=1160920)\u001b[0m rip 26\u001b[32m [repeated 2x across cluster]\u001b[0m\n",
      "\u001b[36m(compute_reachable pid=1160922)\u001b[0m rip 26\u001b[32m [repeated 11x across cluster]\u001b[0m\n"
     ]
    },
    {
     "name": "stderr",
     "output_type": "stream",
     "text": [
      "\u001b[33m(raylet)\u001b[0m [2024-10-16 23:08:56,979 E 1160808 1160842] (raylet) file_system_monitor.cc:111: /tmp/ray/session_2024-10-16_22-07-03_931002_1158973 is over 95% full, available space: 5977296896; capacity: 185064833024. Object creation will fail if spilling is required.\n"
     ]
    },
    {
     "name": "stdout",
     "output_type": "stream",
     "text": [
      "\u001b[36m(compute_reachable pid=1160923)\u001b[0m rip 26\u001b[32m [repeated 2x across cluster]\u001b[0m\n"
     ]
    },
    {
     "name": "stderr",
     "output_type": "stream",
     "text": [
      "\u001b[33m(raylet)\u001b[0m [2024-10-16 23:09:06,986 E 1160808 1160842] (raylet) file_system_monitor.cc:111: /tmp/ray/session_2024-10-16_22-07-03_931002_1158973 is over 95% full, available space: 5977100288; capacity: 185064833024. Object creation will fail if spilling is required.\n"
     ]
    },
    {
     "name": "stdout",
     "output_type": "stream",
     "text": [
      "\u001b[36m(compute_reachable pid=1160929)\u001b[0m rip 23\u001b[32m [repeated 9x across cluster]\u001b[0m\n",
      "\u001b[36m(compute_reachable pid=1160926)\u001b[0m rip 15\u001b[32m [repeated 7x across cluster]\u001b[0m\n"
     ]
    },
    {
     "name": "stderr",
     "output_type": "stream",
     "text": [
      "\u001b[33m(raylet)\u001b[0m [2024-10-16 23:09:16,992 E 1160808 1160842] (raylet) file_system_monitor.cc:111: /tmp/ray/session_2024-10-16_22-07-03_931002_1158973 is over 95% full, available space: 5977100288; capacity: 185064833024. Object creation will fail if spilling is required.\n"
     ]
    },
    {
     "name": "stdout",
     "output_type": "stream",
     "text": [
      "\u001b[36m(compute_reachable pid=1160934)\u001b[0m rip 17\n",
      "\u001b[36m(compute_reachable pid=1160915)\u001b[0m rip 36\n"
     ]
    },
    {
     "name": "stderr",
     "output_type": "stream",
     "text": [
      "\u001b[33m(raylet)\u001b[0m [2024-10-16 23:09:26,998 E 1160808 1160842] (raylet) file_system_monitor.cc:111: /tmp/ray/session_2024-10-16_22-07-03_931002_1158973 is over 95% full, available space: 5977100288; capacity: 185064833024. Object creation will fail if spilling is required.\n"
     ]
    },
    {
     "name": "stdout",
     "output_type": "stream",
     "text": [
      "\u001b[36m(compute_reachable pid=1160932)\u001b[0m rip 17\u001b[32m [repeated 9x across cluster]\u001b[0m\n",
      "\u001b[36m(compute_reachable pid=1160922)\u001b[0m rip 31\u001b[32m [repeated 4x across cluster]\u001b[0m\n"
     ]
    },
    {
     "name": "stderr",
     "output_type": "stream",
     "text": [
      "\u001b[33m(raylet)\u001b[0m [2024-10-16 23:09:37,004 E 1160808 1160842] (raylet) file_system_monitor.cc:111: /tmp/ray/session_2024-10-16_22-07-03_931002_1158973 is over 95% full, available space: 5977096192; capacity: 185064833024. Object creation will fail if spilling is required.\n"
     ]
    },
    {
     "name": "stdout",
     "output_type": "stream",
     "text": [
      "\u001b[36m(compute_reachable pid=1160918)\u001b[0m rip 31\u001b[32m [repeated 2x across cluster]\u001b[0m\n"
     ]
    },
    {
     "name": "stderr",
     "output_type": "stream",
     "text": [
      "\u001b[33m(raylet)\u001b[0m [2024-10-16 23:09:47,010 E 1160808 1160842] (raylet) file_system_monitor.cc:111: /tmp/ray/session_2024-10-16_22-07-03_931002_1158973 is over 95% full, available space: 5977092096; capacity: 185064833024. Object creation will fail if spilling is required.\n"
     ]
    },
    {
     "name": "stdout",
     "output_type": "stream",
     "text": [
      "\u001b[36m(compute_reachable pid=1160926)\u001b[0m rip 26\u001b[32m [repeated 7x across cluster]\u001b[0m\n"
     ]
    },
    {
     "name": "stderr",
     "output_type": "stream",
     "text": [
      "\u001b[33m(raylet)\u001b[0m [2024-10-16 23:09:57,017 E 1160808 1160842] (raylet) file_system_monitor.cc:111: /tmp/ray/session_2024-10-16_22-07-03_931002_1158973 is over 95% full, available space: 5977083904; capacity: 185064833024. Object creation will fail if spilling is required.\n"
     ]
    },
    {
     "name": "stdout",
     "output_type": "stream",
     "text": [
      "\u001b[36m(compute_reachable pid=1160919)\u001b[0m rip 36\u001b[32m [repeated 3x across cluster]\u001b[0m\n"
     ]
    },
    {
     "name": "stderr",
     "output_type": "stream",
     "text": [
      "\u001b[33m(raylet)\u001b[0m [2024-10-16 23:10:07,026 E 1160808 1160842] (raylet) file_system_monitor.cc:111: /tmp/ray/session_2024-10-16_22-07-03_931002_1158973 is over 95% full, available space: 5976948736; capacity: 185064833024. Object creation will fail if spilling is required.\n"
     ]
    },
    {
     "name": "stdout",
     "output_type": "stream",
     "text": [
      "\u001b[36m(compute_reachable pid=1160916)\u001b[0m rip 81\u001b[32m [repeated 5x across cluster]\u001b[0m\n"
     ]
    }
   ],
   "source": [
    "# sample states and compute reachability\n",
    "sp = Safe_Planner(r=7, n_samples = 1000, speed = 1, goal_f = [7,-2,0.5,0], world_box=np.array([[0,0],[8,8]]))\n",
    "sp.find_all_reachable()"
   ]
  },
  {
   "cell_type": "code",
   "execution_count": 3,
   "metadata": {},
   "outputs": [
    {
     "ename": "NameError",
     "evalue": "name 'sp' is not defined",
     "output_type": "error",
     "traceback": [
      "\u001b[0;31m---------------------------------------------------------------------------\u001b[0m",
      "\u001b[0;31mNameError\u001b[0m                                 Traceback (most recent call last)",
      "Cell \u001b[0;32mIn[3], line 3\u001b[0m\n\u001b[1;32m      1\u001b[0m \u001b[38;5;66;03m# save pre-computed data\u001b[39;00m\n\u001b[1;32m      2\u001b[0m f \u001b[38;5;241m=\u001b[39m \u001b[38;5;28mopen\u001b[39m(\u001b[38;5;124m'\u001b[39m\u001b[38;5;124mplanning/pre_compute/reachable_1_7.pkl\u001b[39m\u001b[38;5;124m'\u001b[39m, \u001b[38;5;124m'\u001b[39m\u001b[38;5;124mab\u001b[39m\u001b[38;5;124m'\u001b[39m)\n\u001b[0;32m----> 3\u001b[0m pickle\u001b[38;5;241m.\u001b[39mdump(\u001b[43msp\u001b[49m\u001b[38;5;241m.\u001b[39mreachable, f)\n\u001b[1;32m      4\u001b[0m f \u001b[38;5;241m=\u001b[39m \u001b[38;5;28mopen\u001b[39m(\u001b[38;5;124m'\u001b[39m\u001b[38;5;124mplanning/pre_compute/Pset_1_7.pkl\u001b[39m\u001b[38;5;124m'\u001b[39m, \u001b[38;5;124m'\u001b[39m\u001b[38;5;124mab\u001b[39m\u001b[38;5;124m'\u001b[39m)\n\u001b[1;32m      5\u001b[0m pickle\u001b[38;5;241m.\u001b[39mdump(sp\u001b[38;5;241m.\u001b[39mPset, f)\n",
      "\u001b[0;31mNameError\u001b[0m: name 'sp' is not defined"
     ]
    }
   ],
   "source": [
    "# save pre-computed data\n",
    "f = open('planning/pre_compute/reachable_1_7.pkl', 'ab')\n",
    "pickle.dump(sp.reachable, f)\n",
    "f = open('planning/pre_compute/Pset_1_7.pkl', 'ab')\n",
    "pickle.dump(sp.Pset, f)"
   ]
  },
  {
   "cell_type": "markdown",
   "metadata": {},
   "source": [
    "Load pre-computed data"
   ]
  },
  {
   "cell_type": "code",
   "execution_count": 4,
   "metadata": {},
   "outputs": [],
   "source": [
    "# load pre-computed data from file\n",
    "f = open('planning/pre_compute/Pset_1_7.pkl', 'rb')\n",
    "Pset = pickle.load(f)\n",
    "f = open('planning/pre_compute/reachable_1_7.pkl', 'rb')\n",
    "reachable = pickle.load(f)\n",
    "\n",
    "# initialize planner\n",
    "init_state = [4.8,0.8,0,0]\n",
    "sp = Safe_Planner(init_state=init_state,radius = 1,n_samples=len(Pset)-1,world_box=np.array([[0,0],[8,8]]), max_search_iter=500)\n",
    "\n",
    "# load pre-computed data to planner\n",
    "sp.load_reachable(Pset, reachable)"
   ]
  },
  {
   "cell_type": "markdown",
   "metadata": {},
   "source": [
    "Sample planning"
   ]
  },
  {
   "cell_type": "code",
   "execution_count": 5,
   "metadata": {},
   "outputs": [],
   "source": [
    "boxes = np.array([[[1,4],[3.5,6]],\n",
    "                  [[2,3],[2.5,3.5]],\n",
    "                  [[5.3,2.5],[6,3]]])\n",
    "state = np.array([init_state])\n",
    "res = sp.plan(state, boxes)\n",
    "# res[0] = idx of nodes in the path\n",
    "# res[1] = [x_trajectory]\n",
    "# res[2] = [u_trajectory]"
   ]
  },
  {
   "cell_type": "markdown",
   "metadata": {},
   "source": [
    "Plotting"
   ]
  },
  {
   "cell_type": "code",
   "execution_count": 6,
   "metadata": {},
   "outputs": [
    {
     "data": {
      "image/png": "[encoded data removed]",
      "text/plain": [
       "<Figure size 640x480 with 1 Axes>"
      ]
     },
     "metadata": {},
     "output_type": "display_data"
    }
   ],
   "source": [
    "# plots\n",
    "def plot_reachable(self, direction):\n",
    "    '''Plot reachability connections'''\n",
    "    _, ax = plt.subplots()\n",
    "    ax.set_xlim([0,self.world.w])\n",
    "    ax.set_ylim([0,self.world.h])\n",
    "    for i in range(self.n_samples):\n",
    "        ax.scatter(self.Pset[i][0],self.Pset[i][1],color = 'k',marker = '.')\n",
    "        if direction == 'F':\n",
    "            fset = self.reachable[i][1]\n",
    "            for j in range(len(fset[0])):\n",
    "                # show_trajectory(ax, self.Pset[i],\n",
    "                #                 self.Pset[fset[0][j]],fset[1][j],self.dt)\n",
    "                traj = self.reachable[i][1][3][j][0]\n",
    "                ax.plot(traj[:,0], traj[:,1], c='gray', linewidth=0.5)\n",
    "\n",
    "        elif direction == 'B':\n",
    "            bset = self.reachable[i][2]\n",
    "            for j in range(len(bset[0])):\n",
    "                # show_trajectory(ax, self.Pset[bset[0][j]],\n",
    "                #                 self.Pset[i],bset[1][j],self.dt)\n",
    "                traj = self.reachable[i][2][3][j][0]\n",
    "                ax.plot(traj[:,0], traj[:,1], c='gray', linewidth=0.5)\n",
    "    plt.show()\n",
    "\n",
    "plot_reachable(sp, \"F\")"
   ]
  }
 ],
 "metadata": {
  "kernelspec": {
   "display_name": "emily",
   "language": "python",
   "name": "python3"
  },
  "language_info": {
   "codemirror_mode": {
    "name": "ipython",
    "version": 3
   },
   "file_extension": ".py",
   "mimetype": "text/x-python",
   "name": "python",
   "nbconvert_exporter": "python",
   "pygments_lexer": "ipython3",
   "version": "3.11.10"
  }
 },
 "nbformat": 4,
 "nbformat_minor": 2
}
