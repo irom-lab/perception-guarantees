{
 "cells": [
  {
   "cell_type": "markdown",
   "metadata": {},
   "source": [
    "## Planning Architecture"
   ]
  },
  {
   "cell_type": "markdown",
   "metadata": {},
   "source": [
    "### Non-deterministic Filter\n",
    "At time step $t$, given estimates of bounding boxes of obstacles, we have:\n",
    "$\\hat{\\mathcal X_t}$ = estimate of the occupied space in the environment.\n",
    "\n",
    "With estimate from the previous time step, update the estimate as: \n",
    "$\\bar{\\mathcal X_t}=\\bar{\\mathcal X}_{t-1}\\cap\\hat{\\mathcal X_t}$"
   ]
  },
  {
   "cell_type": "code",
   "execution_count": null,
   "metadata": {},
   "outputs": [],
   "source": []
  },
  {
   "cell_type": "markdown",
   "metadata": {},
   "source": [
    "### Planning\n",
    "Plan path to goal for time step $t$, ensuring that we do not enter the ICS at time step $t+1$.\n",
    "- Simple planning (FMT*) if there is a collision free path to goal\n",
    "- Optimistic plan if there is no collision free path to goal (?)\n",
    "    - Replan at next time step\n",
    "        - Brake if no more plan\n",
    "\n",
    "- Choice of U: all unobserved space is free space (implemented in our filter)\n",
    "- Choice of ICS: figure out on Go1\n",
    "- Choice of intermediate goal: implement or just long-term goal -> no need to use\n",
    "- Choice of solver: FMT*"
   ]
  },
  {
   "cell_type": "code",
   "execution_count": null,
   "metadata": {},
   "outputs": [],
   "source": []
  },
  {
   "cell_type": "code",
   "execution_count": 2,
   "metadata": {},
   "outputs": [
    {
     "ename": "NameError",
     "evalue": "name 'np' is not defined",
     "output_type": "error",
     "traceback": [
      "\u001b[0;31m---------------------------------------------------------------------------\u001b[0m",
      "\u001b[0;31mNameError\u001b[0m                                 Traceback (most recent call last)",
      "Cell \u001b[0;32mIn[2], line 5\u001b[0m\n\u001b[1;32m      3\u001b[0m C1x \u001b[39m=\u001b[39m \u001b[39m0.35\u001b[39m;C1y \u001b[39m=\u001b[39m \u001b[39m0.6\u001b[39m;C1z \u001b[39m=\u001b[39m \u001b[39m0.6\u001b[39m;C2x\u001b[39m=\u001b[39m\u001b[39m0.45\u001b[39m;C2y\u001b[39m=\u001b[39m\u001b[39m0.7\u001b[39m;C2z\u001b[39m=\u001b[39m\u001b[39m0.7\u001b[39m\n\u001b[1;32m      4\u001b[0m D1x \u001b[39m=\u001b[39m \u001b[39m0.15\u001b[39m;D1y \u001b[39m=\u001b[39m \u001b[39m0.15\u001b[39m;D1z \u001b[39m=\u001b[39m \u001b[39m0.4\u001b[39m;D2x\u001b[39m=\u001b[39m\u001b[39m0.7\u001b[39m;D2y\u001b[39m=\u001b[39m\u001b[39m0.5\u001b[39m;D2z\u001b[39m=\u001b[39m\u001b[39m0.5\u001b[39m\n\u001b[0;32m----> 5\u001b[0m A \u001b[39m=\u001b[39m np\u001b[39m.\u001b[39marray([[A1x,A1y],[A2x,A2y]])\n\u001b[1;32m      6\u001b[0m B \u001b[39m=\u001b[39m np\u001b[39m.\u001b[39marray([[B1x,B1y],[B2x,B2y]])\n\u001b[1;32m      7\u001b[0m C \u001b[39m=\u001b[39m np\u001b[39m.\u001b[39marray([[C1x,C1y],[C2x,C2y]])\n",
      "\u001b[0;31mNameError\u001b[0m: name 'np' is not defined"
     ]
    }
   ],
   "source": [
    "A1x = 0.1;A1y = 0.1;A1z = 0.1;A2x=0.2;A2y=0.2;A2z=0.2\n",
    "B1x = 0.3;B1y = 0.3;B1z = 0.3;B2x=0.4;B2y=0.8;B2z=0.8\n",
    "C1x = 0.35;C1y = 0.6;C1z = 0.6;C2x=0.45;C2y=0.7;C2z=0.7\n",
    "D1x = 0.15;D1y = 0.15;D1z = 0.4;D2x=0.7;D2y=0.5;D2z=0.5\n",
    "A = np.array([[A1x,A1y],[A2x,A2y]])\n",
    "B = np.array([[B1x,B1y],[B2x,B2y]])\n",
    "C = np.array([[C1x,C1y],[C2x,C2y]])\n",
    "D = np.array([[D1x,D1y],[D2x,D2y]])\n",
    "\n",
    "occ_space = box_to_occ_space(A,B,C,D)\n",
    "\n",
    "xbar_prev = box_to_occ_space(A, B)\n",
    "xhat_now = box_to_occ_space(C, D)\n",
    "xbar_now = non_det_filter(xbar_prev, xhat_now)\n",
    "\n",
    "map_design = occ_to_map(xbar_now,1,1,0.01) # convert to map\n",
    "# map_design is image format, 1 = free, 0 = obstacle"
   ]
  },
  {
   "cell_type": "markdown",
   "metadata": {},
   "source": [
    "## Safety Planner\n",
    "- ICS includes left turn and right turn\n",
    "- Plans for intermediate goal"
   ]
  },
  {
   "cell_type": "code",
   "execution_count": 1,
   "metadata": {},
   "outputs": [],
   "source": [
    "import numpy as np\n",
    "xbar_now = np.array([[[0.15, 0.15],[0.2 , 0.2 ]],\n",
    "                     [[0.35, 0.6 ],[0.4 , 0.7 ]],\n",
    "                     [[0.3 , 0.3 ],[0.4 , 0.5 ]]])\n",
    "# import matplotlib.pyplot as plt\n",
    "# from matplotlib.patches import Rectangle\n",
    "# plt.rcParams['figure.figsize'] = [4,3]\n",
    "# from plan_func import *"
   ]
  },
  {
   "cell_type": "code",
   "execution_count": 2,
   "metadata": {},
   "outputs": [
    {
     "name": "stdout",
     "output_type": "stream",
     "text": [
      "Reached goal\n",
      "Reached goal\n",
      "Reached goal\n",
      "Reached goal\n",
      "Reached goal\n",
      "Reached goal\n",
      "Reached goal\n",
      "Reached goal\n",
      "Reached goal\n",
      "Reached goal\n",
      "Reached goal\n",
      "Reached goal\n",
      "Reached goal\n",
      "Reached goal\n",
      "Reached goal\n",
      "Reached goal\n",
      "Reached goal\n",
      "Reached goal\n",
      "Reached goal\n"
     ]
    },
    {
     "data": {
      "text/plain": [
       "{'path': array([[0.45      , 0.1       , 1.57079633],\n",
       "        [0.45055276, 0.16917499, 0.51138909],\n",
       "        [0.58416978, 0.25785055, 1.1542484 ],\n",
       "        [0.66213203, 0.31213203, 1.57079633]]),\n",
       " 'n_steps': 36,\n",
       " 'cost': 0.3245398343365964,\n",
       " 'goal_flag': 1}"
      ]
     },
     "execution_count": 2,
     "metadata": {},
     "output_type": "execute_result"
    }
   ],
   "source": [
    "from safety_planner import Safety_Planner\n",
    "safe_planner = Safety_Planner(xbar_now,[0.45,0.1,np.pi/2],[1,1,np.pi/2])\n",
    "safe_planner.plan()"
   ]
  },
  {
   "cell_type": "code",
   "execution_count": 3,
   "metadata": {},
   "outputs": [
    {
     "data": {
      "text/plain": [
       "array([0.66213203, 0.31213203])"
      ]
     },
     "execution_count": 3,
     "metadata": {},
     "output_type": "execute_result"
    }
   ],
   "source": [
    "safe_planner.subgoal"
   ]
  },
  {
   "cell_type": "code",
   "execution_count": 3,
   "metadata": {},
   "outputs": [],
   "source": [
    "\n",
    "from plan_func import *\n",
    "map_design = occ_to_map(xbar_now,safe_planner.w,safe_planner.h,safe_planner.dx) # convert to map\n",
    "planner = FMTPlanner(map_design)\n",
    "planner_dynamic = FMTPlanner_dynamics(map_design)"
   ]
  },
  {
   "cell_type": "code",
   "execution_count": 8,
   "metadata": {},
   "outputs": [
    {
     "name": "stdout",
     "output_type": "stream",
     "text": [
      "Reached goal\n"
     ]
    },
    {
     "data": {
      "text/plain": [
       "{'path': array([[0.25      , 0.1       , 1.57      ],\n",
       "        [0.25      , 0.1       , 0.7       ],\n",
       "        [0.30372182, 0.20827787, 0.9612305 ],\n",
       "        [0.36442534, 0.25518162, 0.61092685],\n",
       "        [0.44618474, 0.34519725, 0.66541138],\n",
       "        [0.45610057, 0.45057201, 0.98243575],\n",
       "        [0.47053519, 0.51735949, 0.91440496],\n",
       "        [0.54286776, 0.65390151, 0.95330382],\n",
       "        [0.6       , 0.8       , 1.57      ]]),\n",
       " 'n_steps': 67,\n",
       " 'cost': 0.804748498583836,\n",
       " 'goal_flag': 1}"
      ]
     },
     "execution_count": 8,
     "metadata": {},
     "output_type": "execute_result"
    }
   ],
   "source": [
    "planner_dynamic.plan([0.25,0.1,1.57],[0.6,0.8, 1.57])"
   ]
  },
  {
   "cell_type": "code",
   "execution_count": 13,
   "metadata": {},
   "outputs": [
    {
     "name": "stdout",
     "output_type": "stream",
     "text": [
      "[0.32073882691672, 0.17068251811053659, 1.57]\n",
      "Search failed\n",
      "2000\n",
      "Reached goal\n",
      "0.6884964021718232\n",
      "[0.46221648075016, 0.3120475543316098, 1.57]\n",
      "Search failed\n",
      "2000\n",
      "Reached goal\n",
      "0.507032432306489\n",
      "[0.6036941345836, 0.453412590552683, 1.57]\n",
      "Search failed\n",
      "2000\n",
      "Reached goal\n",
      "0.3466070960290974\n",
      "[0.7451717884170399, 0.5947776267737562, 1.57]\n",
      "Search failed\n",
      "2000\n",
      "Reached goal\n",
      "0.2513783415985027\n",
      "[0.8866494422504799, 0.7361426629948293, 1.57]\n",
      "Search failed\n",
      "2000\n",
      "Reached goal\n",
      "0.29367611791206855\n",
      "[0.15527864045000422, 0.2894427190999916, 1.57]\n",
      "Search failed\n",
      "2000\n",
      "Reached goal\n",
      "0.6770862756842785\n",
      "[0.06583592135001262, 0.4683281572999748, 1.57]\n",
      "Search failed\n",
      "2000\n",
      "Reached goal\n",
      "0.6287586772045537\n",
      "[0.46, 0.38, 1.57]\n",
      "Search failed\n",
      "2000\n",
      "Reached goal\n",
      "0.4427188724235731\n",
      "[0.5800000000000001, 0.54, 1.57]\n",
      "Search failed\n",
      "2000\n",
      "Reached goal\n",
      "0.260768096208106\n",
      "[0.7000000000000001, 0.7, 1.57]\n",
      "Search failed\n",
      "2000\n",
      "Reached goal\n",
      "0.14142135623730964\n",
      "[0.8200000000000001, 0.8600000000000001, 1.57]\n",
      "Search failed\n",
      "2000\n",
      "Reached goal\n",
      "0.2280350850198277\n",
      "[0.31240347345892083, 0.5992277876713668, 1.57]\n",
      "Search failed\n",
      "2000\n",
      "Reached goal\n",
      "0.35074384288512817\n",
      "[0.3372104203767625, 0.7976833630141003, 1.57]\n",
      "Search failed\n",
      "2000\n",
      "Reached goal\n",
      "0.26279979064961656\n"
     ]
    },
    {
     "data": {
      "text/plain": [
       "array([0.7, 0.7])"
      ]
     },
     "execution_count": 13,
     "metadata": {},
     "output_type": "execute_result"
    }
   ],
   "source": [
    "goal_inter(occ_space=xbar_now, world_box=np.array([[0,0],[1,1]]), \n",
    "           planner_dynamic=planner_dynamic, planner=planner,\n",
    "           start = [0.25,0.1,1.57], goal = [0.6,0.8,1.57], radius = 0.1, FoV = 1.57)"
   ]
  },
  {
   "cell_type": "code",
   "execution_count": 14,
   "metadata": {},
   "outputs": [],
   "source": [
    "def plot_frontier(occ_space, world_box, start, FoV):\n",
    "    segments_dict = find_frontier(occ_space, world_box, start, FoV)\n",
    "    # print(ray_angles)\n",
    "    # print(segments_dict)\n",
    "    candidates = find_candidates(segments_dict, 0.05)\n",
    "    fig, ax = plt.subplots()\n",
    "    ax.set_xlim([0,1])\n",
    "    ax.set_ylim([0,1])\n",
    "    for i in range(occ_space.shape[0]):\n",
    "        w = occ_space[i,1,0] - occ_space[i,0,0]\n",
    "        h = occ_space[i,1,1] - occ_space[i,0,1]\n",
    "        ax.add_patch(Rectangle(occ_space[i,0,:],w, h, edgecolor = 'k',fc=(0, 0.4470, 0.7410,0.5)))\n",
    "        # plt.axis('off')\n",
    "    # for angle in ray_angles:\n",
    "    #     ax.plot([start[0],start[0]+np.cos(angle)],[start[1],start[1]+np.sin(angle)],'r')\n",
    "    for segment in segments_dict.values():\n",
    "        ax.plot([segment[0,0],segment[1,0]],[segment[0,1],segment[1,1]])\n",
    "    ax.scatter(*zip(*candidates))\n",
    "    plt.show()"
   ]
  },
  {
   "cell_type": "code",
   "execution_count": null,
   "metadata": {},
   "outputs": [
    {
     "data": {
      "image/png": "[encoded data removed]",
      "text/plain": [
       "<Figure size 400x300 with 1 Axes>"
      ]
     },
     "metadata": {},
     "output_type": "display_data"
    }
   ],
   "source": [
    "plot_frontier(xbar_now, np.array([[0,0],[1,1]]), [0.25,0.1,np.pi/2], np.pi/2)"
   ]
  },
  {
   "cell_type": "code",
   "execution_count": null,
   "metadata": {},
   "outputs": [],
   "source": []
  },
  {
   "cell_type": "markdown",
   "metadata": {},
   "source": [
    "### With Dynamics"
   ]
  },
  {
   "cell_type": "code",
   "execution_count": null,
   "metadata": {},
   "outputs": [],
   "source": [
    "def go1_dynamics_forward(state_t,u,dt):\n",
    "    # state_t: [x_t, y_t, psi_t]\n",
    "    state_t1 = np.zeros(3)\n",
    "    state_t1[0] = state_t[0] + u[0]*np.cos(state_t[2])*dt\n",
    "    state_t1[1] = state_t[1] + u[0]*np.sin(state_t[2])*dt\n",
    "    state_t1[2] = state_t[2] + u[1]*dt\n",
    "    return state_t1"
   ]
  },
  {
   "cell_type": "code",
   "execution_count": null,
   "metadata": {},
   "outputs": [],
   "source": [
    "def go1_dynamics_backward(state_t,u,dt):\n",
    "    state_t1 = np.zeros(3)\n",
    "    state_t1[2] = state_t[2] - u[1]*dt\n",
    "    state_t1[1] = state_t[1] - u[0]*np.sin(state_t1[2])*dt\n",
    "    state_t1[0] = state_t[0] - u[0]*np.cos(state_t1[2])*dt\n",
    "    return state_t1"
   ]
  },
  {
   "cell_type": "code",
   "execution_count": null,
   "metadata": {},
   "outputs": [],
   "source": [
    "def visualize_result(map_design: np.ndarray, planner: FMTPlanner,\n",
    "                     path_info: dict) -> None:\n",
    "    plt.figure()\n",
    "    plt.imshow(map_design, cmap=\"gray\")\n",
    "    nx.draw_networkx(planner.graph, [x[0:2][::-1]/planner.dx for x in planner.node_list],\n",
    "            node_size=1,\n",
    "            alpha=.2,\n",
    "            with_labels=False)\n",
    "    path = path_info[\"path\"]\n",
    "    plt.plot(path[:, 1]/planner.dx, path[:, 0]/planner.dx, 'r-', lw=2)"
   ]
  },
  {
   "cell_type": "code",
   "execution_count": null,
   "metadata": {},
   "outputs": [
    {
     "name": "stdout",
     "output_type": "stream",
     "text": [
      "Reached goal\n"
     ]
    },
    {
     "ename": "AttributeError",
     "evalue": "'FMTPlanner' object has no attribute 'dx'",
     "output_type": "error",
     "traceback": [
      "\u001b[0;31m---------------------------------------------------------------------------\u001b[0m",
      "\u001b[0;31mAttributeError\u001b[0m                            Traceback (most recent call last)",
      "Cell \u001b[0;32mIn[15], line 1\u001b[0m\n\u001b[0;32m----> 1\u001b[0m visualize_result(map_design, planner, planner\u001b[39m.\u001b[39;49mplan([\u001b[39m0.1\u001b[39;49m,\u001b[39m0.1\u001b[39;49m,\u001b[39m0.7\u001b[39;49m],[\u001b[39m0.9\u001b[39;49m,\u001b[39m0.8\u001b[39;49m,\u001b[39m0\u001b[39;49m]))\n",
      "Cell \u001b[0;32mIn[14], line 5\u001b[0m, in \u001b[0;36mvisualize_result\u001b[0;34m(map_design, planner, path_info)\u001b[0m\n\u001b[1;32m      3\u001b[0m plt\u001b[39m.\u001b[39mfigure()\n\u001b[1;32m      4\u001b[0m plt\u001b[39m.\u001b[39mimshow(map_design, cmap\u001b[39m=\u001b[39m\u001b[39m\"\u001b[39m\u001b[39mgray\u001b[39m\u001b[39m\"\u001b[39m)\n\u001b[0;32m----> 5\u001b[0m nx\u001b[39m.\u001b[39mdraw_networkx(planner\u001b[39m.\u001b[39mgraph, [x[\u001b[39m0\u001b[39m:\u001b[39m2\u001b[39m][::\u001b[39m-\u001b[39m\u001b[39m1\u001b[39m]\u001b[39m/\u001b[39mplanner\u001b[39m.\u001b[39mdx \u001b[39mfor\u001b[39;00m x \u001b[39min\u001b[39;00m planner\u001b[39m.\u001b[39mnode_list],\n\u001b[1;32m      6\u001b[0m         node_size\u001b[39m=\u001b[39m\u001b[39m1\u001b[39m,\n\u001b[1;32m      7\u001b[0m         alpha\u001b[39m=\u001b[39m\u001b[39m.2\u001b[39m,\n\u001b[1;32m      8\u001b[0m         with_labels\u001b[39m=\u001b[39m\u001b[39mFalse\u001b[39;00m)\n\u001b[1;32m      9\u001b[0m path \u001b[39m=\u001b[39m path_info[\u001b[39m\"\u001b[39m\u001b[39mpath\u001b[39m\u001b[39m\"\u001b[39m]\n\u001b[1;32m     10\u001b[0m plt\u001b[39m.\u001b[39mplot(path[:, \u001b[39m1\u001b[39m]\u001b[39m/\u001b[39mplanner\u001b[39m.\u001b[39mdx, path[:, \u001b[39m0\u001b[39m]\u001b[39m/\u001b[39mplanner\u001b[39m.\u001b[39mdx, \u001b[39m'\u001b[39m\u001b[39mr-\u001b[39m\u001b[39m'\u001b[39m, lw\u001b[39m=\u001b[39m\u001b[39m2\u001b[39m)\n",
      "Cell \u001b[0;32mIn[14], line 5\u001b[0m, in \u001b[0;36m<listcomp>\u001b[0;34m(.0)\u001b[0m\n\u001b[1;32m      3\u001b[0m plt\u001b[39m.\u001b[39mfigure()\n\u001b[1;32m      4\u001b[0m plt\u001b[39m.\u001b[39mimshow(map_design, cmap\u001b[39m=\u001b[39m\u001b[39m\"\u001b[39m\u001b[39mgray\u001b[39m\u001b[39m\"\u001b[39m)\n\u001b[0;32m----> 5\u001b[0m nx\u001b[39m.\u001b[39mdraw_networkx(planner\u001b[39m.\u001b[39mgraph, [x[\u001b[39m0\u001b[39m:\u001b[39m2\u001b[39m][::\u001b[39m-\u001b[39m\u001b[39m1\u001b[39m]\u001b[39m/\u001b[39mplanner\u001b[39m.\u001b[39;49mdx \u001b[39mfor\u001b[39;00m x \u001b[39min\u001b[39;00m planner\u001b[39m.\u001b[39mnode_list],\n\u001b[1;32m      6\u001b[0m         node_size\u001b[39m=\u001b[39m\u001b[39m1\u001b[39m,\n\u001b[1;32m      7\u001b[0m         alpha\u001b[39m=\u001b[39m\u001b[39m.2\u001b[39m,\n\u001b[1;32m      8\u001b[0m         with_labels\u001b[39m=\u001b[39m\u001b[39mFalse\u001b[39;00m)\n\u001b[1;32m      9\u001b[0m path \u001b[39m=\u001b[39m path_info[\u001b[39m\"\u001b[39m\u001b[39mpath\u001b[39m\u001b[39m\"\u001b[39m]\n\u001b[1;32m     10\u001b[0m plt\u001b[39m.\u001b[39mplot(path[:, \u001b[39m1\u001b[39m]\u001b[39m/\u001b[39mplanner\u001b[39m.\u001b[39mdx, path[:, \u001b[39m0\u001b[39m]\u001b[39m/\u001b[39mplanner\u001b[39m.\u001b[39mdx, \u001b[39m'\u001b[39m\u001b[39mr-\u001b[39m\u001b[39m'\u001b[39m, lw\u001b[39m=\u001b[39m\u001b[39m2\u001b[39m)\n",
      "\u001b[0;31mAttributeError\u001b[0m: 'FMTPlanner' object has no attribute 'dx'"
     ]
    },
    {
     "data": {
      "image/png": "[encoded data removed]",
      "text/plain": [
       "<Figure size 400x300 with 1 Axes>"
      ]
     },
     "metadata": {},
     "output_type": "display_data"
    }
   ],
   "source": [
    "visualize_result(map_design, planner, planner.plan([0.1,0.1,0.7],[0.9,0.8,0]))"
   ]
  },
  {
   "cell_type": "code",
   "execution_count": null,
   "metadata": {},
   "outputs": [],
   "source": []
  }
 ],
 "metadata": {
  "kernelspec": {
   "display_name": "base",
   "language": "python",
   "name": "python3"
  },
  "language_info": {
   "codemirror_mode": {
    "name": "ipython",
    "version": 3
   },
   "file_extension": ".py",
   "mimetype": "text/x-python",
   "name": "python",
   "nbconvert_exporter": "python",
   "pygments_lexer": "ipython3",
   "version": "3.10.9"
  },
  "orig_nbformat": 4
 },
 "nbformat": 4,
 "nbformat_minor": 2
}
