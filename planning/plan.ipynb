{
 "cells": [
  {
   "cell_type": "code",
   "execution_count": 1,
   "metadata": {},
   "outputs": [],
   "source": [
    "import numpy as np\n",
    "import matplotlib.pyplot as plt\n",
    "from matplotlib.patches import Rectangle\n",
    "plt.rcParams['figure.figsize'] = [4,3]"
   ]
  },
  {
   "cell_type": "markdown",
   "metadata": {},
   "source": [
    "## Planning Architecture"
   ]
  },
  {
   "cell_type": "markdown",
   "metadata": {},
   "source": [
    "### Non-deterministic Filter\n",
    "At time step $t$, given estimates of bounding boxes of obstacles, we have:\n",
    "$\\hat{\\mathcal X_t}$ = estimate of the occupied space in the environment.\n",
    "\n",
    "With estimate from the previous time step, update the estimate as: \n",
    "$\\bar{\\mathcal X_t}=\\bar{\\mathcal X}_{t-1}\\cap\\hat{\\mathcal X_t}$"
   ]
  },
  {
   "cell_type": "code",
   "execution_count": 2,
   "metadata": {},
   "outputs": [],
   "source": [
    "def box_to_occ_space(*args):\n",
    "    # converts bounding box coordinates to occupied spaces\n",
    "    # use: box_to_occ_space(x_1, x_2, ..., x_n)\n",
    "    # args x_i: 2xd array of corner coords [[corners1_pred],[corners2_pred]] = [[x,y,z]_min,[x,y,z]_max] (for 3D)\n",
    "    # return x: nx2xd array of n sets of bounding box coordinates [x_1; x_2; ...; x_n]   \n",
    "    return np.array(args)"
   ]
  },
  {
   "cell_type": "code",
   "execution_count": 3,
   "metadata": {},
   "outputs": [],
   "source": [
    "A1x = 0.1;A1y = 0.1;A1z = 0.1;A2x=0.2;A2y=0.2;A2z=0.2\n",
    "B1x = 0.3;B1y = 0.3;B1z = 0.3;B2x=0.4;B2y=0.8;B2z=0.8\n",
    "C1x = 0.35;C1y = 0.6;C1z = 0.6;C2x=0.45;C2y=0.7;C2z=0.7\n",
    "D1x = 0.15;D1y = 0.15;D1z = 0.4;D2x=0.7;D2y=0.5;D2z=0.5\n",
    "A = np.array([[A1x,A1y],[A2x,A2y]])\n",
    "B = np.array([[B1x,B1y],[B2x,B2y]])\n",
    "C = np.array([[C1x,C1y],[C2x,C2y]])\n",
    "D = np.array([[D1x,D1y],[D2x,D2y]])\n",
    "\n",
    "occ_space = box_to_occ_space(A,B,C,D)"
   ]
  },
  {
   "cell_type": "code",
   "execution_count": 4,
   "metadata": {},
   "outputs": [],
   "source": [
    "def visualize_2d(occ_space):\n",
    "    fig, ax = plt.subplots()\n",
    "    for i in range(occ_space.shape[0]):\n",
    "        w = occ_space[i,1,0] - occ_space[i,0,0]\n",
    "        h = occ_space[i,1,1] - occ_space[i,0,1]\n",
    "        ax.add_patch(Rectangle(occ_space[i,0,:],w, h, edgecolor = 'k',fc=(0, 0.4470, 0.7410,0.5)))\n",
    "        # plt.axis('off')\n",
    "    plt.show()"
   ]
  },
  {
   "cell_type": "code",
   "execution_count": 5,
   "metadata": {},
   "outputs": [
    {
     "data": {
      "image/png": "[encoded data removed]",
      "text/plain": [
       "<Figure size 400x300 with 1 Axes>"
      ]
     },
     "metadata": {},
     "output_type": "display_data"
    }
   ],
   "source": [
    "visualize_2d(box_to_occ_space(A,B,C,D))"
   ]
  },
  {
   "cell_type": "code",
   "execution_count": 6,
   "metadata": {},
   "outputs": [],
   "source": [
    "def overlap(a, b): # 2d implementation\n",
    "    # returns area of overlap between two rectangles\n",
    "    # inputs: a, b, rectangles [[xmin, ymin], [xmax, ymax]] (2d)\n",
    "    # returns: overlapped rectangle, or a, b if no overlap\n",
    "\n",
    "    ab1x = max(a[0,0], b[0,0])\n",
    "    ab1y = max(a[0,1], b[0,1])\n",
    "\n",
    "    dx = min(a[1,0], b[1,0]) - ab1x\n",
    "    dy = min(a[1,1], b[1,1]) - ab1y\n",
    "    if (dx>=0) and (dy>=0):\n",
    "        return np.array([[[ab1x, ab1y], [ab1x+dx, ab1y+dy]]])\n",
    "    else:\n",
    "        # return np.array([a, b])\n",
    "        return None\n",
    "\n",
    "def non_det_filter(xbar_prev, xhat_now):\n",
    "    # implements non-deterministic filter\n",
    "    # inputs: xbar_prev, xhat_now\n",
    "    # xbar_prev: previous estimate of occ_space\n",
    "    # xhat_now: current estimate of occ_space\n",
    "    \n",
    "    # output: xbar_now, updated estimate of occ_space\n",
    "    ab_all = []\n",
    "    for a in xbar_prev:\n",
    "        for b in xhat_now:\n",
    "            # print(ab)\n",
    "            ab = overlap(a, b)\n",
    "            if (np.any(np.all(a == ab))) or (np.any(np.all(b == ab))) or (ab is None):\n",
    "                continue\n",
    "            else:\n",
    "                ab_all.append(ab)\n",
    "    xbar_now = np.concatenate(ab_all)\n",
    "    return xbar_now"
   ]
  },
  {
   "cell_type": "code",
   "execution_count": 7,
   "metadata": {},
   "outputs": [],
   "source": [
    "xbar_prev = box_to_occ_space(A, B)\n",
    "xhat_now = box_to_occ_space(C, D)\n",
    "xbar_now = non_det_filter(xbar_prev, xhat_now)"
   ]
  },
  {
   "cell_type": "code",
   "execution_count": 8,
   "metadata": {},
   "outputs": [
    {
     "data": {
      "image/png": "[encoded data removed]",
      "text/plain": [
       "<Figure size 400x300 with 1 Axes>"
      ]
     },
     "metadata": {},
     "output_type": "display_data"
    }
   ],
   "source": [
    "visualize_2d(xbar_now)\n",
    "# is this what we want..?"
   ]
  },
  {
   "cell_type": "markdown",
   "metadata": {},
   "source": [
    "### Planning\n",
    "Plan path to goal for time step $t$, ensuring that we do not enter the ICS at time step $t+1$.\n",
    "- Simple planning (FMT*) if there is a collision free path to goal\n",
    "- Optimistic plan if there is no collision free path to goal (?)\n",
    "    - Replan at next time step\n",
    "        - Brake if no more plan\n",
    "\n",
    "- Choice of U: all unobserved space is free space (implemented in our filter)\n",
    "- Choice of ICS: figure out on Go1\n",
    "- Choice of intermediate goal: implement or just long-term goal -> no need to use\n",
    "- Choice of solver: FMT*"
   ]
  },
  {
   "cell_type": "markdown",
   "metadata": {},
   "source": [
    "### Planning\n",
    "Plan path to goal for time step $t$, ensuring that we do not enter the ICS at time step $t+1$.\n",
    "- Inputs\n",
    "    - `occ_space`: nx2xd array of bounding boxes of obstacles\n",
    "        - n = # of boxes\n",
    "        - 2 = corner_min, corner_max\n",
    "        - d = 2d or 3d (only 2d implementation for now)\n",
    "    - `start`: [x,y] of current location\n",
    "    - `goal`: [x,y] of goal location\n",
    "- Outputs\n",
    "    - `path_info`: if exist, in order\n",
    "        - collision-free path to goal\n",
    "        - path to goal with no collision at next time step\n",
    "        - brake"
   ]
  },
  {
   "cell_type": "code",
   "execution_count": 13,
   "metadata": {},
   "outputs": [],
   "source": [
    "import fmt.fmt"
   ]
  },
  {
   "cell_type": "code",
   "execution_count": null,
   "metadata": {},
   "outputs": [],
   "source": [
    "def occ_to_map(occ_space):\n",
    "    # converts rectangle coordinates to map\n",
    "    return occ_space"
   ]
  },
  {
   "cell_type": "code",
   "execution_count": 14,
   "metadata": {},
   "outputs": [],
   "source": [
    "def ICS(occ_space):\n",
    "    # dependent on dynamics\n",
    "    # returns new occupancy space with ICS included\n",
    "    brake_dist = 0 #placeholder\n",
    "    return occ_space + brake_dist #placeholder\n"
   ]
  },
  {
   "cell_type": "code",
   "execution_count": null,
   "metadata": {},
   "outputs": [],
   "source": [
    "def goal_inter(occ_space, planner, start, goal, radius):\n",
    "    \"\"\"Returns best intermediate goal to explore\"\"\"\n",
    "    frontier = [] # list of [x_start, y_start, x_end, y_end]\n",
    "    candidates = [] # list of segment midpoints\n",
    "    for subgoal in candidates:\n",
    "        cost_to_come = planner.plan(start, subgoal)['cost']\n",
    "        cost_to_go = planner.plan(subgoal, goal)['cost']"
   ]
  },
  {
   "cell_type": "code",
   "execution_count": null,
   "metadata": {},
   "outputs": [],
   "source": [
    "def plan(occ_space, start, goal):\n",
    "    \"\"\"\n",
    "    safe path: collision free, never enters ICS\n",
    "    Returns a safe path to goal if there exists one\n",
    "    Returns a safe path to intermediate goal if there is no direct path to goal\n",
    "    \"\"\"\n",
    "    occ_ics = ICS(occ_space) # add ICS\n",
    "    map_design = occ_to_map(occ_ics) # convert to map\n",
    "    planner = fmt.FMTPlanner(map_design, n_samples=1000, r_n=20, path_resolution=0.1, rr=1.0, max_search_iter=10000)\n",
    "    path_info = planner.plan(start, goal) # plan collision-free path to goal\n",
    "    if path_info['goal_flag'] == 0:\n",
    "        path_temp = planner.plan(start, goal, optimistic = True) # plan path to goal with no collision at t+1\n",
    "        # TODO: collision check at t+1\n",
    "        if path_temp['goal_flag'] == 0:\n",
    "            # TODO: check if goal flag is always 0\n",
    "            return 'brake'\n",
    "        else:\n",
    "            return path_temp\n",
    "    else:\n",
    "        return path_info['path']"
   ]
  }
 ],
 "metadata": {
  "kernelspec": {
   "display_name": "base",
   "language": "python",
   "name": "python3"
  },
  "language_info": {
   "codemirror_mode": {
    "name": "ipython",
    "version": 3
   },
   "file_extension": ".py",
   "mimetype": "text/x-python",
   "name": "python",
   "nbconvert_exporter": "python",
   "pygments_lexer": "ipython3",
   "version": "3.10.9"
  },
  "orig_nbformat": 4
 },
 "nbformat": 4,
 "nbformat_minor": 2
}
