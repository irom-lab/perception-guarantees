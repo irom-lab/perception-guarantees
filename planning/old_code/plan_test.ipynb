{
 "cells": [
  {
   "cell_type": "markdown",
   "metadata": {},
   "source": [
    "## Planning Architecture"
   ]
  },
  {
   "cell_type": "markdown",
   "metadata": {},
   "source": [
    "### Non-deterministic Filter\n",
    "At time step $t$, given estimates of bounding boxes of obstacles, we have:\n",
    "$\\hat{\\mathcal X_t}$ = estimate of the occupied space in the environment.\n",
    "\n",
    "With estimate from the previous time step, update the estimate as: \n",
    "$\\bar{\\mathcal X_t}=\\bar{\\mathcal X}_{t-1}\\cap\\hat{\\mathcal X_t}$"
   ]
  },
  {
   "cell_type": "markdown",
   "metadata": {},
   "source": [
    "### Planning\n",
    "Plan path to goal for time step $t$, ensuring that we do not enter the ICS at time step $t+1$.\n",
    "- Simple planning (FMT*) if there is a collision free path to goal\n",
    "- Optimistic plan if there is no collision free path to goal (?)\n",
    "    - Replan at next time step\n",
    "        - Brake if no more plan\n",
    "\n",
    "- Choice of U: all unobserved space is free space (implemented in our filter)\n",
    "- Choice of ICS: figure out on Go1\n",
    "- Choice of intermediate goal: implement or just long-term goal -> no need to use\n",
    "- Choice of solver: FMT*"
   ]
  },
  {
   "cell_type": "markdown",
   "metadata": {},
   "source": [
    "## Map"
   ]
  },
  {
   "cell_type": "code",
   "execution_count": 91,
   "metadata": {},
   "outputs": [],
   "source": [
    "import numpy as np\n",
    "from plan_func import box_to_occ_space, non_det_filter, occ_to_map\n",
    "A1x = 0.1;A1y = 0.1;A1z = 0.1;A2x=0.2;A2y=0.2;A2z=0.2\n",
    "B1x = 0.3;B1y = 0.3;B1z = 0.3;B2x=0.4;B2y=0.8;B2z=0.8\n",
    "C1x = 0.35;C1y = 0.6;C1z = 0.6;C2x=0.45;C2y=0.7;C2z=0.7\n",
    "D1x = 0.15;D1y = 0.15;D1z = 0.4;D2x=0.7;D2y=0.5;D2z=0.5\n",
    "A = np.array([[A1x,A1y],[A2x,A2y]])\n",
    "B = np.array([[B1x,B1y],[B2x,B2y]])\n",
    "C = np.array([[C1x,C1y],[C2x,C2y]])\n",
    "D = np.array([[D1x,D1y],[D2x,D2y]])\n",
    "\n",
    "occ_space = box_to_occ_space(A,B,C,D)\n",
    "\n",
    "xbar_prev = box_to_occ_space(A, B)\n",
    "xhat_now = box_to_occ_space(C, D)\n",
    "xbar_now = non_det_filter(xbar_prev, xhat_now)\n",
    "\n",
    "map_design = occ_to_map(xbar_now,1,1,0.01) # convert to map\n",
    "# map_design is image format, 1 = free, 0 = obstacle"
   ]
  },
  {
   "cell_type": "markdown",
   "metadata": {},
   "source": [
    "## Safety Planner\n",
    "- ICS includes left turn and right turn\n",
    "- Plans for intermediate goal"
   ]
  },
  {
   "cell_type": "code",
   "execution_count": null,
   "metadata": {},
   "outputs": [],
   "source": [
    "import numpy as np\n",
    "from safety_planner import Safety_Planner"
   ]
  },
  {
   "cell_type": "code",
   "execution_count": 2,
   "metadata": {},
   "outputs": [],
   "source": [
    "xbar_now = np.array([[[0.15, 0.15],[0.2 , 0.2 ]],\n",
    "                     [[0.35, 0.6 ],[0.4 , 0.7 ]],\n",
    "                     [[0.3 , 0.3 ],[0.4 , 0.5 ]]])\n",
    "# import matplotlib.pyplot as plt\n",
    "# from matplotlib.patches import Rectangle\n",
    "# plt.rcParams['figure.figsize'] = [4,3]\n",
    "# from plan_func import *"
   ]
  },
  {
   "cell_type": "code",
   "execution_count": 90,
   "metadata": {},
   "outputs": [
    {
     "name": "stdout",
     "output_type": "stream",
     "text": [
      "Reached goal\n"
     ]
    },
    {
     "data": {
      "text/plain": [
       "{'path': array([[ 45.        ,  10.        ,   1.57079633],\n",
       "        [ 45.05527639,  16.91749945,   0.51138909],\n",
       "        [ 48.16370282,  21.25342021,   1.31681681],\n",
       "        [ 49.43232216,  40.60483605,   0.66571712],\n",
       "        [ 52.3996071 ,  44.03625885,   2.10327785],\n",
       "        [ 43.29305855,  58.31126288,   2.19174828],\n",
       "        [ 40.23031731,  72.99006201,   2.79032708],\n",
       "        [ 33.8338649 ,  74.27507415,   1.88807123],\n",
       "        [ 28.44021287,  91.52241577,   2.55971431],\n",
       "        [ 20.        , 100.        ,   1.57079633]]),\n",
       " 'n_steps': 763,\n",
       " 'cost': 104.66744521134355,\n",
       " 'goal_flag': 1}"
      ]
     },
     "execution_count": 90,
     "metadata": {},
     "output_type": "execute_result"
    }
   ],
   "source": [
    "safe_planner = Safety_Planner(xbar_now,[0.45,0.1,np.pi/2],[0.2,1,np.pi/2])\n",
    "safe_planner.plan()"
   ]
  },
  {
   "cell_type": "code",
   "execution_count": 3,
   "metadata": {},
   "outputs": [],
   "source": [
    "from plan_func import *\n",
    "map_design = occ_to_map(xbar_now,safe_planner.w,safe_planner.h,safe_planner.dx) # convert to map\n",
    "planner = FMTPlanner(map_design)\n",
    "planner_dynamic = FMTPlanner_dynamics(map_design)"
   ]
  },
  {
   "cell_type": "code",
   "execution_count": 8,
   "metadata": {},
   "outputs": [
    {
     "name": "stdout",
     "output_type": "stream",
     "text": [
      "Reached goal\n"
     ]
    },
    {
     "data": {
      "text/plain": [
       "{'path': array([[0.25      , 0.1       , 1.57      ],\n",
       "        [0.25      , 0.1       , 0.7       ],\n",
       "        [0.30372182, 0.20827787, 0.9612305 ],\n",
       "        [0.36442534, 0.25518162, 0.61092685],\n",
       "        [0.44618474, 0.34519725, 0.66541138],\n",
       "        [0.45610057, 0.45057201, 0.98243575],\n",
       "        [0.47053519, 0.51735949, 0.91440496],\n",
       "        [0.54286776, 0.65390151, 0.95330382],\n",
       "        [0.6       , 0.8       , 1.57      ]]),\n",
       " 'n_steps': 67,\n",
       " 'cost': 0.804748498583836,\n",
       " 'goal_flag': 1}"
      ]
     },
     "execution_count": 8,
     "metadata": {},
     "output_type": "execute_result"
    }
   ],
   "source": [
    "planner_dynamic.plan([0.25,0.1,1.57],[0.6,0.8, 1.57])"
   ]
  },
  {
   "cell_type": "code",
   "execution_count": 13,
   "metadata": {},
   "outputs": [
    {
     "name": "stdout",
     "output_type": "stream",
     "text": [
      "[0.32073882691672, 0.17068251811053659, 1.57]\n",
      "Search failed\n",
      "2000\n",
      "Reached goal\n",
      "0.6884964021718232\n",
      "[0.46221648075016, 0.3120475543316098, 1.57]\n",
      "Search failed\n",
      "2000\n",
      "Reached goal\n",
      "0.507032432306489\n",
      "[0.6036941345836, 0.453412590552683, 1.57]\n",
      "Search failed\n",
      "2000\n",
      "Reached goal\n",
      "0.3466070960290974\n",
      "[0.7451717884170399, 0.5947776267737562, 1.57]\n",
      "Search failed\n",
      "2000\n",
      "Reached goal\n",
      "0.2513783415985027\n",
      "[0.8866494422504799, 0.7361426629948293, 1.57]\n",
      "Search failed\n",
      "2000\n",
      "Reached goal\n",
      "0.29367611791206855\n",
      "[0.15527864045000422, 0.2894427190999916, 1.57]\n",
      "Search failed\n",
      "2000\n",
      "Reached goal\n",
      "0.6770862756842785\n",
      "[0.06583592135001262, 0.4683281572999748, 1.57]\n",
      "Search failed\n",
      "2000\n",
      "Reached goal\n",
      "0.6287586772045537\n",
      "[0.46, 0.38, 1.57]\n",
      "Search failed\n",
      "2000\n",
      "Reached goal\n",
      "0.4427188724235731\n",
      "[0.5800000000000001, 0.54, 1.57]\n",
      "Search failed\n",
      "2000\n",
      "Reached goal\n",
      "0.260768096208106\n",
      "[0.7000000000000001, 0.7, 1.57]\n",
      "Search failed\n",
      "2000\n",
      "Reached goal\n",
      "0.14142135623730964\n",
      "[0.8200000000000001, 0.8600000000000001, 1.57]\n",
      "Search failed\n",
      "2000\n",
      "Reached goal\n",
      "0.2280350850198277\n",
      "[0.31240347345892083, 0.5992277876713668, 1.57]\n",
      "Search failed\n",
      "2000\n",
      "Reached goal\n",
      "0.35074384288512817\n",
      "[0.3372104203767625, 0.7976833630141003, 1.57]\n",
      "Search failed\n",
      "2000\n",
      "Reached goal\n",
      "0.26279979064961656\n"
     ]
    },
    {
     "data": {
      "text/plain": [
       "array([0.7, 0.7])"
      ]
     },
     "execution_count": 13,
     "metadata": {},
     "output_type": "execute_result"
    }
   ],
   "source": [
    "goal_inter(occ_space=xbar_now, world_box=np.array([[0,0],[1,1]]), \n",
    "           planner_dynamic=planner_dynamic, planner=planner,\n",
    "           start = [0.25,0.1,1.57], goal = [0.6,0.8,1.57], radius = 0.1, FoV = 1.57)"
   ]
  },
  {
   "cell_type": "code",
   "execution_count": null,
   "metadata": {},
   "outputs": [
    {
     "data": {
      "image/png": "[encoded data removed]",
      "text/plain": [
       "<Figure size 400x300 with 1 Axes>"
      ]
     },
     "metadata": {},
     "output_type": "display_data"
    }
   ],
   "source": [
    "plot_frontier(xbar_now, np.array([[0,0],[1,1]]), [0.25,0.1,np.pi/2], np.pi/2)"
   ]
  },
  {
   "cell_type": "markdown",
   "metadata": {},
   "source": [
    "## Trajectory Stuff"
   ]
  },
  {
   "cell_type": "code",
   "execution_count": 1,
   "metadata": {},
   "outputs": [],
   "source": [
    "import numpy as np\n",
    "import scipy\n",
    "import matplotlib.pyplot as plt"
   ]
  },
  {
   "cell_type": "code",
   "execution_count": 2,
   "metadata": {},
   "outputs": [],
   "source": [
    "k1= 0.1;k2= 0.2\n",
    "A = np.array([[0,0,1,0],[0,0,0,1],[0,0,-k1,0],[0,0,0,-k2]])\n",
    "B = np.array([[0,0],[0,0],[k1,0],[0,k2]])\n",
    "R = np.array([[0.1,0],[0,0.1]])\n",
    "\n",
    "# state = [x,y,vx,vy]\n",
    "# control = [ux,uy] # velocity\n",
    "\n",
    "# now want to generate optimal trajectory + controls between state0 and state1"
   ]
  },
  {
   "cell_type": "code",
   "execution_count": 57,
   "metadata": {},
   "outputs": [
    {
     "data": {
      "text/plain": [
       "array([13.3341123 ,  4.23964351, -5.23427559, -1.2759901 ])"
      ]
     },
     "execution_count": 57,
     "metadata": {},
     "output_type": "execute_result"
    }
   ],
   "source": [
    "tau = 1\n",
    "def g(t,dt):\n",
    "    G = np.zeros((4,4))\n",
    "    for t_prime in np.arange(0,t,dt):\n",
    "        G += dt*scipy.linalg.expm(A*t_prime)@B@B.T@scipy.linalg.expm(A.T*t_prime)\n",
    "    return G\n",
    "\n",
    "def d(t,dt,s0,s1):\n",
    "    sbar = scipy.linalg.expm(A*t)@s0\n",
    "    return scipy.linalg.inv(g(t,dt))@(s1-sbar)\n",
    "\n",
    "d(1,0.1,np.array([0,0,0,0]),np.array([1,1,0,0]))"
   ]
  },
  {
   "cell_type": "code",
   "execution_count": 20,
   "metadata": {},
   "outputs": [],
   "source": [
    "from scipy.integrate import quad_vec\n",
    "from scipy.linalg import expm"
   ]
  },
  {
   "cell_type": "code",
   "execution_count": 21,
   "metadata": {},
   "outputs": [],
   "source": [
    "def gramian(t):\n",
    "    def integrand(s):\n",
    "        return expm(A*s)@B@R@B.T@expm(A.T*s)\n",
    "    return quad_vec(integrand, 0, t)[0]\n",
    "\n",
    "def d(t,s0,s1):\n",
    "    return scipy.linalg.inv(gramian(t))@(s1 - expm(A*t)@s0)"
   ]
  },
  {
   "cell_type": "code",
   "execution_count": 22,
   "metadata": {},
   "outputs": [],
   "source": [
    "# turn julia code into python syntax\n",
    "def gen_trajectory(s0, s1, tau, dt):\n",
    "    \n",
    "    # integrating directly\n",
    "    # in RRT* paper, they use Runge-Kutta to solve ODE\n",
    "    # G = np.zeros((4,4))\n",
    "    # for t_prime in np.arange(0,tau,dt):\n",
    "    #     G += dt*scipy.linalg.expm(A*t_prime)@B@B.T@scipy.linalg.expm(A.T*t_prime)\n",
    "    \n",
    "    sbar = expm(A*tau)@s0\n",
    "    d = scipy.linalg.inv(gramian(tau))@(s1 - expm(A*tau)@s0)\n",
    "    \n",
    "    block_mat = scipy.sparse.bmat([[A,B@B.T],[None,-A.T]]).toarray()\n",
    "    block_vec = np.hstack([s1,d])\n",
    "    \n",
    "    def f(t):\n",
    "        return scipy.linalg.expm(block_mat*(t-tau))@(block_vec)\n",
    "    \n",
    "    waypoints = []\n",
    "    for t_prime in np.arange(0,tau,dt):\n",
    "        waypoints.append(f(t_prime))\n",
    "    \n",
    "    x_waypoints = [waypoint[0:4] for waypoint in waypoints]\n",
    "    u_waypoints = [B.T@waypoint[4:] for waypoint in waypoints]\n",
    "\n",
    "    return x_waypoints,u_waypoints\n"
   ]
  },
  {
   "cell_type": "code",
   "execution_count": 65,
   "metadata": {},
   "outputs": [
    {
     "data": {
      "text/plain": [
       "array([1, 2, 3, 4, 5, 6])"
      ]
     },
     "execution_count": 65,
     "metadata": {},
     "output_type": "execute_result"
    }
   ],
   "source": [
    "np.hstack([np.array([1,2,3]),np.array([4,5,6])]).T"
   ]
  },
  {
   "cell_type": "code",
   "execution_count": 28,
   "metadata": {},
   "outputs": [
    {
     "data": {
      "text/plain": [
       "([array([-2.22044605e-16, -3.55271368e-15,  6.66133815e-16,  7.10542736e-15]),\n",
       "  array([0.01450587, 0.13916548, 0.28510235, 2.68400367]),\n",
       "  array([0.05601792, 0.51695626, 0.54012797, 4.7726652 ]),\n",
       "  array([0.12152976, 1.07388189, 0.76510235, 6.2668201 ]),\n",
       "  array([0.20803743, 1.75052358, 0.96004798, 7.16706605]),\n",
       "  array([0.31253905, 2.48751041, 1.12498438, 7.47376315]),\n",
       "  array([0.43203455, 3.2254956 , 1.25992802, 7.18703409]),\n",
       "  array([0.56352535, 3.90513279, 1.3648924 , 6.30676416]),\n",
       "  array([0.70401408, 4.46705227, 1.43988803, 4.83260127]),\n",
       "  array([0.85050425, 4.85183722, 1.48492239, 2.76395571])],\n",
       " [array([ 30.01499774, 149.10063728]),\n",
       "  array([ 27.29105072, 121.9926797 ]),\n",
       "  array([24.53972757, 94.33710505]),\n",
       "  array([21.76075317, 66.12285073]),\n",
       "  array([18.95384961, 37.33863067]),\n",
       "  array([16.1187362 ,  7.97293079]),\n",
       "  array([ 13.25512943, -21.98599558]),\n",
       "  array([ 10.36274293, -52.55013241]),\n",
       "  array([  7.44128746, -83.73170576]),\n",
       "  array([   4.49047088, -115.54318867])])"
      ]
     },
     "execution_count": 28,
     "metadata": {},
     "output_type": "execute_result"
    }
   ],
   "source": [
    "gen_trajectory(np.array([0,0,0,0]),np.array([1,5,1.5,0.1]),1,0.1)"
   ]
  },
  {
   "cell_type": "code",
   "execution_count": 39,
   "metadata": {},
   "outputs": [],
   "source": [
    "def show_trajectory(s0, s1, tau, dt, c_='gray', linewidth_=0.5):\n",
    "    x_waypoints,_ = gen_trajectory(s0, s1, tau, dt)\n",
    "    M = np.zeros((4, int(np.ceil(tau/dt))))\n",
    "    for i in range(len(x_waypoints)):\n",
    "        M[:, i] = x_waypoints[i]\n",
    "    # print(M)\n",
    "    plt.plot(M[0, :], M[1, :], c=c_, linewidth=linewidth_)\n",
    "    plt.show()"
   ]
  },
  {
   "cell_type": "code",
   "execution_count": 40,
   "metadata": {},
   "outputs": [
    {
     "data": {
      "image/png": "[encoded data removed]",
      "text/plain": [
       "<Figure size 640x480 with 1 Axes>"
      ]
     },
     "metadata": {},
     "output_type": "display_data"
    }
   ],
   "source": [
    "show_trajectory(np.array([0,0,0,0]),np.array([1,5,1.5,0.1]),1,0.01)"
   ]
  },
  {
   "cell_type": "markdown",
   "metadata": {},
   "source": [
    "## Dynamics"
   ]
  },
  {
   "cell_type": "code",
   "execution_count": null,
   "metadata": {},
   "outputs": [],
   "source": [
    "def go1_yaw_dynamics_forward(state_t,u,dt):\n",
    "    # state_t: [x_t, y_t, psi_t]\n",
    "    state_t1 = np.zeros(3)\n",
    "    state_t1[0] = state_t[0] + u[0]*np.cos(state_t[2])*dt\n",
    "    state_t1[1] = state_t[1] + u[0]*np.sin(state_t[2])*dt\n",
    "    state_t1[2] = state_t[2] + u[1]*dt\n",
    "    return state_t1\n",
    "\n",
    "def go1_yaw_dynamics_backward(state_t,u,dt):\n",
    "    state_t1 = np.zeros(3)\n",
    "    state_t1[2] = state_t[2] - u[1]*dt\n",
    "    state_t1[1] = state_t[1] - u[0]*np.sin(state_t1[2])*dt\n",
    "    state_t1[0] = state_t[0] - u[0]*np.cos(state_t1[2])*dt\n",
    "    return state_t1"
   ]
  },
  {
   "cell_type": "code",
   "execution_count": 19,
   "metadata": {},
   "outputs": [],
   "source": [
    "from scipy.integrate import quad_vec\n",
    "import numpy as np\n",
    "from scipy.linalg import expm\n",
    "from scipy.optimize import minimize\n",
    "import matplotlib.pyplot as plt\n",
    "\n",
    "k1= 0.1;k2= 0.2\n",
    "A = np.array([[0,0,1,0],[0,0,0,1],[0,0,-k1,0],[0,0,0,-k2]])\n",
    "B = np.array([[0,0],[0,0],[k1,0],[0,k2]])\n",
    "R = np.array([[0.1,0],[0,0.1]])"
   ]
  },
  {
   "cell_type": "code",
   "execution_count": 20,
   "metadata": {},
   "outputs": [
    {
     "data": {
      "text/plain": [
       "(array([-0.01,  0.01]),\n",
       " array([-0.01,  0.01]),\n",
       " array([-0.01,  1.01]),\n",
       " array([-0.01,  2.01]))"
      ]
     },
     "execution_count": 20,
     "metadata": {},
     "output_type": "execute_result"
    }
   ],
   "source": [
    "def forward_box_time(state, dt, ux_range, uy_range):\n",
    "    # state = [x,y,vx,vy]\n",
    "    # control = [ux,uy] # velocity\n",
    "    # ux_range = [ux_min, ux_max]\n",
    "    # uy_range = [uy_min, uy_max]\n",
    "    scale = 0.01 # TODO: arbitrary\n",
    "    state1_min = state + (A@state+B@np.array([min(ux_range),min(uy_range)]))*dt\n",
    "    state1_max = state + (A@state+B@np.array([max(ux_range),max(uy_range)]))*dt\n",
    "\n",
    "    def join(xmin,xmax):\n",
    "        return np.array([min(xmin,xmax)-scale,max(xmin,xmax)+scale])\n",
    "\n",
    "    # x1 = state[0] + state[2]*dt + np.array([-1,1])*scale\n",
    "    # y1 = state[1] + state[3]*dt + np.array([-1,1])*scale\n",
    "    # vx1 = state[2] - k1*state[2]*dt + k1*ux_range*dt\n",
    "    # vy1 = state[3] - k2*state[3]*dt + k2*uy_range*dt\n",
    "    return join(state1_min[0],state1_max[0]),join(state1_min[1],state1_max[1]),join(state1_min[2],state1_max[2]),join(state1_min[3],state1_max[3])\n",
    "\n",
    "forward_box_time(np.array([0,0,0,0]),10,np.array([0,1]),np.array([0,1]))"
   ]
  },
  {
   "cell_type": "code",
   "execution_count": 21,
   "metadata": {},
   "outputs": [
    {
     "data": {
      "text/plain": [
       "(array([-0.06555556,  0.06555556]),\n",
       " array([-0.135,  0.135]),\n",
       " array([ 0.05555556, -0.05555556]),\n",
       " array([ 0.125, -0.125]))"
      ]
     },
     "execution_count": 21,
     "metadata": {},
     "output_type": "execute_result"
    }
   ],
   "source": [
    "def backward_box_time(state, dt, ux_range,uy_range):\n",
    "    # state = [x,y,vx,vy]\n",
    "    # control = [ux,uy] # velocity\n",
    "    # ux_range = [ux_min, ux_max]\n",
    "    # uy_range = [uy_min, uy_max]\n",
    "    scale = 0.01 # TODO: arbitrary, to avoid finding no point at all\n",
    "    vx1 = (state[2] - k1*ux_range*dt)/(1-k1*dt)\n",
    "    vy1 = (state[3] - k2*uy_range*dt)/(1-k2*dt)\n",
    "    x1 = state[0] - vx1*dt + np.array([-1,1])*scale\n",
    "    y1 = state[1] - vy1*dt + np.array([-1,1])*scale\n",
    "    return x1,y1,vx1,vy1\n",
    "\n",
    "backward_box_time(np.array([0,0,0.05,0.1]),1,np.array([0,1]),np.array([0,1]))"
   ]
  },
  {
   "cell_type": "code",
   "execution_count": 22,
   "metadata": {},
   "outputs": [
    {
     "data": {
      "text/plain": [
       "(5, 5, -5, -5)"
      ]
     },
     "execution_count": 22,
     "metadata": {},
     "output_type": "execute_result"
    }
   ],
   "source": [
    "def forward_box(state, r, u_range):\n",
    "    umax = max(u_range)\n",
    "    umin = min(u_range)\n",
    "    xmax,ymax = state[0:2] + r*np.array([umax,umax])\n",
    "    xmin,ymin = state[0:2] + r*np.array([umin,umin])\n",
    "    return xmax,ymax,xmin,ymin\n",
    "forward_box(np.array([0,0,0,0]),5,np.array([-1,1]))"
   ]
  },
  {
   "cell_type": "code",
   "execution_count": 23,
   "metadata": {},
   "outputs": [],
   "source": [
    "def backward_box(state, r, u_range):\n",
    "    umax = max(u_range)\n",
    "    umin = min(u_range)\n",
    "    xmax,ymax = state[0:2] - r*np.array([umin,umin])\n",
    "    xmin,ymin = state[0:2] - r*np.array([umax,umax])\n",
    "    return xmax,ymax,xmin,ymin"
   ]
  },
  {
   "cell_type": "code",
   "execution_count": 24,
   "metadata": {},
   "outputs": [],
   "source": [
    "def gramian(t):\n",
    "    def integrand(s):\n",
    "        return expm(A*s)@B@np.linalg.inv(R)@B.T@expm(A.T*s)\n",
    "    return quad_vec(integrand, 0, t)[0]"
   ]
  },
  {
   "cell_type": "code",
   "execution_count": 25,
   "metadata": {},
   "outputs": [],
   "source": [
    "def cost_optimal(state0, state1):\n",
    "    def cost(t):\n",
    "        x = state1-expm(A*t)@state0\n",
    "        c =t+x.T@np.linalg.inv(gramian(t))@x\n",
    "        return c\n",
    "    t_star = minimize(cost, 1).x[0]\n",
    "    return cost(t_star), t_star"
   ]
  },
  {
   "cell_type": "code",
   "execution_count": 26,
   "metadata": {},
   "outputs": [
    {
     "data": {
      "text/plain": [
       "(1.81945035541156, 0.8941319805294646)"
      ]
     },
     "execution_count": 26,
     "metadata": {},
     "output_type": "execute_result"
    }
   ],
   "source": [
    "state0 = np.array([0,0,0,0])\n",
    "state1 = np.array([0,0,0.1,0.2])\n",
    "cost_optimal(state0, state1)"
   ]
  },
  {
   "cell_type": "code",
   "execution_count": 31,
   "metadata": {},
   "outputs": [],
   "source": [
    "def filter_reachable(state: int, state_set: list, r, u_range, direction: str):\n",
    "    \"\"\"\n",
    "    Filter reachable states\n",
    "\n",
    "    Args:\n",
    "        state (np.ndarray): Current state\n",
    "        state_set (np.ndarray): Set of states to filter\n",
    "        dt (float): Time step\n",
    "\n",
    "    Returns:\n",
    "        np.ndarray: Filtered set of states\n",
    "    \"\"\"\n",
    "    if direction == 'F':\n",
    "        box = forward_box\n",
    "    elif direction == 'B':\n",
    "        box = backward_box\n",
    "    \n",
    "    xmax, ymax, xmin, ymin = box(state,r,u_range)\n",
    "    print(xmax,ymax,xmin,ymin)\n",
    "    state_set_filtered = []\n",
    "    cost_set_filtered = []\n",
    "    time_set_filtered = []\n",
    "    for idx in range(len(state_set)):\n",
    "        state_i = state_set[idx]\n",
    "        if xmin <= state_i[0] <= xmax and ymin <= state_i[1] <= ymax:\n",
    "            if direction == 'F':\n",
    "                cost, time = cost_optimal(state, state_i)\n",
    "            elif direction == 'B':\n",
    "                cost, time = cost_optimal(state_i, state)\n",
    "\n",
    "            print(cost, time)\n",
    "            if cost <= r:\n",
    "                state_set_filtered.append(idx)\n",
    "                cost_set_filtered.append(cost)\n",
    "                time_set_filtered.append(time)\n",
    "    return state_set_filtered, cost_set_filtered, time_set_filtered"
   ]
  },
  {
   "cell_type": "code",
   "execution_count": 34,
   "metadata": {},
   "outputs": [
    {
     "name": "stdout",
     "output_type": "stream",
     "text": [
      "1.0 0.0 -29.0 -30.0\n",
      "5.531984895146962 4.108731040094599\n",
      "3.953627190323317 1.9728760494201407\n"
     ]
    },
    {
     "data": {
      "text/plain": [
       "([0, 2],\n",
       " [5.531984895146962, 3.953627190323317],\n",
       " [4.108731040094599, 1.9728760494201407])"
      ]
     },
     "execution_count": 34,
     "metadata": {},
     "output_type": "execute_result"
    }
   ],
   "source": [
    "state_set = [np.array([0,0,0,0]),np.array([0,1,0.1,0.2]),np.array([1,0,0.1,0.3]),np.array([0.5,0.5,0.3,0.2])]\n",
    "state = state_set[2]\n",
    "r = 6; u_range = np.array([0,5])\n",
    "\n",
    "filter_reachable(state, state_set, r, u_range, 'B')"
   ]
  },
  {
   "cell_type": "code",
   "execution_count": 36,
   "metadata": {},
   "outputs": [],
   "source": [
    "class World:\n",
    "    def __init__(self, world_box, v_range):\n",
    "        self.w = world_box[1,0] - world_box[0,0]\n",
    "        self.h = world_box[1,1] - world_box[0,1]\n",
    "        self.vmin = min(v_range)\n",
    "        self.vmax = max(v_range)\n",
    "        self.occ_space = []\n",
    "\n",
    "    def update(self, *new_boxes):\n",
    "        new_occ_space = np.array(new_boxes)\n",
    "        self.occ_space = non_det_filter(self.occ_space, new_occ_space)\n",
    "\n",
    "    def isValid(self, state):\n",
    "        '''\n",
    "        Checks if state is valid\n",
    "        '''\n",
    "        if (state[0] < 0 or state[0] > self.w # outside of world -x\n",
    "            or state[1] < 0 or state[1] > self.h # outside of world -y\n",
    "            or state[2] < self.vmin or state[2] > self.vmax # vx out of range\n",
    "            or state[3] < self.vmin or state[3] > self.vmax): # vy out of range\n",
    "            return False\n",
    "        for i in range(self.occ_space.shape[0]):\n",
    "            if (state[0] >= self.occ_space[i,0,0] \n",
    "                and state[0] <= self.occ_space[i,1,0] \n",
    "                and state[1] >= self.occ_space[i,0,1] \n",
    "                and state[1] <= self.occ_space[i,1,1]):\n",
    "                return False\n",
    "        return True\n",
    "\n",
    "    def show(self):\n",
    "        '''\n",
    "        Plots 2D occupied space\n",
    "        '''\n",
    "        fig, ax = plt.subplots()\n",
    "        ax.set_xlim([0,self.w])\n",
    "        ax.set_ylim([0,self.h])\n",
    "        for i in range(self.occ_space.shape[0]):\n",
    "            w = self.occ_space[i,1,0] - self.occ_space[i,0,0]\n",
    "            h = self.occ_space[i,1,1] - self.occ_space[i,0,1]\n",
    "            ax.add_patch(Rectangle(self.occ_space[i,0,:],w, h, edgecolor = 'k',fc=(0, 0.4470, 0.7410,0.5)))\n",
    "            # plt.axis('off')\n",
    "        plt.show()"
   ]
  },
  {
   "cell_type": "code",
   "execution_count": null,
   "metadata": {},
   "outputs": [],
   "source": [
    "class Safe_Planner:\n",
    "    def __init__(self,\n",
    "                 world_box,\n",
    "                 v_range,\n",
    "                 start,\n",
    "                 goal,\n",
    "                 r = 1, #cost threshold for reachability\n",
    "                 n_samples = 10,\n",
    "                 max_search_iter = 1000,\n",
    "                 seed = 0):\n",
    "        self.w = world_box[1,0] - world_box[0,0]\n",
    "        self.h = world_box[1,1] - world_box[0,1]\n",
    "        self.vmin = min(v_range)\n",
    "        self.vmax = max(v_range)\n",
    "        self.r = r\n",
    "        self.n_samples = n_samples\n",
    "        self.max_search_iter = max_search_iter\n",
    "        self.prng = np.random.RandomState(seed)\n",
    "        self.Pset = [start]\n",
    "        self.Fset = np.zeros(len(self.Pset))\n",
    "        self.Bset = np.zeros(len(self.Pset))\n",
    "\n",
    "        while len(self.Pset) < self.n_samples:\n",
    "            node = self.prng.uniform((0,0,self.vmin,self.vmin), #mins\n",
    "                                     (self.w,self.h,self.vmax,self.vmax)) #maxs\n",
    "            self.Pset.append(node)\n",
    "        self.Pset.append(goal)\n",
    "\n",
    "        self.Fset = []\n",
    "        self.Fdist = []\n",
    "        self.Ftime = []\n",
    "        self.Bset = []\n",
    "        self.Bdist = []\n",
    "        self.Btime = []\n",
    "\n",
    "        for node in range(len(self.Pset)):\n",
    "            fset, fdist, ftime = filter_reachable(node,self.Pset,self.r, 'F')\n",
    "            bset, bdist, btime = filter_reachable(node,self.Pset,self.r, 'B')\n",
    "            self.Fset.append(fset)\n",
    "            self.Fdist.append(fdist)\n",
    "            self.Ftime.append(ftime)\n",
    "            self.Bset.append(bset)\n",
    "            self.Bdist.append(bdist)\n",
    "            self.Btime.append(btime)\n",
    "            "
   ]
  },
  {
   "cell_type": "code",
   "execution_count": 13,
   "metadata": {},
   "outputs": [],
   "source": [
    "def dist2(p, q):\n",
    "    return np.sqrt((p[0] - q[0]) ** 2 + (p[1] - q[1]) ** 2)\n",
    "\n",
    "class FMTree:\n",
    "    def __init__(self, s_init, s_goal, N, world, max_search_iter=1000, seed=0):\n",
    "        print(\"initializing fmt ...\")\n",
    "        self.s_init = s_init\n",
    "        self.s_goal = s_goal\n",
    "        self.n_samples = N\n",
    "        self.Pset = [s_init]\n",
    "        self.world = world\n",
    "        self.max_search_iter = max_search_iter\n",
    "        self.prng = np.random.RandomState(seed)\n",
    "\n",
    "        while len(self.Pset) < self.n_samples:\n",
    "            node = self.prng.uniform((0,0,world.vmin,world.vmin), (world.w,world.h,world.vmax,world.vmax))# (self.map_size[0]*self.dx,self.map_size[1]*self.dx,np.pi*2))\n",
    "            if self.world.isValid(node):\n",
    "                self.Pset.append(node)\n",
    "                # self.graph.add_node(i)\n",
    "                i += 1\n",
    "        self.Pset.append(s_goal)\n",
    "\n",
    "        self.cost = np.zeros(N)\n",
    "        self.time = np.zeros(N)\n",
    "        self.parent = np.ones(N, dtype=int)\n",
    "        self.bool_unvisit = np.ones(N, dtype=bool)\n",
    "        self.bool_unvisit[0] = False\n",
    "        self.bool_closed = np.zeros(N, dtype=bool)\n",
    "        self.bool_open = np.zeros(N, dtype=bool)\n",
    "        self.bool_open[0] = True\n",
    "        self.itr = 0\n",
    "        print(\"finish initializing\")\n",
    "\n",
    "    def show(self):\n",
    "        print(\"drawing...\")\n",
    "        self.world.show()\n",
    "        N = len(self.Pset)\n",
    "        mat = np.zeros((2, N))\n",
    "        for idx in range(N):\n",
    "            mat[:, idx] = self.Pset[idx][:2]\n",
    "\n",
    "        idxset_open = np.where(self.bool_open)[0]\n",
    "        idxset_closed = np.where(self.bool_closed)[0]\n",
    "        idxset_unvisit = np.where(self.bool_unvisit)[0]\n",
    "        idxset_tree = np.setdiff1d(np.union1d(idxset_open, idxset_closed), [0])\n",
    "\n",
    "        plt.scatter(mat[0, 0], mat[1, 0], c='blue', s=10, zorder=100)\n",
    "        plt.scatter(mat[0, -1], mat[1, -1], c='blue', s=10, zorder=101)\n",
    "        plt.scatter(mat[0, idxset_open], mat[1, idxset_open], c='gray', s=2)\n",
    "        plt.scatter(mat[0, idxset_closed], mat[1, idxset_closed], c='gray', s=2)\n",
    "\n",
    "        for idx in idxset_tree:\n",
    "            s0 = self.Pset[self.parent[idx]]\n",
    "            s1 = self.Pset[idx]\n",
    "            tau = self.time[idx]\n",
    "            self.show_trajectory(s0, s1, tau)\n",
    "\n",
    "        plt.scatter(mat[0, 0], mat[1, 0], c='blue', s=20, zorder=100)\n",
    "        plt.scatter(mat[0, -1], mat[1, -1], c='blue', s=20, zorder=101)\n",
    "        plt.xlim(self.world.x_min[0] - 0.05, self.world.x_max[0] + 0.05)\n",
    "        plt.ylim(self.world.x_min[1] - 0.05, self.world.x_max[1] + 0.05)\n",
    "        print(\"finish drawing\")\n",
    "\n",
    "    def show_trajectory(self, s0, s1, tau):\n",
    "        # Implement this function to display trajectories\n",
    "        pass\n",
    "\n",
    "    def solve(self, with_savefig=False):\n",
    "        print(\"please set with_savefig=false if you want to measure the computation time\")\n",
    "        print(\"start solving\")\n",
    "        while True:\n",
    "            self.extend()\n",
    "            if with_savefig:\n",
    "                if (self.itr < 100 and self.itr % 20 == 1) or (self.itr % 200 == 1):\n",
    "                    plt.close()\n",
    "                    self.show()\n",
    "                    plt.savefig(f\"../fig/{self.itr}.png\")\n",
    "            if not self.bool_unvisit[-1]:\n",
    "                break\n",
    "\n",
    "        idx = self.N\n",
    "        idx_solution = [idx]\n",
    "        while True:\n",
    "            idx = self.parent[idx]\n",
    "            idx_solution.append(idx)\n",
    "            if idx == 0:\n",
    "                break\n",
    "        print(\"finish solving\")\n",
    "        return idx_solution\n",
    "\n",
    "    def extend(self):\n",
    "        self.itr += 1\n",
    "        r = 1.0\n",
    "        idxset_open = np.where(self.bool_open)[0] # H\n",
    "        idxset_unvisit = np.where(self.bool_unvisit)[0] # W\n",
    "        idx_lowest = idxset_open[np.argmin(self.cost[idxset_open])] # z <- argmin cost(y) \n",
    "        idxset_near, _, _ = self.filter_reachable(self.Pset, idxset_unvisit, \n",
    "                                                  self.Pset[idx_lowest], r, \"F\")\n",
    "\n",
    "        for idx_near in idxset_near: # for x in X_near\n",
    "            idxset_cand, distset_cand, timeset_cand = self.filter_reachable(\n",
    "                self.Pset, idxset_open, self.Pset[idx_near], r, \"B\")\n",
    "            if len(idxset_cand) == 0:\n",
    "                continue\n",
    "            cost_new, idx_costmin = np.min(self.cost[idxset_cand] + distset_cand), np.argmin(self.cost[idxset_cand] + distset_cand)\n",
    "            time_new = timeset_cand[idx_costmin]\n",
    "            idx_parent = idxset_cand[idx_costmin]\n",
    "            waypoints = self.gen_trajectory(self.Pset[idx_parent], \n",
    "                                            self.Pset[idx_near], time_new, 10)\n",
    "            if self.world.isValid_multiple(waypoints):\n",
    "                self.bool_unvisit[idx_near] = False\n",
    "                self.bool_open[idx_near] = True\n",
    "                self.cost[idx_near] = cost_new\n",
    "                self.time[idx_near] = time_new\n",
    "                self.parent[idx_near] = idx_parent\n",
    "        self.bool_open[idx_lowest] = False\n",
    "        self.bool_closed[idx_lowest] = True\n",
    "\n",
    "    def filter_reachable(self, Pset, idxset, q, r, mode):\n",
    "        # Implement this function for filtering reachable nodes\n",
    "        pass\n",
    "\n",
    "    def gen_trajectory(self, s0, s1, tau, N_split):\n",
    "        # Implement this function to generate trajectories\n",
    "        pass\n"
   ]
  },
  {
   "cell_type": "code",
   "execution_count": 37,
   "metadata": {},
   "outputs": [],
   "source": [
    "from matplotlib.patches import Rectangle\n",
    "\n",
    "W = World(np.array([[0,0],[1,1]]), [], [0,0.5])"
   ]
  },
  {
   "cell_type": "code",
   "execution_count": 15,
   "metadata": {},
   "outputs": [
    {
     "data": {
      "text/plain": [
       "False"
      ]
     },
     "execution_count": 15,
     "metadata": {},
     "output_type": "execute_result"
    }
   ],
   "source": [
    "W.isValid(np.array([0.3,0.5,0.5,0.5]))"
   ]
  },
  {
   "cell_type": "code",
   "execution_count": 38,
   "metadata": {},
   "outputs": [
    {
     "ename": "AttributeError",
     "evalue": "'list' object has no attribute 'shape'",
     "output_type": "error",
     "traceback": [
      "\u001b[0;31m---------------------------------------------------------------------------\u001b[0m",
      "\u001b[0;31mAttributeError\u001b[0m                            Traceback (most recent call last)",
      "Cell \u001b[0;32mIn[38], line 1\u001b[0m\n\u001b[0;32m----> 1\u001b[0m W\u001b[39m.\u001b[39;49mshow()\n",
      "Cell \u001b[0;32mIn[36], line 33\u001b[0m, in \u001b[0;36mWorld.show\u001b[0;34m(self)\u001b[0m\n\u001b[1;32m     31\u001b[0m ax\u001b[39m.\u001b[39mset_xlim([\u001b[39m0\u001b[39m,\u001b[39mself\u001b[39m\u001b[39m.\u001b[39mw])\n\u001b[1;32m     32\u001b[0m ax\u001b[39m.\u001b[39mset_ylim([\u001b[39m0\u001b[39m,\u001b[39mself\u001b[39m\u001b[39m.\u001b[39mh])\n\u001b[0;32m---> 33\u001b[0m \u001b[39mfor\u001b[39;00m i \u001b[39min\u001b[39;00m \u001b[39mrange\u001b[39m(\u001b[39mself\u001b[39;49m\u001b[39m.\u001b[39;49mocc_space\u001b[39m.\u001b[39;49mshape[\u001b[39m0\u001b[39m]):\n\u001b[1;32m     34\u001b[0m     w \u001b[39m=\u001b[39m \u001b[39mself\u001b[39m\u001b[39m.\u001b[39mocc_space[i,\u001b[39m1\u001b[39m,\u001b[39m0\u001b[39m] \u001b[39m-\u001b[39m \u001b[39mself\u001b[39m\u001b[39m.\u001b[39mocc_space[i,\u001b[39m0\u001b[39m,\u001b[39m0\u001b[39m]\n\u001b[1;32m     35\u001b[0m     h \u001b[39m=\u001b[39m \u001b[39mself\u001b[39m\u001b[39m.\u001b[39mocc_space[i,\u001b[39m1\u001b[39m,\u001b[39m1\u001b[39m] \u001b[39m-\u001b[39m \u001b[39mself\u001b[39m\u001b[39m.\u001b[39mocc_space[i,\u001b[39m0\u001b[39m,\u001b[39m1\u001b[39m]\n",
      "\u001b[0;31mAttributeError\u001b[0m: 'list' object has no attribute 'shape'"
     ]
    },
    {
     "data": {
      "image/png": "[encoded data removed]",
      "text/plain": [
       "<Figure size 640x480 with 1 Axes>"
      ]
     },
     "metadata": {},
     "output_type": "display_data"
    }
   ],
   "source": [
    "W.show()"
   ]
  },
  {
   "cell_type": "code",
   "execution_count": 2,
   "metadata": {},
   "outputs": [],
   "source": [
    "import numpy as np\n",
    "\n",
    "from scipy.integrate import quad_vec\n",
    "from scipy.linalg import expm\n",
    "from scipy.optimize import minimize\n",
    "from scipy.optimize import bisect\n",
    "from scipy.sparse import bmat\n",
    "\n",
    "import matplotlib.pyplot as plt\n",
    "from matplotlib.patches import Rectangle\n",
    "\n",
    "import ray\n",
    "\n",
    "k1= 0.1;k2= 0.2\n",
    "A = np.array([[0,0,1,0],[0,0,0,1],[0,0,-k1,0],[0,0,0,-k2]])\n",
    "B = np.array([[0,0],[0,0],[k1,0],[0,k2]])\n",
    "R = np.array([[0.1,0],[0,0.1]])\n",
    "\n",
    "BRB = B@np.linalg.inv(R)@B.T"
   ]
  },
  {
   "cell_type": "code",
   "execution_count": 3,
   "metadata": {},
   "outputs": [],
   "source": [
    "def gramian(t):\n",
    "    def integrand(s):\n",
    "        return expm(A*s)@B@np.linalg.inv(R)@B.T@expm(A.T*s)\n",
    "    return quad_vec(integrand, 0, t)[0]\n",
    "\n",
    "def cost_optimal(state0, state1):\n",
    "    def cdot(t):\n",
    "        x = state1-expm(A*t)@state0\n",
    "        G = gramian(t)\n",
    "        if np.linalg.det(G) == 0:\n",
    "            # G = G + np.eye(4)\n",
    "            print(G)\n",
    "        d = np.linalg.inv(G)@x\n",
    "        return 1-d.T@BRB@d\n",
    "    t_star = bisect(cdot, 0, 100)\n",
    "    def cost(t):\n",
    "        x = state1-expm(A*t)@state0\n",
    "        G = gramian(t)\n",
    "        return t + x.T@np.linalg.inv(G)@x\n",
    "    return cost(t_star), t_star"
   ]
  },
  {
   "cell_type": "code",
   "execution_count": 4,
   "metadata": {},
   "outputs": [
    {
     "data": {
      "text/plain": [
       "array([[ 0.    ,  0.    , -0.001 ,  0.    ],\n",
       "       [ 0.    ,  0.    ,  0.    , -0.008 ],\n",
       "       [ 0.    ,  0.    ,  0.0001,  0.    ],\n",
       "       [ 0.    ,  0.    ,  0.    ,  0.0016]])"
      ]
     },
     "execution_count": 4,
     "metadata": {},
     "output_type": "execute_result"
    }
   ],
   "source": [
    "A@A@A@A"
   ]
  },
  {
   "cell_type": "code",
   "execution_count": null,
   "metadata": {},
   "outputs": [],
   "source": []
  }
 ],
 "metadata": {
  "kernelspec": {
   "display_name": "base",
   "language": "python",
   "name": "python3"
  },
  "language_info": {
   "codemirror_mode": {
    "name": "ipython",
    "version": 3
   },
   "file_extension": ".py",
   "mimetype": "text/x-python",
   "name": "python",
   "nbconvert_exporter": "python",
   "pygments_lexer": "ipython3",
   "version": "3.10.12"
  },
  "orig_nbformat": 4
 },
 "nbformat": 4,
 "nbformat_minor": 2
}
