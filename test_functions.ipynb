{
 "cells": [
  {
   "cell_type": "code",
   "execution_count": 1,
   "metadata": {},
   "outputs": [],
   "source": [
    "from planning.Safe_Planner import Safe_Planner\n",
    "import numpy as np\n",
    "from planning.utils import filter_reachable"
   ]
  },
  {
   "cell_type": "code",
   "execution_count": 3,
   "metadata": {},
   "outputs": [],
   "source": [
    "sp = Safe_Planner(r=5, n_samples = 1000, speed = 0.5, goal_f = [7,-2,0.5,0], world_box=np.array([[0,0],[8,8]]))\n",
    "sp.sample_pset()"
   ]
  },
  {
   "cell_type": "code",
   "execution_count": 4,
   "metadata": {},
   "outputs": [],
   "source": [
    "def test_node(node_idx):\n",
    "    node = sp.Pset[node_idx]\n",
    "    fset, fdist, ftime, ftraj = filter_reachable(node,sp.Pset,sp.r,sp.vx_range,sp.vy_range, 'F', sp.dt)\n",
    "    print(\"Forward Set:\")\n",
    "    print(fset)\n",
    "    print(\"Forward Distance:\")\n",
    "    print(fdist)\n",
    "    print(\"Forward Time:\")\n",
    "    print(ftime)\n",
    "    print(\"Forward Trajectory:\")\n",
    "    print(ftraj)"
   ]
  },
  {
   "cell_type": "code",
   "execution_count": 7,
   "metadata": {},
   "outputs": [
    {
     "name": "stdout",
     "output_type": "stream",
     "text": [
      "rip 19\n",
      "Forward Set:\n",
      "[79]\n",
      "Forward Distance:\n",
      "[4.186587677492065]\n",
      "Forward Time:\n",
      "[1.6299465194868792]\n",
      "Forward Trajectory:\n",
      "[(array([[0.50037924, 0.51767382, 0.0277999 , 0.46356805],\n",
      "       [0.50717135, 0.5607893 , 0.10472119, 0.40218832],\n",
      "       [0.52074353, 0.59869245, 0.16421084, 0.35831107],\n",
      "       [0.53955817, 0.63286155, 0.21041392, 0.3268759 ],\n",
      "       [0.56247617, 0.66435836, 0.2465028 , 0.30458545],\n",
      "       [0.58861437, 0.69399494, 0.27501519, 0.28908888],\n",
      "       [0.61730263, 0.72235838, 0.29792598, 0.27870983],\n",
      "       [0.64805822, 0.74986154, 0.31675616, 0.27236077],\n",
      "       [0.68055508, 0.77692685, 0.33284368, 0.26968685],\n",
      "       [0.7145785 , 0.80393276, 0.34734088, 0.27067709],\n",
      "       [0.75000468, 0.83119287, 0.36123049, 0.27548186],\n",
      "       [0.78683112, 0.85915546, 0.3755438 , 0.28505453],\n",
      "       [0.82516744, 0.8884299 , 0.39141532, 0.30116058],\n",
      "       [0.86519484, 0.91961551, 0.40998609, 0.32566728],\n",
      "       [0.90727906, 0.953837  , 0.43283223, 0.36258454],\n",
      "       [0.95198129, 0.9927983 , 0.46203703, 0.41823829],\n",
      "       [1.        , 1.03846154, 0.5       , 0.5       ]]), array([[0.37705485, 0.24316758],\n",
      "       [0.37832241, 0.24378735],\n",
      "       [0.37997467, 0.2446611 ],\n",
      "       [0.38209275, 0.24578558],\n",
      "       [0.38486897, 0.2474183 ],\n",
      "       [0.38854742, 0.24988746],\n",
      "       [0.39337013, 0.2534292 ],\n",
      "       [0.39962357, 0.25827038],\n",
      "       [0.40786828, 0.2653407 ],\n",
      "       [0.41878603, 0.27575197],\n",
      "       [0.43312918, 0.29056672],\n",
      "       [0.45209045, 0.31200341],\n",
      "       [0.47733918, 0.34352653],\n",
      "       [0.51075299, 0.38866341],\n",
      "       [0.55534513, 0.45453409],\n",
      "       [0.6153859 , 0.55217583],\n",
      "       [0.69594138, 0.69438048]]))]\n"
     ]
    }
   ],
   "source": [
    "test_node(2)"
   ]
  },
  {
   "cell_type": "code",
   "execution_count": 8,
   "metadata": {},
   "outputs": [
    {
     "data": {
      "text/plain": [
       "1051"
      ]
     },
     "execution_count": 8,
     "metadata": {},
     "output_type": "execute_result"
    }
   ],
   "source": [
    "len(sp.Pset)"
   ]
  },
  {
   "cell_type": "code",
   "execution_count": 17,
   "metadata": {},
   "outputs": [
    {
     "name": "stderr",
     "output_type": "stream",
     "text": [
      "Processing: 100%|██████████| 10/10 [00:00<00:00, 132731.14it/s]\n"
     ]
    },
    {
     "data": {
      "text/plain": [
       "<function ray._private.worker.shutdown(_exiting_interpreter: bool = False)>"
      ]
     },
     "execution_count": 17,
     "metadata": {},
     "output_type": "execute_result"
    }
   ],
   "source": [
    "import random\n",
    "from time import sleep\n",
    "from tqdm import tqdm\n",
    "import ray\n",
    "\n",
    "\n",
    "@ray.remote\n",
    "def worker():\n",
    "    dt = random.random()\n",
    "    sleep(dt)\n",
    "    return 1\n",
    "\n",
    "\n",
    "#ray.init()\n",
    "n=10\n",
    "tasks = [worker.remote() for _ in range(n)]\n",
    "\n",
    "results = []\n",
    "for result in tqdm(ray.get(tasks), total=n, desc=\"Processing\"):\n",
    "    results.append(result)\n",
    "\n",
    "ray.shutdown"
   ]
  }
 ],
 "metadata": {
  "kernelspec": {
   "display_name": "emily",
   "language": "python",
   "name": "python3"
  },
  "language_info": {
   "codemirror_mode": {
    "name": "ipython",
    "version": 3
   },
   "file_extension": ".py",
   "mimetype": "text/x-python",
   "name": "python",
   "nbconvert_exporter": "python",
   "pygments_lexer": "ipython3",
   "version": "3.11.10"
  }
 },
 "nbformat": 4,
 "nbformat_minor": 2
}
